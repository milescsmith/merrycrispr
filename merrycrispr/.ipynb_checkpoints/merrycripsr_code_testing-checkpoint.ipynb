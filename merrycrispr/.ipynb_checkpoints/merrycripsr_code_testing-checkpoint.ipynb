{
 "cells": [
  {
   "cell_type": "code",
   "execution_count": null,
   "metadata": {},
   "outputs": [],
   "source": [
    "import gc\n",
    "import pyfaidx\n",
    "import pandas as pd\n",
    "import numpy as np\n",
    "from Bio import SeqIO\n",
    "from multiprocessing import cpu_count, Manager, Pool\n",
    "\n",
    "import progressbar\n",
    "from Bio.Alphabet import IUPAC, single_letter_alphabet\n",
    "from Bio.Restriction import RestrictionBatch\n",
    "from Bio.Seq import Seq\n",
    "from Bio.SeqRecord import SeqRecord\n",
    "from Bio.SeqUtils import GC\n",
    "from csv import writer\n",
    "from functools import partial\n",
    "from operator import attrgetter\n",
    "from regex import compile\n",
    "from subprocess import check_output\n",
    "\n",
    "from azimuth import model_comparison\n"
   ]
  },
  {
   "cell_type": "code",
   "execution_count": null,
   "metadata": {},
   "outputs": [],
   "source": []
  }
 ],
 "metadata": {
  "kernelspec": {
   "display_name": "Python 3",
   "language": "python",
   "name": "python3"
  },
  "language_info": {
   "codemirror_mode": {
    "name": "ipython",
    "version": 2
   },
   "file_extension": ".py",
   "mimetype": "text/x-python",
   "name": "python",
   "nbconvert_exporter": "python",
   "pygments_lexer": "ipython2",
   "version": "2.7.6"
  }
 },
 "nbformat": 4,
 "nbformat_minor": 1
}
