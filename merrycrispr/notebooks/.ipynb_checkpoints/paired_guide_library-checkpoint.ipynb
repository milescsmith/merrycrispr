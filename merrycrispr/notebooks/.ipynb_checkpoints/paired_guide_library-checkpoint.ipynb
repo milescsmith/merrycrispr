{
 "cells": [
  {
   "cell_type": "code",
   "execution_count": 1,
   "metadata": {
    "ExecuteTime": {
     "end_time": "2019-06-15T23:29:47.608849Z",
     "start_time": "2019-06-15T23:29:47.604180Z"
    }
   },
   "outputs": [],
   "source": [
    "import os\n",
    "import sys\n",
    "\n",
    "module_path = os.path.abspath(os.path.join(\"..\"))\n",
    "if module_path not in sys.path:\n",
    "    sys.path.append(module_path)"
   ]
  },
  {
   "cell_type": "code",
   "execution_count": 2,
   "metadata": {
    "ExecuteTime": {
     "end_time": "2019-06-15T23:29:48.121148Z",
     "start_time": "2019-06-15T23:29:47.612283Z"
    }
   },
   "outputs": [],
   "source": [
    "import seqextractor"
   ]
  },
  {
   "cell_type": "code",
   "execution_count": 3,
   "metadata": {
    "ExecuteTime": {
     "end_time": "2019-06-15T23:29:48.125817Z",
     "start_time": "2019-06-15T23:29:48.122711Z"
    }
   },
   "outputs": [],
   "source": [
    "gtf = \"/Users/milessmith/workspace/ensembl/Homo_sapiens.GRCh38.94.gtf.gz\"\n",
    "fasta = \"/Users/milessmith/workspace/ensembl/Homo_sapiens.GRCh38.dna.primary_assembly.fa\"\n",
    "feature_type = \"gene\"\n",
    "outfile = \"/Users/milessmith/workspace/merrycrispr/merrycrispr/data/excision.test.fasta\"\n",
    "gene_names = [\"PML\", \"SP100\", \"DAXX\", \"ATRX\", \"SIRT2\", \"ZCCHC14\", \"YWHAH\"]\n",
    "# gene_name = None\n",
    "bound = 250"
   ]
  },
  {
   "cell_type": "code",
   "execution_count": 4,
   "metadata": {
    "ExecuteTime": {
     "end_time": "2019-06-15T23:31:22.897513Z",
     "start_time": "2019-06-15T23:29:48.129457Z"
    }
   },
   "outputs": [
    {
     "name": "stdout",
     "output_type": "stream",
     "text": [
      "Parsing GTF/GFF file.\n"
     ]
    },
    {
     "name": "stderr",
     "output_type": "stream",
     "text": [
      "INFO:root:Extracted GTF attributes: ['gene_id', 'gene_version', 'gene_name', 'gene_source', 'gene_biotype', 'transcript_id', 'transcript_version', 'transcript_name', 'transcript_source', 'transcript_biotype', 'tag', 'transcript_support_level', 'exon_number', 'exon_id', 'exon_version', 'protein_id', 'protein_version', 'ccds_id']\n"
     ]
    },
    {
     "name": "stdout",
     "output_type": "stream",
     "text": [
      "7 total records found.\n",
      "Loading the sequences in /Users/milessmith/workspace/ensembl/Homo_sapiens.GRCh38.dna.primary_assembly.fa.Note: if this is the first time opening this file, it may take a few moments as an index is built.\n",
      "Finished loading /Users/milessmith/workspace/ensembl/Homo_sapiens.GRCh38.dna.primary_assembly.fa\n"
     ]
    }
   ],
   "source": [
    "seqextractor.extract(\n",
    "    gtffile=gtf,\n",
    "    fastafile=fasta,\n",
    "    feature_type=feature_type,\n",
    "    outfile=outfile,\n",
    "    gene_name=gene_names,\n",
    "    boundary=bound,\n",
    ")"
   ]
  },
  {
   "cell_type": "code",
   "execution_count": 5,
   "metadata": {
    "ExecuteTime": {
     "end_time": "2019-06-15T23:31:54.992669Z",
     "start_time": "2019-06-15T23:31:54.989416Z"
    }
   },
   "outputs": [],
   "source": [
    "import click\n",
    "import numpy as np\n",
    "import pandas as pd\n",
    "import pyfaidx"
   ]
  },
  {
   "cell_type": "code",
   "execution_count": 6,
   "metadata": {
    "ExecuteTime": {
     "end_time": "2019-06-15T23:31:55.577932Z",
     "start_time": "2019-06-15T23:31:55.565570Z"
    }
   },
   "outputs": [],
   "source": [
    "NUCLEASES = pd.read_csv(\n",
    "    module_path+\"/data/nuclease_list.csv\",\n",
    "    dtype={\n",
    "        \"nuclease\": str,\n",
    "        \"pam\": str,\n",
    "        \"spacer_regex\": str,\n",
    "        \"start\": np.int8,\n",
    "        \"end\": np.int8,\n",
    "        \"strand\": str,\n",
    "    },\n",
    "    skip_blank_lines=True,\n",
    ")"
   ]
  },
  {
   "cell_type": "code",
   "execution_count": 7,
   "metadata": {
    "ExecuteTime": {
     "end_time": "2019-06-15T23:31:59.636800Z",
     "start_time": "2019-06-15T23:31:59.625256Z"
    }
   },
   "outputs": [
    {
     "data": {
      "text/plain": [
       "'SpCas9, Cpf1, Cas13a, Csc2, SaCas9'"
      ]
     },
     "execution_count": 7,
     "metadata": {},
     "output_type": "execute_result"
    }
   ],
   "source": [
    "\", \".join(NUCLEASES[\"nuclease\"])"
   ]
  },
  {
   "cell_type": "code",
   "execution_count": 8,
   "metadata": {
    "ExecuteTime": {
     "end_time": "2019-06-15T23:32:01.114885Z",
     "start_time": "2019-06-15T23:32:01.108701Z"
    }
   },
   "outputs": [],
   "source": [
    "targets = pyfaidx.Fasta(outfile)"
   ]
  },
  {
   "cell_type": "code",
   "execution_count": 14,
   "metadata": {
    "ExecuteTime": {
     "end_time": "2019-06-15T23:32:34.883055Z",
     "start_time": "2019-06-15T23:32:34.879120Z"
    }
   },
   "outputs": [
    {
     "data": {
      "text/plain": [
       "Fasta(\"/Users/milessmith/workspace/merrycrispr/merrycrispr/data/excision.test.fasta\")"
      ]
     },
     "execution_count": 14,
     "metadata": {},
     "output_type": "execute_result"
    }
   ],
   "source": [
    "targets"
   ]
  },
  {
   "cell_type": "code",
   "execution_count": 16,
   "metadata": {
    "ExecuteTime": {
     "end_time": "2019-06-15T23:32:57.718457Z",
     "start_time": "2019-06-15T23:32:57.714730Z"
    }
   },
   "outputs": [
    {
     "data": {
      "text/plain": [
       "odict_keys(['SP100-upstream_gene_+_230415692_230415942_-5963481152058671843', 'PML-upstream_gene_+_73994423_73994673_1766471857979665021', 'YWHAH-upstream_gene_+_31944211_31944461_7721138382527541631', 'SP100-downstream_gene_+_230544090_230544340_-5963481152058671843', 'PML-downstream_gene_+_74047812_74048062_1766471857979665021', 'YWHAH-downstream_gene_+_31957603_31957853_7721138382527541631', 'DAXX-upstream_gene_-_33323016_33323266_7958814249769532103', 'ATRX-upstream_gene_-_77786233_77786483_-9090773863848936440', 'ZCCHC14-upstream_gene_-_87492045_87492295_-6259869781208530012', 'SIRT2-upstream_gene_-_38899862_38900112_-1459709511530812887', 'DAXX-downstream_gene_-_33318308_33318558_7958814249769532103', 'ATRX-downstream_gene_-_77504628_77504878_-9090773863848936440', 'ZCCHC14-downstream_gene_-_87405996_87406246_-6259869781208530012', 'SIRT2-downstream_gene_-_38878305_38878555_-1459709511530812887'])"
      ]
     },
     "execution_count": 16,
     "metadata": {},
     "output_type": "execute_result"
    }
   ],
   "source": [
    "targets.keys()"
   ]
  },
  {
   "cell_type": "code",
   "execution_count": 29,
   "metadata": {
    "ExecuteTime": {
     "end_time": "2019-06-15T23:37:19.534771Z",
     "start_time": "2019-06-15T23:37:19.529965Z"
    }
   },
   "outputs": [
    {
     "name": "stdout",
     "output_type": "stream",
     "text": [
      "SP100-upstream_gene_+_230415692_230415942_-5963481152058671843\n",
      "PML-upstream_gene_+_73994423_73994673_1766471857979665021\n",
      "YWHAH-upstream_gene_+_31944211_31944461_7721138382527541631\n",
      "SP100-downstream_gene_+_230544090_230544340_-5963481152058671843\n",
      "PML-downstream_gene_+_74047812_74048062_1766471857979665021\n",
      "YWHAH-downstream_gene_+_31957603_31957853_7721138382527541631\n",
      "DAXX-upstream_gene_-_33323016_33323266_7958814249769532103\n",
      "ATRX-upstream_gene_-_77786233_77786483_-9090773863848936440\n",
      "ZCCHC14-upstream_gene_-_87492045_87492295_-6259869781208530012\n",
      "SIRT2-upstream_gene_-_38899862_38900112_-1459709511530812887\n",
      "DAXX-downstream_gene_-_33318308_33318558_7958814249769532103\n",
      "ATRX-downstream_gene_-_77504628_77504878_-9090773863848936440\n",
      "ZCCHC14-downstream_gene_-_87405996_87406246_-6259869781208530012\n",
      "SIRT2-downstream_gene_-_38878305_38878555_-1459709511530812887\n"
     ]
    }
   ],
   "source": [
    "for _ in targets.keys():\n",
    "    print(_)"
   ]
  },
  {
   "cell_type": "code",
   "execution_count": 50,
   "metadata": {
    "ExecuteTime": {
     "end_time": "2019-06-15T23:52:56.295100Z",
     "start_time": "2019-06-15T23:52:56.290501Z"
    }
   },
   "outputs": [
    {
     "data": {
      "text/plain": [
       "Index(['nuclease', 'pam', 'spacer_regex', 'start', 'end', 'strand'], dtype='object')"
      ]
     },
     "execution_count": 50,
     "metadata": {},
     "output_type": "execute_result"
    }
   ],
   "source": [
    "NUCLEASES.keys()"
   ]
  },
  {
   "cell_type": "code",
   "execution_count": 74,
   "metadata": {
    "ExecuteTime": {
     "end_time": "2019-06-15T23:58:58.095466Z",
     "start_time": "2019-06-15T23:58:58.090773Z"
    }
   },
   "outputs": [],
   "source": [
    "nuc = NUCLEASES[NUCLEASES[\"nuclease\"] == 'SpCas9'].T.iloc[:,0].to_dict()"
   ]
  },
  {
   "cell_type": "code",
   "execution_count": 80,
   "metadata": {
    "ExecuteTime": {
     "end_time": "2019-06-16T00:02:28.742199Z",
     "start_time": "2019-06-16T00:02:28.734615Z"
    }
   },
   "outputs": [
    {
     "data": {
      "text/plain": [
       "{'nuclease': 'SpCas9',\n",
       " 'pam': 'NGG',\n",
       " 'spacer_regex': '(?i)[ACGT]{25}[G]{2}[ACGT]{3}',\n",
       " 'start': 4,\n",
       " 'end': 24,\n",
       " 'strand': 'b'}"
      ]
     },
     "execution_count": 80,
     "metadata": {},
     "output_type": "execute_result"
    }
   ],
   "source": [
    "NUCLEASES[NUCLEASES[\"nuclease\"] == 'SpCas9'].to_dict(orient='records')[0]"
   ]
  },
  {
   "cell_type": "code",
   "execution_count": 91,
   "metadata": {
    "ExecuteTime": {
     "end_time": "2019-06-16T00:03:57.016940Z",
     "start_time": "2019-06-16T00:03:57.009795Z"
    }
   },
   "outputs": [
    {
     "data": {
      "text/plain": [
       "{'nuclease': 'SpCas9',\n",
       " 'pam': 'NGG',\n",
       " 'spacer_regex': '(?i)[ACGT]{25}[G]{2}[ACGT]{3}',\n",
       " 'start': 4,\n",
       " 'end': 24,\n",
       " 'strand': 'b'}"
      ]
     },
     "execution_count": 91,
     "metadata": {},
     "output_type": "execute_result"
    }
   ],
   "source": [
    "NUCLEASES[NUCLEASES[\"nuclease\"] == 'SpCas9'].iloc[0,:].to_dict()"
   ]
  },
  {
   "cell_type": "code",
   "execution_count": 79,
   "metadata": {
    "ExecuteTime": {
     "end_time": "2019-06-16T00:01:38.262709Z",
     "start_time": "2019-06-16T00:01:38.257444Z"
    }
   },
   "outputs": [
    {
     "data": {
      "text/plain": [
       "{'nuclease': 'SpCas9',\n",
       " 'pam': 'NGG',\n",
       " 'spacer_regex': '(?i)[ACGT]{25}[G]{2}[ACGT]{3}',\n",
       " 'start': 4,\n",
       " 'end': 24,\n",
       " 'strand': 'b'}"
      ]
     },
     "execution_count": 79,
     "metadata": {},
     "output_type": "execute_result"
    }
   ],
   "source": [
    "nuc"
   ]
  },
  {
   "cell_type": "code",
   "execution_count": 75,
   "metadata": {
    "ExecuteTime": {
     "end_time": "2019-06-15T23:59:05.507544Z",
     "start_time": "2019-06-15T23:59:05.503392Z"
    }
   },
   "outputs": [
    {
     "data": {
      "text/plain": [
       "'NGG'"
      ]
     },
     "execution_count": 75,
     "metadata": {},
     "output_type": "execute_result"
    }
   ],
   "source": [
    "nuc['pam']"
   ]
  },
  {
   "cell_type": "code",
   "execution_count": null,
   "metadata": {},
   "outputs": [],
   "source": [
    "refgenome: str = None,\n",
    "restriction_sites: list = None,\n",
    "largeindex: bool = False,\n",
    "on_target_score_threshold: int = 0,\n",
    "off_target_score_threshold: Optional[int] = None,\n",
    "off_target_count_threshold: Optional[int] = None,\n",
    "nuclease: str = \"SpCas9\",\n",
    "spacers_per_feature: int = 9,\n",
    "reject: bool = False,\n",
    "paired: bool = False,\n",
    "rules: str = \"Azimuth\",\n",
    "number_upstream_spacers: int = 0,\n",
    "number_downstream_spacers: int = 0,\n",
    "numcores: int = 0,"
   ]
  },
  {
   "cell_type": "code",
   "execution_count": 39,
   "metadata": {
    "ExecuteTime": {
     "end_time": "2019-06-15T23:42:14.466078Z",
     "start_time": "2019-06-15T23:42:14.463392Z"
    }
   },
   "outputs": [],
   "source": [
    "import find_spacers"
   ]
  },
  {
   "cell_type": "code",
   "execution_count": 40,
   "metadata": {
    "ExecuteTime": {
     "end_time": "2019-06-15T23:42:15.542413Z",
     "start_time": "2019-06-15T23:42:15.539716Z"
    }
   },
   "outputs": [],
   "source": [
    "from importlib import reload"
   ]
  },
  {
   "cell_type": "code",
   "execution_count": 92,
   "metadata": {
    "ExecuteTime": {
     "end_time": "2019-06-16T00:05:37.517813Z",
     "start_time": "2019-06-16T00:05:37.510977Z"
    }
   },
   "outputs": [
    {
     "data": {
      "text/plain": [
       "<module 'find_spacers' from '/Users/milessmith/workspace/merrycrispr/merrycrispr/find_spacers.py'>"
      ]
     },
     "execution_count": 92,
     "metadata": {},
     "output_type": "execute_result"
    }
   ],
   "source": [
    "reload(find_spacers)"
   ]
  },
  {
   "cell_type": "code",
   "execution_count": 136,
   "metadata": {
    "ExecuteTime": {
     "end_time": "2019-06-16T02:24:08.935777Z",
     "start_time": "2019-06-16T02:24:07.838431Z"
    }
   },
   "outputs": [],
   "source": [
    "spacers_df = find_spacers.find_spacers(itemlist=targets, nuclease_info=nuc, restriction_sites=[\"BsmBI\"])"
   ]
  },
  {
   "cell_type": "code",
   "execution_count": 137,
   "metadata": {
    "ExecuteTime": {
     "end_time": "2019-06-16T02:24:09.268938Z",
     "start_time": "2019-06-16T02:24:09.255076Z"
    }
   },
   "outputs": [
    {
     "data": {
      "text/html": [
       "<div>\n",
       "<style scoped>\n",
       "    .dataframe tbody tr th:only-of-type {\n",
       "        vertical-align: middle;\n",
       "    }\n",
       "\n",
       "    .dataframe tbody tr th {\n",
       "        vertical-align: top;\n",
       "    }\n",
       "\n",
       "    .dataframe thead th {\n",
       "        text-align: right;\n",
       "    }\n",
       "</style>\n",
       "<table border=\"1\" class=\"dataframe\">\n",
       "  <thead>\n",
       "    <tr style=\"text-align: right;\">\n",
       "      <th></th>\n",
       "      <th>gene_name</th>\n",
       "      <th>feature_id</th>\n",
       "      <th>strand</th>\n",
       "      <th>start</th>\n",
       "      <th>end</th>\n",
       "      <th>spacer</th>\n",
       "      <th>seq_hash</th>\n",
       "    </tr>\n",
       "  </thead>\n",
       "  <tbody>\n",
       "    <tr>\n",
       "      <th>0</th>\n",
       "      <td>SP100-upstream</td>\n",
       "      <td>gene</td>\n",
       "      <td>+</td>\n",
       "      <td>230415697</td>\n",
       "      <td>230415727</td>\n",
       "      <td>TCTCCAGCCCTGGGTCCCAATGTCAGGACC</td>\n",
       "      <td>-5963481152058671843</td>\n",
       "    </tr>\n",
       "    <tr>\n",
       "      <th>0</th>\n",
       "      <td>SP100-upstream</td>\n",
       "      <td>gene</td>\n",
       "      <td>+</td>\n",
       "      <td>230415730</td>\n",
       "      <td>230415760</td>\n",
       "      <td>CTTAGTCCAGTCCATGCTCTCCCATGGGCC</td>\n",
       "      <td>-5963481152058671843</td>\n",
       "    </tr>\n",
       "    <tr>\n",
       "      <th>0</th>\n",
       "      <td>SP100-upstream</td>\n",
       "      <td>gene</td>\n",
       "      <td>+</td>\n",
       "      <td>230415731</td>\n",
       "      <td>230415761</td>\n",
       "      <td>TTAGTCCAGTCCATGCTCTCCCATGGGCCT</td>\n",
       "      <td>-5963481152058671843</td>\n",
       "    </tr>\n",
       "    <tr>\n",
       "      <th>0</th>\n",
       "      <td>SP100-upstream</td>\n",
       "      <td>gene</td>\n",
       "      <td>+</td>\n",
       "      <td>230415750</td>\n",
       "      <td>230415780</td>\n",
       "      <td>CCCATGGGCCTGAGAGAAGATTTGAGGTTT</td>\n",
       "      <td>-5963481152058671843</td>\n",
       "    </tr>\n",
       "    <tr>\n",
       "      <th>0</th>\n",
       "      <td>SP100-upstream</td>\n",
       "      <td>gene</td>\n",
       "      <td>+</td>\n",
       "      <td>230415757</td>\n",
       "      <td>230415787</td>\n",
       "      <td>GCCTGAGAGAAGATTTGAGGTTTCTGGCTT</td>\n",
       "      <td>-5963481152058671843</td>\n",
       "    </tr>\n",
       "  </tbody>\n",
       "</table>\n",
       "</div>"
      ],
      "text/plain": [
       "        gene_name feature_id strand      start        end  \\\n",
       "0  SP100-upstream       gene      +  230415697  230415727   \n",
       "0  SP100-upstream       gene      +  230415730  230415760   \n",
       "0  SP100-upstream       gene      +  230415731  230415761   \n",
       "0  SP100-upstream       gene      +  230415750  230415780   \n",
       "0  SP100-upstream       gene      +  230415757  230415787   \n",
       "\n",
       "                           spacer              seq_hash  \n",
       "0  TCTCCAGCCCTGGGTCCCAATGTCAGGACC  -5963481152058671843  \n",
       "0  CTTAGTCCAGTCCATGCTCTCCCATGGGCC  -5963481152058671843  \n",
       "0  TTAGTCCAGTCCATGCTCTCCCATGGGCCT  -5963481152058671843  \n",
       "0  CCCATGGGCCTGAGAGAAGATTTGAGGTTT  -5963481152058671843  \n",
       "0  GCCTGAGAGAAGATTTGAGGTTTCTGGCTT  -5963481152058671843  "
      ]
     },
     "execution_count": 137,
     "metadata": {},
     "output_type": "execute_result"
    }
   ],
   "source": [
    "spacers_df.head()"
   ]
  },
  {
   "cell_type": "code",
   "execution_count": 138,
   "metadata": {
    "ExecuteTime": {
     "end_time": "2019-06-16T02:24:10.870570Z",
     "start_time": "2019-06-16T02:24:10.867731Z"
    }
   },
   "outputs": [],
   "source": [
    "import on_target_scoring"
   ]
  },
  {
   "cell_type": "code",
   "execution_count": 140,
   "metadata": {
    "ExecuteTime": {
     "end_time": "2019-06-16T02:24:22.712072Z",
     "start_time": "2019-06-16T02:24:20.940060Z"
    }
   },
   "outputs": [
    {
     "name": "stdout",
     "output_type": "stream",
     "text": [
      "No model file specified, using V3_model_nopos\n"
     ]
    }
   ],
   "source": [
    "spacers_df = on_target_scoring.on_target_scoring(ruleset=\"Azimuth\", \n",
    "                                                 spacers=spacers_df,\n",
    "                                                on_target_score_threshold=0)"
   ]
  },
  {
   "cell_type": "code",
   "execution_count": 141,
   "metadata": {
    "ExecuteTime": {
     "end_time": "2019-06-16T02:24:23.464092Z",
     "start_time": "2019-06-16T02:24:23.450365Z"
    }
   },
   "outputs": [
    {
     "data": {
      "text/html": [
       "<div>\n",
       "<style scoped>\n",
       "    .dataframe tbody tr th:only-of-type {\n",
       "        vertical-align: middle;\n",
       "    }\n",
       "\n",
       "    .dataframe tbody tr th {\n",
       "        vertical-align: top;\n",
       "    }\n",
       "\n",
       "    .dataframe thead th {\n",
       "        text-align: right;\n",
       "    }\n",
       "</style>\n",
       "<table border=\"1\" class=\"dataframe\">\n",
       "  <thead>\n",
       "    <tr style=\"text-align: right;\">\n",
       "      <th></th>\n",
       "      <th>gene_name</th>\n",
       "      <th>feature_id</th>\n",
       "      <th>strand</th>\n",
       "      <th>start</th>\n",
       "      <th>end</th>\n",
       "      <th>spacer</th>\n",
       "      <th>seq_hash</th>\n",
       "      <th>score</th>\n",
       "    </tr>\n",
       "  </thead>\n",
       "  <tbody>\n",
       "    <tr>\n",
       "      <th>0</th>\n",
       "      <td>SP100-upstream</td>\n",
       "      <td>gene</td>\n",
       "      <td>+</td>\n",
       "      <td>230415697</td>\n",
       "      <td>230415727</td>\n",
       "      <td>TCTCCAGCCCTGGGTCCCAATGTCAGGACC</td>\n",
       "      <td>-5963481152058671843</td>\n",
       "      <td>0.393445</td>\n",
       "    </tr>\n",
       "    <tr>\n",
       "      <th>0</th>\n",
       "      <td>SP100-upstream</td>\n",
       "      <td>gene</td>\n",
       "      <td>+</td>\n",
       "      <td>230415730</td>\n",
       "      <td>230415760</td>\n",
       "      <td>CTTAGTCCAGTCCATGCTCTCCCATGGGCC</td>\n",
       "      <td>-5963481152058671843</td>\n",
       "      <td>0.418113</td>\n",
       "    </tr>\n",
       "    <tr>\n",
       "      <th>0</th>\n",
       "      <td>SP100-upstream</td>\n",
       "      <td>gene</td>\n",
       "      <td>+</td>\n",
       "      <td>230415731</td>\n",
       "      <td>230415761</td>\n",
       "      <td>TTAGTCCAGTCCATGCTCTCCCATGGGCCT</td>\n",
       "      <td>-5963481152058671843</td>\n",
       "      <td>0.520763</td>\n",
       "    </tr>\n",
       "    <tr>\n",
       "      <th>0</th>\n",
       "      <td>SP100-upstream</td>\n",
       "      <td>gene</td>\n",
       "      <td>+</td>\n",
       "      <td>230415750</td>\n",
       "      <td>230415780</td>\n",
       "      <td>CCCATGGGCCTGAGAGAAGATTTGAGGTTT</td>\n",
       "      <td>-5963481152058671843</td>\n",
       "      <td>0.495854</td>\n",
       "    </tr>\n",
       "    <tr>\n",
       "      <th>0</th>\n",
       "      <td>SP100-upstream</td>\n",
       "      <td>gene</td>\n",
       "      <td>+</td>\n",
       "      <td>230415757</td>\n",
       "      <td>230415787</td>\n",
       "      <td>GCCTGAGAGAAGATTTGAGGTTTCTGGCTT</td>\n",
       "      <td>-5963481152058671843</td>\n",
       "      <td>0.201443</td>\n",
       "    </tr>\n",
       "  </tbody>\n",
       "</table>\n",
       "</div>"
      ],
      "text/plain": [
       "        gene_name feature_id strand      start        end  \\\n",
       "0  SP100-upstream       gene      +  230415697  230415727   \n",
       "0  SP100-upstream       gene      +  230415730  230415760   \n",
       "0  SP100-upstream       gene      +  230415731  230415761   \n",
       "0  SP100-upstream       gene      +  230415750  230415780   \n",
       "0  SP100-upstream       gene      +  230415757  230415787   \n",
       "\n",
       "                           spacer              seq_hash     score  \n",
       "0  TCTCCAGCCCTGGGTCCCAATGTCAGGACC  -5963481152058671843  0.393445  \n",
       "0  CTTAGTCCAGTCCATGCTCTCCCATGGGCC  -5963481152058671843  0.418113  \n",
       "0  TTAGTCCAGTCCATGCTCTCCCATGGGCCT  -5963481152058671843  0.520763  \n",
       "0  CCCATGGGCCTGAGAGAAGATTTGAGGTTT  -5963481152058671843  0.495854  \n",
       "0  GCCTGAGAGAAGATTTGAGGTTTCTGGCTT  -5963481152058671843  0.201443  "
      ]
     },
     "execution_count": 141,
     "metadata": {},
     "output_type": "execute_result"
    }
   ],
   "source": [
    "spacers_df.head()"
   ]
  },
  {
   "cell_type": "code",
   "execution_count": 142,
   "metadata": {
    "ExecuteTime": {
     "end_time": "2019-06-16T02:24:34.469931Z",
     "start_time": "2019-06-16T02:24:34.454803Z"
    }
   },
   "outputs": [
    {
     "data": {
      "text/html": [
       "<div>\n",
       "<style scoped>\n",
       "    .dataframe tbody tr th:only-of-type {\n",
       "        vertical-align: middle;\n",
       "    }\n",
       "\n",
       "    .dataframe tbody tr th {\n",
       "        vertical-align: top;\n",
       "    }\n",
       "\n",
       "    .dataframe thead th {\n",
       "        text-align: right;\n",
       "    }\n",
       "</style>\n",
       "<table border=\"1\" class=\"dataframe\">\n",
       "  <thead>\n",
       "    <tr style=\"text-align: right;\">\n",
       "      <th></th>\n",
       "      <th>gene_name</th>\n",
       "      <th>feature_id</th>\n",
       "      <th>strand</th>\n",
       "      <th>start</th>\n",
       "      <th>end</th>\n",
       "      <th>spacer</th>\n",
       "      <th>seq_hash</th>\n",
       "      <th>score</th>\n",
       "    </tr>\n",
       "  </thead>\n",
       "  <tbody>\n",
       "    <tr>\n",
       "      <th>0</th>\n",
       "      <td>SP100-upstream</td>\n",
       "      <td>gene</td>\n",
       "      <td>+</td>\n",
       "      <td>230415697</td>\n",
       "      <td>230415727</td>\n",
       "      <td>TCTCCAGCCCTGGGTCCCAATGTCAGGACC</td>\n",
       "      <td>-5963481152058671843</td>\n",
       "      <td>0.393445</td>\n",
       "    </tr>\n",
       "    <tr>\n",
       "      <th>0</th>\n",
       "      <td>SP100-upstream</td>\n",
       "      <td>gene</td>\n",
       "      <td>+</td>\n",
       "      <td>230415730</td>\n",
       "      <td>230415760</td>\n",
       "      <td>CTTAGTCCAGTCCATGCTCTCCCATGGGCC</td>\n",
       "      <td>-5963481152058671843</td>\n",
       "      <td>0.418113</td>\n",
       "    </tr>\n",
       "    <tr>\n",
       "      <th>0</th>\n",
       "      <td>SP100-upstream</td>\n",
       "      <td>gene</td>\n",
       "      <td>+</td>\n",
       "      <td>230415731</td>\n",
       "      <td>230415761</td>\n",
       "      <td>TTAGTCCAGTCCATGCTCTCCCATGGGCCT</td>\n",
       "      <td>-5963481152058671843</td>\n",
       "      <td>0.520763</td>\n",
       "    </tr>\n",
       "    <tr>\n",
       "      <th>0</th>\n",
       "      <td>SP100-upstream</td>\n",
       "      <td>gene</td>\n",
       "      <td>+</td>\n",
       "      <td>230415750</td>\n",
       "      <td>230415780</td>\n",
       "      <td>CCCATGGGCCTGAGAGAAGATTTGAGGTTT</td>\n",
       "      <td>-5963481152058671843</td>\n",
       "      <td>0.495854</td>\n",
       "    </tr>\n",
       "    <tr>\n",
       "      <th>0</th>\n",
       "      <td>SP100-upstream</td>\n",
       "      <td>gene</td>\n",
       "      <td>+</td>\n",
       "      <td>230415757</td>\n",
       "      <td>230415787</td>\n",
       "      <td>GCCTGAGAGAAGATTTGAGGTTTCTGGCTT</td>\n",
       "      <td>-5963481152058671843</td>\n",
       "      <td>0.201443</td>\n",
       "    </tr>\n",
       "  </tbody>\n",
       "</table>\n",
       "</div>"
      ],
      "text/plain": [
       "        gene_name feature_id strand      start        end  \\\n",
       "0  SP100-upstream       gene      +  230415697  230415727   \n",
       "0  SP100-upstream       gene      +  230415730  230415760   \n",
       "0  SP100-upstream       gene      +  230415731  230415761   \n",
       "0  SP100-upstream       gene      +  230415750  230415780   \n",
       "0  SP100-upstream       gene      +  230415757  230415787   \n",
       "\n",
       "                           spacer              seq_hash     score  \n",
       "0  TCTCCAGCCCTGGGTCCCAATGTCAGGACC  -5963481152058671843  0.393445  \n",
       "0  CTTAGTCCAGTCCATGCTCTCCCATGGGCC  -5963481152058671843  0.418113  \n",
       "0  TTAGTCCAGTCCATGCTCTCCCATGGGCCT  -5963481152058671843  0.520763  \n",
       "0  CCCATGGGCCTGAGAGAAGATTTGAGGTTT  -5963481152058671843  0.495854  \n",
       "0  GCCTGAGAGAAGATTTGAGGTTTCTGGCTT  -5963481152058671843  0.201443  "
      ]
     },
     "execution_count": 142,
     "metadata": {},
     "output_type": "execute_result"
    }
   ],
   "source": [
    "spacers_df[spacers_df[\"gene_name\"].str.contains('upstream')].head()"
   ]
  },
  {
   "cell_type": "code",
   "execution_count": 143,
   "metadata": {
    "ExecuteTime": {
     "end_time": "2019-06-16T02:24:37.605960Z",
     "start_time": "2019-06-16T02:24:37.601582Z"
    }
   },
   "outputs": [],
   "source": [
    "original_targets = spacers_df['seq_hash'].drop_duplicates().values"
   ]
  },
  {
   "cell_type": "code",
   "execution_count": 144,
   "metadata": {
    "ExecuteTime": {
     "end_time": "2019-06-16T02:24:39.464372Z",
     "start_time": "2019-06-16T02:24:39.460195Z"
    }
   },
   "outputs": [
    {
     "data": {
      "text/plain": [
       "['-5963481152058671843',\n",
       " '1766471857979665021',\n",
       " '7721138382527541631',\n",
       " '7958814249769532103',\n",
       " '-9090773863848936440',\n",
       " '-6259869781208530012',\n",
       " '-1459709511530812887']"
      ]
     },
     "execution_count": 144,
     "metadata": {},
     "output_type": "execute_result"
    }
   ],
   "source": [
    "[_ for _ in original_targets]"
   ]
  },
  {
   "cell_type": "code",
   "execution_count": 174,
   "metadata": {
    "ExecuteTime": {
     "end_time": "2019-06-16T02:31:37.473846Z",
     "start_time": "2019-06-16T02:31:37.467835Z"
    }
   },
   "outputs": [],
   "source": [
    "sp100 = spacers_df[spacers_df[\"seq_hash\"] == \"-5963481152058671843\"]\n",
    "\n",
    "us_sp100 = sp100[sp100[\"gene_name\"].str.contains('upstream')]\n",
    "ds_sp100 = sp100[sp100[\"gene_name\"].str.contains('downstream')]"
   ]
  },
  {
   "cell_type": "code",
   "execution_count": 175,
   "metadata": {
    "ExecuteTime": {
     "end_time": "2019-06-16T02:31:38.511270Z",
     "start_time": "2019-06-16T02:31:38.490160Z"
    },
    "scrolled": true
   },
   "outputs": [
    {
     "data": {
      "text/html": [
       "<div>\n",
       "<style scoped>\n",
       "    .dataframe tbody tr th:only-of-type {\n",
       "        vertical-align: middle;\n",
       "    }\n",
       "\n",
       "    .dataframe tbody tr th {\n",
       "        vertical-align: top;\n",
       "    }\n",
       "\n",
       "    .dataframe thead th {\n",
       "        text-align: right;\n",
       "    }\n",
       "</style>\n",
       "<table border=\"1\" class=\"dataframe\">\n",
       "  <thead>\n",
       "    <tr style=\"text-align: right;\">\n",
       "      <th></th>\n",
       "      <th>gene_name</th>\n",
       "      <th>feature_id</th>\n",
       "      <th>strand</th>\n",
       "      <th>start</th>\n",
       "      <th>end</th>\n",
       "      <th>spacer</th>\n",
       "      <th>seq_hash</th>\n",
       "      <th>score</th>\n",
       "    </tr>\n",
       "  </thead>\n",
       "  <tbody>\n",
       "    <tr>\n",
       "      <th>0</th>\n",
       "      <td>SP100-upstream</td>\n",
       "      <td>gene</td>\n",
       "      <td>+</td>\n",
       "      <td>230415806</td>\n",
       "      <td>230415836</td>\n",
       "      <td>CCCACCCCAAGCCATGTCAGCAAGGGGAAG</td>\n",
       "      <td>-5963481152058671843</td>\n",
       "      <td>0.614261</td>\n",
       "    </tr>\n",
       "    <tr>\n",
       "      <th>1</th>\n",
       "      <td>SP100-upstream</td>\n",
       "      <td>gene</td>\n",
       "      <td>+</td>\n",
       "      <td>230415691</td>\n",
       "      <td>230415721</td>\n",
       "      <td>GGAGAGCATGGACTGGACTAAGGTAGGTCC</td>\n",
       "      <td>-5963481152058671843</td>\n",
       "      <td>0.613825</td>\n",
       "    </tr>\n",
       "    <tr>\n",
       "      <th>2</th>\n",
       "      <td>SP100-upstream</td>\n",
       "      <td>gene</td>\n",
       "      <td>+</td>\n",
       "      <td>230415691</td>\n",
       "      <td>230415721</td>\n",
       "      <td>TTAGCTGCTCTGCCCTCTAAGAGGGGGCAT</td>\n",
       "      <td>-5963481152058671843</td>\n",
       "      <td>0.612068</td>\n",
       "    </tr>\n",
       "  </tbody>\n",
       "</table>\n",
       "</div>"
      ],
      "text/plain": [
       "        gene_name feature_id strand      start        end  \\\n",
       "0  SP100-upstream       gene      +  230415806  230415836   \n",
       "1  SP100-upstream       gene      +  230415691  230415721   \n",
       "2  SP100-upstream       gene      +  230415691  230415721   \n",
       "\n",
       "                           spacer              seq_hash     score  \n",
       "0  CCCACCCCAAGCCATGTCAGCAAGGGGAAG  -5963481152058671843  0.614261  \n",
       "1  GGAGAGCATGGACTGGACTAAGGTAGGTCC  -5963481152058671843  0.613825  \n",
       "2  TTAGCTGCTCTGCCCTCTAAGAGGGGGCAT  -5963481152058671843  0.612068  "
      ]
     },
     "execution_count": 175,
     "metadata": {},
     "output_type": "execute_result"
    }
   ],
   "source": [
    "us_sp100.groupby('seq_hash').apply(lambda x: x.nlargest(3, \"score\")).reset_index(drop=True)"
   ]
  },
  {
   "cell_type": "code",
   "execution_count": 176,
   "metadata": {
    "ExecuteTime": {
     "end_time": "2019-06-16T02:31:38.955413Z",
     "start_time": "2019-06-16T02:31:38.933524Z"
    }
   },
   "outputs": [],
   "source": [
    "us_sp100 = us_sp100.groupby('seq_hash').apply(lambda x: x.nlargest(3, \"score\")).reset_index(drop=True)\n",
    "ds_sp100 = ds_sp100.groupby('seq_hash').apply(lambda x: x.nlargest(3, \"score\")).reset_index(drop=True)"
   ]
  },
  {
   "cell_type": "code",
   "execution_count": 177,
   "metadata": {
    "ExecuteTime": {
     "end_time": "2019-06-16T02:31:39.318060Z",
     "start_time": "2019-06-16T02:31:39.313377Z"
    }
   },
   "outputs": [
    {
     "data": {
      "text/plain": [
       "array(['CCCACCCCAAGCCATGTCAGCAAGGGGAAG', 'GGAGAGCATGGACTGGACTAAGGTAGGTCC',\n",
       "       'TTAGCTGCTCTGCCCTCTAAGAGGGGGCAT'], dtype=object)"
      ]
     },
     "execution_count": 177,
     "metadata": {},
     "output_type": "execute_result"
    }
   ],
   "source": [
    "us_sp100[\"spacer\"].values"
   ]
  },
  {
   "cell_type": "code",
   "execution_count": 178,
   "metadata": {
    "ExecuteTime": {
     "end_time": "2019-06-16T02:31:39.697848Z",
     "start_time": "2019-06-16T02:31:39.692305Z"
    }
   },
   "outputs": [
    {
     "data": {
      "text/plain": [
       "['CCCACCCCAAGCCATGTCAGCAAGGGGAAG',\n",
       " 'GGAGAGCATGGACTGGACTAAGGTAGGTCC',\n",
       " 'TTAGCTGCTCTGCCCTCTAAGAGGGGGCAT']"
      ]
     },
     "execution_count": 178,
     "metadata": {},
     "output_type": "execute_result"
    }
   ],
   "source": [
    "[x for x in us_sp100[\"spacer\"].values]"
   ]
  },
  {
   "cell_type": "code",
   "execution_count": 179,
   "metadata": {
    "ExecuteTime": {
     "end_time": "2019-06-16T02:31:40.127779Z",
     "start_time": "2019-06-16T02:31:40.124221Z"
    }
   },
   "outputs": [],
   "source": [
    "permutations = [\n",
    "                [x, y] for x in us_sp100[\"spacer\"].values for y in ds_sp100[\"spacer\"].values\n",
    "            ]"
   ]
  },
  {
   "cell_type": "code",
   "execution_count": 180,
   "metadata": {
    "ExecuteTime": {
     "end_time": "2019-06-16T02:31:40.593027Z",
     "start_time": "2019-06-16T02:31:40.588524Z"
    }
   },
   "outputs": [
    {
     "data": {
      "text/plain": [
       "[['CCCACCCCAAGCCATGTCAGCAAGGGGAAG', 'TATGAAGACTCTGGAAGACAACCTAGGCAA'],\n",
       " ['CCCACCCCAAGCCATGTCAGCAAGGGGAAG', 'CCTAGGCAATACCATCCTGGACATAGGAAC'],\n",
       " ['CCCACCCCAAGCCATGTCAGCAAGGGGAAG', 'CCTATGTCCAGGATGGTATTGCCTAGGTTG'],\n",
       " ['GGAGAGCATGGACTGGACTAAGGTAGGTCC', 'TATGAAGACTCTGGAAGACAACCTAGGCAA'],\n",
       " ['GGAGAGCATGGACTGGACTAAGGTAGGTCC', 'CCTAGGCAATACCATCCTGGACATAGGAAC'],\n",
       " ['GGAGAGCATGGACTGGACTAAGGTAGGTCC', 'CCTATGTCCAGGATGGTATTGCCTAGGTTG'],\n",
       " ['TTAGCTGCTCTGCCCTCTAAGAGGGGGCAT', 'TATGAAGACTCTGGAAGACAACCTAGGCAA'],\n",
       " ['TTAGCTGCTCTGCCCTCTAAGAGGGGGCAT', 'CCTAGGCAATACCATCCTGGACATAGGAAC'],\n",
       " ['TTAGCTGCTCTGCCCTCTAAGAGGGGGCAT', 'CCTATGTCCAGGATGGTATTGCCTAGGTTG']]"
      ]
     },
     "execution_count": 180,
     "metadata": {},
     "output_type": "execute_result"
    }
   ],
   "source": [
    "permutations"
   ]
  },
  {
   "cell_type": "code",
   "execution_count": 181,
   "metadata": {
    "ExecuteTime": {
     "end_time": "2019-06-16T02:31:41.175343Z",
     "start_time": "2019-06-16T02:31:41.170491Z"
    }
   },
   "outputs": [
    {
     "data": {
      "text/plain": [
       "9"
      ]
     },
     "execution_count": 181,
     "metadata": {},
     "output_type": "execute_result"
    }
   ],
   "source": [
    "len(permutations)"
   ]
  },
  {
   "cell_type": "code",
   "execution_count": 182,
   "metadata": {
    "ExecuteTime": {
     "end_time": "2019-06-16T02:31:41.728920Z",
     "start_time": "2019-06-16T02:31:41.725844Z"
    }
   },
   "outputs": [],
   "source": [
    "bsmbi_arm_5 = \"aaaAgcaCGAGACG\"\n",
    "right_extra_spacer = \"GGTTCTATGC\"\n",
    "direct_repeat = \"GTTTTAGAGCTATGCTGTTTTGAATGGTCCCAAAAC\"\n",
    "left_extra_spacer = \"GATAGTTGCC\"\n",
    "bsmbi_arm_3 = \"CGTCTCGTTTTaaaa\""
   ]
  },
  {
   "cell_type": "code",
   "execution_count": 183,
   "metadata": {
    "ExecuteTime": {
     "end_time": "2019-06-16T02:31:42.373515Z",
     "start_time": "2019-06-16T02:31:42.369766Z"
    }
   },
   "outputs": [],
   "source": [
    "combinations = [\n",
    "    bsmbi_arm_5\n",
    "    + right_extra_spacer\n",
    "    + str(combo[0]).lower()\n",
    "    + direct_repeat\n",
    "    + left_extra_spacer\n",
    "    + str(combo[1]).lower()\n",
    "    + bsmbi_arm_3\n",
    "    for combo in permutations\n",
    "]"
   ]
  },
  {
   "cell_type": "code",
   "execution_count": 184,
   "metadata": {
    "ExecuteTime": {
     "end_time": "2019-06-16T02:31:43.152667Z",
     "start_time": "2019-06-16T02:31:43.147573Z"
    }
   },
   "outputs": [
    {
     "data": {
      "text/plain": [
       "['aaaAgcaCGAGACGGGTTCTATGCcccaccccaagccatgtcagcaaggggaagGTTTTAGAGCTATGCTGTTTTGAATGGTCCCAAAACGATAGTTGCCtatgaagactctggaagacaacctaggcaaCGTCTCGTTTTaaaa',\n",
       " 'aaaAgcaCGAGACGGGTTCTATGCcccaccccaagccatgtcagcaaggggaagGTTTTAGAGCTATGCTGTTTTGAATGGTCCCAAAACGATAGTTGCCcctaggcaataccatcctggacataggaacCGTCTCGTTTTaaaa',\n",
       " 'aaaAgcaCGAGACGGGTTCTATGCcccaccccaagccatgtcagcaaggggaagGTTTTAGAGCTATGCTGTTTTGAATGGTCCCAAAACGATAGTTGCCcctatgtccaggatggtattgcctaggttgCGTCTCGTTTTaaaa',\n",
       " 'aaaAgcaCGAGACGGGTTCTATGCggagagcatggactggactaaggtaggtccGTTTTAGAGCTATGCTGTTTTGAATGGTCCCAAAACGATAGTTGCCtatgaagactctggaagacaacctaggcaaCGTCTCGTTTTaaaa',\n",
       " 'aaaAgcaCGAGACGGGTTCTATGCggagagcatggactggactaaggtaggtccGTTTTAGAGCTATGCTGTTTTGAATGGTCCCAAAACGATAGTTGCCcctaggcaataccatcctggacataggaacCGTCTCGTTTTaaaa',\n",
       " 'aaaAgcaCGAGACGGGTTCTATGCggagagcatggactggactaaggtaggtccGTTTTAGAGCTATGCTGTTTTGAATGGTCCCAAAACGATAGTTGCCcctatgtccaggatggtattgcctaggttgCGTCTCGTTTTaaaa',\n",
       " 'aaaAgcaCGAGACGGGTTCTATGCttagctgctctgccctctaagagggggcatGTTTTAGAGCTATGCTGTTTTGAATGGTCCCAAAACGATAGTTGCCtatgaagactctggaagacaacctaggcaaCGTCTCGTTTTaaaa',\n",
       " 'aaaAgcaCGAGACGGGTTCTATGCttagctgctctgccctctaagagggggcatGTTTTAGAGCTATGCTGTTTTGAATGGTCCCAAAACGATAGTTGCCcctaggcaataccatcctggacataggaacCGTCTCGTTTTaaaa',\n",
       " 'aaaAgcaCGAGACGGGTTCTATGCttagctgctctgccctctaagagggggcatGTTTTAGAGCTATGCTGTTTTGAATGGTCCCAAAACGATAGTTGCCcctatgtccaggatggtattgcctaggttgCGTCTCGTTTTaaaa']"
      ]
     },
     "execution_count": 184,
     "metadata": {},
     "output_type": "execute_result"
    }
   ],
   "source": [
    "combinations"
   ]
  },
  {
   "cell_type": "code",
   "execution_count": 204,
   "metadata": {
    "ExecuteTime": {
     "end_time": "2019-06-16T02:45:45.823408Z",
     "start_time": "2019-06-16T02:45:45.819253Z"
    }
   },
   "outputs": [],
   "source": [
    "alpha = pd.DataFrame.from_dict({k:v for k,v in enumerate(combinations)}, orient='index', columns=['spacer'])"
   ]
  },
  {
   "cell_type": "code",
   "execution_count": 205,
   "metadata": {
    "ExecuteTime": {
     "end_time": "2019-06-16T02:45:46.884873Z",
     "start_time": "2019-06-16T02:45:46.878825Z"
    }
   },
   "outputs": [
    {
     "data": {
      "text/html": [
       "<div>\n",
       "<style scoped>\n",
       "    .dataframe tbody tr th:only-of-type {\n",
       "        vertical-align: middle;\n",
       "    }\n",
       "\n",
       "    .dataframe tbody tr th {\n",
       "        vertical-align: top;\n",
       "    }\n",
       "\n",
       "    .dataframe thead th {\n",
       "        text-align: right;\n",
       "    }\n",
       "</style>\n",
       "<table border=\"1\" class=\"dataframe\">\n",
       "  <thead>\n",
       "    <tr style=\"text-align: right;\">\n",
       "      <th></th>\n",
       "      <th>spacer</th>\n",
       "    </tr>\n",
       "  </thead>\n",
       "  <tbody>\n",
       "    <tr>\n",
       "      <th>0</th>\n",
       "      <td>aaaAgcaCGAGACGGGTTCTATGCcccaccccaagccatgtcagca...</td>\n",
       "    </tr>\n",
       "    <tr>\n",
       "      <th>1</th>\n",
       "      <td>aaaAgcaCGAGACGGGTTCTATGCcccaccccaagccatgtcagca...</td>\n",
       "    </tr>\n",
       "    <tr>\n",
       "      <th>2</th>\n",
       "      <td>aaaAgcaCGAGACGGGTTCTATGCcccaccccaagccatgtcagca...</td>\n",
       "    </tr>\n",
       "    <tr>\n",
       "      <th>3</th>\n",
       "      <td>aaaAgcaCGAGACGGGTTCTATGCggagagcatggactggactaag...</td>\n",
       "    </tr>\n",
       "    <tr>\n",
       "      <th>4</th>\n",
       "      <td>aaaAgcaCGAGACGGGTTCTATGCggagagcatggactggactaag...</td>\n",
       "    </tr>\n",
       "    <tr>\n",
       "      <th>5</th>\n",
       "      <td>aaaAgcaCGAGACGGGTTCTATGCggagagcatggactggactaag...</td>\n",
       "    </tr>\n",
       "    <tr>\n",
       "      <th>6</th>\n",
       "      <td>aaaAgcaCGAGACGGGTTCTATGCttagctgctctgccctctaaga...</td>\n",
       "    </tr>\n",
       "    <tr>\n",
       "      <th>7</th>\n",
       "      <td>aaaAgcaCGAGACGGGTTCTATGCttagctgctctgccctctaaga...</td>\n",
       "    </tr>\n",
       "    <tr>\n",
       "      <th>8</th>\n",
       "      <td>aaaAgcaCGAGACGGGTTCTATGCttagctgctctgccctctaaga...</td>\n",
       "    </tr>\n",
       "  </tbody>\n",
       "</table>\n",
       "</div>"
      ],
      "text/plain": [
       "                                              spacer\n",
       "0  aaaAgcaCGAGACGGGTTCTATGCcccaccccaagccatgtcagca...\n",
       "1  aaaAgcaCGAGACGGGTTCTATGCcccaccccaagccatgtcagca...\n",
       "2  aaaAgcaCGAGACGGGTTCTATGCcccaccccaagccatgtcagca...\n",
       "3  aaaAgcaCGAGACGGGTTCTATGCggagagcatggactggactaag...\n",
       "4  aaaAgcaCGAGACGGGTTCTATGCggagagcatggactggactaag...\n",
       "5  aaaAgcaCGAGACGGGTTCTATGCggagagcatggactggactaag...\n",
       "6  aaaAgcaCGAGACGGGTTCTATGCttagctgctctgccctctaaga...\n",
       "7  aaaAgcaCGAGACGGGTTCTATGCttagctgctctgccctctaaga...\n",
       "8  aaaAgcaCGAGACGGGTTCTATGCttagctgctctgccctctaaga..."
      ]
     },
     "execution_count": 205,
     "metadata": {},
     "output_type": "execute_result"
    }
   ],
   "source": [
    "alpha"
   ]
  },
  {
   "cell_type": "code",
   "execution_count": 206,
   "metadata": {
    "ExecuteTime": {
     "end_time": "2019-06-16T02:46:40.591584Z",
     "start_time": "2019-06-16T02:46:40.578458Z"
    }
   },
   "outputs": [
    {
     "data": {
      "text/html": [
       "<div>\n",
       "<style scoped>\n",
       "    .dataframe tbody tr th:only-of-type {\n",
       "        vertical-align: middle;\n",
       "    }\n",
       "\n",
       "    .dataframe tbody tr th {\n",
       "        vertical-align: top;\n",
       "    }\n",
       "\n",
       "    .dataframe thead th {\n",
       "        text-align: right;\n",
       "    }\n",
       "</style>\n",
       "<table border=\"1\" class=\"dataframe\">\n",
       "  <thead>\n",
       "    <tr style=\"text-align: right;\">\n",
       "      <th></th>\n",
       "      <th>gene_name</th>\n",
       "      <th>feature_id</th>\n",
       "      <th>strand</th>\n",
       "      <th>start</th>\n",
       "      <th>end</th>\n",
       "      <th>spacer</th>\n",
       "      <th>seq_hash</th>\n",
       "      <th>score</th>\n",
       "    </tr>\n",
       "  </thead>\n",
       "  <tbody>\n",
       "    <tr>\n",
       "      <th>0</th>\n",
       "      <td>SP100-upstream</td>\n",
       "      <td>gene</td>\n",
       "      <td>+</td>\n",
       "      <td>230415806</td>\n",
       "      <td>230415836</td>\n",
       "      <td>CCCACCCCAAGCCATGTCAGCAAGGGGAAG</td>\n",
       "      <td>-5963481152058671843</td>\n",
       "      <td>0.614261</td>\n",
       "    </tr>\n",
       "    <tr>\n",
       "      <th>1</th>\n",
       "      <td>SP100-upstream</td>\n",
       "      <td>gene</td>\n",
       "      <td>+</td>\n",
       "      <td>230415691</td>\n",
       "      <td>230415721</td>\n",
       "      <td>GGAGAGCATGGACTGGACTAAGGTAGGTCC</td>\n",
       "      <td>-5963481152058671843</td>\n",
       "      <td>0.613825</td>\n",
       "    </tr>\n",
       "    <tr>\n",
       "      <th>2</th>\n",
       "      <td>SP100-upstream</td>\n",
       "      <td>gene</td>\n",
       "      <td>+</td>\n",
       "      <td>230415691</td>\n",
       "      <td>230415721</td>\n",
       "      <td>TTAGCTGCTCTGCCCTCTAAGAGGGGGCAT</td>\n",
       "      <td>-5963481152058671843</td>\n",
       "      <td>0.612068</td>\n",
       "    </tr>\n",
       "  </tbody>\n",
       "</table>\n",
       "</div>"
      ],
      "text/plain": [
       "        gene_name feature_id strand      start        end  \\\n",
       "0  SP100-upstream       gene      +  230415806  230415836   \n",
       "1  SP100-upstream       gene      +  230415691  230415721   \n",
       "2  SP100-upstream       gene      +  230415691  230415721   \n",
       "\n",
       "                           spacer              seq_hash     score  \n",
       "0  CCCACCCCAAGCCATGTCAGCAAGGGGAAG  -5963481152058671843  0.614261  \n",
       "1  GGAGAGCATGGACTGGACTAAGGTAGGTCC  -5963481152058671843  0.613825  \n",
       "2  TTAGCTGCTCTGCCCTCTAAGAGGGGGCAT  -5963481152058671843  0.612068  "
      ]
     },
     "execution_count": 206,
     "metadata": {},
     "output_type": "execute_result"
    }
   ],
   "source": [
    "us_sp100"
   ]
  },
  {
   "cell_type": "code",
   "execution_count": 207,
   "metadata": {
    "ExecuteTime": {
     "end_time": "2019-06-16T02:47:04.369265Z",
     "start_time": "2019-06-16T02:47:04.365949Z"
    }
   },
   "outputs": [],
   "source": [
    "alpha['gene_name'] = \"SP100-upstream\""
   ]
  },
  {
   "cell_type": "code",
   "execution_count": 208,
   "metadata": {
    "ExecuteTime": {
     "end_time": "2019-06-16T02:47:09.914089Z",
     "start_time": "2019-06-16T02:47:09.905293Z"
    }
   },
   "outputs": [
    {
     "data": {
      "text/html": [
       "<div>\n",
       "<style scoped>\n",
       "    .dataframe tbody tr th:only-of-type {\n",
       "        vertical-align: middle;\n",
       "    }\n",
       "\n",
       "    .dataframe tbody tr th {\n",
       "        vertical-align: top;\n",
       "    }\n",
       "\n",
       "    .dataframe thead th {\n",
       "        text-align: right;\n",
       "    }\n",
       "</style>\n",
       "<table border=\"1\" class=\"dataframe\">\n",
       "  <thead>\n",
       "    <tr style=\"text-align: right;\">\n",
       "      <th></th>\n",
       "      <th>spacer</th>\n",
       "      <th>gene_name</th>\n",
       "    </tr>\n",
       "  </thead>\n",
       "  <tbody>\n",
       "    <tr>\n",
       "      <th>0</th>\n",
       "      <td>aaaAgcaCGAGACGGGTTCTATGCcccaccccaagccatgtcagca...</td>\n",
       "      <td>SP100-upstream</td>\n",
       "    </tr>\n",
       "    <tr>\n",
       "      <th>1</th>\n",
       "      <td>aaaAgcaCGAGACGGGTTCTATGCcccaccccaagccatgtcagca...</td>\n",
       "      <td>SP100-upstream</td>\n",
       "    </tr>\n",
       "    <tr>\n",
       "      <th>2</th>\n",
       "      <td>aaaAgcaCGAGACGGGTTCTATGCcccaccccaagccatgtcagca...</td>\n",
       "      <td>SP100-upstream</td>\n",
       "    </tr>\n",
       "    <tr>\n",
       "      <th>3</th>\n",
       "      <td>aaaAgcaCGAGACGGGTTCTATGCggagagcatggactggactaag...</td>\n",
       "      <td>SP100-upstream</td>\n",
       "    </tr>\n",
       "    <tr>\n",
       "      <th>4</th>\n",
       "      <td>aaaAgcaCGAGACGGGTTCTATGCggagagcatggactggactaag...</td>\n",
       "      <td>SP100-upstream</td>\n",
       "    </tr>\n",
       "    <tr>\n",
       "      <th>5</th>\n",
       "      <td>aaaAgcaCGAGACGGGTTCTATGCggagagcatggactggactaag...</td>\n",
       "      <td>SP100-upstream</td>\n",
       "    </tr>\n",
       "    <tr>\n",
       "      <th>6</th>\n",
       "      <td>aaaAgcaCGAGACGGGTTCTATGCttagctgctctgccctctaaga...</td>\n",
       "      <td>SP100-upstream</td>\n",
       "    </tr>\n",
       "    <tr>\n",
       "      <th>7</th>\n",
       "      <td>aaaAgcaCGAGACGGGTTCTATGCttagctgctctgccctctaaga...</td>\n",
       "      <td>SP100-upstream</td>\n",
       "    </tr>\n",
       "    <tr>\n",
       "      <th>8</th>\n",
       "      <td>aaaAgcaCGAGACGGGTTCTATGCttagctgctctgccctctaaga...</td>\n",
       "      <td>SP100-upstream</td>\n",
       "    </tr>\n",
       "  </tbody>\n",
       "</table>\n",
       "</div>"
      ],
      "text/plain": [
       "                                              spacer       gene_name\n",
       "0  aaaAgcaCGAGACGGGTTCTATGCcccaccccaagccatgtcagca...  SP100-upstream\n",
       "1  aaaAgcaCGAGACGGGTTCTATGCcccaccccaagccatgtcagca...  SP100-upstream\n",
       "2  aaaAgcaCGAGACGGGTTCTATGCcccaccccaagccatgtcagca...  SP100-upstream\n",
       "3  aaaAgcaCGAGACGGGTTCTATGCggagagcatggactggactaag...  SP100-upstream\n",
       "4  aaaAgcaCGAGACGGGTTCTATGCggagagcatggactggactaag...  SP100-upstream\n",
       "5  aaaAgcaCGAGACGGGTTCTATGCggagagcatggactggactaag...  SP100-upstream\n",
       "6  aaaAgcaCGAGACGGGTTCTATGCttagctgctctgccctctaaga...  SP100-upstream\n",
       "7  aaaAgcaCGAGACGGGTTCTATGCttagctgctctgccctctaaga...  SP100-upstream\n",
       "8  aaaAgcaCGAGACGGGTTCTATGCttagctgctctgccctctaaga...  SP100-upstream"
      ]
     },
     "execution_count": 208,
     "metadata": {},
     "output_type": "execute_result"
    }
   ],
   "source": [
    "alpha"
   ]
  },
  {
   "cell_type": "code",
   "execution_count": 237,
   "metadata": {
    "ExecuteTime": {
     "end_time": "2019-06-16T03:26:12.379171Z",
     "start_time": "2019-06-16T03:26:12.373277Z"
    }
   },
   "outputs": [
    {
     "data": {
      "text/plain": [
       "'SP100'"
      ]
     },
     "execution_count": 237,
     "metadata": {},
     "output_type": "execute_result"
    }
   ],
   "source": [
    "us_sp100['gene_name'].drop_duplicates().item().strip('-upstream')"
   ]
  },
  {
   "cell_type": "code",
   "execution_count": 235,
   "metadata": {
    "ExecuteTime": {
     "end_time": "2019-06-16T03:10:41.017284Z",
     "start_time": "2019-06-16T03:10:41.013889Z"
    }
   },
   "outputs": [],
   "source": [
    "import itertools"
   ]
  },
  {
   "cell_type": "code",
   "execution_count": 236,
   "metadata": {
    "ExecuteTime": {
     "end_time": "2019-06-16T03:11:00.148487Z",
     "start_time": "2019-06-16T03:11:00.143643Z"
    }
   },
   "outputs": [
    {
     "data": {
      "text/plain": [
       "<itertools.product at 0x93b4f3168>"
      ]
     },
     "execution_count": 236,
     "metadata": {},
     "output_type": "execute_result"
    }
   ],
   "source": [
    "itertools.product(us_sp100, ds_sp100)"
   ]
  },
  {
   "cell_type": "code",
   "execution_count": 258,
   "metadata": {
    "ExecuteTime": {
     "end_time": "2019-06-16T03:33:17.947978Z",
     "start_time": "2019-06-16T03:33:17.944432Z"
    }
   },
   "outputs": [],
   "source": [
    "beta = itertools.product(us_sp100.index, ds_sp100.index)"
   ]
  },
  {
   "cell_type": "code",
   "execution_count": 259,
   "metadata": {
    "ExecuteTime": {
     "end_time": "2019-06-16T03:33:22.191176Z",
     "start_time": "2019-06-16T03:33:22.188400Z"
    }
   },
   "outputs": [],
   "source": [
    "gamma = [_ for _ in beta]"
   ]
  },
  {
   "cell_type": "code",
   "execution_count": 260,
   "metadata": {
    "ExecuteTime": {
     "end_time": "2019-06-16T03:33:22.961262Z",
     "start_time": "2019-06-16T03:33:22.956993Z"
    }
   },
   "outputs": [
    {
     "data": {
      "text/plain": [
       "[(0, 0), (0, 1), (0, 2), (1, 0), (1, 1), (1, 2), (2, 0), (2, 1), (2, 2)]"
      ]
     },
     "execution_count": 260,
     "metadata": {},
     "output_type": "execute_result"
    }
   ],
   "source": [
    "gamma"
   ]
  },
  {
   "cell_type": "code",
   "execution_count": 261,
   "metadata": {
    "ExecuteTime": {
     "end_time": "2019-06-16T03:33:26.405157Z",
     "start_time": "2019-06-16T03:33:26.400836Z"
    }
   },
   "outputs": [
    {
     "data": {
      "text/plain": [
       "(0, 0)"
      ]
     },
     "execution_count": 261,
     "metadata": {},
     "output_type": "execute_result"
    }
   ],
   "source": [
    "gamma[0]"
   ]
  },
  {
   "cell_type": "code",
   "execution_count": 262,
   "metadata": {
    "ExecuteTime": {
     "end_time": "2019-06-16T03:33:32.510159Z",
     "start_time": "2019-06-16T03:33:32.507000Z"
    }
   },
   "outputs": [],
   "source": [
    "a,b = gamma[0]"
   ]
  },
  {
   "cell_type": "code",
   "execution_count": 337,
   "metadata": {
    "ExecuteTime": {
     "end_time": "2019-06-16T15:10:16.053715Z",
     "start_time": "2019-06-16T15:10:16.046550Z"
    }
   },
   "outputs": [],
   "source": [
    "delta = pd.DataFrame(\n",
    "        columns=[\n",
    "            \"gene_name\",\n",
    "            \"feature_id\",\n",
    "            \"strand\",\n",
    "            \"spacer\",\n",
    "            \"upstream_on_target_score\",\n",
    "            \"downstream_on_target_score\",\n",
    "            \"seq_hash\",\n",
    "            \"hash\"\n",
    "        ]\n",
    "    )"
   ]
  },
  {
   "cell_type": "code",
   "execution_count": 338,
   "metadata": {
    "ExecuteTime": {
     "end_time": "2019-06-16T15:10:16.488283Z",
     "start_time": "2019-06-16T15:10:16.481913Z"
    }
   },
   "outputs": [
    {
     "data": {
      "text/html": [
       "<div>\n",
       "<style scoped>\n",
       "    .dataframe tbody tr th:only-of-type {\n",
       "        vertical-align: middle;\n",
       "    }\n",
       "\n",
       "    .dataframe tbody tr th {\n",
       "        vertical-align: top;\n",
       "    }\n",
       "\n",
       "    .dataframe thead th {\n",
       "        text-align: right;\n",
       "    }\n",
       "</style>\n",
       "<table border=\"1\" class=\"dataframe\">\n",
       "  <thead>\n",
       "    <tr style=\"text-align: right;\">\n",
       "      <th></th>\n",
       "      <th>gene_name</th>\n",
       "      <th>feature_id</th>\n",
       "      <th>strand</th>\n",
       "      <th>spacer</th>\n",
       "      <th>upstream_on_target_score</th>\n",
       "      <th>downstream_on_target_score</th>\n",
       "      <th>seq_hash</th>\n",
       "    </tr>\n",
       "  </thead>\n",
       "  <tbody>\n",
       "  </tbody>\n",
       "</table>\n",
       "</div>"
      ],
      "text/plain": [
       "Empty DataFrame\n",
       "Columns: [gene_name, feature_id, strand, spacer, upstream_on_target_score, downstream_on_target_score, seq_hash]\n",
       "Index: []"
      ]
     },
     "execution_count": 338,
     "metadata": {},
     "output_type": "execute_result"
    }
   ],
   "source": [
    "delta"
   ]
  },
  {
   "cell_type": "code",
   "execution_count": 318,
   "metadata": {
    "ExecuteTime": {
     "end_time": "2019-06-16T15:00:15.116910Z",
     "start_time": "2019-06-16T15:00:15.111175Z"
    }
   },
   "outputs": [],
   "source": [
    "us_sp100 = us_sp100.rename(index=str, columns={'score': \"on_target_score\"})\n",
    "ds_sp100 = ds_sp100.rename(index=str, columns={'score': \"on_target_score\"})"
   ]
  },
  {
   "cell_type": "code",
   "execution_count": 297,
   "metadata": {
    "ExecuteTime": {
     "end_time": "2019-06-16T14:53:06.605160Z",
     "start_time": "2019-06-16T14:53:06.602264Z"
    }
   },
   "outputs": [],
   "source": [
    "a = b = 0"
   ]
  },
  {
   "cell_type": "code",
   "execution_count": 298,
   "metadata": {
    "ExecuteTime": {
     "end_time": "2019-06-16T14:53:09.840985Z",
     "start_time": "2019-06-16T14:53:09.836946Z"
    }
   },
   "outputs": [
    {
     "data": {
      "text/plain": [
       "'CCCACCCCAAGCCATGTCAGCAAGGGGAAG'"
      ]
     },
     "execution_count": 298,
     "metadata": {},
     "output_type": "execute_result"
    }
   ],
   "source": [
    "us_sp100.loc[str(a), \"spacer\"]"
   ]
  },
  {
   "cell_type": "code",
   "execution_count": 301,
   "metadata": {
    "ExecuteTime": {
     "end_time": "2019-06-16T14:54:04.880035Z",
     "start_time": "2019-06-16T14:54:04.867455Z"
    }
   },
   "outputs": [
    {
     "data": {
      "text/plain": [
       "'TATGAAGACTCTGGAAGACAACCTAGGCAA'"
      ]
     },
     "execution_count": 301,
     "metadata": {},
     "output_type": "execute_result"
    }
   ],
   "source": [
    "ds_sp100.iloc[0,:][\"spacer\"]"
   ]
  },
  {
   "cell_type": "code",
   "execution_count": 304,
   "metadata": {
    "ExecuteTime": {
     "end_time": "2019-06-16T14:55:04.633670Z",
     "start_time": "2019-06-16T14:55:04.627859Z"
    },
    "scrolled": true
   },
   "outputs": [
    {
     "data": {
      "text/plain": [
       "'aaaAgcaCGAGACGGGTTCTATGCCCCACCCCAAGCCATGTCAGCAAGGGGAAGGTTTTAGAGCTATGCTGTTTTGAATGGTCCCAAAACGATAGTTGCCTATGAAGACTCTGGAAGACAACCTAGGCAACGTCTCGTTTTaaaa'"
      ]
     },
     "execution_count": 304,
     "metadata": {},
     "output_type": "execute_result"
    }
   ],
   "source": [
    "a = b = 0\n",
    "\n",
    "bsmbi_arm_5 + right_extra_spacer + us_sp100.iloc[a,][\"spacer\"] + direct_repeat + left_extra_spacer + ds_sp100.iloc[b,][\"spacer\"] + bsmbi_arm_3"
   ]
  },
  {
   "cell_type": "code",
   "execution_count": 339,
   "metadata": {
    "ExecuteTime": {
     "end_time": "2019-06-16T15:10:20.064394Z",
     "start_time": "2019-06-16T15:10:19.996786Z"
    }
   },
   "outputs": [],
   "source": [
    "for _ in gamma:\n",
    "    a, b = _\n",
    "    echo = pd.DataFrame(\n",
    "        {\n",
    "            \"gene_name\": us_sp100[\"gene_name\"]\n",
    "            .drop_duplicates()\n",
    "            .item()\n",
    "            .strip(\"-upstream\"),\n",
    "            \"feature_id\": us_sp100[\"feature_id\"],\n",
    "            \"strand\": us_sp100[\"strand\"],\n",
    "            \"spacer\": bsmbi_arm_5\n",
    "            + right_extra_spacer\n",
    "            + us_sp100.iloc[a,][\"spacer\"]\n",
    "            + direct_repeat\n",
    "            + left_extra_spacer\n",
    "            + ds_sp100.iloc[b,][\"spacer\"]\n",
    "            + bsmbi_arm_3,\n",
    "            \"upstream_on_target_score\": us_sp100.iloc[a, :][\"on_target_score\"],\n",
    "            \"downstream_on_target_score\" : ds_sp100.iloc[b,:][\"on_target_score\"],\n",
    "            #     \"upstream_off_target_score\" : us_sp100.loc[a, \"off_target_score\"],\n",
    "#             \"downstream_off_target_score\": ds_sp100.loc[b, \"off_target_score\"],\n",
    "            \"seq_hash\": -5963481152058671843,\n",
    "            # \"upstream_hash\" = us_sp100.loc[a, \"hash\"],\n",
    "            # \"downstream_hash\" = ds_sp100.loc[b, \"hash\"],\n",
    "        }\n",
    "    )\n",
    "    delta = pd.concat([delta,echo]).drop_duplicates()"
   ]
  },
  {
   "cell_type": "code",
   "execution_count": null,
   "metadata": {},
   "outputs": [],
   "source": []
  }
 ],
 "metadata": {
  "kernelspec": {
   "display_name": "Python 3",
   "language": "python",
   "name": "python3"
  },
  "language_info": {
   "codemirror_mode": {
    "name": "ipython",
    "version": 3
   },
   "file_extension": ".py",
   "mimetype": "text/x-python",
   "name": "python",
   "nbconvert_exporter": "python",
   "pygments_lexer": "ipython3",
   "version": "3.6.8"
  },
  "notify_time": "5",
  "varInspector": {
   "cols": {
    "lenName": 16,
    "lenType": 16,
    "lenVar": 40
   },
   "kernels_config": {
    "python": {
     "delete_cmd_postfix": "",
     "delete_cmd_prefix": "del ",
     "library": "var_list.py",
     "varRefreshCmd": "print(var_dic_list())"
    },
    "r": {
     "delete_cmd_postfix": ") ",
     "delete_cmd_prefix": "rm(",
     "library": "var_list.r",
     "varRefreshCmd": "cat(var_dic_list()) "
    }
   },
   "types_to_exclude": [
    "module",
    "function",
    "builtin_function_or_method",
    "instance",
    "_Feature"
   ],
   "window_display": false
  }
 },
 "nbformat": 4,
 "nbformat_minor": 2
}
