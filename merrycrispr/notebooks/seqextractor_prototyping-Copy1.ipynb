{
 "cells": [
  {
   "cell_type": "code",
   "execution_count": 3,
   "metadata": {
    "ExecuteTime": {
     "end_time": "2019-06-15T19:39:07.113672Z",
     "start_time": "2019-06-15T19:39:07.109606Z"
    }
   },
   "outputs": [
    {
     "name": "stderr",
     "output_type": "stream",
     "text": [
      "UsageError: Cell magic `%%notify` not found.\n"
     ]
    }
   ],
   "source": [
    "import sys\n",
    "\n",
    "import joblib\n",
    "\n",
    "import click\n",
    "import progressbar\n",
    "import pyfaidx\n",
    "import pandas as pd\n",
    "from gtfparse import read_gtf"
   ]
  },
  {
   "cell_type": "code",
   "execution_count": 4,
   "metadata": {
    "ExecuteTime": {
     "end_time": "2019-06-15T19:40:13.522185Z",
     "start_time": "2019-06-15T19:40:13.518841Z"
    }
   },
   "outputs": [],
   "source": [
    "gtffile = \"/Users/milessmith/workspace/ensembl/Homo_sapiens.GRCh38.94.gtf.gz\"\n",
    "fastafile = (\n",
    "    \"/Users/milessmith/workspace/ensembl/Homo_sapiens.GRCh38.dna.primary_assembly.fa\"\n",
    ")\n",
    "feature_type = \"gene\"\n",
    "outfile = \"/Users/milessmith/workspace/merrycrispr/merrycrispr/data/test.fasta\"\n",
    "gene_names = [\"PML\", \"SP100\", \"DAXX\", \"ATRX\", \"SIRT2\", \"ZCCHC14\", \"YWHAH\"]\n",
    "# gene_name = None\n",
    "boundary = 0"
   ]
  },
  {
   "cell_type": "code",
   "execution_count": 5,
   "metadata": {
    "ExecuteTime": {
     "end_time": "2019-06-15T19:41:37.879431Z",
     "start_time": "2019-06-15T19:40:14.249579Z"
    }
   },
   "outputs": [
    {
     "name": "stderr",
     "output_type": "stream",
     "text": [
      "INFO:root:Extracted GTF attributes: ['gene_id', 'gene_version', 'gene_name', 'gene_source', 'gene_biotype', 'transcript_id', 'transcript_version', 'transcript_name', 'transcript_source', 'transcript_biotype', 'tag', 'transcript_support_level', 'exon_number', 'exon_id', 'exon_version', 'protein_id', 'protein_version', 'ccds_id']\n"
     ]
    }
   ],
   "source": [
    "records = read_gtf(gtffile)\n",
    "if gene_name:\n",
    "    records = records[records[\"gene_name\"].isin(gene_names)]\n",
    "if feature_type:\n",
    "    records = records[records[\"feature\"] == feature_type]\n",
    "    records = records[\n",
    "        [\n",
    "            \"seqname\",\n",
    "            \"feature\",\n",
    "            \"start\",\n",
    "            \"end\",\n",
    "            \"strand\",\n",
    "            \"frame\",\n",
    "            \"gene_name\",\n",
    "            f\"{feature_type}_id\",\n",
    "        ]\n",
    "    ].drop_duplicates()\n",
    "else:\n",
    "    records = records[\n",
    "        [\"seqname\", \"feature\", \"start\", \"end\", \"strand\", \"frame\", \"gene_name\"]\n",
    "    ].drop_duplicates()"
   ]
  },
  {
   "cell_type": "code",
   "execution_count": 6,
   "metadata": {
    "ExecuteTime": {
     "end_time": "2019-06-15T19:41:37.926011Z",
     "start_time": "2019-06-15T19:41:37.912531Z"
    }
   },
   "outputs": [
    {
     "data": {
      "text/plain": [
       "seqname                    2\n",
       "feature                 gene\n",
       "start              230415942\n",
       "end                230544090\n",
       "strand                     +\n",
       "frame                      0\n",
       "gene_name              SP100\n",
       "gene_id      ENSG00000067066\n",
       "Name: 435351, dtype: object"
      ]
     },
     "execution_count": 6,
     "metadata": {},
     "output_type": "execute_result"
    }
   ],
   "source": [
    "records.iloc[0,:]"
   ]
  },
  {
   "cell_type": "code",
   "execution_count": 7,
   "metadata": {
    "ExecuteTime": {
     "end_time": "2019-06-15T19:41:37.959766Z",
     "start_time": "2019-06-15T19:41:37.953213Z"
    },
    "scrolled": true
   },
   "outputs": [
    {
     "name": "stdout",
     "output_type": "stream",
     "text": [
      "7 total records found.\n",
      "Loading the sequences in /Users/milessmith/workspace/ensembl/Homo_sapiens.GRCh38.dna.primary_assembly.fa.  Note: if this is the first time opening this file, it may take a few moments as an index is built.\n",
      "Finished loading /Users/milessmith/workspace/ensembl/Homo_sapiens.GRCh38.dna.primary_assembly.fa\n"
     ]
    }
   ],
   "source": [
    "print(f\"{len(records)} total records found.\")\n",
    "\n",
    "print(\n",
    "    f\"Loading the sequences in {fastafile}.  \"\n",
    "    f\"Note: if this is the first time opening this file, \"\n",
    "    \"it may take a few moments as an index is built.\"\n",
    ")\n",
    "sequences = pyfaidx.Fasta(fastafile)\n",
    "print(f\"Finished loading {fastafile}\")"
   ]
  },
  {
   "cell_type": "code",
   "execution_count": 8,
   "metadata": {
    "ExecuteTime": {
     "end_time": "2019-06-15T19:41:37.989815Z",
     "start_time": "2019-06-15T19:41:37.982378Z"
    }
   },
   "outputs": [],
   "source": [
    "records[\"seq_hash\"] = records.apply(lambda x: hash(tuple(x)), axis=1)"
   ]
  },
  {
   "cell_type": "code",
   "execution_count": 9,
   "metadata": {
    "ExecuteTime": {
     "end_time": "2019-06-15T19:41:38.020569Z",
     "start_time": "2019-06-15T19:41:38.015242Z"
    }
   },
   "outputs": [
    {
     "data": {
      "text/plain": [
       "(230415942, 230544090)"
      ]
     },
     "execution_count": 9,
     "metadata": {},
     "output_type": "execute_result"
    }
   ],
   "source": [
    "records.iloc[0].start, records.iloc[0].end"
   ]
  },
  {
   "cell_type": "code",
   "execution_count": 10,
   "metadata": {
    "ExecuteTime": {
     "end_time": "2019-06-15T19:41:38.056352Z",
     "start_time": "2019-06-15T19:41:38.050286Z"
    }
   },
   "outputs": [
    {
     "data": {
      "text/plain": [
       ">15:230415942-230415941"
      ]
     },
     "execution_count": 10,
     "metadata": {},
     "output_type": "execute_result"
    }
   ],
   "source": [
    "sequences.get_seq(\"15\", records.iloc[0].start, records.iloc[0].end, rc=False)"
   ]
  },
  {
   "cell_type": "code",
   "execution_count": 11,
   "metadata": {
    "ExecuteTime": {
     "end_time": "2019-06-15T19:41:38.099420Z",
     "start_time": "2019-06-15T19:41:38.093490Z"
    }
   },
   "outputs": [
    {
     "data": {
      "text/plain": [
       "pyfaidx.Sequence"
      ]
     },
     "execution_count": 11,
     "metadata": {},
     "output_type": "execute_result"
    }
   ],
   "source": [
    "rec1_sequence = sequences.get_seq(\"15\", records.iloc[0].start, records.iloc[0].end)\n",
    "type(rec1_sequence)"
   ]
  },
  {
   "cell_type": "code",
   "execution_count": 12,
   "metadata": {
    "ExecuteTime": {
     "end_time": "2019-06-15T19:41:38.137186Z",
     "start_time": "2019-06-15T19:41:38.133677Z"
    }
   },
   "outputs": [],
   "source": [
    "boundary = 100"
   ]
  },
  {
   "cell_type": "code",
   "execution_count": 13,
   "metadata": {
    "ExecuteTime": {
     "end_time": "2019-06-15T19:42:00.891096Z",
     "start_time": "2019-06-15T19:42:00.873416Z"
    }
   },
   "outputs": [
    {
     "data": {
      "text/html": [
       "<div>\n",
       "<style scoped>\n",
       "    .dataframe tbody tr th:only-of-type {\n",
       "        vertical-align: middle;\n",
       "    }\n",
       "\n",
       "    .dataframe tbody tr th {\n",
       "        vertical-align: top;\n",
       "    }\n",
       "\n",
       "    .dataframe thead th {\n",
       "        text-align: right;\n",
       "    }\n",
       "</style>\n",
       "<table border=\"1\" class=\"dataframe\">\n",
       "  <thead>\n",
       "    <tr style=\"text-align: right;\">\n",
       "      <th></th>\n",
       "      <th>seqname</th>\n",
       "      <th>feature</th>\n",
       "      <th>start</th>\n",
       "      <th>end</th>\n",
       "      <th>strand</th>\n",
       "      <th>frame</th>\n",
       "      <th>gene_name</th>\n",
       "      <th>gene_id</th>\n",
       "      <th>seq_hash</th>\n",
       "    </tr>\n",
       "  </thead>\n",
       "  <tbody>\n",
       "    <tr>\n",
       "      <th>435351</th>\n",
       "      <td>2</td>\n",
       "      <td>gene</td>\n",
       "      <td>230415942</td>\n",
       "      <td>230544090</td>\n",
       "      <td>+</td>\n",
       "      <td>0</td>\n",
       "      <td>SP100</td>\n",
       "      <td>ENSG00000067066</td>\n",
       "      <td>5768689499246979043</td>\n",
       "    </tr>\n",
       "    <tr>\n",
       "      <th>891536</th>\n",
       "      <td>6</td>\n",
       "      <td>gene</td>\n",
       "      <td>33318558</td>\n",
       "      <td>33323016</td>\n",
       "      <td>-</td>\n",
       "      <td>0</td>\n",
       "      <td>DAXX</td>\n",
       "      <td>ENSG00000204209</td>\n",
       "      <td>2049764221906376783</td>\n",
       "    </tr>\n",
       "    <tr>\n",
       "      <th>1158352</th>\n",
       "      <td>X</td>\n",
       "      <td>gene</td>\n",
       "      <td>77504878</td>\n",
       "      <td>77786233</td>\n",
       "      <td>-</td>\n",
       "      <td>0</td>\n",
       "      <td>ATRX</td>\n",
       "      <td>ENSG00000085224</td>\n",
       "      <td>8686888483982609846</td>\n",
       "    </tr>\n",
       "    <tr>\n",
       "      <th>2027769</th>\n",
       "      <td>15</td>\n",
       "      <td>gene</td>\n",
       "      <td>73994673</td>\n",
       "      <td>74047812</td>\n",
       "      <td>+</td>\n",
       "      <td>0</td>\n",
       "      <td>PML</td>\n",
       "      <td>ENSG00000140464</td>\n",
       "      <td>-1895779415027010472</td>\n",
       "    </tr>\n",
       "    <tr>\n",
       "      <th>2181459</th>\n",
       "      <td>16</td>\n",
       "      <td>gene</td>\n",
       "      <td>87406246</td>\n",
       "      <td>87492045</td>\n",
       "      <td>-</td>\n",
       "      <td>0</td>\n",
       "      <td>ZCCHC14</td>\n",
       "      <td>ENSG00000140948</td>\n",
       "      <td>8858870127203431252</td>\n",
       "    </tr>\n",
       "    <tr>\n",
       "      <th>2570565</th>\n",
       "      <td>19</td>\n",
       "      <td>gene</td>\n",
       "      <td>38878555</td>\n",
       "      <td>38899862</td>\n",
       "      <td>-</td>\n",
       "      <td>0</td>\n",
       "      <td>SIRT2</td>\n",
       "      <td>ENSG00000068903</td>\n",
       "      <td>2076860975559530353</td>\n",
       "    </tr>\n",
       "    <tr>\n",
       "      <th>2679693</th>\n",
       "      <td>22</td>\n",
       "      <td>gene</td>\n",
       "      <td>31944461</td>\n",
       "      <td>31957603</td>\n",
       "      <td>+</td>\n",
       "      <td>0</td>\n",
       "      <td>YWHAH</td>\n",
       "      <td>ENSG00000128245</td>\n",
       "      <td>5053097926184016736</td>\n",
       "    </tr>\n",
       "  </tbody>\n",
       "</table>\n",
       "</div>"
      ],
      "text/plain": [
       "        seqname feature      start        end strand frame gene_name  \\\n",
       "435351        2    gene  230415942  230544090      +     0     SP100   \n",
       "891536        6    gene   33318558   33323016      -     0      DAXX   \n",
       "1158352       X    gene   77504878   77786233      -     0      ATRX   \n",
       "2027769      15    gene   73994673   74047812      +     0       PML   \n",
       "2181459      16    gene   87406246   87492045      -     0   ZCCHC14   \n",
       "2570565      19    gene   38878555   38899862      -     0     SIRT2   \n",
       "2679693      22    gene   31944461   31957603      +     0     YWHAH   \n",
       "\n",
       "                 gene_id             seq_hash  \n",
       "435351   ENSG00000067066  5768689499246979043  \n",
       "891536   ENSG00000204209  2049764221906376783  \n",
       "1158352  ENSG00000085224  8686888483982609846  \n",
       "2027769  ENSG00000140464 -1895779415027010472  \n",
       "2181459  ENSG00000140948  8858870127203431252  \n",
       "2570565  ENSG00000068903  2076860975559530353  \n",
       "2679693  ENSG00000128245  5053097926184016736  "
      ]
     },
     "execution_count": 13,
     "metadata": {},
     "output_type": "execute_result"
    }
   ],
   "source": [
    "records"
   ]
  },
  {
   "cell_type": "code",
   "execution_count": 112,
   "metadata": {
    "ExecuteTime": {
     "end_time": "2019-06-15T20:28:12.758932Z",
     "start_time": "2019-06-15T20:28:12.750523Z"
    }
   },
   "outputs": [],
   "source": [
    "def split_records(rec: pd.DataFrame, padding: int) -> pd.DataFrame:\n",
    "    \"\"\"\n",
    "\n",
    "    :param rec: Pandas DataFrame corresponding to all features of interest.\n",
    "    :param padding: The amount of space on either size of the feature to return.\n",
    "    :return: A new Pandas DataFrame with twice as many rows as the input, with \n",
    "        each row corresponding to an upstream and downstream window of sequence\n",
    "    \"\"\"\n",
    "\n",
    "    rec_pos_upstream = rec[rec[\"strand\"] == \"+\"].reset_index()\n",
    "    rec_pos_downstream = rec[rec[\"strand\"] == \"+\"].reset_index()\n",
    "    rec_neg_upstream = rec[rec[\"strand\"] == \"-\"].reset_index()\n",
    "    rec_neg_downstream = rec[rec[\"strand\"] == \"-\"].reset_index()\n",
    "\n",
    "    rec_pos_upstream[\"end\"] = rec_pos_upstream[\"start\"]\n",
    "    rec_pos_upstream[\"start\"] -= padding\n",
    "    rec_pos_upstream[\"gene_name\"] += \"-upstream\"\n",
    "    # we cannot use an underscore because that is used later in the pyfaidx.Sequence objects' fancy name\n",
    "    rec_pos_downstream[\"start\"] = rec_pos_downstream[\"end\"]\n",
    "    rec_pos_downstream[\"end\"] += padding\n",
    "    rec_pos_downstream[\"gene_name\"] += \"-downstream\"\n",
    "\n",
    "    rec_neg_downstream[\"end\"] = rec_neg_downstream[\"start\"]\n",
    "    rec_neg_downstream[\"start\"] -= padding\n",
    "    rec_neg_downstream[\"gene_name\"] += \"-downstream\"\n",
    "    # we cannot use an underscore because that is used later in the pyfaidx.Sequence objects' fancy name\n",
    "    rec_neg_upstream[\"start\"] = rec_neg_upstream[\"end\"]\n",
    "    rec_neg_upstream[\"end\"] += padding\n",
    "    rec_neg_upstream[\"gene_name\"] += \"-upstream\"\n",
    "\n",
    "    return pd.concat(\n",
    "        [rec_pos_upstream, rec_pos_downstream, rec_neg_upstream, rec_neg_downstream]\n",
    "    ).reset_index()"
   ]
  },
  {
   "cell_type": "code",
   "execution_count": 113,
   "metadata": {
    "ExecuteTime": {
     "end_time": "2019-06-15T20:28:15.407202Z",
     "start_time": "2019-06-15T20:28:15.381014Z"
    }
   },
   "outputs": [],
   "source": [
    "records2 = split_records(rec=records, padding=100)"
   ]
  },
  {
   "cell_type": "code",
   "execution_count": 114,
   "metadata": {
    "ExecuteTime": {
     "end_time": "2019-06-15T20:28:16.098018Z",
     "start_time": "2019-06-15T20:28:16.080734Z"
    }
   },
   "outputs": [
    {
     "data": {
      "text/html": [
       "<div>\n",
       "<style scoped>\n",
       "    .dataframe tbody tr th:only-of-type {\n",
       "        vertical-align: middle;\n",
       "    }\n",
       "\n",
       "    .dataframe tbody tr th {\n",
       "        vertical-align: top;\n",
       "    }\n",
       "\n",
       "    .dataframe thead th {\n",
       "        text-align: right;\n",
       "    }\n",
       "</style>\n",
       "<table border=\"1\" class=\"dataframe\">\n",
       "  <thead>\n",
       "    <tr style=\"text-align: right;\">\n",
       "      <th></th>\n",
       "      <th>level_0</th>\n",
       "      <th>index</th>\n",
       "      <th>seqname</th>\n",
       "      <th>feature</th>\n",
       "      <th>start</th>\n",
       "      <th>end</th>\n",
       "      <th>strand</th>\n",
       "      <th>frame</th>\n",
       "      <th>gene_name</th>\n",
       "      <th>gene_id</th>\n",
       "      <th>seq_hash</th>\n",
       "    </tr>\n",
       "  </thead>\n",
       "  <tbody>\n",
       "    <tr>\n",
       "      <th>0</th>\n",
       "      <td>0</td>\n",
       "      <td>435351</td>\n",
       "      <td>2</td>\n",
       "      <td>gene</td>\n",
       "      <td>230415842</td>\n",
       "      <td>230415942</td>\n",
       "      <td>+</td>\n",
       "      <td>0</td>\n",
       "      <td>SP100-upstream</td>\n",
       "      <td>ENSG00000067066</td>\n",
       "      <td>5768689499246979043</td>\n",
       "    </tr>\n",
       "    <tr>\n",
       "      <th>1</th>\n",
       "      <td>1</td>\n",
       "      <td>2027769</td>\n",
       "      <td>15</td>\n",
       "      <td>gene</td>\n",
       "      <td>73994573</td>\n",
       "      <td>73994673</td>\n",
       "      <td>+</td>\n",
       "      <td>0</td>\n",
       "      <td>PML-upstream</td>\n",
       "      <td>ENSG00000140464</td>\n",
       "      <td>-1895779415027010472</td>\n",
       "    </tr>\n",
       "    <tr>\n",
       "      <th>2</th>\n",
       "      <td>2</td>\n",
       "      <td>2679693</td>\n",
       "      <td>22</td>\n",
       "      <td>gene</td>\n",
       "      <td>31944361</td>\n",
       "      <td>31944461</td>\n",
       "      <td>+</td>\n",
       "      <td>0</td>\n",
       "      <td>YWHAH-upstream</td>\n",
       "      <td>ENSG00000128245</td>\n",
       "      <td>5053097926184016736</td>\n",
       "    </tr>\n",
       "    <tr>\n",
       "      <th>3</th>\n",
       "      <td>0</td>\n",
       "      <td>435351</td>\n",
       "      <td>2</td>\n",
       "      <td>gene</td>\n",
       "      <td>230544090</td>\n",
       "      <td>230544190</td>\n",
       "      <td>+</td>\n",
       "      <td>0</td>\n",
       "      <td>SP100-downstream</td>\n",
       "      <td>ENSG00000067066</td>\n",
       "      <td>5768689499246979043</td>\n",
       "    </tr>\n",
       "    <tr>\n",
       "      <th>4</th>\n",
       "      <td>1</td>\n",
       "      <td>2027769</td>\n",
       "      <td>15</td>\n",
       "      <td>gene</td>\n",
       "      <td>74047812</td>\n",
       "      <td>74047912</td>\n",
       "      <td>+</td>\n",
       "      <td>0</td>\n",
       "      <td>PML-downstream</td>\n",
       "      <td>ENSG00000140464</td>\n",
       "      <td>-1895779415027010472</td>\n",
       "    </tr>\n",
       "    <tr>\n",
       "      <th>5</th>\n",
       "      <td>2</td>\n",
       "      <td>2679693</td>\n",
       "      <td>22</td>\n",
       "      <td>gene</td>\n",
       "      <td>31957603</td>\n",
       "      <td>31957703</td>\n",
       "      <td>+</td>\n",
       "      <td>0</td>\n",
       "      <td>YWHAH-downstream</td>\n",
       "      <td>ENSG00000128245</td>\n",
       "      <td>5053097926184016736</td>\n",
       "    </tr>\n",
       "    <tr>\n",
       "      <th>6</th>\n",
       "      <td>0</td>\n",
       "      <td>891536</td>\n",
       "      <td>6</td>\n",
       "      <td>gene</td>\n",
       "      <td>33323016</td>\n",
       "      <td>33323116</td>\n",
       "      <td>-</td>\n",
       "      <td>0</td>\n",
       "      <td>DAXX-upstream</td>\n",
       "      <td>ENSG00000204209</td>\n",
       "      <td>2049764221906376783</td>\n",
       "    </tr>\n",
       "    <tr>\n",
       "      <th>7</th>\n",
       "      <td>1</td>\n",
       "      <td>1158352</td>\n",
       "      <td>X</td>\n",
       "      <td>gene</td>\n",
       "      <td>77786233</td>\n",
       "      <td>77786333</td>\n",
       "      <td>-</td>\n",
       "      <td>0</td>\n",
       "      <td>ATRX-upstream</td>\n",
       "      <td>ENSG00000085224</td>\n",
       "      <td>8686888483982609846</td>\n",
       "    </tr>\n",
       "    <tr>\n",
       "      <th>8</th>\n",
       "      <td>2</td>\n",
       "      <td>2181459</td>\n",
       "      <td>16</td>\n",
       "      <td>gene</td>\n",
       "      <td>87492045</td>\n",
       "      <td>87492145</td>\n",
       "      <td>-</td>\n",
       "      <td>0</td>\n",
       "      <td>ZCCHC14-upstream</td>\n",
       "      <td>ENSG00000140948</td>\n",
       "      <td>8858870127203431252</td>\n",
       "    </tr>\n",
       "    <tr>\n",
       "      <th>9</th>\n",
       "      <td>3</td>\n",
       "      <td>2570565</td>\n",
       "      <td>19</td>\n",
       "      <td>gene</td>\n",
       "      <td>38899862</td>\n",
       "      <td>38899962</td>\n",
       "      <td>-</td>\n",
       "      <td>0</td>\n",
       "      <td>SIRT2-upstream</td>\n",
       "      <td>ENSG00000068903</td>\n",
       "      <td>2076860975559530353</td>\n",
       "    </tr>\n",
       "    <tr>\n",
       "      <th>10</th>\n",
       "      <td>0</td>\n",
       "      <td>891536</td>\n",
       "      <td>6</td>\n",
       "      <td>gene</td>\n",
       "      <td>33318458</td>\n",
       "      <td>33318558</td>\n",
       "      <td>-</td>\n",
       "      <td>0</td>\n",
       "      <td>DAXX-downstream</td>\n",
       "      <td>ENSG00000204209</td>\n",
       "      <td>2049764221906376783</td>\n",
       "    </tr>\n",
       "    <tr>\n",
       "      <th>11</th>\n",
       "      <td>1</td>\n",
       "      <td>1158352</td>\n",
       "      <td>X</td>\n",
       "      <td>gene</td>\n",
       "      <td>77504778</td>\n",
       "      <td>77504878</td>\n",
       "      <td>-</td>\n",
       "      <td>0</td>\n",
       "      <td>ATRX-downstream</td>\n",
       "      <td>ENSG00000085224</td>\n",
       "      <td>8686888483982609846</td>\n",
       "    </tr>\n",
       "    <tr>\n",
       "      <th>12</th>\n",
       "      <td>2</td>\n",
       "      <td>2181459</td>\n",
       "      <td>16</td>\n",
       "      <td>gene</td>\n",
       "      <td>87406146</td>\n",
       "      <td>87406246</td>\n",
       "      <td>-</td>\n",
       "      <td>0</td>\n",
       "      <td>ZCCHC14-downstream</td>\n",
       "      <td>ENSG00000140948</td>\n",
       "      <td>8858870127203431252</td>\n",
       "    </tr>\n",
       "    <tr>\n",
       "      <th>13</th>\n",
       "      <td>3</td>\n",
       "      <td>2570565</td>\n",
       "      <td>19</td>\n",
       "      <td>gene</td>\n",
       "      <td>38878455</td>\n",
       "      <td>38878555</td>\n",
       "      <td>-</td>\n",
       "      <td>0</td>\n",
       "      <td>SIRT2-downstream</td>\n",
       "      <td>ENSG00000068903</td>\n",
       "      <td>2076860975559530353</td>\n",
       "    </tr>\n",
       "  </tbody>\n",
       "</table>\n",
       "</div>"
      ],
      "text/plain": [
       "    level_0    index seqname feature      start        end strand frame  \\\n",
       "0         0   435351       2    gene  230415842  230415942      +     0   \n",
       "1         1  2027769      15    gene   73994573   73994673      +     0   \n",
       "2         2  2679693      22    gene   31944361   31944461      +     0   \n",
       "3         0   435351       2    gene  230544090  230544190      +     0   \n",
       "4         1  2027769      15    gene   74047812   74047912      +     0   \n",
       "5         2  2679693      22    gene   31957603   31957703      +     0   \n",
       "6         0   891536       6    gene   33323016   33323116      -     0   \n",
       "7         1  1158352       X    gene   77786233   77786333      -     0   \n",
       "8         2  2181459      16    gene   87492045   87492145      -     0   \n",
       "9         3  2570565      19    gene   38899862   38899962      -     0   \n",
       "10        0   891536       6    gene   33318458   33318558      -     0   \n",
       "11        1  1158352       X    gene   77504778   77504878      -     0   \n",
       "12        2  2181459      16    gene   87406146   87406246      -     0   \n",
       "13        3  2570565      19    gene   38878455   38878555      -     0   \n",
       "\n",
       "             gene_name          gene_id             seq_hash  \n",
       "0       SP100-upstream  ENSG00000067066  5768689499246979043  \n",
       "1         PML-upstream  ENSG00000140464 -1895779415027010472  \n",
       "2       YWHAH-upstream  ENSG00000128245  5053097926184016736  \n",
       "3     SP100-downstream  ENSG00000067066  5768689499246979043  \n",
       "4       PML-downstream  ENSG00000140464 -1895779415027010472  \n",
       "5     YWHAH-downstream  ENSG00000128245  5053097926184016736  \n",
       "6        DAXX-upstream  ENSG00000204209  2049764221906376783  \n",
       "7        ATRX-upstream  ENSG00000085224  8686888483982609846  \n",
       "8     ZCCHC14-upstream  ENSG00000140948  8858870127203431252  \n",
       "9       SIRT2-upstream  ENSG00000068903  2076860975559530353  \n",
       "10     DAXX-downstream  ENSG00000204209  2049764221906376783  \n",
       "11     ATRX-downstream  ENSG00000085224  8686888483982609846  \n",
       "12  ZCCHC14-downstream  ENSG00000140948  8858870127203431252  \n",
       "13    SIRT2-downstream  ENSG00000068903  2076860975559530353  "
      ]
     },
     "execution_count": 114,
     "metadata": {},
     "output_type": "execute_result"
    }
   ],
   "source": [
    "records2"
   ]
  },
  {
   "cell_type": "code",
   "execution_count": 19,
   "metadata": {
    "ExecuteTime": {
     "end_time": "2019-06-15T19:43:14.997286Z",
     "start_time": "2019-06-15T19:43:14.982674Z"
    }
   },
   "outputs": [
    {
     "data": {
      "text/html": [
       "<div>\n",
       "<style scoped>\n",
       "    .dataframe tbody tr th:only-of-type {\n",
       "        vertical-align: middle;\n",
       "    }\n",
       "\n",
       "    .dataframe tbody tr th {\n",
       "        vertical-align: top;\n",
       "    }\n",
       "\n",
       "    .dataframe thead th {\n",
       "        text-align: right;\n",
       "    }\n",
       "</style>\n",
       "<table border=\"1\" class=\"dataframe\">\n",
       "  <thead>\n",
       "    <tr style=\"text-align: right;\">\n",
       "      <th></th>\n",
       "      <th>seqname</th>\n",
       "      <th>feature</th>\n",
       "      <th>start</th>\n",
       "      <th>end</th>\n",
       "      <th>strand</th>\n",
       "      <th>frame</th>\n",
       "      <th>gene_name</th>\n",
       "      <th>gene_id</th>\n",
       "      <th>seq_hash</th>\n",
       "    </tr>\n",
       "  </thead>\n",
       "  <tbody>\n",
       "    <tr>\n",
       "      <th>435351</th>\n",
       "      <td>2</td>\n",
       "      <td>gene</td>\n",
       "      <td>230415942</td>\n",
       "      <td>230544090</td>\n",
       "      <td>+</td>\n",
       "      <td>0</td>\n",
       "      <td>SP100</td>\n",
       "      <td>ENSG00000067066</td>\n",
       "      <td>5768689499246979043</td>\n",
       "    </tr>\n",
       "    <tr>\n",
       "      <th>891536</th>\n",
       "      <td>6</td>\n",
       "      <td>gene</td>\n",
       "      <td>33318558</td>\n",
       "      <td>33323016</td>\n",
       "      <td>-</td>\n",
       "      <td>0</td>\n",
       "      <td>DAXX</td>\n",
       "      <td>ENSG00000204209</td>\n",
       "      <td>2049764221906376783</td>\n",
       "    </tr>\n",
       "    <tr>\n",
       "      <th>1158352</th>\n",
       "      <td>X</td>\n",
       "      <td>gene</td>\n",
       "      <td>77504878</td>\n",
       "      <td>77786233</td>\n",
       "      <td>-</td>\n",
       "      <td>0</td>\n",
       "      <td>ATRX</td>\n",
       "      <td>ENSG00000085224</td>\n",
       "      <td>8686888483982609846</td>\n",
       "    </tr>\n",
       "    <tr>\n",
       "      <th>2027769</th>\n",
       "      <td>15</td>\n",
       "      <td>gene</td>\n",
       "      <td>73994673</td>\n",
       "      <td>74047812</td>\n",
       "      <td>+</td>\n",
       "      <td>0</td>\n",
       "      <td>PML</td>\n",
       "      <td>ENSG00000140464</td>\n",
       "      <td>-1895779415027010472</td>\n",
       "    </tr>\n",
       "    <tr>\n",
       "      <th>2181459</th>\n",
       "      <td>16</td>\n",
       "      <td>gene</td>\n",
       "      <td>87406246</td>\n",
       "      <td>87492045</td>\n",
       "      <td>-</td>\n",
       "      <td>0</td>\n",
       "      <td>ZCCHC14</td>\n",
       "      <td>ENSG00000140948</td>\n",
       "      <td>8858870127203431252</td>\n",
       "    </tr>\n",
       "    <tr>\n",
       "      <th>2570565</th>\n",
       "      <td>19</td>\n",
       "      <td>gene</td>\n",
       "      <td>38878555</td>\n",
       "      <td>38899862</td>\n",
       "      <td>-</td>\n",
       "      <td>0</td>\n",
       "      <td>SIRT2</td>\n",
       "      <td>ENSG00000068903</td>\n",
       "      <td>2076860975559530353</td>\n",
       "    </tr>\n",
       "    <tr>\n",
       "      <th>2679693</th>\n",
       "      <td>22</td>\n",
       "      <td>gene</td>\n",
       "      <td>31944461</td>\n",
       "      <td>31957603</td>\n",
       "      <td>+</td>\n",
       "      <td>0</td>\n",
       "      <td>YWHAH</td>\n",
       "      <td>ENSG00000128245</td>\n",
       "      <td>5053097926184016736</td>\n",
       "    </tr>\n",
       "  </tbody>\n",
       "</table>\n",
       "</div>"
      ],
      "text/plain": [
       "        seqname feature      start        end strand frame gene_name  \\\n",
       "435351        2    gene  230415942  230544090      +     0     SP100   \n",
       "891536        6    gene   33318558   33323016      -     0      DAXX   \n",
       "1158352       X    gene   77504878   77786233      -     0      ATRX   \n",
       "2027769      15    gene   73994673   74047812      +     0       PML   \n",
       "2181459      16    gene   87406246   87492045      -     0   ZCCHC14   \n",
       "2570565      19    gene   38878555   38899862      -     0     SIRT2   \n",
       "2679693      22    gene   31944461   31957603      +     0     YWHAH   \n",
       "\n",
       "                 gene_id             seq_hash  \n",
       "435351   ENSG00000067066  5768689499246979043  \n",
       "891536   ENSG00000204209  2049764221906376783  \n",
       "1158352  ENSG00000085224  8686888483982609846  \n",
       "2027769  ENSG00000140464 -1895779415027010472  \n",
       "2181459  ENSG00000140948  8858870127203431252  \n",
       "2570565  ENSG00000068903  2076860975559530353  \n",
       "2679693  ENSG00000128245  5053097926184016736  "
      ]
     },
     "execution_count": 19,
     "metadata": {},
     "output_type": "execute_result"
    }
   ],
   "source": [
    "records"
   ]
  },
  {
   "cell_type": "code",
   "execution_count": 115,
   "metadata": {
    "ExecuteTime": {
     "end_time": "2019-06-15T20:28:24.554605Z",
     "start_time": "2019-06-15T20:28:24.548189Z"
    },
    "code_folding": []
   },
   "outputs": [],
   "source": [
    "def match_seq(rec: pd.Series, sequences: pyfaidx.Fasta) -> pyfaidx.Sequence:\n",
    "    \"\"\"\n",
    "\n",
    "    :param rec:\n",
    "    :param sequences:\n",
    "    :return:\n",
    "    \"\"\"\n",
    "\n",
    "    try:\n",
    "        if rec[\"strand\"] == \"-\":\n",
    "            rev = True\n",
    "        else:\n",
    "            rev = False\n",
    "        seq = pyfaidx.Sequence(\n",
    "            name=f\"{rec['gene_name']}_\"\n",
    "            f\"{rec['feature']}_\"\n",
    "            f\"{rec['strand']}_\"\n",
    "            f\"{rec['start']}_\"\n",
    "            f\"{rec['end']}_\"\n",
    "            f\"{rec['seq_hash']}\",\n",
    "            seq=sequences.get_seq(\n",
    "                name=rec[\"seqname\"], start=rec[\"start\"], end=rec[\"end\"], rc=rev\n",
    "            ).seq,\n",
    "        )\n",
    "        return seq\n",
    "    except ValueError:\n",
    "        print(\n",
    "            f\"problem with {rec['gene_name']} {rec['start']} \"\n",
    "            f\"{rec['end']} {rec['seqname']} {rec['strand']}\"\n",
    "        )"
   ]
  },
  {
   "cell_type": "code",
   "execution_count": 116,
   "metadata": {
    "ExecuteTime": {
     "end_time": "2019-06-15T20:28:25.538190Z",
     "start_time": "2019-06-15T20:28:25.534007Z"
    }
   },
   "outputs": [
    {
     "data": {
      "text/plain": [
       "RangeIndex(start=0, stop=14, step=1)"
      ]
     },
     "execution_count": 116,
     "metadata": {},
     "output_type": "execute_result"
    }
   ],
   "source": [
    "records2.index"
   ]
  },
  {
   "cell_type": "code",
   "execution_count": 117,
   "metadata": {
    "ExecuteTime": {
     "end_time": "2019-06-15T20:28:26.948225Z",
     "start_time": "2019-06-15T20:28:26.940170Z"
    }
   },
   "outputs": [],
   "source": [
    "alpha = [_ for _ in [pd.Series(records2.loc[_,:]) for _ in records2.index]][0]"
   ]
  },
  {
   "cell_type": "code",
   "execution_count": 118,
   "metadata": {
    "ExecuteTime": {
     "end_time": "2019-06-15T20:28:27.396914Z",
     "start_time": "2019-06-15T20:28:27.393347Z"
    }
   },
   "outputs": [],
   "source": [
    "rev = True if alpha['strand'] == \"-\" else False"
   ]
  },
  {
   "cell_type": "code",
   "execution_count": 119,
   "metadata": {
    "ExecuteTime": {
     "end_time": "2019-06-15T20:28:27.922628Z",
     "start_time": "2019-06-15T20:28:27.918222Z"
    }
   },
   "outputs": [],
   "source": [
    "seq = pyfaidx.Sequence(\n",
    "            name=f\"{alpha['gene_name']}_\"\n",
    "            f\"{alpha['feature']}_\"\n",
    "            f\"{alpha['strand']}_\"\n",
    "            f\"{alpha['start']}_\"\n",
    "            f\"{alpha['end']}_\"\n",
    "            f\"{alpha['seq_hash']}\",\n",
    "            seq=sequences.get_seq(\n",
    "                name=alpha[\"seqname\"], start=alpha[\"start\"], end=alpha[\"end\"], rc=rev\n",
    "            ).seq)"
   ]
  },
  {
   "cell_type": "code",
   "execution_count": 120,
   "metadata": {
    "ExecuteTime": {
     "end_time": "2019-06-15T20:28:28.496824Z",
     "start_time": "2019-06-15T20:28:28.492716Z"
    }
   },
   "outputs": [
    {
     "data": {
      "text/plain": [
       ">SP100-upstream_gene_+_230415842_230415942_5768689499246979043\n",
       "ACATGGAGTTTCCCCCCCAACTCCCATGTAAACTATGCCCCCTCTTAGAGGGCAGAGCAGCTAAGGACAATTTTGTTTCAAGGACATTTTTTTTGGCTGTG"
      ]
     },
     "execution_count": 120,
     "metadata": {},
     "output_type": "execute_result"
    }
   ],
   "source": [
    "seq"
   ]
  },
  {
   "cell_type": "code",
   "execution_count": 121,
   "metadata": {
    "ExecuteTime": {
     "end_time": "2019-06-15T20:28:29.579564Z",
     "start_time": "2019-06-15T20:28:29.569579Z"
    },
    "scrolled": true
   },
   "outputs": [],
   "source": [
    "final_list = [match_seq(_, sequences) for _ in [pd.Series(records2.loc[_,:]) for _ in records2.index]]"
   ]
  },
  {
   "cell_type": "code",
   "execution_count": 122,
   "metadata": {
    "ExecuteTime": {
     "end_time": "2019-06-15T20:28:32.474074Z",
     "start_time": "2019-06-15T20:28:32.469848Z"
    }
   },
   "outputs": [
    {
     "data": {
      "text/plain": [
       ">SP100-upstream_gene_+_230415842_230415942_5768689499246979043\n",
       "ACATGGAGTTTCCCCCCCAACTCCCATGTAAACTATGCCCCCTCTTAGAGGGCAGAGCAGCTAAGGACAATTTTGTTTCAAGGACATTTTTTTTGGCTGTG"
      ]
     },
     "execution_count": 122,
     "metadata": {},
     "output_type": "execute_result"
    }
   ],
   "source": [
    "final_list[0]"
   ]
  },
  {
   "cell_type": "code",
   "execution_count": 145,
   "metadata": {
    "ExecuteTime": {
     "end_time": "2019-06-08T20:39:16.820794Z",
     "start_time": "2019-06-08T20:39:16.815255Z"
    }
   },
   "outputs": [
    {
     "data": {
      "text/plain": [
       ">PML_gene_+_73994973_74047812\n",
       "GCTTTGTTGGTTTGCTGTGGTGGGGAGAGGCGGGAAGAGAGGGTCTAACGGAGGATTTGGTCAAGTACCCTAGAGAGTGACACAAAGCGGGAAGTCCAGACACCAGGGTCCTGACCGTCTCGGGTGGGGCAGGGAAGGGAGGGTAGGATAGAGTAGAAAAGAGGACACGGAGGAGTTGGGGCGGCCTCGCTGGGCTGCGGTTTCTCCACTGAGCAGTTGGGCAAGGTGAGAAGGGTCAGTGGCCTCCGGGCCTGGGCCCTTCCGCCCACCCTCGAGCCCTGCCTCAACTTTGCCTCAGATGCAGGACTTCAGATTAGGGAGGATGGAGGTAGTACCCCTGTTGCGCTGGCCTGGAGCCAGGGGCATGTCCCAGGCACGGCAAAACTAAAACCAACTTCCCAGATCCGAGGTGAGAAACTGGCTCAGACTGAAGAGGTATCTTTGCCAAGGCCTCCCAGCTCATGTGGTTTCTGCTTAAGGAAGCCTCCCCAACGAACCCTTCTCTTGCCACACCTTTCCTGCCCACCTCCCACCTCCCCCGACAAAGGAACTACTTGGGTTTCTTGCTCTGCTGCCTTTCAGGCCCTTTTACTCCCCTTCATGAAAGTACAGAGGACACCGTATTACAGTAACTTTTATAAACATTATTACAACTAAGAATAACATTACTTAACAATACTAGGTAACATTTATGAGCACTTCAAATGTGCCAGGTACTGTATTAAGCACTTTGGTTTTTTTTTGTTGTTGTTTGTTTGTTTTGCTTTGTTTTTTGTTTGTTTGTTTATCTGTTTGTTTTTGAGACGGAGTCTCACACTGTCGCCCAGGCTGGAGTGCAATGGTGCGATCTCGGCTCACTGCAACCTCCTCCTTCCGGGTTCACGCCATTCTCCTGCCTCAGCCTCCCGAGTAGCTGGGATTACAGGCCACGCCACCATACCTGGCTATTTTTTATATTTTTAGTAGAGATGGGGTTTCACTATGTTGGCCAGATTGGTCTCTAACTCCTGACCTCGTGATCCACCCACCTCGGCCTCCCAAAGTGCTGGGATTACAGGCATGAGCCACCATGCCCGGCCTGTTTTTGTATTTTACAAAATGTGGTAAAATATACCTAATGGATAAGTTCCTATGTTAACCATTTATAAGTGTACCATTCAGTGGCATTAAGTAGATTCACAATATTGTGTAACCATCACCACCATCTATTTCCAGAACTTTTTCATTACTCCAGAAACTCTGTACTCTTTAAACCATAGGGGAGGGAAAGATGGCTTGCCTCCACCCTTCTAGTTTCCTTGGCTGGGCTATGAATTAAATAGCCTATGAATTAAATAGTCATAAAATAGATTACCAGCGGAAAACCCATATTTAATTACATATGTATACTCAGGAGTCCCACAATATATGAGACTCAAAGAAAGGTCAGATGATTGAAGCCTGTATAACATCCTGAGCTACGGAAAAGAGCTTGGAGCTTCTGGGTGATGGTGATAACACAAGTTATGGGAGGGTGAGGAGAGGAGCTGTTTGGTGAATAGAGGTTGTCTTGCTATGTAGATTAAAAGTTCTTAGATAATAAAAGTTGTCTGGAGCAGCCCTCTTTTAATATAGATCATTTTACTAATGTAGATTTTCTTTTAAGATATAAATGCCTTTCTTTTTTACAAAAGGAGAGCTTTTCAGAGCTATTCCTGTATCAGCAGTTTCTCAGAATAACCAGCTTAAAATATGCCAAAGAAGTATATTTCAAGAGCCTCCTGCAGTCATACTTTGAAGTGGTGTGTCCTGAGCCCCAGTAATGCAATAGCTCCTCATTTTCTCCTTCCCCTAGCCCTTGGTAACTTCTAATCTACCTTCTGTCCCTATGAACTTACTTATTCTAGATATTTCATGTAAGTGGAATTGTTACCAGTAGAGGATCTTGACTGCAAATTGTTCAGGTTCTTGGCATTTTGAACAAAGAATTGGACAAAATGTACAGCAAAGCAAGGAAAGAGTGAAGCAATGAAAGCAGAGATTTATTGAAAATGAAAGTACACCCCACAGGGTGGGAGCGGCTAGAGCAGGGCTCAAGGACCCCAGTTACAGAATCTTCTGGGTTCCAAATACCCCCTAGAGGTTTCCCATTGGCCACTTGGTGTTCACCCCATTGGTTGCAGAAAGCAACCAACCAGACGTACTTTCAATTTTCCATCTGCCCTGCAGGAAATGGGGTGATTTGCAAAGAGAGTAGCCTCTCTTCCTTTTGTTACTGAGGCATGGAGAGTTGCGGTTTTCCTTTCGATTTAGTTCTAGGAAGTCAGAGGGAATCGGCCTTAGGTTCCCTGCCTCCAGACCCTATTCTCCTGCCTCAGAATCATACAGTGTTTGACCTTTTGTGACTGGCTTATTTCACTTAGCATAATGTCATTGAGGTCTATCTATGTTGTAGCATGTATCAGAATTTCATTTCTTTCTAACGCTGAGTAATATTCCATTATATGTGTAGACCACATTTTGTTTATCTATTCATCTGTTGATGGATACTTGGATTGTTTCTACATTTTGTCTATTGTGAATAGTGTTGCTGTGGACATTGTTGTACAAGTATCTGTTTGGGCCTTGTTTTTACATCTTTTGGTTATATATCTAAGAGTGGAATTTCTGGGTCATATTGTTGTTCCATGCTTACCTCTTTAATGAACCCCCAAACTGTGCATTAAGCACTTTATATGAGGTTGGTACTTAGTGTATCTACCTTCCAAACTGAGTTCCTTGAAGGCAGAATGTATCCTACACCTCTTATATCTCAGAGCCTATTACTGTGGGTGATGAGAAGTAGATGCTCAATAAATGGTGCAGTGAGAGCTGGAGGGCCTGAATAAATGGGGGTATTGGGGTGCTGATAAGCCAGGGTTTTGCATCATCCAATGACTGGCTGGAATGGAATATGAGGTCCTACTCCAGGGTCCAGCTGTAAGGGTGGTTGGCCGGTAGGTGGGGGCTTTTGGGACTTCTCCAGGCCTCACCTGCCTCTCTGGTCCCCCAGCGAGCCCCCGCTTCGGAGGAGGAGTTCCAGTTTCTGCGCTGCCAGCAATGCCAGGCGGAAGCCAAGTGCCCGAAGCTGCTGCCTTGTCTGCACACGCTGTGCTCAGGATGCCTGGAGGCGTCGGGCATGCAGTGCCCCATCTGCCAGGCGCCCTGGCCCCTAGGTGCAGACACACCCGCCCTGGATAACGTCTTTTTCGAGAGTCTGCAGCGGCGCCTGTCGGTGTACCGGCAGATTGTGGATGCGCAGGCTGTGTGCACCCGCTGCAAAGAGTCGGCCGACTTCTGGTGCTTTGAGTGCGAGCAGCTCCTCTGCGCCAAGTGCTTCGAGGCACACCAGTGGTTCCTCAAGCACGAGGCCCGGCCCCTAGCAGAGCTGCGCAACCAGTCGGTGCGTGAGTTCCTGGACGGCACCCGCAAGACCAACAACATCTTCTGCTCCAACCCCAACCACCGCACCCCTACGCTGACCAGGTGAGTAGGCCGGCACAGGGTGGGGTGGTGCATCCAAGTACCAGGTAGAGGGCGAGAGGAGCAAAGATCCAAAGAGTCACACAGCTGAGGACAAGGAGCTTCTGGGGCCTTGCAACTCTAAATGTGGTCTGCAGATATGCAGTGTCCGTGTTGATGACCACAATTTATGCTGCCAGTCCCCACGCAGGTGGATAGTAAGTTTCCAGTTTCCTCCTGTAATAAATAATGCTGCAGAATCATCTTTGCATCTTTATCCAGTAACTTCTTTAGGATAAATTTTTAGAAGTGCCACTGCTGGGTGTAGGGGGACGGGAATTCTACATTTGATACATGTTACCAAACTGCCCTTTAGAATTTAGTGGAATTTTCCGAGAGCACTGACACGGAATCTCAGTAAGGCTGGATTCTAGGATCAGAGACAAGTAGTTAGTTTCTGTCTGAAAAGTTGAAACCATTAACACCAGGCAGCGCTATCTGAGAATGTCTGTATGGGGAAAAAAAATCACATCCAGTTGTAATTATTTTTATTAAACAGATTTTAACTCAGTTTTTTAATAGGTAATACATTCGTACAGTTCACGAACAAAATTTGTAAAGAGGAGAGAGAGAGTGCAATCTTCTGTCCATGCCCAACTGCCTAATTCCCACCACTTCTCCCTCTTCCCATCCACAGGTAGCCATTGTTACTAGTTTTGAATGTTTCTTCTGAGAGTTTCTTTACGAATATATATGCAGGTAGGAGCAATCTTATCAGGTCCTATTTTCCCTCTTTTAGCCAAAAAGGTAGCATAACTATGTGAACTTTTCACCATTAGCAATAGATTGTTCATAGAAGGCGCTTCTTGGTTCTTAGAGATCCACTTGCAAAATGAAAGCATTTTTCGCTGGTTTTTGACAACTCAGAACTATATATGGCTAAACCACATATTTGCTGAACTACATATCTGCTAAACTGACTGTGATTTGTTTCCTGCTTTAGGATAAACTTCCCACACTATCAGAATAAGCTTTCCCCTCCGACTCCTCAACAGCTGGTATCACCACGTTTCTTAGCTTATTGTAAAGGTTGAGTGGCTTTCCACTTGTTTATTGGCCATTGTGTTTCTGCATTTGCGAGTGGCCTGTTTAGGTCCTTTGCCTGTTGTTGTTGTTGTTTCCGTTGAGGAATTAAGGGACTAATTAAAGAATTCAGGAACAAATTCCTCGAAAGAAAAAAATGTATGCATTTCTTTTGCTCTTACAATTTATGCAGTTTTAAAACTTACATATTTATTGGATTTTGATTGAAATTGCAATAAATTAGGAGAAATTGGCTTTATCTCTGGTTCTATCTTTTGGATTTAAAAAATTTTTTTTAATTTTTTTTTTTTTTTTTTGAGATGGAGTCTCGCTGTGTCACCCAGGCTGGAGTGCAGTGGCGCGATCTCGGCTCACTGCAACCTCCACCTCCCGGGTTCACGCCATTTTCCTGCCTCAGCCTCCCAAGTAGCTGCGATTACAGGTGCACATCATCATGCCTGGCTAATTTTTTGGCATTTTTAGTAGAGACAGGGTTTCACTATAATGGTCAGGCTGGTCTCCTGACCTCAGGTGATCCACCTGCCTCGGCCTCCCAAAGTTCTGGGATTACAGGCATGAGCCACCATGCCCAGCCTTATACTAATTTCTTAATGAATTTGTAAGCTTTCATGTTTTGAACGTGATAATGCAGCCATCCCACGGGATCCATGGGAGTCTGTTTCAAATTCATAGATGCTCAAGTCTCTGATATAAAATGGCATAGTATTTGTATATAACCTCTACACATCCTCCTGTATACTTTATTTTTTATTTTATTTTTATTTTTTGAGACGGGGTCTTGCTCTGTCGCCCAGGCTGGAGTGCAGTGCTGCACTCGTGGCTCACTGCAGCCTCAATCTCTTGGGTTCAAACAATCCTCCCACCTCAGCCACCAGATTATACAGGACTGCAGGTGTGCACCACCACACTCAGCTAATTTTTAAATTTTTTGTAGAGACAGGGTTTCACGACATTGCCCAGACTGGTCTTGAGAACTCTTGGGCTCAGGCAGCAACCCTCCCTAGGCCTCTCAAAGTGCTGGGATTACAGGTGTGAGCCACTGTACCCATCCCCTCCTGTATACTTTAAGTCATCTCTAGATTACTTATAATGCCTAATACAATGTAAATGCTATGTAAAGAGTTGTTTTACTATATTTTTGAATTTGTATATTTTTTTATTGTGGTACTTTTTTAATTGATTTTTTTTCGCCTGAATATTTTTGATCCAAGATTTGTTGAATCCACGGGTGCGTAACCTGCAGATACTGAGGGCCAACTGTACATATAAATTGTTTAGCGTAGTGCCTGGCACATATTAAATACTCAGTGAATGTTAAAATTCTATTATAATTTCTCTGCTCTAGAACAATTTGAAGAATATAAGAAATTTAGGCTTATAAAAGTTTTTTGAAAAACCATCTTGGAACTGGTGCCTTTTTTATAGTAGATTTTTGGGAACTTTTCCCATTTTTGCCATGGCATTAATCTGTTTTGGCTCTTGTGTCAGATTTTTGGAAGATTTTCCAGTTCATCCTGAGTTATCTTTCATTATTTAAAAATCTCCTATATGCCTGTAACTATACCCCCTTTTTTTATTTCTGATGTTGTATATTTGTGGTTTAGCAGTCTTTTCAAAGTACTGTACTTTTAGTCTTTCCTTAGATTGCTTACTGATTTTAATGTTTTCCTTCTTTCTGTTTGATCATTTTATTTTTGTCATTTTCTTCCTTCTAACTTTTGTCATTATTCATTTTCTAGCTTCTTGAACTTATAATTCATTTATTTGCAATCTTTATTGTTTAATAATAATAACTTTTTTTTTTTTGAGAATCTCCCTCTGTCACCCAGGCTGGAGTGCAGTGGTAGATCTTGGCTCACTGCAACCTGTGCCTCCTGGGTTCAAGTGATTCTCCTGCCTCAGCCTCCCCAGTAGCTGAGACTACAGGTGCCCACCACCATGCCTGGCTAATTTTTTTTATTTTTAGTAGAGACGGGGTTTCCCCATGTTGACCAGGCTGGTCTCGAACTCCTGGCCTCAAGTGATCCACCCGCCTCAGTCTCCCAAAGTTCTGGGATTACAGGCGTGAGCTACAATGCCCTGCCTAATAATAACTCTTTTAAGGCATAAGTTCTCTGTATATGGTTTTGGCTGTATGCCATAACTTTGATAACTTCATTAGTGTTCTCATAGTCAATCATTTCTCAAATTTCATTTCAGTCTTTTCTTAAAAAGGTTCTCTTGCTTAAGGTCAAGAGTTCGAGATCAGCCTGGGCAACATAGCAAGACCTCATCTTTACAAAAAATAAAAAAAATTAGCCAGGCATGGTCGGTGGTACATGCTTGTAGTCCCAGTTATTTGGGAGGTTGAGGCAGGAGGGTTGCTTGAACCTAAGAATTTGAGCCTGCAGTGAGCTGTGATGGTGCCACTTCACTCCAACCAGAGCATCAGAACCGGACCCTGACTCGAAAAAAAAAAAAAAGAAATTTTTTTCTCTTGAAAAGTTTTAGAGAATAGTGTTTTCTAAAATTTTCAAGTGGTTTTGATGTTTGGTTTCTTGTTCTGTCACCCAGGCTGGAATGTGATGGTGCGATTTCATACTTGTTAATTTCTGCACTATGGCCAGTTTATACAGTTTGTATGAGTTCTACATCTAAGACTATATTGAGATTTTCTTAGCGGCCTAGGATATTCCTTGGACTCACATATTCCTAGCAATAATCCTTAGAGTTGAAAAGTTGTATTTGTTGTACACACATATATATACATACACAAATATATGTATATAATATATATGTGTATATATGCATATATCTATATGTATATATCCATATATATGTAAGTTCTAGTGCTTGTGTGTGTGTGTGTATCTCCACGCTATTGAAACTTTCTACCTTTCTTTCTTTTCTTTTTTTTTTTTTTTTTTTGATGGAGTCTTGCTCTGTCATCCAGGTTGGAGTGCAGTGGCATGATCTCGGCTCACTGCAACCTCCTCCTCCCGGGTTCAAGTGTTTCTCCTGCCTCAGCCTCCTGAGTAGCTGGGATTACAGGCGTGTGCCACCATGCCCGGCTAAGTTTTTTTTTTTTTTTTGTATTTTTAGTAGAGAAGGGGTTTCATTATGTTGGCCAGGATGGTCTTGATCTCCTGACCTTGTGATCCACCCGCCTCAGCCTCCCAAAGTGCTGGGATTACAGGCGTGAGCCAACATGTCTGGCCGAAACTTTCTACCTTTCCTTCCATTCTGTTTCACCAGTTCTCTAAATGATAATTACAGAGTGGTAACTTCCCCATCAAAACATATATATAGGCCAGATGTGGTGGCTTCCACCTGTAATCCCAACACTTTGGGAGGCCAAGGCCGGTGGATATTTTGAGCCCAGGAGTTTGAGGCCAGCCTGGGCAATATGGTGAAACCCCGTCTCTACAAAAAAATACAAAATTAGCTGGACATGGTGGCACATGCCTCTCGTCCCAGCTATTCGGGAGGTGGAGGTATTCCTCAGAGAGGATCACCTGAGCCTGTCCGTTCAAGGATGCAGTGAGCCATGATCACGCCACTGCACTCCAGCCTGGGTGACACAATGAGACTCTGTCTTAAAAAAAGAAAAAAAGTGGGCCAGGCGCAGTGGCTCACGCTTGTAATCCCAGCACTTTGGGAGGCTGAGGCAGGCGGATCATGAGGTCAGGAGTTCAATACCAGCCTCACCAACATGGTGAAACCTCGTCTCTATTAAAAATACAAAAATTAGCCGGGCGTGGTGGCGGGCGCCTGTAATCCCAGCTACTCGGGAGGCTGAGGTAGGAGAATTGCTTGAAACTGGAAGGCGGAGGTTGCAGTGAGCTGAGATTGTGCCACTGCACTCCAGCCTGGGCAACAAGAGTGAAACTCCATCTCAGAAAAAAAAAGTGTATACACACACCAACACACACATACATGCACACTCTAGAACCTATCTCATCTATCACCACAAAGAGTAGAATATAACTATTCTTCCAGAGAAAATAAAACATTTAGCACACTTTTATAGTTTTTCTTCTTCCCTCTTCCTTCTCACTTTCAGATTTAGTTGAAATAATGTGAACTTTTAGTTCCAGATTACTACCAAATTGTTAATTTTTTTTTCTTTTGTAAACATCCTTTCTGAACAGGTATTAAGCTTCATGGTCATATTACAACGCACTTGTTAGCCATACCTTATACTTTAATTGGTTTCATTGCTCATGATAAGTTTTCCTATAGCTTTTCTTCTCCTTTCTTGAATTATTTAAGGTGATTAATTTTCCATTTGGCAGGAATACTCCATCAAGTAATTAAAAAAATTATTCCAGAGTTTACTTTCTGAGACCTTAAGTGTCTTTACTTGTATGTCCTTCTTTTGCTGTCACATGTGAGGGAAAGTTGAGCTAGGTGTAAAATTCTGAGGTCATAATCACAGTGCTTTCACCTCAGAATATATAAACCTTGCTTCATAAATTTCTAGTCTCTGGTGTTGTAGATGAGAAGTCCACTAATGGTCTATTTTTTCTCTGTGAGTAATCTGTTTTTGTTTGTTAAGGATCTTTATTTATTTTTATTTATTTTACTTTTTAGAGATGGGGTCTCACTCTGTCACCCAGGTTGGAATGCAGTGGTGCAATCAGAGTTCACTGCAGCCTCAAACTCCTGGGCTCAAGCAATCCTCCCACCTTGACCTCCCAAGTAGCCAGGACTACAGGCACCTGCCACCGTGCCTGGCTAATAAATATAGTTGGATGGTTTTCATTTGTTTATTTGTTTGTTTAGAGATAAGTTCTTGCTCTGTTGCCCAGGCTGGTGTGCAGTGGTGTGATCATAGCTCACTGTAACCTCGAACTCCTAGACTCAAGAGGTCTGCTAGCCTTAGTCTCTGAGTAGCTAGGACTATAGGTGCCTGCCACCATGCCTGGCTAATTTTTAAAATTTTATGTAGAGATAGGGTCTCACTATATTGCCCAGGCTGGTCTAAACTCCTGGCTTCAAGTGATCCTCCTGCCTTAGCCGCCCAAAGCACTGGGATTACAGGCTTGAGCCCATGCCCAGCCTGCTAAAGATCTTTATATAATTTTTTCTTTTTTCAATAATCTTCTATCGCCATTGTTGATCTGAAAAACTCAAGTCTTTCTTCAGCTCTTCATCTCAGGGAAATTGTATTCTGCTTTTTAATTTTTTTTTTTTTTTTGAGATAGAGTATTGCTCTTGGAATATAGTGGCATGATCTTGGCTCATTGCAACCTTTGCCTCCCAGGCTCAAGCAGTTCTCATGCCTCAGCCTCCCAAGTAGCTGGAACTACAGGAATGCGCCACTACACCTGGCTAATTTTTGCATTTTCTTTTTAGTAGACACAAGGTTTTGCCATATTGGCCAGGCTGGTCTTGAATTCCTGGCCTCAAGTGATCTGCCCGCCTTGGCCTCCCAAAGTGCTGGGATTATAGGCGTGAGCCACTGTGCCTGGCCATACTTTTTAATATACTGATAGCCCTTCATTTGTTTATTTTATTTTTTATTTTTATTTTTTGAGACAGGGTCTCACTCTCACCCAGGCTGGAGTGCAATGGCACGATCTCGGCTCACTGCAACCTCCACCTCCTGGGTTCAAGTGATTTTCCTGCCTCAGCCTCCCGAGTAGCTGGGACTACAGGTGCGCACCACCATGCCCAGCTAATTTTTGTATTATTAGTAGAGACGGCGTTTCACCATATTGGCCAGGCTGGTCTCGAACTCCTGACCTCGTGATCCACCCGCCTCAGCCTCCCAAAGTGCTGGGATTACAGGTGTGAGCCACTGCACCCGGCCCATTTGTTTATTTTTAAAATTTTTACTACTGTTGTTATATGGATATTGGAACTCCAAGAACATATTTTACATCTTTTAAATTTTTTCCCCATTAATTCTGTTGCTTTGCTTTTTTCCCCGAGATTCTCAGAGAGCTCCTCGAATTGTTTTTCTAACTCGCCAGCTCATCTTTTCGCCGCTGACTCCATTCTTCTATCTGCTACCCCTGTAGAGTTGTTGTGGGTTTTTTTCCCCCCAGCAATCTTTTTTTTTTTAATTGCCAAAAGAGCTTAATGCTCTCAGGATGCTTTTTCTTGGCAGCCTGCTCTTGTTTTCTCATTGTAGTGTGTTCTTAAGTCTCCCTGAAAAACACAGTTGGCATTTACAGAGGTGTATGTTTCCTACACGATCCCCTTTTCAATGGGTACTTGCTCAGTTTGGCTGCTGATTCTCTTCATAGGTCCTGCGGTCTGTGCTATCTGCTCCCATGTAAAAGTTGACATCTAGATTGTTCAGTGTTTGTAGCTAGCGTGGGCTGGCAGCAATTGTGTAAAGCACAATTTATACCCCACATTCAATCCCTGCAGTGGAACAGGGCCGCTCCCCACGAGCCCCAGATGGTGTCAGCTTGTAAGTAGTCCCACCTCTGCTGTGGGGGTCAGAGGTGGATTTCTCTCCATTAGGGATAGAAAAAAACCTTTTGTCTGTACCCATTTTAGATGTCCAGCTAGGTCCCTGTAAATTAGACTAACAAGATATAGATTAACACGAGAAAAGCAGGCTGGGTGCTGCGGCTCACACCTGTAGGCCCAGCGCTTTGGGAGGCTGAGGTGGGTGGATCACCTGAGGTCAGGAGTTCGAGACCAGCCTGGCCAACATGGTGAAACCCCATCTCTACCAAAAATATAAAAATTCGCCAGGCATGGTGTCACACACCTGTAATCCCAGCTACTCAGGAGGCTGAGGCAGGAGAATTGCATGAACCCTGGAGGTGGAGGCTGCAGTGAGCTGAGATCACACCACTGCACTCCAGCCTGGGCGACAGAGCGAGACTCCGTCTCAAAAAAAAAAAAAAAAAAAAGAAAGAAAAACAGGAGCTTTTTAGCATGTGCATCTAGCATGGGTATCACATCTAGCATGGGAATTGTGCATATACCTGGGAGTATCCAGAGATGAGTAACTCAAAGCGTTGGTTAGAACTTCAGCTTACATAGCATCTTAATGAAAGAGAAAGAAATGTTTAGAGAAGTGGCAGGGTAAAAGAAAGGGGTTTTAGGCTTGCAAAGGTGGCAAACTGTTGGAAGTTGTGTTTCTGTTTTGCATTGCTAGAAGGAATACCTGAGGCTGGGTAATTTGTAAAGAAAAGAGGTTTATTTGGCTCATGTTCTGCATGCTGTACAATCATGGCACCAGAAACCTGCTTGGCCTCAGGTGAGGCTGCAGGTAGGTTTTACTCATGGCGGAAGGTGAAGGGGGAACAGGCGTGTCGCATGGCAAGAGGGGAGCAAGAGAGAGAGAAGGAGGAAGCAAGAGAAGGAGATGCCAGGCGCCTTTAAATAACCAGCTCTCCCTTGAACTACCAAAGAGAGGATTTACTCTTTACCACGGGATGGCCCCAAGCCATTCATAAGGCATCCACCCTCATGACCCAAACACCTCCCACTAGACCCCACCTTCAACATTGGAGGTCACACTTCAACATGAGATTTGGTAAATATATGGGAACTCTAATGGAGTAAGGTTTGTTTGTGCGGGCCTACTTGGTGCCAGCTTTCCATCTTCGTGGCTGTAAAACTTCCCTGAGAGAGGAGATTTATGGTAGTTCTTGTTTCTCAGAAGTTTCTGTTTTTTGTCATAAGAGCAAAGAGCGTAAGAGTCAAAAGAGTTTCTGTTTTTAGTCATGAGAGAAGCTCTTAGAAGGCTCCTTTCTGCGTCTGTTGGTTTTCATTTGCCTGCAGCTCAAAACAATCATATGCCAAAGTGGCATATTTTGGAGTGGCATATTTTTATCCCTTATGTCAGGTACAATGGGCAGGGAAGGTTCAGCCAGCAAGAGGGCAGGATTCCTGTTCCTTGAGCACGGTGCATGGCCTTAACAAACCTGAAAAATCATGTGCTCCCACTCCCATTTCACATTGTTTCACAATTTACCAGTGGTTACTGGACAAACTCAACTTATTTTTTCTGCACAAAACTTCAATGCCATAAATAAGAGCTCACAACTTTCCTCTGGTCACAAGTCAGTTAGCAGCCACCTCGCTCTTTGACCCTGGGCTGATTTAGAGCTCACACTGGGGAGCAGCCCCAGAGGTGGCTTTAAACCTGGGACTCGGGGTGTCTGCCCTGGGGTGGCTGCCCTGGGGTGGCTGCCCTGGGGCCATTGGTATTTGCTCCACATGCCTGTGGAGTCCATTTTTTCATGTTCATGTCACACCTACTGTGTTGCATGTTCTTTACTAGGGGGTGGGGTAGAAATATGAATGGACATAGCCCCTCCTTGAGATCACAGCCTGGTAAACAGATCAGCCATTAACAATTGAGGCGGCAGGGTTCCGTGCAGAAGGCTGCATGACTTTGCTGTCTATTGTGACTGCGTTTTGATAGTTACCTTTGTCACACTGTCTTCTGTATTATGTTTGCCCTCAGCAACATGTCGTATCTGGCACAGGGCTGACATCCTGTTTGTGCTCAGTCATTTGTGGAAGGAAGAAGTCAGGCAGGCACAAAGGTGGCTGAGCTCAGAAAAGGCCACTTACCCTGCTGGGATCAGCTGGGGAAGGTGGCTTCCAAGAGGCCATCACACTTAGTGTGATGTATAAGGAAATAGAAAGGCCACAGACAGGAGGGACTGCACGTGCAAGGAAGGGGCACTAGTGAGTTTGCAGCATCTCAGGAACTGCAATAGAAGGTTGATGTGAGGGCAGGCACTAGAAGGGTGAGTTGGGGTCAGATGTGGCAGGCTTGGAAGGAGTCAGGACTCTATGCTACAATTTCCAGAACACTCAGTGTTCTCAGCTTTCTCCTTTGTCATGCCTTCATACCACCTAATCTTCTCACCAGTGACTATCCTCTGGAAGACAATGGGAATGGGACCCTGTGGAGGGCTCTGTTGAAAACCCATTGATGGGGCCGGGCGTGGTGGCTCACGCCTGTAATCCCAGCACTTTGGGAGGCTGAGGTGGGCAGATCACGAGGTCAGGAGATTGAGACCATCCTGGCTAACATGGTGAAACCCCGTCTCTACTAAAAATACAAAAAAATTAGCCGGGCGTGGTGGCGGGTGCCTGTAGTCCCAGCTACTTAGGAGGCTGAGGCGGGAGAATGGCGTGAACCCAGGAGGCGGAGCTTGCAGTGAGCCAAGATTGCGCCGATGCACTCCAGCCTGGGTGACAGAGCGAGACTGTGTCTCAAAAAAAAAAAAAAAAAGGAAAACCCATTGATGGGCATTGAGGAGTGGTGGGATGATCAGAGCCTCTCTCTGCACTCTGGTACTTTGACAAGAGTGGGCAAGTTTGGGAACAGGGATATCAGTATTTCTTTGGCTGCATACTTATTTATATTTCACCCCATTCCACGGAGAATTTGAGGGGATTTATCACCAGATGTGGGATACTTATCCAATAGAAACTGAAGCAAAGAATCTGGACAAGGGAAAGGGAGCCTCATGAGTACACTAGGTCTTAGGTCCAGGTGGGGGTGAGGCCTGCAAGAATGCAGAGATGGAGGGGTGTGGAGACGGCTGTGGTCCCACACTGCCAGCACTTGCCTGACCAGACATTCTCAGGAGTGCTTCCACCCAAGCATGGTGTGGGTCTAGGGCTGCAGGTGGAGCTAAGTCCTGTCTGCGTCTGGGTGTCAGATCCTAAAATTTGCTGGATGGAGTTGGGGAATTAATCCAGCTGAAAGAGCTTGAATTATCATTGAATGGAGGAAACAAAAGGCCTATTAATCAAGTTTAAGAGGTGTGATTGAAGGATTGGCACCTATCCCTGCTTGGTGCTCTCTTGGTGCCCTCTGTGAAGTTAGCAGTAAATTGCATTTTATTGGGGATTGATATTATTGGGATTGCTTCCTGGCCTGCAAGGAGCATTACATGGGCAGAAGAAAGGCTGCTGCCAGGAGTTGGGCAACATGATGAAAGATGTGGACAATAAATGACCCATTTCCTAGTTTTTCTATGAACTTATCTTGAAGGTAGATTTATAGAATAATATGTGGATAAAAGGGGTTTTCCTCCTGGTCTCCTTTGATGTTTTGGAGAAAGAAGCAAGGACTTTATTTATTTATTTGTTTATTTTTGAGACAGTGTCTTGATCTGACACCCAGGCTGGAGTGCAGTGGCACAGTCATGGCTTGCGGCAGCCTCAACCTCCCAGGTTCAAGTGATCCTCCTACCTTAGCCTTCCTAGTTTGTAGAGACGAGTTTTCACCATGTTGCCCAGGTTGGTCTCGAACTCCTGGGCTCCACCCACCTCGGCTTCTCAAAGTGCTGTGATTACAGGCTTGAGCCACCACGCCCAGCCAGAAGCAGGGAATTTAAAGCAGCGCAAGCCAAGATCAGGATTAGGGCTGGTGCTCCGGTCTCACTTCTCCTGAAGGCCAATCGCCTCTACTTTCTGCAGCTATGGGAGTGGGCTTTGCTATTCAGGGATGGAGGCCTGGGACATTTTAGAACAATTTGGGTTTTTTAGTTTTGTTTTTTTGAGACAGGGACTTGCTCTGTCACCCAGGCTGGAGTGCAGTGTGCGATTATAGCTTACTGAAGCCTTGACCTCCCAGGCCCAAGTTATCCTCCCACCTCAGACCCCCAAGTATAATAGCTGGGACTACAGACATGCACCACCATGCCCAGCTAATTTTTTTTTTTTTTTTTTTTTTTTTTTTGTAGAGATGGGCTTTCATTATGTTCCCTAGGCTGGTCTCAAACTACTGAGCTCAGGCAATCCACCTGCCTGGGCCTCCCGAAGTGCTGGGATTACAGGCGTGAACCACTGTGCCCAGCCTTTAGAACAATTTTTAACAAGACTTGAAATTAACAAGCTTTTGGCATAGTGGTGCACGCCTGTAGTCCCAGCTACTAGGGAGACTGAGGTGGGAGGATCACTTGAGCCTCAGAGGTTGAGGCTGCAGTAAGCCATAATCATGCCATTGCACTCCAGCCTGGGCAACAGAGCGAGGCCTTGTCTCTAAAAAAAAAAAAAAAAAAAGAAATTAACAAGCTTTTCTCATTGATTGCTAACTGATAAAATTAAAAACTATTAATAGAACCACCGCCAGCCAGCCAGACAGCCATTGAGCAATCACTTATTGAGCATTTATTTCATGACTGGTGTTATGATAGCTATTGCCAGATGAAAAAGAATGCCTGCCTTCGAAGCTTGAATTTGTGGAGAGTTTCAGCCTATGGATAAGTTGCATGTGTGTGCAGACTTGTACTCTATGGCAAGAACCCAGAGGTCCCAGAAGATACGTTCAGATCAAGTGCTGTGGCAGTTTTCAGAAGGGAAAACTTGTATTTATGTGGGAGGGTCAGGGAAACCCTGATATTTTAGCATTTGGGCTACACCTTGAAGGGTTTATTTGTCTCTATAAGTTGCATCTAAAACAAACTGTATAAATTAGTGAGTTTTTTTAGTTAGTAGCTTAAGCAAAAGCTGGATTGATGGCTGATGTAAGTGCATAGGGGTCAAGCTGGCCTCTGACCTGACCAATTAGATATTCAGATTGTGTCACCAGGAGGTACTTTCTCTGTATTTCTTGTGACCTGGCTTTCTTCCAAGACTGGTCCATTCACAGAAGGGTTTACTCCTCATGGGTGCCAGATGATTGCAACAGCTCCAGAGGTTACACCCTCAGCCCCAAATTCAAGGGGAAAAGAGTGTGAATCTCTCCCAGCATTCCAAGCTAAATCTCAGTGTGTCTTTGATTGGGTCAGGTTCCTCTCCCTGCAAGGGTGGCTCAGGCTAGGGGGGTTCTCAGATTAGCGTAAGCCTGAGTCATATGCTCCCCCAAAGCTCATGGACTGAGAACAGGAATGTGTGGCTACCTAAAGGCAAAGTCCAGTTTCATATTGGTACAAGAAGAAAGAAGAATGTGCCTTTAATACATCTTAGAAAAAATGTCCAATAGCCACCGTAAATGAAAGCAAAGAAGAAAAAAACACTCCAGGTATATGGAAGGCAGTGGAACAGAAACTGAAGTGCAGGGGACAGGTTTGAAGCCAGCCTCAAGTGAAACACCCTGACCCCTTGGTGCCTGGGTAAACTCTTTTCAATAGAAAGCCATCCTTTTCCAACCAGGTTAGGGAATGGGCTGTTCAGGCTGCATGCAACCTTTCCTGTTGACAAAGTGGAGAACTATCCTGCCATTTGAGATGTTTTTCCTGTGCTATTCTCCTAACTCCCACACCCTCCTGTAAGATTATCAGGAAGAGAGAACTGTTCCCTTTGTACAAACAAGGCGAGAGGCCAGAGAGTTAACAGGAGCTTCCCAAAAGGGAGAGCTTGCCAGAGCCGGGGCCAGAACAGGATGCAGGGTTTCCTGATTGCAGAATGGGTGCCCCTTTCCTACTCCTGCTGGACTCTACATTCAGGCAGCCCACAGCTAATGACTGCACTGAGTTGCAAAAAGAATTCTAAAAGTTGTTTCTTAAGAATTTAGAGTGTATCTTAAGTAAGCATGCAATTTAAGCAATGTTGAACTTAATTTTCCCTTTTACAGAAGATAAAGAAACTAAAGTGAAATTAGACTTGCTGAACTTCAAAGAAATAATTCTTCATCTTAAAATATTTTCCTAAAAGGTCCCTCTAAGATTAAGAGAAAAAAACCCCAAGACATTAAGAGGTTGGAGCCATTTTGTTTTTTGAAACAGAGTCTCGCTCTGTTGCCCAGGCTGGAGTGCAGTGGCGCAATCTTGGCTCACTGCAACCTCCGCCTCCCGGGTTCAAGCAATTCTCCTGCCTCAGCATCCCGAGTAGCTGGGATTACAAGTGCCTGCCACCACTCCTGGCTAATTTTTGTGTTTTTAGTAGAGACAGGGTTTCACCATCTTGGCCAGGCTGGTCTTGAACTCCTGACCTCGTGATCCACCCACCTTGGCCTCCCAAAGTGCTGGGATTACAGGCGTGAGCCACCGTGCCTGGCCATTTTTTTGTATTTTTAGTAGAGATGGGGTTTCGCCATGTTGGCCAGGCTGGTCTCGAACTCCTGATTTCAGGTAATCCACCCACCTGGGCCTCCCAAAGTGCTTGGATTACAGGCAGAAGCCACCATGCCCAGCCCCATATCGTTTGTTTTTAATGAAATGCTTCTATTTTACATGGTAGTAACTGAGTCTCTGCAATGAAAGATCAAGATGGTTGGCTTCCATCCTTCTAGTTTTGGTTCCATGTCAATAGGACTGTAAGGTTCACCACTGGTCTTTTTACTTTAACATCACTTTTCCCAAGTTTTGTATTTTGATTGAGCTCTTAATTGGATAGATATTATCAAAAAGCAATTTTTTTTTTCCAAGAAGGACTTTTTTGTTCTGAATTCCTTGAGTCTCTTGGTGTTGAGAATGTCTTTGGGTTACTCTGATACTTGAATAATATCTCGGCTGGGTATAATATTCTTAGGTCACAATCACTTTCACAATTTTGTAGACACTGCTGCATTATCTTCCAGCATCAAATGTTCATTAGGACAGCTCTGGGGTCAAACTGACTTGCTTTTTCTGTCTTTATGCCTAAAGATATTTTTTATTCTTGAAATTTATTAATTTAACCAAGCTGTCTTGGTGTTTAACATTTTGTATCAAATTATTCTGGAACCTAGCATGCTCCTTCAATCTAAAAATTATCTTTATTTCAATTGCTTAAATTACTTCTCCTCCATCTTCCTTTTCTTCCTTCTCATTTTCTTCTTTTTCTTGCTCTATTACTAATAATATCACAATTTGTAATTTATTAACTTTAGGTGTGTTCAGTTTAGTAATATAACAGTACTACTACCATTTAGGGTGGGGGAACTTATTTACTTAATGACTTAATGAATGAGTAACAAAGATTAGAACCACCATATACATTCACTTGATACATATTTTTATAAAAGTGCTTGAGAATATCAGAATTATTTATGTCACACAAGGAGTTACTGCCTGTTTTCTGTGTCACCAGATTCTATTAACATTTAATGATTACCTTTACTCTTTGAATTTTGAATTTTGTAACAAATTCCTGCTGTGGCATATTTTGCAATTTGGTTATGTTCTGCCAAAGCTGTAACAGTAGGTGAGGTGTTTCAAATTTGGCATGACTGAATAGAAGAGCTGCCCGTTCTCACCATATGTTACTCAACTCATATATTGCTATGTTATTTTTACCTTACTCATCAAATTATCTTTTCTCTTATACATGGCTTTAATTAATTGATTATTTTAGGTATTTCCATCTCTGGACATTTCATGTACTGAAAATAGATCAGATTTAAATAAAATAGCTTTATAATCAGTATTTATGTGATAAACTCTGTCTTATTTCTTGCAACATTTACCGGCATGTAAATCCAAATTGAATATTGGTTAATGTTCAGCAATATTCAATACTATATAATTGTAGTGTATTGTTATGAAAGTCAATGAATTTCCCCCCATGATGTACTTTGTTCCAAAATTTGAATCTCCTTTAATAACATATAACACATAAGTTGCTTAAAAAATTTCTCACTGCTGACACTATTTGGATTGTACTTATGACAGGCATACTGGCCATCACCTCAGCATATGAGGATAACCATATTTTAGAAATACCATGCTGGTGGCACTGGGGAGAGCTGATTGGAGCTGGAGAGACCAGAGGCAGGGAGGCCTCTTAGGACATCGTGCTCAAGGAGATAAGCAATAATTGAGGCAAGAACAGAGGCAGTAGCAGTGGGAACTGCTGGGACAGGTTTAGGAGCCAGCATTCTGCCTTAATCATCTTTACACCCTTGCCGCATGCCTAGACCTAGTTGGTACTTAGTAATTTTGGGGGGGTTTTTTTGAGATAGAGTCTCGCTCTGCCTCCCAGGCAGTAGCGCAGTGGCGTGATCTCAGCTCACTGCAACCTCTGCCTCCTGGGTTCAAGTGATTCTCTTACCCTCAGCCTCCCAAGTAGCTGGGATTACAGGTGCCCGCCACCACACTCAGCTAATTTTTGTATTTTTATTAGAGACGGGAGGCCGAGGCGGGTGGATCACAAGGTCAGGAGTTCGAGACGAGCCTGACCAATATGGTGAAAACCTGTCTCTACTAAAAATACAAAAATTAGCTGGGCGTGGTGGCGGGTGCCTATAGTCCCAGCTACTCAGTAGGCTGAGGCAGGAGAATCACTTGAACCTGGAAGGCAGAGGTTGCAGTGAGCCGAGATCATGCCACTGCACTCTAGCCTGGGTGGCAGAGCGAGACTCTTTCTCAAAAAAAAGAAAAAAAAGAAATCATTGAAGCCATAGAGGACAGGGAGGCATCCAGGAGTGGCCATTGAATGGTGGTGCCATTCCCCACCATAAAGATGGCAGGAGAAACAGGGAACCCACGTGGCAGTGTACCCACTGCCTGTTGAATGAGTGACATGATCCAGGGGAACACTGCCCACTATGGATACACCAGCCATATGCCTTGGGAGCAGGTACCTGTGTAGAAAAGAGTGGAGAAGAAAAAGCACAAACTTTCTCCTCCCCATTCCTGGGTGTGGCACCAGCATCAGACAGGAGTTCAAACAGTGCTTCCTTTCACCGCTTTCCTTGCTGCTTTTCTATTCTGGTATCTTCTTCTCCAAGACCTCAGGCTTTCCCCTCTCCAACACTACCTTCTCAGCCAATAAATCACTGGAGGGGAGGTCCATAGGAATAATGCATTCACTCTCTTCAAATATCCCAGGCTCTAGAATTACCCATCTCCTCTCCTGGTTTCAGAAATCTTGTTTTTTCAATGGTGAGATAGCAGGAAACTGATCTGGTAAAATGCATTCATACTACTGTATAAATGATTGATGGATCCTTTTAACTGTAGTTACTTGAATTTCCAAAAGAGCTCTCTTTTACCACTCTACCAAAGTGAAAGTGCCAAGTTGCTGCATGGAAATGGGACAGGTAGAGGAGAGTTTTTGGTCACCATTCAGGCAAGCCAGGTGGTACCAGCTCTCCTTCACTGGTCCTATTTCATAACATTTTTGCTTCTTGCATTTTAGAGCTACCAGTTTCCTAGAACAGCAGAAGTAGCATGCTCCCCTGGCCCAACCAACAGGTGCGGCTATAGTGGCCTATCTGTACTGGGGAGGGGACACCCCAAATCTGACATTGACAGGTTCACCCAACAGCAGGGATGTCCTGTGCCATGTGTAATACCCCCTCTTCTTTCATAGCTCCAGAATGTCCAATGACTACATAGCACTGTGCTGAGTCCTTCACATACACCAGCCTGTCTTTGTGCTTGTAACAGTCTATAAGGGAAGCATTATTACTCCCATTCTACAGGTGGGGAAATTAAGACTCAGAGAGAAAAGGTAATTTGCTCAAGGCCTTGTAGCTAGAAATTTGGAAGAGCTAACACATACCACTCTTGGCATAGCAGTTTAGACATGGACAGCTTTAGGATGGGGAGACTGAGAACCCAGGAAACACGTTGAGGCTTCTATTAAAATACACTACTCGGCCAGGCGAGATGGCTCATGCCTGTAATCCCAGCAATTTGGGAGGCCGAGGTGGGCAGATCACGAGGTCAAGAGATTGAGACCATCCTGGCCAACATGGTGAAACCCTGTGTCTACTAAAAATACAAAAATTAGCTGAGTGTGGTGGTGCACGCCTATAGTCCCAGCTACTCAGGAGGCTGAGGCAGGAGAATCACTTGAACCCAGGAGGCAGAGGTTGCAATGAGCCGAGATTGCCCCACTTTACTCCAGCCTGGTAACAGAGCGAGACTCCATCTCAAAATAAATAAATAAATAAAAATAAATAAATAAAATAAAATACACTACTCAGGAGGCTGAGGTGAGAAGATCACATGAGCCCAAGAATTCAAGTCCAGCCTGGGCAACATAGCAAGACCCTGTCTCTGAAAAAAAAATTAACAGTGTGGCTATTTCACTGAATAATCATAAAGGGATAAATGAAACAATACATCCCAGAGACGAGAAAGAGCTTTGTTGTAATACCTAGATGGGATGTTCTTTGAGTGTTCCCCATTGCTTCCTATTTAAAGTCCAAACTCCTTTACTTAGAATTGATTATAGAAAGTTTAGGAAAATCTAAATAGGTGAAAAGGAGGGATGAGAGAAAGAGGAAACTACTATCACTCTAGACCTTTTCCTTTCCTTTTTGCTATCTCTGTGATCATCTAAAACAAAATGAACAACATTTAGTGTTGTATAACTTGCTTTTCTTATAAATAGTCATGAAGATCTTTCAAAAAAATATACAGTTTTGAATTTTTTAGGCAGTGGCATCTTTTTTTTTTTTTTTTTTTTTTGAGATGGAGTCTCGCTCTGTCGCCCAGGCTGGAGTGCAGTGGTGCGATCTTGGCTCACTGCAAGCTCCGCCTCCCGGGTTCATGCCATTCTCCTGCCTCAGCCTCCTGAGTAGCTGGGACTACAGGCACATGCCACCATGCCCGGCCAATTTTTTGTATTTTTTAGTAGAGATGGGGTTTCACCATGTTAGCCAGGATGGTCTCGATCTCCTGACCTCGTGATCCACCCACCTCGGCCTCCCAAAGTGCTGGGATTACAGGCATGAGCCGCCGCGCCCGGCCGGGCAGTGGCATCTATTGATTGTATGGTTTCTTTTATTTCTTCAGTAATTATAGTGTCTTTACTATGGTGAGAGTAAATAGTCCACTGTGTTTTCTCCTTCGAGATGTAATTTTACACATTTAACTTTGTGATTCATTGGAAGCATATATGGGTATGAAACAAGAAGCAAGGCTCTAACTTCATTCCTGCCCCCTACCCTCCTCCCTAGCCAATTTCTCTGATTCCAATTGTTGAAAACCCCTTTAATGTCCATCAGTTTGGGCTGCTGGCTGGGCGCAGTGGCTCACGCCTGTGATCCCAGCACTTTGGGAGGCAGGGGCTGGCGGATCACCTGAGGTCAGGAGATCGAGACCAGCCTGGCCGGCATGGTGAAACCCTGTCTCTACTGAAAATACAAAAGAATTAGCCAGGTGTGGTGGCGTACACCTGTAGTTCCGGCTGCTTGGGAGGCTGAGGCAGGAGAATCGCTTGAACCCAGGAGGTGGAGGTTGCAATGAGTTGAGATCACGCCACTGCACTCCAGCTTGGGTGACACAGTGAGACTCTCTCAAAAAGAAAAAAGAGAAAAAGATGGGTTGCTTTCTTTGTTATATAAAATATTACATTTCTATAGATGCCAGGGACTACATCAGGCCTATCTGGTCTGTTCTACTGATCCTTCTCTTGACTCTTGAACTAGTACCATATTCTCTTAATAATGGCATTTCTATAATGTGTTATCCCTTCCTTACACTGATTCCTCAAACATTTCTTAGCAGCTGGTCATAGTGGCTTAGGCCTGAAATCGCAGCACTTTTGGGGCCAAGGTGGAAGGATGACTTGAGCCCAGGAGTTTGAGACCAGCCTGGGCAAAATGTTGAGACTCTGTCTCTATAAAATTAAAAATTTTTTTCTTAGCTATTTTATCTGTTTGTTCCTTCATATGAAATTTAGAAACCTAGCCAGGCGTGGTGGCTCACGCCTGTAATCCCAGCACTTCTGGGAGGCTGAGGCGGGTGGATCACCTGAGATCAGGAGTTCGAGACCAGCCTGGCCAACATGGTGAAACCCCAGCTCTACTAAAAATACAAAAAAAATTAGCCAGGCATGGTGGCTCACACCTGTAGTCCCAGCTACTTGGGAGGCTGAGGCACAAGAATCACTTGAACCAGGGAGGCAGAGATTGCAGTGAGCCAAGATTGTGCCACTGCACTCCAGCCTGGGCAACAGAGTGAGACTCAGTCTCAAAAAAAAAAAAAAAGAAAAGAAAAAGAAAGAAAAGAAATTTAGAATACTTTGGTTAAGTTTCAAAAATAATTTAAATTGCCTTAAACCTGTTTATTAACTCAAGGAGAATTAATAATCTTATAATATTTAGTCTTATCTCTTAGTAGGTTTTTGTCATTTTCTAGGTATTTTGTACCTTCTTTTTTTTAATTTAAAAAAAGTTTTTTAGAGATGGAGTTCTTGCTGAGTTGCCCAGGCTGGCCTGGAACTCCTGGGTGTAGGCAATCCTCTCACCACAGCCTCCCTAGTAGCTGGGACTATAGGCACACAATCATGGCTTTGTAGAATTTTTTAAATAGCTGCTGTGAATGGGAAGATGGATTTTTTTCCCATATTTCTTCTCATTTGCTTTGCTAAGATAGAATTATGCTATTTTTCTTTCTTAATTATTATGTAATCTAGCCACTTTGGTGAGCAATTTCTTATTAAGTTAGTGGTGTTTTTGCTTATTGTTTTGAGTATTCCAGAAGCAAATAGATGTTATTTCGCCTTTCTGAAGATACGGTTAAGTCTGGGTTCTTGTCACGGAGCCCTTCTGGGCAGTTTCCCACTTCACCTCTGCCTCCTCCAAAGTGCCAAGCACGCAGCAGGTACTCAGTGAGTGTCCTCTGAATGAAGGTAAAGGAACCGCTTGGCTAAGGTCATTCCTGGCCCTGGGTGGCAGCCCTTTGATTCAGGATCTGCACCTCAGTCTTACCAGAGGGCTGGGGGCTTTTAGACCCAGGTGTCTGATTCAGGCTAGCCACCTCACAGACACTTGCCGCCCATTTCCATCTAGAGGGAAAGCAGGGGCCAGTCACCCTAGGGAGACCCCATTCAGGACAAAAGAAGCTTAGAAAAAGGACCCAGCGGAGGCTATGGCCATCCAGAACGTCTTGCTCTCTATCCAGCCAGGCTGCCTGAGGCGTGCCCTTCCAGGCTTGGAACCCTGTCTCCAAGGAAGGGGATCCAACATCAGACACAGCCCCTCTCCCCAAGTGTCCAAGATCCAAAGGGGGAAAATAACAACTGTTTCTTATTCTCTTCCCTTTATTCCTATACCCTATAGAATTGCCCACATTTATTAGTATTCTGTTTTTTAATTTCAAAAAAAGGAATACATTCATACATTCACAAGGCTCAAACATAATCTAAAAAGGTATGCAGTGAATGTCTTACTCTACCCTCATTCCACCCATCCCATAGCCACTTTTATTAATTTGCATGTCCTTTTAATATTTATTTATTCAAATACAATCAACTATGAAGATATTCTTATTTTTCCCCATTCTTACACAAAAGGTAGCATCTGATACACACATTTCTGCACCTTGATTTCTAACTTAAAATATATATCATAATAATACAAATAGTTAGCATTTATTGAACACTCATTGTATGCCAGTCATTTTTCAAACTTTTATCCATATATTAACTCATTTAATCCTTCCAGTACTCCTATTATTAACCTCATTTCTCCATGGAGAATTTTCCTTATCAGTATATAAAGAGCTTCCTCAATGGCTTACAGCTACATAGTATTCCGTTGTATGGGTGGATCATAATTTATGTAACTAATTGCCTTGTGAGGGACACGTGGGTGGCTTCTAATTCTTTGCTATTGTGGACTGTGCTGCAGTGAATATATTGTATGGATATCATCTTGTTATGTGTAGAGATAGAGCTGCAGAGCAGATCCAAAGAAAGAGGATTGCTGGGTTAAATGCATTTGTAATTCTGATGGGTATTGCCAAATTGCCTTCTGTAGAGTTATTAGTTCTTTTCATAATTGCTTAGTATTTCTAATTAAACGTAGCATTGATGAGCACTATGTATCAGTCTGGCTGGCTAGTAGGCTCTCTGTTGGTGGTTCCAGAACAAGTTGATCTCAGTGTAGTCCCAGATGAGACCCTTTCTTCTGGCCTCAGGTGGGCTGACTTATTCCTTTTTTTTTTTTTTTTTTTTGAGATGGAGTCTTGCTCTGTTGGCCAGGCTGGAGTACAGTGGTGCAATTTTGGCTTACTGTAACCTCCACCTCCTGGGTTCAAGCAGTTCTCCCACCTCAGCCTCCCAAGTAGCTGGGATTACAGGCGCACACCACCAAGACTTATTCTTATCACTGCCGGTGAGAGTAAATTACAGCAATATTTCTGGGGAACTAACAGTATTTTCCCTGGTAATATTTGAAGAAGCAGCCTTGTAATGGTTAAGAACATGGACTCTAAGCTGGACTGCCTGGGTTTTTATATTTTCTTTCGCTGCTGTAACAAACTACCACAAATTTAGGGGCTTAAAACAATGTAAATGTATTCTGTTATGGTTCTGGAGGTAAGAAGTCTGAAACAGGTCTCACTGAGGTATATAAAGGTGTCAGCAGGCTTTGCTCCTTTGGGAGGCTCTCAGGGAGAACGTTTTCTTGCCTTTCCCAGCTTCTAGAGGCTGCCCACATTCCTTGGTGCATGGCCCCTTTCTGTCTTCAAAGCCGGCAACATCACAACATTCCCACCTCTGCATTCATCACATCACATCTCCTCTCATTCTCCTGCCTCCCTGCCCTTTCCTTTGAAAGGATTCACGTGATTACGTTGAACCCACCCAGATAATCTAGAATAATCTCTTTATCTCAAAGTCCTTAATTGAATAACACCTGCAAAGACCCTTTTGCCATAGTAAGGTGACATATTCACAGGTCTCAGGAATTTGCACGTGGACATCTTTAGAGGCCACTATTCTGCTACTACAGTTTGCATCTAGACTCTACCACTTACTAATCGTGTGATCTTGAACAAATTATTTTGCCTCTTGCACCAGTTTTCTCATCCTTAAAATGGGGATAATAATGGTATCTATTCCACTGGATTGTCAGGAGGATTGAATGAGTAAATATTTGCCAATGCTTATAATAGTATCTGAGACACAATAAATGCTATGGAAGTATCTGCTAGCTAAAATATATTAACCAGGCCAGGCACGGTGGCTCACACCTGTAATCCCAGCACTTTGGGAGGCTGGGGCGGGTGGATCACCTGAGGTCGGGAGTTCAAGACCAGCCTGACCAACATGGAGAAACCTCGTCTCTACTAAAAATACAAAATTAGCCGGGGTGGTGGCGCATGCTTGTAATCCCAGCTACTCGGGAGGCTGAGGCAGGAGAATTGCTTGAACCCGGGAGGCAGAGGTTGCGGTAAGCTGAGATGGTGCCATTGCACTCCAGCCTGGGCAACAAGAGCGAAACTCCATCTCAAAAAAAAAATAACCAAATAAAAATATTAAAATACAAACACTTTGATCTAGCAGGCCTATATTTATAATCTATTTCATAGGAACAAAAGCTTCCATGATTAGGCTATATAACTTGGATATTACTAAAGTGTTGTCCATATTGGCACCAAAAGAAAAAAAAAAGGAAAGGAAAACGAAAGAAAGAAAATGCACAAACAGGAAATTACCTGAATGCCAGCAAAACGACAGTGATTGAATCAATTGTGGCCCATCTGGGATATACCAGAGCTATTAAAGAGAATACATCTGATCTGTGCCTATGCACCTAGAGGAATGCTCTGAGTGAAAGTTCGTTGAGAGGAGGAAGTTCAAAGTAATTATATGACTTGATTTATTTCTTTCTTTTTTTTGAGACGGAGTTTTGCTCTTGTTGCCCAGGCTGGAGTGCAATGGCACCATCTGGGCTCACCGCAGCCTCCGCCTCCCGGGTTCAAGCAATTCTCCTGCCTCAGCCTCCTGAGTAGCTGGGATTACAGGCATGCGGCAACACACCCGGCTAATTTTGTATTTTTAGTAGAGACGGGGTTTCTCCATGTTGGTCAGGCAGGTCTTGAACTCCCGACCTCAGGTGATCCTCCCGCCCCGGCCTCCCAAAGTGCTGGGATTACAGGCGTGAGCCACCGCGCCCGGCCGATTTCTTTCTTTCTTTTTTTTTGAACAAACATCAGCCCCCAAAATTATTGTAGATATCTAGGTCAATCATTTAACATGTTCTGTTTCTTCCTCTGGGAAATATGTATAACGACAATTCTCACTCAAGGGGCTCTTGCAAAGGTTAAGTGGCATGGCTGACATGTGTCAAGTCTGTACCATCCTGCAAGCAGCAGCCCAGTCTGGCATTTGTGTAAGGCGGTTTCAGTGGAGAGATGTGTGGAAGGGTGCACCCCACGATGCTCACCTGGTGCTTCCTCGGTGGGGAAGGGAAATTCAGAAGTGGTGGAAAGAGATGATTGTCGTTTCGTATATCTTTGTATTGTTTCCCGGATGTTGAAATTGTTACTGTAGTAACTTTTTATACTCATGTGTTATTGGTAGTTTGGATACTATCACCATAACCACAAACACTGAATTAGGAAAAGCAGAAACCTAGAAACATGCCATGATTCAAAGTCTGGTATTTTTGGAAGAGGAATTTAATAACGAACGTTTTAAGAGGAAAAAGTCAGGAGAGTCCTAACCCAGGCCAACCTTGTGTGTCCACAGCATCTACTGCCGAGGATGTTCCAAGCCGCTGTGCTGCTCGTGCGCGCTCCTTGACAGCAGCCACAGTGAGCTCAAGTGCGACATCAGCGCAGAGATCCAGCAGCGACAGGAGGAGCTGGACGCCATGACGCAGGCGCTGCAGGAGCAGGATAGTGCCTTTGGCGCGGTTCACGCGCAGATGCACGCGGCCGTCGGCCAGCTGGGCCGCGCGCGTGCCGAGACCGAGGAGCTGATCCGCGAGCGCGTGCGCCAGGTGGTAGCTCACGTGCGGGCTCAGGAGCGCGAGCTGCTGGAGGCTGTGGACGCGCGGTACCAGCGCGACTACGAGGAGATGGCCAGTCGGCTGGGCCGCCTGGATGCTGTGCTGCAGCGCATCCGCACGGGCAGCGCGCTGGTGCAGAGGATGAAGTGCTACGCCTCGGACCAGGAGGTGCTGGACATGCACGGTTTCCTGCGCCAGGCGCTCTGCCGCCTGCGCCAGGAGGAGCCCCAGAGCCTGCAAGCTGCCGTGCGCACCGATGGCTTCGACGAGTTCAAGGTGCGCCTGCAGGACCTCAGCTCTTGCATCACCCAGGGGAAAGGTAAGCACGCACGCCACCTTCCTGGGCGGCCTGTGCCTCTGCTGCACCCTAGGGAAGGCGAGTCAGAAGAGATCATCTCCATTTGACAGAAAAGAAAACTGGGTGTTTATTCAGTCTTTGGGGGTTGGTAAGGTCTTAGGTTCCAGGGCACAGGATAAGGGGGAGATGAGGCCCTGACAAAGGGCTGCAGCCACCCAGAGGGGACACATTTTACTAATTTACAAGACTCTGTGGATTGACCTAGCGATGACTCATGGGGAACACGTGAAAGTTGAAAAACTGCAAAGCTGAGAATCAGACCCAGTATCATTTTGGCGCCAGAGGGACCAAGCACTTCAGGAGGTTCTCTTAAGCCACCGGTGTCTCGGAACAGAGAAGTCAATTGGGACCTGGGGTTACGGTAGAAGGGGGCTAAGAAAACCTCCTGGGGATGGTTGGATGCTTACCCAAAACCATACAGTGGCTCAGTGGAGGAGATCCCTTGTCTGCAGGATGACCTGCTGTCTGCCAACCTTTGCGCGCCCTGCCTAGTGTTGGACGCTTGAGAGGTAAGGAGACACAGACTAGTTTCTGATCTCAAGGAGCCAGAGCCACTTCACGTAGCTGGAGAATGAGACAGTGCTCAGCTCTGCAATCCAAATCCGGGAGATGTAGCAGCTGTGTATTAGCTGGAACAGGGGGGCTTTCAAAATAAGGGGTAGGGGGAGTGTGCCAGAGAGTCTCCAGGAGTCTTTGACTAAATCTCCAAGCTGGAATGTGAGCTCTGAGCAGCTAGTATAGGATGCCCTTACTGGGAAAGGGGAGGGAGGCTATGGAATCTGAAGGCACCTGGGTAGGGTGCCAGTGACAAAGAGCTTATTTACTTCTCCTGGAGCTGGACATGGGTCATGAAGGATAATCTTAGAGGGCCTGGACCTGTGCCTTCTCCACCTAGGTAGTGAATGTCACCCATATTAAGGAAATGACCCCACAGAGTTTACACAGCTTGCCTTGGGTGTTATAACTGGGCAATAGCAGAGAGAAGGGTTATTTTATTCTGAAGCATAAGAGATTTAGATTTAATAAAAACCAGGCTGCAGATAAGGAAGATCATGGAGCTCTCACTATATGTAGAGAGTCAGTGAGCCGGTAGTGATGGCTTTATGATTGCGCACACTTAGCCTTGCTGTTGGCTCAGAGATGGAGAGAGGTACACTTGGGGTTTGGAGCCAAAAGCAAGCACTCTAATGCCACCTCCTTTTCCCTTCTGGCTGGGTTCCTGCCCACTGCATTCGAGAGAGCTCTCCTTCCAGCTGCCCCTCCAGGGAGTTGTCCAGTGCTTTGGGATGCCCTGGAAAATAGGTATCCTGGAAAAGCAACAGGGACCTCCTCTCTATCACTGTCCCAGGTCAGGATGTCCCTTACCAGCATGTCCTTGACCTGCCTGTGACCTTCTTTGTGTTCTACAGATGCAGCTGTATCCAAGAAAGCCAGCCCAGAGGCTGCCAGCACTCCCAGGGACCCTATTGACGTTGACCTGGTGAGATGGGTTTGAGGTCTGAAGGGGTGGTGGTGGGGCCCAGCAGGTCAGGCAGGTTGTGAGTCCTGCTGTCCCTGTGTGTGCAGGGAGAGCGTCTGAGTGAGGGACAGCAAGTGGCTGGACTGGAAATTTCAGTGAGAGGAAGTAAAGGAAGACATTAAAGAAGGGTTGGCTGGCTAGCTGGCTCTGACTCTAGGCTCCTAAATGCCAAAGTTGCTCTTGATGGGCCATGAGCCAGGTTCAGTGGGGGTTAGATGTGGGGTAGACAGTCGGCCACAGATCAGGGCTGCTGCAGAGGGAATTCCAGCATTAGATGGCATATTAGTGCCTTCCAGCCATGAGAAACTATGGTTGTCAGATGTATGGTTAGATATAGGGTCAGCAGTCCTGAGGGATGTGCAGATGTCCTCTCCCCTCCTACACCCTACCCCCAATGTGGGAGCCTTCTCTTGGAGTCAGAATAGGTGGGCCTTCCCCTGCTCTTTCCCCACAGATGGTTCTTGGAAAGGAACGGGGAATGGTGCCAGGAGTCAGATTTCGATCCCAGTTGCCCGGGTTCTGCTGGTGTGATTCCAGGGCCACCATACATGTAACAAAGCAGACTGTCTCAGGGTTCAAGGTATCCATGTCCCATCTAATGCTGGCATTCCTTCTGCAGCACCCCTGACCTGTGGCTGTCCAGCTTTCATGTACACATCTCCAGGGACAGGAAGCTTGCTCATTCTAGAGGCAGCTGCTCCCAACTCTGGACTGCTCTGACTTAGAAAGTGCTTTTCCGAGTGGAAATGCAGTGGTGTCCCTTTGACTTGCCCCCTTTGGCATTCACAAGTATGGCTCCTTTCCACCAGAATAAGCATCCTCGGTTTCTTCCTGGACTTGGCATCTGGTCTCTTCCCTAGCCTAGTCACTCAGGTTTGCATGCGCCTAGCCTATCAAGGATCTGGCCCAGGACTGGCCAGTCCTTCATGGACAGCAGGTCTTCTGGTGGTGGGTAGGGGCCTAGCTTTTGCCATGGCATGACCCATAGGAGAGAGAGAGTGCTGTAGGTTGAGGCAATCAGGAGAGGCTTCCTGGAAGAGACAGGACTTAAGAGTCTCAGAGTTTTAGAGCCAGGCAAGAGCATGGAGTCTAACCCCCTTTTTTTCACAGAGGACGAAGCTAAGACCCAGAAAGGATGTGACTTACCCAAGGCTACACACAGCAAATTAGGGGCAAGATTAAAAGCTGACTCTGTTTTTTGTTTGTTTGTTTGTTTGTTTTTTAGATGAAGGCTCGCTCTGTTGTTCAGGCTGGAGTGTAGTGGCGTGATCTCGGCTCACTGCACCCTCCGCTTCCGGGGTTCAAGCCATTCTCCTGCCTCAGCCTCCCGAGTAGCTGGGACTACAGGCGCGCACCACTACGCCTGGCTAATTTTTGTATTTTTTAGTAGAGACGGGGTTTCATCATATTGGCCAGGCTGGTCTTGAACTCCTGACCTCATGATCTGCCCGCCTCGGCCTCCCAAAGTGCTGGGATTACAGGCGTGAGCCACTGTGCCCAGCCTAAAAGCTGACTCTTAACTGCCTTGGGTACTGCATTCCTATATACACAACCTCAAGTAAAAAGAGGAATTTTTTAATATATGTGTGCATAATACAATCACATAGTCAGAAATAAAAACATAGAAAGTGATCAATAGTGTCTTACTCCCACTTTAGCCCCCAGTTCTTATGCCCATATAACTATCTTTTAAAAATTTCTTTTGAGACAGTCTTGCTCTGTCACCCAGGCTGGAGTGCAGTGACACAATCTCGGCTCACTGCAACTTCTGCCCCCTGGGTTCAAGCGATTCTCATGCCTCAGCCTCCTGAGTAGCTGGGATTATAGGCACGCACTACCACACCCAGCTAATTTTTTGCATTTTTAGGAGAGATGGGGTTTTGCTATGTTAGCCAGGATACTCTCAAACTCCTGGCCTCAAGTGATCTACCCACCTCAGCCTCCCAAAAGTGCTGGGATTACAGGCATAAGCCACCGTGCCCCACCTCTTTTTTAAATTCTTATATATCCTTCCAGAATGTATGTAATTACAAGCAAATATTATTATAGATATTTGCCTTTTGCATTCTGTGTTTCACAAAGGTAGGATAATACCAGATACACATGGTATCATACCAGAATTCTTATCCTATCAATAGGTAGAGAGCTTCCCGATACCTTTTTGCAGCTGCATAATGGACCATTAAATGGATATGGCAGGCTTTATTTAGCCAGTTCCTTGTTGCTGCATATTTAGGTTGTTTTGCTATTACAAACAATGCTACAATGCATGATGTTTGCAAATAAATAATATAAAATAATAAGGCCAGGTGTGGTGGCTCACACCTGCAAACCCAGGACCTTGGGACACTGACGTGGGCAGATTGCTTGAGCCCAGGAATTTGAGACCAGCCTCGGCAACATGGTGAGACCCTGTTTCTACAAAAAGTGTAAAAATCAGCCAGGTGTGGTGGCACATGCCTATAATCCCAGGTACTCAGCAGGCTAAGGTGGGAGGATCACCTGAGCCCAGGGAGTTTGAGGTTGCAGTGAGCTGTGATCACACCACTGCATTGTAGCGTGAGTGACAGAGTGAGACCCTGTCTCAAAAAGCAAATAAACAAATAAAATCAAAATAATAATAGGGAAATGCCCTTGGTCCACAGACTCAGCTGTCTTCCAGATGCTAGTCATTGGTGAATGAACAACAAGAGAGCCTGCACTGTCTTGTGTGAAGGTCTAGGTATTTTGGGTCTTTGTCTTGATAAAATCAGAATAGACGTGGCCTCTCACTATCAGCTAGGAAGCAGTTTGAACTTGGAGTATCAGAGGGTTGCTCTTTTTGCCAAGCCTCTGGCTTCAATCCTTGCCTGGGGATGGCAGTGCTGCTGAGGGAAGGAAGTGGGGAACACTGTGAGTGCAAGGACAGGTGAGGCAGGCACAGACGGCTGTCCCAAGGGAAAGTGCTCCATCAGCTGTGCCAGGAGAGAAGCAGCTCTTGGGTCCGTGTTTCTGCCTTAGAAGGCAGGAGTTGGGCATCTAGCTCCAGCACTCATCCCTCTTGAAACTGCTGGTTTGTTTACTTTCATTGCAACTATATGCCTGGAAGAGATGAAGAGAAAGCTCAACAGGCTTCACTAGGATTGTTTGGGTGGGGTGGCAGCAGCTCAGATATTTTCCCTCCTCTGTTTTTCATAGGCTTTTTGTAATCGTGTTATAATACTTTAATGGAAAAAAATAAATTTATTATTTTAAAGCTATAAAAATTATAAATCAGTCATTATGATGTGTTTTTCTCTACTGAGCCCTCTGGTGTGTTCCCTGTTTTATTAACGTGGATGGAGGGTGTGTCAGGGAGGTTGGGACAGAGGCAGAGAAGAGGCCAGCCCGGCCTTCGGGGAGTTCGTGGCCTGTCTGGAAAGAGGGTCTTTTACATACCAGCAGTTTGCAGAGCCAGACACAGAACGATAGAGCAGGACCTTTTAAACTCCTTTTTCAAAAAAAAAAAAAAAATGTTTAATTTTGGTAAAATACACATAATATAAAATACATCATCTTAACCATTTCAAAATGTTCAGTTCAGTGTACACTAAGTGTACAGTTCTTTAGCATTGAGTACATTCACACTGCTGTGCAGCCATTACCACCACCCGTTCCAGAAGGATTTTCATCTTCCCAAGCTGGAACTCTGTTCCTGTTAAACAGTCACTCCCCATGCTGCCTCCCTCAGCCCTGGTGACCCTTGTCTACTTTCTGTCTCTATGATTTTCAATACTCTAGGTACCTCCTATAAGTGGAATCACACAGTATTTGTCCTTTTGTGACTGGCCACTTTCACTTAGTGCAGTGTTCTCAGGGTTCATCCATGTAGCATGTGTCAGAATTTCCTTTCTTTTTAAAGCTGAATAATAATATCCCATTATGTGTATATGCCACATTTTGTTGATCCATTCGTCTGTTGGACACTTGGCTTGTTTCCATTTTTTGGCTATTGTGAATCTGCTACTATGAACACGGGTGTACAGATATCTCCTTGAGACCTTGCTTTCAATTATTTTGCATGTTTACTCAGAAGTGGGATCGCTGGATCATATGGTAATTCTATTTTTAATTTTTTTTTTGAGGAATCACCATGCTGTTTTCCATTTTTTATTGCACCATTTGACATTTCCACCAGCACCGTGTAAAAGTTTCGACTTCTCTACAGCCTCACCAACATTTGTTATATTGTCTCTCTCTCTTTTTTTCTTAAATAATAGTCATTCTAATGTGTGTGAGGTGGGTTAAACTCTTTTTTGACCACTATCCTCTATTGAAAAAAAATATATATTATATCTTAACTTATAGTATATACATATGCACACACATACTGTAGCTAAAGGAGTTTTATAAAATAGGCTGGGTCCAGTGGCTCACGCCTGTAATCCTAGCACTTTGGGAGGCGGAGGCAAGTGGATCACCTGAGGTCAGGAGTTCAAGACCAGCCTGACCAACATGATGAAACCTCGTCTCTTCTAAAAATACAAACATTAGCCGGGCGTGATGGCAGGCACCTGTAATCCCAGCTACTCAGGAGGCTGAGGCAGGAGAATCACTTGAACCTGGGAGGCAGAGGTTGCAGTGAGCCAAGATTATGCCACTATACTCCAGCCGGAGCAACAAGAGCAAGACTCTGCCTCAAAAAAAAAGAAAGAAAGAAAAAAGTTTTACAGAATAAATTATGATTGTTACATGGGATGTACTCTGATAATTTCTATTCTATACTATTATTTTTGACATAAAAATGTTGGTCATGCCCCACTAAATTGCTTTCATGGTTGGATCCACTAATGGGTCACAAGCTGCAGTTTGAAAACCACTGGCCTTAAGAGTGACTAGACTTTCCTAGAGGCCTGGCAGAGACAGATCCTGGGAGATAATCTGTTCTCTCTCCTTCCCAAGACAGGCTCACACTCTCTAATCCAGAGAGGTCATCCTCCTTCTTTTTAAAGATTTGGAGAAAAAGAAAGGAAGGAAGGAAGGGAGGAGGGAAGGAGGTCAATCCATCATGGCCAATGGTGTGGAGCCCATGAGAAGGACCCACCGCGGGGTTCTGGTACCTGGCACACCCAGGAGCCAGCACTGTGCTGGGGCCATCCCTGCCTTAACTCACATGCCCAGCAGCCTCTGTCGGGAGCCTCCTTGCCCAGCCCCAGCTTGCCTGGGTGGTTCTCAGAAGGCCCACACAGGAGGGACAGAGCTTGTCCCTGTGAGGAAGGTGTATCCCTGCCACTCACTCATTTTCAATAATCGGTCCAGTGGACGCTTAAAGTTCACAAAAGAGAGAAAGATGGTGGGGAGGGACATAAAAGACTCATCAAGTAAAGAAAATGAAGAGCACGCCGGGGCAGGAAGAGGCCTCCATTTCAAGACACTGGATTTGGCCAGGTGTGGTGGCTCATGCCTGTAATCCCAGCACTTTGGGAGGCCGAGGCGGGTGGATCACCTGAGGTCAGGAGTTTGAGACCAGCCTGGCCAACATGGTGAAACCCCATCTCTACTAAAAATACAAAAATTAGCTGGGCGTGGGGCTGTGCGCCTGTAATCCTAGCTACTTAGGAGGCTAAGGCAGGAGAATCGCTTGAACCCAGAAAGCCGAGGTTGCAGTGAGCCGAGATAGTGCCACTGCACTCCATCTCCTGGGCAACAGAGCAAGACTCTGTCTCAAAACAAACAAACAAACAAACGAACAAAAAACACTAGATTCAAGTCAGGCCAGGGGTCCCGAGGTATGTGACCTTGGGAAATCACTTCACCTCTCTCTGCCTCCGTTTCCTTCTCTGAAGATTGGCAATAATCATAGTACGGTACCTACTTTTTTTTTAACTATAATTTTTATGGCGATAAAATTCATATAAAATTCACCATTTTAACTCTTGAAGTGTGCAATTTAGTGGTATTTATTACATTCATAATATTTTTTAAATTTTTTAATTTTTTTTCTTTGCAGCTCCAGCTCAAATGATTAAATTTTTTTCTTTTTAATTTTCAGAGATGAGGTCTTGCTATGTTGCCTAGGTGGGAGGCTCAGGTGATTCTCCCACCTCAGCCTCCTGTACTTTCATAATCTTGCACAGCCATTGCCACCTATCTAGCCCCAGAATATTTTTATGCCCCCAAAAGGAAACCCCTTACCCATGAAGCAGTCAGTCCCATTTCCCCCTCCCCCATCTCCTGGCAACCACCAATCTGCTTTCTGTGTCTATGGATTTATCCATTCTGGGCATTGCATGTAAATAGGATCATACAATGTGTATTTTGTGTCTGGTTTCTTTTTTTAAAAAAATTTATTATTATTATTAGTGTTTGAGACAGAGTCTCACTCTGTGCCCCAGGCTGGAGTGCAGTGACACAATCTCGGCTCACTGCAATGTCTGCCTCAGGGCTCAAGCGATTCTCATGCCTCAGCCTCCCAAGTAGCTGGGACTACAGGTGTGCACCACCACGTCTGGCTGGTGTCTTTCATTTAATGTAATACATTCAAGGCTCATCCATGTTGTACATCTCAGTCCTCATTGCTTTTTATGGCTGAATAATATTCCATCACGTGGCTATACCACATTTTGTTTATTCAGTCATCAGTTGATGCACATTTAGTTTGTTTTACCTTTTGGCTATTGTGAGTAGTGCTGCTCTGAACATTCACGTGCAAGCTTTTGTTTAACCGTCTGTTTTCCCTTCTTTTGGGTGCACACCTGGGGTAGAATTGCTAGGTCATATGGTAATTCTACATTTAATTTTTTAAGAAACTGCCTCTATTTCATTTTGAGATAGGTACATGAAGCACTTAGCACTGTGCCTGGCACAGAGTAGTAATAAGAACAATATTTATCATCATCAATGACATTTTCTAAGTGCCAGGTATTTTATATTTTACTTGTATTAACACATTTCATCCACATTACCATATGAGGTAGATGTTATTATTCCCACTTTATAGAGGGGGACTGAGGCCTGAGGAGTTTTAAGCAATTCATCCAACTTGTGTAGTAGCTGACCCAGGTAGAGTTAAGGCTGAGAGGGCAGAGGCAAGGTCCCAGGGAGGCCAGTTTCAGCTCAATGGGAGGATTTTCTCACTGTTAAAGGAGCTGCTTTCGCCAGTAGTGAGCACTTTGTCCCTGGAGGTGTGTGTCTAAGTAGGGCTAATTACTGAGCATGTCCTGAGTTGGGCAGTGTGATTCCTGGGGTATCTTCCAGCCCTGTTAGGACACACAACAACCAAAGTGGTCCCTGGGCTCCAGTAACTCAGAGTCAGAAGGAGGTGATGCCAGTCGCGGTGGCTCGTGCCTGTAATCCCAGCACTCTGGGAGACTGAAACAGGAGAATTGCTCAAGCCCAGGAGTTCAAGACCAGCGTGGGCAACATAGTGAGACCCTGTCTCTACAAAAAAATTTTTTTAAAAAAAGGAGGTGATGTGATGGAGAGTTTGGAGGACTTCTTGTCCCCAGTGAGCTCGGAGCTTTGAGTCAGGGAGCCTGGACCTGTGACTTGGTGAGGCCCCAGGGATTAGGCCAACCACAGGTCTGGGGTACCTGGCCCTGGGGCTGCTGCCTAGTCATTTCTGACTCAATTTTCCCAACTTTGCAGCCCGAGGAGGCAGAGAGAGTGAAGGCCCAGGTTCAGGCCCTGGGGCTGGCTGAAGCCCAGCCTATGGCTGTGGTACAGTCAGTGCCCGGGGCACACCCCGTGCCAGTGTACGCCTTCTCCATCAAAGGCCCTTCCTATGGAGAGGTAAGGTTCTCCCCAGCCCCAGCCTTCCCTCCTGAAGGCCTGAGTTCCACCAGGAAAGTGAGCTGGCACTGGGGTGGGAATCCAGGCCTTCATCAGATCAGCTCTTTGTGGGAAAGTGTTTGCTCAACGCCTTCTCTGTGCTCTCCCCTGTTCTTGGCTGCATGGTCAGGGAGCTTCCCATAAGCATGGCCCACTCCCAGCCCAGCAGGGGTGCTGAGACACTCAGGGTTGTCAGAGGCCAGCAGAGACTGGTGGACAGCAGATAGTACCAGCTTGGGAAGGCTTCCTGTCTGAAGAGAGACGTAATCTGCGTGGTTGAGAGCAGAGGAGAGGGGACAGCAGGAGCAAAAGGGTGGCCACAAGTCCCTGGCAGTCAGGGCAGGCTCTGCCCACTCACCCCTGCAGGCACCTGACCTGGCTCTGTGACTCCCTCTATGCAGGATGTCTCCAATACAACGACAGCCCAGAAGAGGAAGTGCAGCCAGACCCAGTGCCCCAGGAAGGTCATCAAGATGGAGTCTGAGGAGGGGAAGGAGGCAAGGTTGGCTCGGAGCTCCCCGGAGCAGCCCAGGCCCAGCACCTCCAAGGCAGTCTCACCACCCCACCTGGATGGACCGCCTAGCCCCAGGAGCCCCGTCATAGGAAGTGAGGTCTTCCTGCCCAACAGCAACCACGTGGCCAGTGGCGCCGGGGAGGCAGGTAGGGAGGTGGGTAGGGCAGTGGCCTGGGTGCTGCCCGCCAGGGTCTGGGCGGTGCCCCTCTTCTGTATTTTGGCCCCATCCAGAAAGCCCAAAGCCAACAGGAGTCCCTTATTCCCACTGAATAAGATAGGGAAAGTTCACAGTGTGCGTGGGGGTGAGAGTGGACACAGTTTACCATGTGTTTTGCCATGATTGAGGTGTGGGGAGCCTGACAGGCTAAAATGCACAGTTCTATGAGTCCTTTCTCCCAAACACTACTGTGCCTTTGCACAGGGCAGGTCTCCACAAGAAGTTTGTTGGCTGATGCCTAGCATACTCCCAGAGAGGGCTTGGGCATACCATAACAGGAAACTGGACTCCCCATGACCTTAACTCTGCTCTCTCAGTCTACACCCATCATTTCCCCAAGTGTTTCTGCAAAGGCCACCTACCTAAGTATCTCATTTGTCAGAGTTATCTTCTATGAACACTGCCAGGCAGGTAGTCAGTTGGGCAGGAGTTGAGGTCAACCCAGAGGAATCTGGAACAAGAGAGTTCTAAGGATCTGCTTCACCCAGAGTACAGCTTTGTTCCTCATTCTGACTGAGCCCTAGCCTTGGTCACACACTGAGCACTGACTGATATTCCTTACCCACAAATGCTATTGGTAATCGATGGGTTTTGATTAACTAAATGAAGCGTCTTTTAACTCTAGACATCCCAGCTCATGGAGCTGAGAATGGGGACAGTGTGCTTCTTTAGGATTGCAGAAGGTTCCAGACCAGGTAGCAGTTGTCAGGCCTCCTGTACAGGGGGCAAATTCTGAATTCTGGGCAGATAACTTAATTGAATATTCATAGATAAGGCACAGCAAGAAATTATGGAAACCCATTTGTGAATTACTCAAATCCAAATGCAAAGCAGAGTCACATTGGCACACACAGTGGCTGTTCCCGTCCCCCTGCAGGGCATCCGTTTCCCCCAGCCGACTGGCCTGCAAGGATTCCCATAGGTGCACACCCACACCCCTCCCAGCATGCATCCTAGGCAGTTCATAATGCATCTCCCCTTCCCCGTTTCAGAGGAACGCGTTGTGGTGATCAGCAGCTCGGAAGACTCAGATGCCGAAAACTCGGTGAGTGGCCCAGAAGTTCAGCCCAGGACTCCTGCCTCCCCCCATTTCAGGTCCCAGGGGGCACAGCCACAGCAGGTGACTCTCAGACTTGCCTTGCGCCTGGGGAATTTTCCAGTGAGGCATTGAGTCCCAAGCTGTGCTGAGGACAGTCTCCAAATGACAGCTGCATGCCTGGACCACCCCAGCCCTCCCACTACACCAGGGCCAGGAGCTCTTCTGAAATGCTGATAGCATGTGTCCAGAGCCCTGTCTCTTTTCTGGAATGTCCAAGACCTTTGTCTGGAGCTTCCTTATGCATTTTCTGTCCTCTAAGTCCTCAGTGAGGAGGGCTGGACAAGAATCCATTCCTTGGTTTATTACAGCCAGTGGGGGCCAGTGAAGGGGTGTCAGGCCACAGGGCAGCTATATAGGGGCCAAACAAGTGAGGTTTGACTCCATCCATGTAGAAAGATATATAAATCCATTCCACAGTGAAACAGGTGGCCTCGTGGGTAGTGACCCTTCTGTCCCTAGAGGTTTATTACTAGAGGCTGGACTATCACCTGTCCAGGGGAAAAGGGGATCTGAATAGAGTGAAAGGTTGGACTGGGTGGCCCCTGAGGTCTCTTCCAGCCCTCAGTCTGAGGTTCTGTATTGGAAAGTGCATGGAGCCCATGGAGACCGCCGAGCCACAGTCCTCGCCAGCCCACTCCTCGCCAGCCCACTCCTCGCCAGCCCACTCCTCGCCAGTCCAGTCTCTGCTGAGAGCACAAGGAGCCTCCAGCCTGCCCTGTGGCACATACCACCCCCCAGCTTGGCCTCCCCACCAGCCCGCTGAGCAGGCTGCCACCCCCGATGCTGAGCCTCACAGCGAGCCTCCTGATCACCAGGAGCGCCCTGCCGTCCACCGTGGGATCCGCTACCTGTTGTACAGAGCACAGAGAGCCATCCGCCTTCGCCATGCCCTCCGCTTGCACCCTCAATTGCATCGGGCCCCTATTCGGACTTGGTCTCCCCATGTGGTCCAAGCCAGCACTCCTGCCATCACAGGGCCCCTCAACCATCCTGCCAATGCCCAGGAACATCCTGCCCAGCTGCAAAGGGGCATCAGCCCACCCCACCGGATACGAGGGGCTGTGCGATCCCGCAGCCGCTCCCTCCGGGGCTCCTCCCATTTATCCCAGTGGCTCAACAACTTTTTTGCCCTCCCCTTCTCCTCCATGGCTTCCCAGCTTGACATGTCTTCCGTGGTGGGGGCAGGGGAAAGCAGAGCCCAGACTCTTGGAGCAGGTGTTCCCCCTGGGGACTCTGTCAGAGGCTCCATGGAGGCCTCTCAAGTCCAAGTGCCTCTGGAAGCCTCTCCAATTACATTCCCACCACCCTGTGCCCCAGAAAGGCCCCCCATCAGCCCAGTCCCAGGCGCCCGTCAAGCAGGCCTCTGAGAGTGCTACCCTTCTCTTGTAACCTTGCAGCCAACACCCCTGCCCGGCCCCTGAGCTGCCTCCTCCAGCCCATGCTCTTACAGGCCCTGCACAGAGTAGCACTCATTAATTCTTGGTTAAGGAATGAATCAACGAATGAATGGCTATGCATGGACCTCTGGGCAGGGAGACCTGGGTCTTCTCTGGCTGAGAGGGGAAGGCTAAGGCATGGCTGAGATTCAAGCCACCATTCCAGGCCTCTTTGCCCAAGAAAGAAACTTCTGTCACCCTTGCACTCTCCTGTATTCTGAGTCCCTGGCCAATAGCACAGCCTTCCATGCCCCGACCCCCACCCCAAGCCTCTCCACTAGGCCTCTGCCAGGATCTAAGCCCATGAGCACAGGGACTGGCTATCCCAAGACCTGGCAGATGTGGCTGCTCAATAAACACTTGTTGAACCATCACCCTTGCGAACCCTTATTCCACGACCATCGCGTTCTCCGATGGATCCAGCTCCTCCCTGCAGGCTGTTCTCTCTTCCCTATGCTGGAACTCAGTTCTCCTCTGGGGATACCATGTCCCCTCTTCCTCCCACACTCATGGGCATCAGAGGTGGGAGGTAGGGTCAAGGCCCCCTGCTTCCTGGACTGTTCCAGCCCCTTCCTGGCCGTCTGGTAAGATCCTCTGTCCCTCTCAGGGTGGGCCCCATGCTCCCCAGCTCATCCCAGACACCCACCTGCCCACCCTCATTGAGGGCAGACGTGAGCATTCACCTCCCAGATTTCTTCTCCCTGCTCAGGTCCTGCCTTCCTCCTGAGTGACTTCTATTTCCACCCACCTGCCCGCCACTCCTTAACCTCTCAGGGGTTGTCACCCCATTCCCCCAGACAGCTGCCTGCCCCGTGGCCGTGCCCTGCACCTTGCCATCACCGAGCACTGTCGGTCCCTCAGCCGGTCCTCTCAGACTCTGACCGCAGCCTCCTGTTCCTTGAGCTCTCAGTCCTACCTTCGCCTCCCTCCAGCCCCGCGCACTCCCCATTTCATCCCATCTTTCATCAGAATTGCAGCTCCCTGCCCAGCAGAAAATCCTGGAAGGACTCAGGAGCTTGTCGCCTCTGTGCTGCCACCTGGAGACCGAGATCTGCAGGAGAAAGGCCTGGGAAAACTATGAGTGGTTGCCTGTGACTGCTAAGGGCTCCTTGGTGCTCCGCCCAGCATGTCCTTTTGCTCTGCAGGGCAGCCCCCGCCTGCCTTTCTTCACTGGGCCCTTGTCCCAGCCTCACCCTCAGCTGATGGCGGCACCTTCTGCTCCAGGGAGAAAACAGGAGCTCTCCAATGGCATAGGGACAGTTGACATCTTGCTATTTACAGATCCCCATCGCACCCCTTCCCTGCCCTCGTTAGGGTGGAAGGGATGTCCACCTGCCTCCAGGACTCACCCTGTGTCCTGGCCCCAGCCCTTGACCCCCTGGGAGCCTCACTCCTCCTCCTCATCTCTCTTGCATCTTCTAATGTATCCACTGCCTTCTGAACTAAACACCCTGAATGAGGTCTTTCTCATCTCAGAAAACTCCACCCACTTCTCTCTCCAGCTGTCGGCTCCCCTTCCTCTGCTCTCCTTGTTTACACTTCAGCCCCCTCCTTGCCCCTTCTTCACCCCACCTCCTGCGCTTCCCCGCCAGTACCAGGGTGGCCTCTGTGCCTCTAGGTGCAGTGTCGCGTTTAGTCGTTATTATTCTTGACCGGCGCTGGGCCCGGTCTTTCCTGGAAAGATCGCCTGCTCGGATGCAGCTCTGGGCACTCCTCCCTCTCCTCTGCAGGCTCTGTTTTTTCTTGGTTGTGGTGCTCCTGCAGGTTTGCTGCTGGGCCCTTTCCTCTTTTCAGTCTGTGTATTCTCCCAGGTGCTCTCAGCCACGCCCCTGACTTCAGTTACTGCCCAGGGGTAGCTGATACCCAACACTCGCACCTGCCTGCCAGACCAGCATGGCCAGTGACCTTCCAACAGCTCCGCATGGATGCCCATAGGTACCTCAAACTCAGCACCTTCTCCTCCCGTCTCACTGGCTCGCCCCACTCTCTGCCCGGTTGCACAAGCCAAGACCCCATAGCCACCCAGGGCACCCCCCTTTTGATTATTCCTCACATCCAACCAGTTATTGAGTCTTGTCTTTCTAGGGTGTAAATTCCTCTGAAATCTGGGCACTTCTTTCCATCCCATAATCTTGGTAAAATTAAAGCTACCACTGACCCTGGGTAGAGGCAGAAGCCTGGGAAGGAAAGGTGGAGAACAGGTTTGGAGTGCCAACAGTGTCCCCAGATGTCATGGAGAATCAAGTAGAGGGACCCCAGCAATATTGGGGGTGGGGCGGGGAGTATGTAATGCTCAGCTATCAGCAAGGAGTCATTAGGGGCTATACAGTGAATTAAGGGAGGGGGTAAAAGCACATTTCAGGTGATGATGAATTAAATACCTAGGAGCTCACATTAGAGAGCAGGCCTAGAGACGTGGGGAGAGAGCCAGAGGACCGCTGCTTTTGTGTATGTAGCTTTAAGACACAGGTTTTAAAAATTGTTATAGGAGTCCCAAACTTTAGAAAATATATATTTTAAAACCCCAACAAATTAGGTCCCCCCTATGCATTTCTCACCCAACTTCTGGGCCCTTTCCAGACCCCTGGTGCCCCCAGAGTACACCCAGCACCACCACTGCAAATTCCTACTCCCCAGCTTGGAGGGGGTGGGGTGATATTCCCAAGGTGATCCCGGCTCCCACCTAACCCATCCTCCCCAGCTCTGCAGCTTATATCCAGCTTTGCAGTGAGGAAAGTTGCAGAATACTGGTCTGCTACATTACTACTTTCCAAGTGTATCAGGGCATTTAGGAACCCCTCCCTTGAGCTTCACCTGTGTCCTAGGGATTCAGTGAGAGACTGTTTGTGCAAGAAGGAGCGAGAGGCAGCAGGGCATAGTCATGGGGTGGAGCAGTGAGTCCCCCAGGCCTGGTTGTGGAGTACCTGGGGTGAGGACTTTGCTTAAAAACTGCCAGAGTGGGTCAGCAGTGCGCCTGCCCTGGGGCCCCTGCTTTAGGATCCAAAGTGGAAAAGATAGGTGTTTTCACCCACTCTTGTGACAGATTACTGGCTCCGGTGCCTTGGTGGCAGCAGCAACAGGAGGGGGCCAAGGTGAGGGGGCAGCCTGTGGCAGAAGTGGCAGTGGTGACGGCGGAGGAAGGGAGGCCTGTGGGGAATGGCTGATCCAGGGGAGGGGCCGTGGCACTGGTGAGTGTGCATCTGAGAAAATGAAACGGAGGTGCTGGCCAAGAGGCTGGAGCTAGGCAGAAGGGCAGCAGAGGCCACAGGCTGGCCGAGTTTATGGTCCAGTTCACTCATAACATGTGCAGTATTCCTGGGGTCTTTGAGGCTTTGCAAGAGCTGGGGTTTTGTGTCTGCAGAAAGATAGCAATGCATGTGTCTTGCCAAACTGATCCCAGCTGTAGCTGATGCTTAAGTGCTCAGAAAGTTCTTCAGGAGCTTGAGGGCTCTTGATAAGCATGAATGTCAGATGTTCTGTATCTTCCAGAGGCTGGATGCTGACTATCAGAGTTTGGCTTGTGTTTGGCTGATGAGCAAACCTGGAATGAATCAGTGATAAGGACAATTGTTCTCAAGCTGGCTGTACACTGGGGAGTTTTCCCAACTACAGATTCCTAGGTCCTACGCCCTGAGATTCTAATCGAATCAGTCTTGGGTGCAGCCTGGGCCTCAGTTTTTTCTTAAAGCTATGAATGCCTAACCAAAGTCAAGAACCACTGAATCGGGGGATTCATTGCATGTCTGTGGTAGAGGAATGCTGCTCATTTGTTTATAGATGTGGCAGTCTTGAATGCAGGTGACATTTTCATACCAGGGTGTAATACCGCAGAGGAGGGGAGAGGCTGGATCTTCCCTGATGTACCTCCTGGACTTTTGGAGTGTGATTACAATGCCAATCCAGCCACTTCCTCTGAGCATGCTTGGGACGACTGTTAGACCTGCTGTGTTGAGTTAGAATGCACTTGACCTGCTCAGGCCGTGAAATCTATGAGGAAGGGGAGTGAGATGGATGTAGCTCATGAGCCAGATTGCAGGTGTATCCAAGTTGCATGTATATCCTGAAAAAATCCTGGCTCTCACGAGGCTCAGCCTGAACACAGTTTTGCATTCAAAGAAACAATGTCCATTAACCAAGTATAATAAAGAAATAAATCCCAGTATTTACTTGCATCTTTTGAAAGAACATTAAAGGGAATCCAGCTCATAACCCCAGCAGCACTTCTTCAGTCCTTCTTCCCCTTTTCTTTGGCGCCTGGCATCTCTCACTGCATAGCAAAGCTTTCCCCCTTGATTCCCGGTCCTCACACGCAGGCTCAAGGCTCTGTTTCCCATCTTCTTTCTTCTGTCCCCCTTCCTTTTCTCTTCCAAGCAAATCTAAGTCTTTTCCAGTGACTGTCCCTCTCTATGCTCCCCCGACACCCAGTTATCCTAATTTGCGGAATAAGGCCAAGGTGTGGGGCCTGGGGGCAGAATGGGAGAGTCTCCCCTAGTGAGCAGGGAGGGGAGTATGTTCTGCACCAGGCCACTATGTCTGATGGCCCTGCTGGCAAACCTGAGTCTTTCAGAAAGTCTTGTTTAAATGCGTCAGCACTCCCCAGCTGTGATGCTGGAGTTTAAGGCGGAGCAGGGGAGAATTCTGGGTTTACAGCTGGCTGGAGTTCCAGTGAGACCAGCTCCATGGGTGGCCATACTTTATGGAAGTCCCCAAGGGCAAGAGGAATTTTGGAGGAAGTGAGTCAGGGCTGAAAGGTCCAGCCTCTCCTCCATTAACAAGCTTGGTGGAAAGGGGGTGTCCTTTTATTAAAGGAGACAGTAGAGGTTTCTTAGAGAAGGCAGCTCGAGTAAGTTTAGGACAAAGGACATTTCCCTGGCCCCGGGACAATGGAAGGCTCTAAAAACGAGGTTCTAGTGGCTGCCATAAATGACCCTGCTGTAACGATGGGAGGGGTGGCCTAAAGAGACAGTACTGTGGCTCTCCAGGGAGCTCTCCTCTTGGAAGAGCAGATCTGAAGGCGGGAAGACTGGTTCTAAGGCCGAGGACATTGCCCCGAGCTTTGTGGAGGCACTCAGGAACACAAAGGGGCATTTCCAGTTGGGTTTGGAGCAGGAAGAAGAACGAAAAAGAGAAAGTCCTGTGTGCCATGTCAGTGGGTGGCAGCATGGACTCAGCCTCAGCTATTGGCACCAAGGATCTGAACCAGGGAGGACCCAGAAGGGGAGCCCAGCCCCTCCACCAGCTTGTGGGAGAGCGCTGCTGCCCAGTGAAGCCTGGAGAGAGGAAACAACTGGATTCTCCCAAAGCGGGAGAAGGTGGAGTCTCCAGCCACCCAGCTACAAGCTAGGAAGACGCCTTGTAGAAGGCTCCTTACAGGGAGGAAACCGAGTTGGAAAGGCGAGACAGCAGTGTGGGCTCACCCGGAGCAAGACGTGTGAAATCAGCTTTTGACAGCGTGGCTGAATGAGGATCTGGAGATGCGAGGCGCTGGGCAGACTCTCTGACTAGATCCCTGGATATGAAGAGGCAAAGCCAGCTCTAGATGGATTCATAGTGAGTGTCTGCTTCTGACAATAACTGGCAGAAAGCTGATGAGCCTGGAGCAGGGCTGTGAAATGCAAATCCAGTGAAATCCAGCCACTCCTACAAAAACCCACCACATCTTAGGTTACTTGTGGGTGGAAACGCTTTTTCTCTCAGTTGAAGCTTGGTTGGAAGCAGATGTTTCACTTGGGCATTGGAAGGGTCTGGGGAAATGTGCTGCCTCCTAGGCCAGGGACATTAGCCAGAGGCCAGAATTAACTGAGGCTTTAGCACCAGGTGACACCAACTTCATTGAGAAGCCAGCGGCAGTCCATAAAGAGGAAAAACCCAAGGCCTGCCCTGGACTCTGTCCCAGCCATGCTCCCAATTGGCCCTGTGATCCTGTCCATGTCTCTTCCTTGCTGGTCTCTGGCTAACGTCCACAGGTGGCATTCATGGGAGGTTCCAAGTTGGTCATCAAAGACTAAACATCTGGGCTTGGCAGCTGAGCAGATGATAAGCAATTAACTCTGTATTACCATCAGAGGCTCCACCTCCCTCTGTAGTCCCAGTCCCTTGGGAAAATCTCAGAGCTGGAGCCCTTCCCTCATCCTCTGGCTCCCCACCCCATGGCTTCTCGAACAGTGTTCCCACCAGGACCTTGGGACAGGAGAGAACGCCTCACCTGAAGGACTCCCAAAACTCAGGTTTCTCTAAGCTGCTGGGGCAGATGCCAAGAGCCTCCACTGCTCTCTCACTGCCAAGGACCTGGGTGTCCACCTAGATGTGGCCTTCAGGAGGCCAAGCAGTCCTTCCCCTCGCCTTTGTGTAGGACACTGGCACCTCGGCTGACTTCGGGGACAAGAAAAGGCAGGCTCCCGACCCCTTCCAAAGAATCATCTGGGGTTCAAGATGAGGCTTCTTTCTCCCGTCCCAAGTTTTGGTGTTTCTTCTGAGTCTGCTCAGAAAGATGAAATTAGGAGCAGACATCTCAGGTCCTGCCTGCCATAGCAGATGGCTCCTTCCCTGAGCCTCCATAAGCAGCACAGCACACTCATGCACACACCCACTGGCATTTTCTCTCACACTTTCATACACTTGTGTCAACGCAGGTTCACAGCTCACACTTAACTGTGCATGCACACACAGATTTAGCACTTGGATTCATTCCCACACATGCACGTTCACAACCTGTGTGTGTCACCCTTCCTCCCCTACTCATGAGGGTGTATGCCCTGGTTCATACATGTAACCCTCACATGTGACACACCCAGTTCACACCCATTCATGCACACATACCTTCTCTTGTGCACACGTCCCCTTTCCCAGTGGTACACCCTCCTTCATGTGCACGCAGATGCTCCCAGCTATACCAGCTTGCTAGTGTTCTGCACAGGTGCTTGCCTTGGCCCTCTGAATCCCTGACGCTTGGTTTTTCTGTGTTGCAGTCCTCCCGAGAGCTGGATGACAGCAGCAGTGAGTCCAGTGACCTCCAGCTGGAAGGCCCCAGCACCCTCAGGGTCCTGGACGAGAACCTTGCTGACCCCCAAGCAGAAGACAGACCTCTGGTTTTCTTTGACCTCAAGATTGACAATGAAAGTGGGTTCTCCTGGGGCTACCCCCACCCCTTTCTAATTTAGTCTCTGAGTCCCAAAAAGAAGTGCAGGCAGAGCCATCTGCCAGGCCCAGGAGAGCTCTGAGCTCTGGCCAACAACTGCAGCCAGGCTGGGCAGAGCACTCCGGCTCACCTGGGCTCCTGGCGTGTCATTTGCTGGCTTGAATAAAGATGTCCGCCTTATCCAGTGCCTGAGTGTGCGAGAGAGGCAGATGCCTCCACAAGTGCACCTCTGACCAGTTCTTCTCTCAGACAGAGAGCCTGGGGAACACACTCCTAGACAGAAACACAATGCGTGAGCTCATTGCCGTGAGCCCTGTCATCCAAGTAAGGCCTCTGGCTGTGCTACACGTTTCTGAGTAGAGGGCCAATCCCACAGGTGGCTGCACAGGGCTGCCCACAGATCCAAGGTCACAGAGGGATCAGACCCCTTATCCTGGAAGCCCCTCTACTTCCTCCAGTGCTTGCCCTGGCTCTGCAAATGCCCCTCCTTGAGCCAGAGCCCCAGGCCCTACCCTGTGGCATGGACTCAACATTGGGGCTAGCCCAGCCAGACAGAAACAGCAAGTGTTTTCATGGTACAGAAAAGTCATTTGCAGACCTCAGTGGGAGGCTCTTGGCCTTGCTCTGAGTGGAGTGCTTTCTATGTCCCAGGGCTCTGACTGGGCTGGGGTCCTTGAGGGGATTGGAGGAAGGAGCATGGGATGGAGAGCTAAGTTCAAGCAGCCTGGGATCTCTAGTATAGGTGGCTGAGGCTGATAGAAGACAGGAGGGACCTGTATCCATGGGGTTTGGCCAACTCTGGGGCCGGTAGTGGAGGAGGGGAGAGCTGGATCCCCAGCTGGTGAACAAAGTGTTTGGAGGGCAGCCGAGCCTCCCCTTCTGACTGCTATCCCACCACAACCAGGATCAGAGCTGCATTTGGGGGCTGATGTGTGGCTACTGCCAGCAGACCCCAAGGTGAGGTCTCTAGATGGTGAGTCAGCAGCCCTAGAGGACCCCCTGCTCCCACCCCAGAGCTCTCTGTGACCCTGGGTCCTCACCCTGCCCTTCTCTCCTGCCCAGCCCAGAAGATTAGCCAGCTGGCTGCGGTGAACCGGGAAAGCAAGTTCCGCGTGGTCATCCAGCCTGAAGCCTTCTTCAGCATCTACTCCAAGGCCGTGTCCCTGGAGGTGGGGCTGCAGCACTTCCTCAGCTTTCTGAGCTCCATGCGCCGCCCTATCTTGGCCTGCTACAAGCTGTGGGGGCCTGGCCTCCCAAACTTCTTCCGGGCCCTGGAGGACATTAACAGGCTGTGGGAATTCCAGGAGGCCATCTCGGGCTTCCTGGCTGCCCTGCCTCTCATCCGGGAGCGTGTGCCCGGGGCCAGCAGCTTCAAACTCAAGAACCTGGCCCAGACCTACCTGGCGAGAAACATGAGCGAGCGCAGCGCCATGGCTGCCGTGCTGGCCATGCGTGACCTGTGCCGCCTCCTCGAGGTCTCCCCGGGCCCCCAGCTGGCCCAGCATGTCTACCCCTTCAGTAGCCTGCAGTGCTTTGCCTCCCTGCAGCCCCTGGTGCAGGCAGCTGTGCTGCCCCGGGCTGAGGCCCGCCTCCTGGCCCTACACAACGTGAGCTTCATGGAGCTGCTGAGTGCACACCGCCGTGACCGGCAGGGGGGCCTGAAGAAGTACAGCCGCTATCTAAGCCTGCAGACCACCACGTTGCCCCCTGCCCAGCCTGCTTTCAACCTGCAGGCTCTGGGCACCTACTTTGAAGGCCTGTTGGAGGGTCCGGCGCTGGCACGGGCAGAAGGAGTCTCCACCCCACTTGCTGGCCGTGGCTTGGCAGAGAGGGCCTCCCAGCAGAGCTGAGAGGAGGGGGTGACCAGCTTGGAGTCTCTGGTGGGCAGAGAGGGATGGGGTCCCTGAGCCAGGCCCCACCCATCACAGCATTCCCAGGTCCTGGTACCCAGCCCTCAGTTGTCATTTGGTTCAGAATCAGTTCCCTTTCTCTGGGACCAAATTTCCCTTCTCTAAACATCCTACAGAGAAGGTTCCAAAGCTGAGCACCCATCACCCTAGGTGTGCACCAGACTCCTATTAGCCCCTCCTTCCAGGAGCTAGAACCAGGGAGGTCCTGAGTGAGGAAGGCATGACCTCTGGGCTCTCTAGGTGGCCCTGGTCTTGCCCCATCCATCCCACCTGCCACTACCTTGGGTGTCCTTACAGCTCTGCCCTGACCCCAGCCCCTGCCCCTGGACACCTGCTGACAGCTCCCACACAGAACAGTCTGAGGTGATGCTGGCTACAGCCCTGGCAGCCCATGGCAACTCAAAGTGCCTTCCAAACCAAACTGCCCCTCATGAGGTTAGGGTCCCCCACCCTCCACCTGCCCAGAGGCCAACTCTGTTCCCTTCTCCTTTCATCCCAGAGGGGCCTCATCAGCAAAGACAGAAACTGATGTTCCATGCATGTCCCTGCTTCCAAAGCCTGACCTTCCAAAGCTTGCTTCCTTCCTCCTGGCTGCACAGACACCTCTGCTTGGCCACAGCTTTGCTCTTTGGTCCTCAGGCCACCAGACCCCTCACAGCATGGCCCTTGGCTCTTCCTGCACTGCCCTCACCCTCAGCCGTCCCAAGGAGTGCCCAGCACTACTCAGCATGTAGTCCAGGACCTGCGGCATCAGCATCCCCTGGGAGCTTCTTAGAAATGCAGACCTGTGGGCTCTACCACAGGCCTCTGGAATCAGAATCTTCAGGGTGGGGCCCAGCAGTCTGTGTTTTAACAGGTTCTCCCGGTGATGCTGGTGCATGCTCAAGTTTGAGAACCGCTGCTCTCATAGACTGCTCCTCCAAGGGGAAGCAGTGTGGAACAGCAGAGAAAGTCCCGTCCCTATCTCTGACTGTGCAGTGAGTGTGGCCTAGGAACAGGTCCCTTCCTAAGCTCTAGTGTCCCCATCTGTAAAATGGGCTGATTGGCCTCCACGGTCAGAGCGGCCATCTGGCTGTGCCATCCTGCATTTTTAGGAATGGAAAGCAGGCCTCTGAGGCAGTGGACAGGAAGACTTCTCATCCTTGAATTCTAGCTCCCATTCCAAACTGTTAGTCCCCAACCTTGTGGTCACATCAGAGGTCAACAGCAGAACAGAGGCAGGTCAGGGTTGTCCGCTCTGATTAGCAGAACGACAGCCCCTTCCTCCTCCTCCCTCCTTCCCATCCCTACTCATTAGCTCCCTGCTCCTGGGATGCTTCCCAAGCAGCCCAGGCCTCTAGCCTCCATGGCTGATGACCTCAGCTTTCACACTGGTGAAGTCTGTGTACCCATACTGCAGCCCCATCCCATGGGGCCCCTGAAGACCCACTGAGGAATTCCGTAGGGTCTTGTTCCCACGACCGGAGTGCTGGCTCTCACAGTGAATTTTGATGCATTTAAAATAAGATTCTGATGCCAGACTGTTAAAACAGGCGCTGGTTCTGAAGCACCGATGGAAACAGATTGATGCAGATGGAAGGAGGAAGGGAGACTGGGCCCACTGATTTCCAGCCCCACCATGTGTGCTGTTTTCAGATGTGATTGAGGGGTGTTCTGCCCTGCCTCCACTGTCACAGCCTTTAATAAAGATGTGAATCTTGAAAGCCTGATGCTCCAATCACAGACTCTGCTCAGCATCCCCAGAGGAACCACTGAGAAGCCTTTTGCCTGGATAGGAGGGGGCTCTCCCAGGCATAGGCTTGTGGCCACTTGCCCAGCACAACTGTGTTTTGTGGGGCGTCTTTTAGGACTTAGCAGAGCTGAGAGCCCTTTGTTGCTCAATGCTGTGAGCCTTAAGCATGTGAATCCCCCCACATGACAAGTGGGGAGACCCAGGGTAGGCTTTCCTTTGGATCATCTCCAAATGGGAGTGCCATGTGGCAGGAAAGAAGCACCGATTTCAAGAATTACTTCCTAGAGAAAGTCAGGAACTAGAGACCAGAGTCTGCAGGAACTTTGCCACTGCCCTTCACTGGCTAATCCTGTACTTCTCTCTGTGTTCCTTGAGTGACAGGTGGTAAAACCCTTAAAAAGGGAGGTGTGGGAGGCCCAGGACTTTGGTAACAGGTGATGAATGTGTTGTCTTGGCCATCACAGGTGGAGCTTCAGTTAGTACCCGAGGGATTCCCCTGGCACAAGCATTATAGGAATTAGTCCACCACTGGCGTGGGTGAGCAGCCAGGTAATGGGAATTGATCAGTGCCACCACCCTTGACCCCAACTACCATCCCAGATGCCCAGATTCCAGTCCTGGAGTTTTATTCTCTCAGCTTGATCCTTTGACCAAGAAGATCCAGTCCCAATATGTCACCTGTGCTTCATCTTTGGACTATATCTCAGGTGTTTACGTGTCAACTAATGGGAGCTTACTGGGTTAGAAGTCAGGACACTGAGTTTCAATCCTCACTTAGTAGTCTGTGGCCCTCTTTGGCACATTAACCTCCCTCCTTGATCCTCAGGCTGCACCTCTGGCAAATGGGAGAATGCGGCTCCTTTTGACTTCAAGGGATCTTTGTGGGAACCAATGAGAAAATGTGTGTGAAGATAGCTTTTTGGTATATTTTAAAAGTGCACAAATTTAAGATCTTACTGCTTTATAAAGTGCTTTATGAATTATAGGAAAATAAACACATTTTAGATCTTAG"
      ]
     },
     "execution_count": 145,
     "metadata": {},
     "output_type": "execute_result"
    }
   ],
   "source": [
    "match_seq(rec=rec, sequences=sequences)"
   ]
  },
  {
   "cell_type": "code",
   "execution_count": 24,
   "metadata": {},
   "outputs": [],
   "source": [
    "with open(outfile, 'w') as o_file:\n",
    "    for entry in final_list:\n",
    "        o_file.writelines(f\"> {entry.fancy_name}\\n{entry.seq}\\n\")"
   ]
  }
 ],
 "metadata": {
  "kernelspec": {
   "display_name": "Python 3",
   "language": "python",
   "name": "python3"
  },
  "language_info": {
   "codemirror_mode": {
    "name": "ipython",
    "version": 3
   },
   "file_extension": ".py",
   "mimetype": "text/x-python",
   "name": "python",
   "nbconvert_exporter": "python",
   "pygments_lexer": "ipython3",
   "version": "3.6.8"
  },
  "varInspector": {
   "cols": {
    "lenName": 16,
    "lenType": 16,
    "lenVar": 40
   },
   "kernels_config": {
    "python": {
     "delete_cmd_postfix": "",
     "delete_cmd_prefix": "del ",
     "library": "var_list.py",
     "varRefreshCmd": "print(var_dic_list())"
    },
    "r": {
     "delete_cmd_postfix": ") ",
     "delete_cmd_prefix": "rm(",
     "library": "var_list.r",
     "varRefreshCmd": "cat(var_dic_list()) "
    }
   },
   "types_to_exclude": [
    "module",
    "function",
    "builtin_function_or_method",
    "instance",
    "_Feature"
   ],
   "window_display": false
  }
 },
 "nbformat": 4,
 "nbformat_minor": 1
}
