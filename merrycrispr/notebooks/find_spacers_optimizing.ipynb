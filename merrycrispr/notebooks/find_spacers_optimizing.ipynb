{
 "cells": [
  {
   "cell_type": "markdown",
   "metadata": {},
   "source": [
    "# Optimizing `find_spacers`"
   ]
  },
  {
   "cell_type": "markdown",
   "metadata": {},
   "source": [
    "Upon testing, it appeared that trying to find all the spacers in the human genome using v2.2 would take ~5 days.  For MerryCRISPR v1, this would take ~1 hour.  Obviously unacceptable.  For off-target scoring, the fix was to vectorize or use pandas.DataFrame.apply(), but I am going to see how that along with other attempts might fix the issue."
   ]
  },
  {
   "cell_type": "code",
   "execution_count": 15,
   "metadata": {
    "ExecuteTime": {
     "end_time": "2019-07-28T17:19:35.488241Z",
     "start_time": "2019-07-28T17:19:35.482873Z"
    }
   },
   "outputs": [],
   "source": [
    "import gc\n",
    "import pyfaidx\n",
    "import pandas as pd\n",
    "import numpy as np\n",
    "from Bio import SeqIO\n",
    "from multiprocessing import cpu_count, Manager, Pool\n",
    "\n",
    "from tqdm.autonotebook import tqdm\n",
    "from Bio.Alphabet import IUPAC, single_letter_alphabet\n",
    "from Bio.Restriction import RestrictionBatch\n",
    "from Bio.Seq import Seq\n",
    "from Bio.SeqRecord import SeqRecord\n",
    "from Bio.SeqUtils import GC\n",
    "from csv import writer\n",
    "from functools import partial\n",
    "from operator import attrgetter\n",
    "from regex import compile\n",
    "from subprocess import check_output\n",
    "\n",
    "from azimuth import model_comparison"
   ]
  },
  {
   "cell_type": "code",
   "execution_count": 2,
   "metadata": {
    "ExecuteTime": {
     "end_time": "2019-07-28T17:08:15.976088Z",
     "start_time": "2019-07-28T17:08:15.971446Z"
    }
   },
   "outputs": [],
   "source": [
    "input_sequences='/Users/milessmith/workspace/mc_human_files/human_exons.fa'\n",
    "output_library='/Users/milessmith/workspace/workspace/mc_human_files/human_spacers.csv'\n",
    "restriction_sites=[\"EcoRI\",\"BamHI\"]\n",
    "largeindex=False\n",
    "\n",
    "nuclease='SpCas9'\n",
    "return_limit=9\n",
    "reject=False\n",
    "paired=False\n",
    "\n",
    "off_target_count_threshold=500\n",
    "off_target_score_threshold=50\n",
    "\n",
    "on_target_score_threshold=0\n",
    "number_mismatches_to_consider=3\n",
    "nuclease=\"SpCas9\"\n",
    "spacers_per_feature=9\n",
    "rule_set=\"Azimuth\"\n",
    "number_upstream_spacers=0\n",
    "number_downstream_spacers=0\n",
    "cores=6"
   ]
  },
  {
   "cell_type": "markdown",
   "metadata": {
    "ExecuteTime": {
     "end_time": "2019-07-27T16:27:31.699938Z",
     "start_time": "2019-07-27T16:27:31.697273Z"
    }
   },
   "source": [
    "## Convert pyfaidx.Fasta to pandas.DataFrame"
   ]
  },
  {
   "cell_type": "markdown",
   "metadata": {},
   "source": [
    "First problem: pyfaidx.Fasta is almost a pseudo-dataframe or numpy recarray.  Working with it would be more convenient if we converted it to a bonafide dataframe."
   ]
  },
  {
   "cell_type": "code",
   "execution_count": 3,
   "metadata": {
    "ExecuteTime": {
     "end_time": "2019-07-28T17:09:15.705819Z",
     "start_time": "2019-07-28T17:09:10.268968Z"
    }
   },
   "outputs": [],
   "source": [
    "itemlist = pyfaidx.Fasta(input_sequences)\n",
    "nucleases = pd.read_csv('/Users/milessmith/workspace/merrycrispr/merrycrispr/data/nuclease_list.csv', \n",
    "                        dtype={'nuclease': str,\n",
    "                               'pam': str,\n",
    "                               'spacer_regex': str,\n",
    "                               'start': np.int8,\n",
    "                               'end': np.int8},\n",
    "                       skip_blank_lines = True)\n",
    "nuclease_info = nucleases[nucleases['nuclease'] == nuclease]"
   ]
  },
  {
   "cell_type": "code",
   "execution_count": 4,
   "metadata": {
    "ExecuteTime": {
     "end_time": "2019-07-27T16:29:53.570901Z",
     "start_time": "2019-07-27T16:29:53.398590Z"
    }
   },
   "outputs": [
    {
     "data": {
      "text/plain": [
       "'GTTAACTTGCCGTCAGCCTTTTCTTTGACCTCTTCTTTCTGTTCATGTGTATTTGCTGTCTCTTAGCCCAGACTTCCCGTGTCCTTTCCACCGGGCCTTTGAGAGGTCACAGGGTCTTGATGCTGTGGTCTTCATCTGCAGGTGTCTGACTTCCAGCAACTGCTGGCCTGTGCCAGGGTGCAAGCTGAGCACTGGAGTGGAGTTTTCCTGTGGAGAGGAGCCATGCCTAGAGTGGGATGGGCCATTGTTCATCTTCTGGCCCCTGTTGTCTGCATGTAACTTAATACCACAACCAGGCATAGGGGAAAGATTGGAGGAAAGATGAGTGAGAGCATCAACTTCTCTCACAACCTAGGCCA'"
      ]
     },
     "execution_count": 4,
     "metadata": {},
     "output_type": "execute_result"
    }
   ],
   "source": [
    "itemlist[0][:].seq"
   ]
  },
  {
   "cell_type": "code",
   "execution_count": 5,
   "metadata": {
    "ExecuteTime": {
     "end_time": "2019-07-27T16:29:57.866487Z",
     "start_time": "2019-07-27T16:29:57.695045Z"
    }
   },
   "outputs": [
    {
     "data": {
      "text/plain": [
       "'TGGCCTAGGTTGTGAGAGAAGTTGATGCTCTCACTCATCTTTCCTCCAATCTTTCCCCTATGCCTGGTTGTGGTATTAAGTTACATGCAGACAACAGGGGCCAGAAGATGAACAATGGCCCATCCCACTCTAGGCATGGCTCCTCTCCACAGGAAAACTCCACTCCAGTGCTCAGCTTGCACCCTGGCACAGGCCAGCAGTTGCTGGAAGTCAGACACCTGCAGATGAAGACCACAGCATCAAGACCCTGTGACCTCTCAAAGGCCCGGTGGAAAGGACACGGGAAGTCTGGGCTAAGAGACAGCAAATACACATGAACAGAAAGAAGAGGTCAAAGAAAAGGCTGACGGCAAGTTAAC'"
      ]
     },
     "execution_count": 5,
     "metadata": {},
     "output_type": "execute_result"
    }
   ],
   "source": [
    "itemlist[0][:].reverse.complement.seq"
   ]
  },
  {
   "cell_type": "code",
   "execution_count": 6,
   "metadata": {
    "ExecuteTime": {
     "end_time": "2019-07-27T16:30:10.160819Z",
     "start_time": "2019-07-27T16:30:10.020783Z"
    }
   },
   "outputs": [
    {
     "data": {
      "text/plain": [
       "['DDX11L1', 'exon', '+', '11869', '12227', '-43556487203695757']"
      ]
     },
     "execution_count": 6,
     "metadata": {},
     "output_type": "execute_result"
    }
   ],
   "source": [
    "itemlist[0].name.split(\"_\")"
   ]
  },
  {
   "cell_type": "code",
   "execution_count": 7,
   "metadata": {
    "ExecuteTime": {
     "end_time": "2019-07-27T16:30:17.171476Z",
     "start_time": "2019-07-27T16:30:16.770802Z"
    }
   },
   "outputs": [
    {
     "data": {
      "text/plain": [
       "array(['DDX11L1', 'exon', '+', '11869', '12227', '-43556487203695757',\n",
       "       'GTTAACTTGCCGTCAGCCTTTTCTTTGACCTCTTCTTTCTGTTCATGTGTATTTGCTGTCTCTTAGCCCAGACTTCCCGTGTCCTTTCCACCGGGCCTTTGAGAGGTCACAGGGTCTTGATGCTGTGGTCTTCATCTGCAGGTGTCTGACTTCCAGCAACTGCTGGCCTGTGCCAGGGTGCAAGCTGAGCACTGGAGTGGAGTTTTCCTGTGGAGAGGAGCCATGCCTAGAGTGGGATGGGCCATTGTTCATCTTCTGGCCCCTGTTGTCTGCATGTAACTTAATACCACAACCAGGCATAGGGGAAAGATTGGAGGAAAGATGAGTGAGAGCATCAACTTCTCTCACAACCTAGGCCA',\n",
       "       'TGGCCTAGGTTGTGAGAGAAGTTGATGCTCTCACTCATCTTTCCTCCAATCTTTCCCCTATGCCTGGTTGTGGTATTAAGTTACATGCAGACAACAGGGGCCAGAAGATGAACAATGGCCCATCCCACTCTAGGCATGGCTCCTCTCCACAGGAAAACTCCACTCCAGTGCTCAGCTTGCACCCTGGCACAGGCCAGCAGTTGCTGGAAGTCAGACACCTGCAGATGAAGACCACAGCATCAAGACCCTGTGACCTCTCAAAGGCCCGGTGGAAAGGACACGGGAAGTCTGGGCTAAGAGACAGCAAATACACATGAACAGAAAGAAGAGGTCAAAGAAAAGGCTGACGGCAAGTTAAC'],\n",
       "      dtype='<U359')"
      ]
     },
     "execution_count": 7,
     "metadata": {},
     "output_type": "execute_result"
    }
   ],
   "source": [
    "np.append(np.append(np.array([itemlist[0].name.split(\"_\")]), itemlist[0][:].seq), itemlist[0][:].reverse.complement.seq)"
   ]
  },
  {
   "cell_type": "code",
   "execution_count": 4,
   "metadata": {
    "ExecuteTime": {
     "end_time": "2019-07-28T17:09:44.851856Z",
     "start_time": "2019-07-28T17:09:42.372753Z"
    }
   },
   "outputs": [],
   "source": [
    "fasta_df = pd.DataFrame([itemlist[_].name.split(\"_\") for _ in itemlist.keys()],\n",
    "                        columns=['gene_name','feature_id','strand','start','stop', \"seq_hash\"])"
   ]
  },
  {
   "cell_type": "code",
   "execution_count": 5,
   "metadata": {
    "ExecuteTime": {
     "end_time": "2019-07-28T17:09:56.700103Z",
     "start_time": "2019-07-28T17:09:46.735874Z"
    }
   },
   "outputs": [],
   "source": [
    "fasta_df['sequence'] = pd.Series([itemlist[_][:].seq for _ in itemlist.keys()])"
   ]
  },
  {
   "cell_type": "code",
   "execution_count": 6,
   "metadata": {
    "ExecuteTime": {
     "end_time": "2019-07-28T17:10:11.422123Z",
     "start_time": "2019-07-28T17:09:56.895109Z"
    }
   },
   "outputs": [],
   "source": [
    "fasta_df['reverse_complement'] = pd.Series([itemlist[_][:].reverse.complement.seq for _ in itemlist.keys()])"
   ]
  },
  {
   "cell_type": "code",
   "execution_count": 7,
   "metadata": {
    "ExecuteTime": {
     "end_time": "2019-07-28T17:10:11.519529Z",
     "start_time": "2019-07-28T17:10:11.498730Z"
    },
    "scrolled": false
   },
   "outputs": [
    {
     "data": {
      "text/html": [
       "<div>\n",
       "<style scoped>\n",
       "    .dataframe tbody tr th:only-of-type {\n",
       "        vertical-align: middle;\n",
       "    }\n",
       "\n",
       "    .dataframe tbody tr th {\n",
       "        vertical-align: top;\n",
       "    }\n",
       "\n",
       "    .dataframe thead th {\n",
       "        text-align: right;\n",
       "    }\n",
       "</style>\n",
       "<table border=\"1\" class=\"dataframe\">\n",
       "  <thead>\n",
       "    <tr style=\"text-align: right;\">\n",
       "      <th></th>\n",
       "      <th>gene_name</th>\n",
       "      <th>feature_id</th>\n",
       "      <th>strand</th>\n",
       "      <th>start</th>\n",
       "      <th>stop</th>\n",
       "      <th>seq_hash</th>\n",
       "      <th>sequence</th>\n",
       "      <th>reverse_complement</th>\n",
       "    </tr>\n",
       "  </thead>\n",
       "  <tbody>\n",
       "    <tr>\n",
       "      <th>0</th>\n",
       "      <td>DDX11L1</td>\n",
       "      <td>exon</td>\n",
       "      <td>+</td>\n",
       "      <td>11869</td>\n",
       "      <td>12227</td>\n",
       "      <td>-43556487203695757</td>\n",
       "      <td>GTTAACTTGCCGTCAGCCTTTTCTTTGACCTCTTCTTTCTGTTCAT...</td>\n",
       "      <td>TGGCCTAGGTTGTGAGAGAAGTTGATGCTCTCACTCATCTTTCCTC...</td>\n",
       "    </tr>\n",
       "    <tr>\n",
       "      <th>1</th>\n",
       "      <td>DDX11L1</td>\n",
       "      <td>exon</td>\n",
       "      <td>+</td>\n",
       "      <td>12613</td>\n",
       "      <td>12721</td>\n",
       "      <td>5288470158420300119</td>\n",
       "      <td>GTGTGTGGTGATGCCAGGCATGCCCTTCCCCAGCATCAGGTCTCCA...</td>\n",
       "      <td>CTCTGCAACACTGGGGACACTCACAAGAGTGTGATCCAAGTCGGCC...</td>\n",
       "    </tr>\n",
       "    <tr>\n",
       "      <th>2</th>\n",
       "      <td>DDX11L1</td>\n",
       "      <td>exon</td>\n",
       "      <td>+</td>\n",
       "      <td>13221</td>\n",
       "      <td>14409</td>\n",
       "      <td>-3494540769226855306</td>\n",
       "      <td>GCAGGGCCATCAGGCACCAAAGGGATTCTGCCAGCATAGTGCTCCT...</td>\n",
       "      <td>CAGAAACCAACAGTGTGCTTTTAATAAAGGATCTCTAGCTGTGCAG...</td>\n",
       "    </tr>\n",
       "    <tr>\n",
       "      <th>3</th>\n",
       "      <td>DDX11L1</td>\n",
       "      <td>exon</td>\n",
       "      <td>+</td>\n",
       "      <td>12010</td>\n",
       "      <td>12057</td>\n",
       "      <td>-7939539020843674572</td>\n",
       "      <td>GTGTCTGACTTCCAGCAACTGCTGGCCTGTGCCAGGGTGCAAGCTGAG</td>\n",
       "      <td>CTCAGCTTGCACCCTGGCACAGGCCAGCAGTTGCTGGAAGTCAGACAC</td>\n",
       "    </tr>\n",
       "    <tr>\n",
       "      <th>4</th>\n",
       "      <td>DDX11L1</td>\n",
       "      <td>exon</td>\n",
       "      <td>+</td>\n",
       "      <td>12179</td>\n",
       "      <td>12227</td>\n",
       "      <td>2724784066093171870</td>\n",
       "      <td>TTGGAGGAAAGATGAGTGAGAGCATCAACTTCTCTCACAACCTAGGCCA</td>\n",
       "      <td>TGGCCTAGGTTGTGAGAGAAGTTGATGCTCTCACTCATCTTTCCTCCAA</td>\n",
       "    </tr>\n",
       "  </tbody>\n",
       "</table>\n",
       "</div>"
      ],
      "text/plain": [
       "  gene_name feature_id strand  start   stop              seq_hash  \\\n",
       "0   DDX11L1       exon      +  11869  12227    -43556487203695757   \n",
       "1   DDX11L1       exon      +  12613  12721   5288470158420300119   \n",
       "2   DDX11L1       exon      +  13221  14409  -3494540769226855306   \n",
       "3   DDX11L1       exon      +  12010  12057  -7939539020843674572   \n",
       "4   DDX11L1       exon      +  12179  12227   2724784066093171870   \n",
       "\n",
       "                                            sequence  \\\n",
       "0  GTTAACTTGCCGTCAGCCTTTTCTTTGACCTCTTCTTTCTGTTCAT...   \n",
       "1  GTGTGTGGTGATGCCAGGCATGCCCTTCCCCAGCATCAGGTCTCCA...   \n",
       "2  GCAGGGCCATCAGGCACCAAAGGGATTCTGCCAGCATAGTGCTCCT...   \n",
       "3   GTGTCTGACTTCCAGCAACTGCTGGCCTGTGCCAGGGTGCAAGCTGAG   \n",
       "4  TTGGAGGAAAGATGAGTGAGAGCATCAACTTCTCTCACAACCTAGGCCA   \n",
       "\n",
       "                                  reverse_complement  \n",
       "0  TGGCCTAGGTTGTGAGAGAAGTTGATGCTCTCACTCATCTTTCCTC...  \n",
       "1  CTCTGCAACACTGGGGACACTCACAAGAGTGTGATCCAAGTCGGCC...  \n",
       "2  CAGAAACCAACAGTGTGCTTTTAATAAAGGATCTCTAGCTGTGCAG...  \n",
       "3   CTCAGCTTGCACCCTGGCACAGGCCAGCAGTTGCTGGAAGTCAGACAC  \n",
       "4  TGGCCTAGGTTGTGAGAGAAGTTGATGCTCTCACTCATCTTTCCTCCAA  "
      ]
     },
     "execution_count": 7,
     "metadata": {},
     "output_type": "execute_result"
    }
   ],
   "source": [
    "fasta_df.head()"
   ]
  },
  {
   "cell_type": "markdown",
   "metadata": {},
   "source": [
    "## Memory usage"
   ]
  },
  {
   "cell_type": "markdown",
   "metadata": {},
   "source": [
    "One issued I noticed is that memory usage is pretty high.  Some initial attempts to solve the computation time issue resulted in memory on my Macbook being swamped for a while before Python crashed.  We can save some memory by having the genomic dataframe use more appropriate dtypes than the default:"
   ]
  },
  {
   "cell_type": "code",
   "execution_count": 12,
   "metadata": {
    "ExecuteTime": {
     "end_time": "2019-07-27T16:33:03.309642Z",
     "start_time": "2019-07-27T16:33:03.223860Z"
    }
   },
   "outputs": [],
   "source": [
    "smaller = fasta_df.iloc[1:100000,]"
   ]
  },
  {
   "cell_type": "code",
   "execution_count": 13,
   "metadata": {
    "ExecuteTime": {
     "end_time": "2019-07-27T16:33:05.460783Z",
     "start_time": "2019-07-27T16:33:05.447678Z"
    }
   },
   "outputs": [
    {
     "data": {
      "text/html": [
       "<div>\n",
       "<style scoped>\n",
       "    .dataframe tbody tr th:only-of-type {\n",
       "        vertical-align: middle;\n",
       "    }\n",
       "\n",
       "    .dataframe tbody tr th {\n",
       "        vertical-align: top;\n",
       "    }\n",
       "\n",
       "    .dataframe thead th {\n",
       "        text-align: right;\n",
       "    }\n",
       "</style>\n",
       "<table border=\"1\" class=\"dataframe\">\n",
       "  <thead>\n",
       "    <tr style=\"text-align: right;\">\n",
       "      <th></th>\n",
       "      <th>gene_name</th>\n",
       "      <th>feature_id</th>\n",
       "      <th>strand</th>\n",
       "      <th>start</th>\n",
       "      <th>stop</th>\n",
       "      <th>seq_hash</th>\n",
       "      <th>sequence</th>\n",
       "      <th>reverse_complement</th>\n",
       "    </tr>\n",
       "  </thead>\n",
       "  <tbody>\n",
       "    <tr>\n",
       "      <th>1</th>\n",
       "      <td>DDX11L1</td>\n",
       "      <td>exon</td>\n",
       "      <td>+</td>\n",
       "      <td>12613</td>\n",
       "      <td>12721</td>\n",
       "      <td>5288470158420300119</td>\n",
       "      <td>GTGTGTGGTGATGCCAGGCATGCCCTTCCCCAGCATCAGGTCTCCA...</td>\n",
       "      <td>CTCTGCAACACTGGGGACACTCACAAGAGTGTGATCCAAGTCGGCC...</td>\n",
       "    </tr>\n",
       "    <tr>\n",
       "      <th>2</th>\n",
       "      <td>DDX11L1</td>\n",
       "      <td>exon</td>\n",
       "      <td>+</td>\n",
       "      <td>13221</td>\n",
       "      <td>14409</td>\n",
       "      <td>-3494540769226855306</td>\n",
       "      <td>GCAGGGCCATCAGGCACCAAAGGGATTCTGCCAGCATAGTGCTCCT...</td>\n",
       "      <td>CAGAAACCAACAGTGTGCTTTTAATAAAGGATCTCTAGCTGTGCAG...</td>\n",
       "    </tr>\n",
       "    <tr>\n",
       "      <th>3</th>\n",
       "      <td>DDX11L1</td>\n",
       "      <td>exon</td>\n",
       "      <td>+</td>\n",
       "      <td>12010</td>\n",
       "      <td>12057</td>\n",
       "      <td>-7939539020843674572</td>\n",
       "      <td>GTGTCTGACTTCCAGCAACTGCTGGCCTGTGCCAGGGTGCAAGCTGAG</td>\n",
       "      <td>CTCAGCTTGCACCCTGGCACAGGCCAGCAGTTGCTGGAAGTCAGACAC</td>\n",
       "    </tr>\n",
       "    <tr>\n",
       "      <th>4</th>\n",
       "      <td>DDX11L1</td>\n",
       "      <td>exon</td>\n",
       "      <td>+</td>\n",
       "      <td>12179</td>\n",
       "      <td>12227</td>\n",
       "      <td>2724784066093171870</td>\n",
       "      <td>TTGGAGGAAAGATGAGTGAGAGCATCAACTTCTCTCACAACCTAGGCCA</td>\n",
       "      <td>TGGCCTAGGTTGTGAGAGAAGTTGATGCTCTCACTCATCTTTCCTCCAA</td>\n",
       "    </tr>\n",
       "    <tr>\n",
       "      <th>5</th>\n",
       "      <td>DDX11L1</td>\n",
       "      <td>exon</td>\n",
       "      <td>+</td>\n",
       "      <td>12613</td>\n",
       "      <td>12697</td>\n",
       "      <td>-8686332244534104149</td>\n",
       "      <td>GTGTGTGGTGATGCCAGGCATGCCCTTCCCCAGCATCAGGTCTCCA...</td>\n",
       "      <td>AAGAGTGTGATCCAAGTCGGCCGTCGTCTTCTGCAGCTCTGGAGAC...</td>\n",
       "    </tr>\n",
       "  </tbody>\n",
       "</table>\n",
       "</div>"
      ],
      "text/plain": [
       "  gene_name feature_id strand  start   stop              seq_hash  \\\n",
       "1   DDX11L1       exon      +  12613  12721   5288470158420300119   \n",
       "2   DDX11L1       exon      +  13221  14409  -3494540769226855306   \n",
       "3   DDX11L1       exon      +  12010  12057  -7939539020843674572   \n",
       "4   DDX11L1       exon      +  12179  12227   2724784066093171870   \n",
       "5   DDX11L1       exon      +  12613  12697  -8686332244534104149   \n",
       "\n",
       "                                            sequence  \\\n",
       "1  GTGTGTGGTGATGCCAGGCATGCCCTTCCCCAGCATCAGGTCTCCA...   \n",
       "2  GCAGGGCCATCAGGCACCAAAGGGATTCTGCCAGCATAGTGCTCCT...   \n",
       "3   GTGTCTGACTTCCAGCAACTGCTGGCCTGTGCCAGGGTGCAAGCTGAG   \n",
       "4  TTGGAGGAAAGATGAGTGAGAGCATCAACTTCTCTCACAACCTAGGCCA   \n",
       "5  GTGTGTGGTGATGCCAGGCATGCCCTTCCCCAGCATCAGGTCTCCA...   \n",
       "\n",
       "                                  reverse_complement  \n",
       "1  CTCTGCAACACTGGGGACACTCACAAGAGTGTGATCCAAGTCGGCC...  \n",
       "2  CAGAAACCAACAGTGTGCTTTTAATAAAGGATCTCTAGCTGTGCAG...  \n",
       "3   CTCAGCTTGCACCCTGGCACAGGCCAGCAGTTGCTGGAAGTCAGACAC  \n",
       "4  TGGCCTAGGTTGTGAGAGAAGTTGATGCTCTCACTCATCTTTCCTCCAA  \n",
       "5  AAGAGTGTGATCCAAGTCGGCCGTCGTCTTCTGCAGCTCTGGAGAC...  "
      ]
     },
     "execution_count": 13,
     "metadata": {},
     "output_type": "execute_result"
    }
   ],
   "source": [
    "smaller.head()"
   ]
  },
  {
   "cell_type": "code",
   "execution_count": 14,
   "metadata": {
    "ExecuteTime": {
     "end_time": "2019-07-27T16:33:07.783351Z",
     "start_time": "2019-07-27T16:33:07.777754Z"
    },
    "scrolled": true
   },
   "outputs": [
    {
     "data": {
      "text/plain": [
       "gene_name             object\n",
       "feature_id            object\n",
       "strand                object\n",
       "start                 object\n",
       "stop                  object\n",
       "seq_hash              object\n",
       "sequence              object\n",
       "reverse_complement    object\n",
       "dtype: object"
      ]
     },
     "execution_count": 14,
     "metadata": {},
     "output_type": "execute_result"
    }
   ],
   "source": [
    "smaller.dtypes"
   ]
  },
  {
   "cell_type": "code",
   "execution_count": 15,
   "metadata": {
    "ExecuteTime": {
     "end_time": "2019-07-27T16:33:12.851096Z",
     "start_time": "2019-07-27T16:33:12.368164Z"
    },
    "scrolled": true
   },
   "outputs": [
    {
     "data": {
      "text/plain": [
       "Index                  0.000080\n",
       "gene_name              6.027116\n",
       "feature_id             5.817355\n",
       "strand                 5.921026\n",
       "start                  6.232922\n",
       "stop                   6.232924\n",
       "seq_hash               7.283731\n",
       "sequence              37.806230\n",
       "reverse_complement    37.806245\n",
       "dtype: float64"
      ]
     },
     "execution_count": 15,
     "metadata": {},
     "output_type": "execute_result"
    }
   ],
   "source": [
    "smaller.memory_usage(deep=True) / 1024 ** 2"
   ]
  },
  {
   "cell_type": "code",
   "execution_count": 8,
   "metadata": {
    "ExecuteTime": {
     "end_time": "2019-07-28T17:10:19.277943Z",
     "start_time": "2019-07-28T17:10:19.274524Z"
    }
   },
   "outputs": [],
   "source": [
    "def memory_usage(df):\n",
    "    return(round(df.memory_usage(deep=True).sum() / 1024 ** 2, 2))"
   ]
  },
  {
   "cell_type": "code",
   "execution_count": 18,
   "metadata": {
    "ExecuteTime": {
     "end_time": "2019-07-27T16:33:45.218466Z",
     "start_time": "2019-07-27T16:33:44.778275Z"
    }
   },
   "outputs": [
    {
     "data": {
      "text/plain": [
       "113.13"
      ]
     },
     "execution_count": 18,
     "metadata": {},
     "output_type": "execute_result"
    }
   ],
   "source": [
    "memory_usage(smaller)"
   ]
  },
  {
   "cell_type": "code",
   "execution_count": 19,
   "metadata": {
    "ExecuteTime": {
     "end_time": "2019-07-27T16:35:04.585316Z",
     "start_time": "2019-07-27T16:35:04.456889Z"
    }
   },
   "outputs": [
    {
     "data": {
      "text/plain": [
       "'99999383'"
      ]
     },
     "execution_count": 19,
     "metadata": {},
     "output_type": "execute_result"
    }
   ],
   "source": [
    "np.max(fasta_df['start'])"
   ]
  },
  {
   "cell_type": "code",
   "execution_count": 20,
   "metadata": {
    "ExecuteTime": {
     "end_time": "2019-07-27T16:35:16.118513Z",
     "start_time": "2019-07-27T16:35:16.002424Z"
    }
   },
   "outputs": [
    {
     "data": {
      "text/plain": [
       "'99999492'"
      ]
     },
     "execution_count": 20,
     "metadata": {},
     "output_type": "execute_result"
    }
   ],
   "source": [
    "np.max(fasta_df['stop'])"
   ]
  },
  {
   "cell_type": "markdown",
   "metadata": {},
   "source": [
    "We need to use a 32-bit int for position."
   ]
  },
  {
   "cell_type": "code",
   "execution_count": 21,
   "metadata": {
    "ExecuteTime": {
     "end_time": "2019-07-27T16:36:26.061237Z",
     "start_time": "2019-07-27T16:36:21.408784Z"
    },
    "scrolled": false
   },
   "outputs": [
    {
     "name": "stderr",
     "output_type": "stream",
     "text": [
      " /Users/milessmith/miniconda3/envs/mc/lib/python3.6/site-packages/ipykernel_launcher.py:1: SettingWithCopyWarning:\n",
      "A value is trying to be set on a copy of a slice from a DataFrame.\n",
      "Try using .loc[row_indexer,col_indexer] = value instead\n",
      "\n",
      "See the caveats in the documentation: http://pandas.pydata.org/pandas-docs/stable/indexing.html#indexing-view-versus-copy\n",
      " /Users/milessmith/miniconda3/envs/mc/lib/python3.6/site-packages/ipykernel_launcher.py:2: SettingWithCopyWarning:\n",
      "A value is trying to be set on a copy of a slice from a DataFrame.\n",
      "Try using .loc[row_indexer,col_indexer] = value instead\n",
      "\n",
      "See the caveats in the documentation: http://pandas.pydata.org/pandas-docs/stable/indexing.html#indexing-view-versus-copy\n",
      " /Users/milessmith/miniconda3/envs/mc/lib/python3.6/site-packages/ipykernel_launcher.py:3: SettingWithCopyWarning:\n",
      "A value is trying to be set on a copy of a slice from a DataFrame.\n",
      "Try using .loc[row_indexer,col_indexer] = value instead\n",
      "\n",
      "See the caveats in the documentation: http://pandas.pydata.org/pandas-docs/stable/indexing.html#indexing-view-versus-copy\n",
      " /Users/milessmith/miniconda3/envs/mc/lib/python3.6/site-packages/ipykernel_launcher.py:4: SettingWithCopyWarning:\n",
      "A value is trying to be set on a copy of a slice from a DataFrame.\n",
      "Try using .loc[row_indexer,col_indexer] = value instead\n",
      "\n",
      "See the caveats in the documentation: http://pandas.pydata.org/pandas-docs/stable/indexing.html#indexing-view-versus-copy\n",
      " /Users/milessmith/miniconda3/envs/mc/lib/python3.6/site-packages/ipykernel_launcher.py:5: SettingWithCopyWarning:\n",
      "A value is trying to be set on a copy of a slice from a DataFrame.\n",
      "Try using .loc[row_indexer,col_indexer] = value instead\n",
      "\n",
      "See the caveats in the documentation: http://pandas.pydata.org/pandas-docs/stable/indexing.html#indexing-view-versus-copy\n",
      " /Users/milessmith/miniconda3/envs/mc/lib/python3.6/site-packages/ipykernel_launcher.py:6: SettingWithCopyWarning:\n",
      "A value is trying to be set on a copy of a slice from a DataFrame.\n",
      "Try using .loc[row_indexer,col_indexer] = value instead\n",
      "\n",
      "See the caveats in the documentation: http://pandas.pydata.org/pandas-docs/stable/indexing.html#indexing-view-versus-copy\n"
     ]
    },
    {
     "data": {
      "text/plain": [
       "gene_name             category\n",
       "feature_id            category\n",
       "strand                category\n",
       "start                   uint32\n",
       "stop                    uint32\n",
       "seq_hash                 int32\n",
       "sequence                object\n",
       "reverse_complement      object\n",
       "dtype: object"
      ]
     },
     "execution_count": 21,
     "metadata": {},
     "output_type": "execute_result"
    }
   ],
   "source": [
    "smaller['feature_id'] = smaller['feature_id'].astype('category')\n",
    "smaller['gene_name'] = smaller['gene_name'].astype('category')\n",
    "smaller['strand'] = smaller['strand'].astype('category')\n",
    "smaller['start'] = smaller['start'].astype(np.uint32)\n",
    "smaller['stop'] = smaller['stop'].astype(np.uint32)\n",
    "smaller['seq_hash'] = smaller['seq_hash'].astype(np.int32)\n",
    "smaller.dtypes"
   ]
  },
  {
   "cell_type": "code",
   "execution_count": 22,
   "metadata": {
    "ExecuteTime": {
     "end_time": "2019-07-27T16:36:30.381334Z",
     "start_time": "2019-07-27T16:36:30.219807Z"
    },
    "scrolled": false
   },
   "outputs": [
    {
     "data": {
      "text/plain": [
       "Index                  0.000080\n",
       "gene_name              0.984830\n",
       "feature_id             0.095501\n",
       "strand                 0.095561\n",
       "start                  0.381466\n",
       "stop                   0.381466\n",
       "seq_hash               0.381466\n",
       "sequence              37.806230\n",
       "reverse_complement    37.806245\n",
       "dtype: float64"
      ]
     },
     "execution_count": 22,
     "metadata": {},
     "output_type": "execute_result"
    }
   ],
   "source": [
    "smaller.memory_usage(deep=True) / 1024 ** 2"
   ]
  },
  {
   "cell_type": "code",
   "execution_count": 23,
   "metadata": {
    "ExecuteTime": {
     "end_time": "2019-07-27T16:36:42.864663Z",
     "start_time": "2019-07-27T16:36:42.703151Z"
    }
   },
   "outputs": [
    {
     "data": {
      "text/plain": [
       "77.93"
      ]
     },
     "execution_count": 23,
     "metadata": {},
     "output_type": "execute_result"
    }
   ],
   "source": [
    "memory_usage(smaller)"
   ]
  },
  {
   "cell_type": "code",
   "execution_count": 26,
   "metadata": {
    "ExecuteTime": {
     "end_time": "2019-07-27T16:37:19.339924Z",
     "start_time": "2019-07-27T16:37:19.335697Z"
    }
   },
   "outputs": [
    {
     "data": {
      "text/plain": [
       "19.50853000972332"
      ]
     },
     "execution_count": 26,
     "metadata": {},
     "output_type": "execute_result"
    }
   ],
   "source": [
    "((100-77.93)/113.13)*100"
   ]
  },
  {
   "cell_type": "code",
   "execution_count": 9,
   "metadata": {
    "ExecuteTime": {
     "end_time": "2019-07-28T17:10:29.599211Z",
     "start_time": "2019-07-28T17:10:29.592635Z"
    }
   },
   "outputs": [],
   "source": [
    "def fasta_to_df(fasta: pyfaidx.Fasta) -> pd.DataFrame:\n",
    "    df = pd.DataFrame(\n",
    "        [fasta[_].name.split(\"_\") for _ in fasta.keys()],\n",
    "        columns=[\"gene_name\", \"feature_id\", \"strand\", \"start\", \"stop\", \"seq_hash\"],\n",
    "    )\n",
    "\n",
    "    df = df.astype({\n",
    "        'feature_id':'category',\n",
    "        'gene_name':'category',\n",
    "        'strand':'category',\n",
    "        'start':np.uint32,\n",
    "        'stop':np.uint32,\n",
    "        'seq_hash': np.int32\n",
    "    }, copy = False)\n",
    "\n",
    "    df[\"sequence\"] = pd.Series([fasta[_][:].seq for _ in fasta.keys()])\n",
    "    df[\"reverse_complement\"] = pd.Series(\n",
    "        [fasta[_][:].reverse.complement.seq for _ in fasta.keys()]\n",
    "    )\n",
    "    return df"
   ]
  },
  {
   "cell_type": "code",
   "execution_count": 10,
   "metadata": {
    "ExecuteTime": {
     "end_time": "2019-07-28T17:11:01.627488Z",
     "start_time": "2019-07-28T17:10:31.541773Z"
    }
   },
   "outputs": [],
   "source": [
    "new_fasta_df = fasta_to_df(itemlist)"
   ]
  },
  {
   "cell_type": "code",
   "execution_count": 12,
   "metadata": {
    "ExecuteTime": {
     "end_time": "2019-07-28T17:17:40.843896Z",
     "start_time": "2019-07-28T17:17:40.831724Z"
    },
    "scrolled": true
   },
   "outputs": [
    {
     "data": {
      "text/html": [
       "<div>\n",
       "<style scoped>\n",
       "    .dataframe tbody tr th:only-of-type {\n",
       "        vertical-align: middle;\n",
       "    }\n",
       "\n",
       "    .dataframe tbody tr th {\n",
       "        vertical-align: top;\n",
       "    }\n",
       "\n",
       "    .dataframe thead th {\n",
       "        text-align: right;\n",
       "    }\n",
       "</style>\n",
       "<table border=\"1\" class=\"dataframe\">\n",
       "  <thead>\n",
       "    <tr style=\"text-align: right;\">\n",
       "      <th></th>\n",
       "      <th>gene_name</th>\n",
       "      <th>feature_id</th>\n",
       "      <th>strand</th>\n",
       "      <th>start</th>\n",
       "      <th>stop</th>\n",
       "      <th>seq_hash</th>\n",
       "      <th>sequence</th>\n",
       "      <th>reverse_complement</th>\n",
       "    </tr>\n",
       "  </thead>\n",
       "  <tbody>\n",
       "    <tr>\n",
       "      <th>0</th>\n",
       "      <td>DDX11L1</td>\n",
       "      <td>exon</td>\n",
       "      <td>+</td>\n",
       "      <td>11869</td>\n",
       "      <td>12227</td>\n",
       "      <td>210719603</td>\n",
       "      <td>GTTAACTTGCCGTCAGCCTTTTCTTTGACCTCTTCTTTCTGTTCAT...</td>\n",
       "      <td>TGGCCTAGGTTGTGAGAGAAGTTGATGCTCTCACTCATCTTTCCTC...</td>\n",
       "    </tr>\n",
       "    <tr>\n",
       "      <th>1</th>\n",
       "      <td>DDX11L1</td>\n",
       "      <td>exon</td>\n",
       "      <td>+</td>\n",
       "      <td>12613</td>\n",
       "      <td>12721</td>\n",
       "      <td>-303738537</td>\n",
       "      <td>GTGTGTGGTGATGCCAGGCATGCCCTTCCCCAGCATCAGGTCTCCA...</td>\n",
       "      <td>CTCTGCAACACTGGGGACACTCACAAGAGTGTGATCCAAGTCGGCC...</td>\n",
       "    </tr>\n",
       "    <tr>\n",
       "      <th>2</th>\n",
       "      <td>DDX11L1</td>\n",
       "      <td>exon</td>\n",
       "      <td>+</td>\n",
       "      <td>13221</td>\n",
       "      <td>14409</td>\n",
       "      <td>1830612086</td>\n",
       "      <td>GCAGGGCCATCAGGCACCAAAGGGATTCTGCCAGCATAGTGCTCCT...</td>\n",
       "      <td>CAGAAACCAACAGTGTGCTTTTAATAAAGGATCTCTAGCTGTGCAG...</td>\n",
       "    </tr>\n",
       "    <tr>\n",
       "      <th>3</th>\n",
       "      <td>DDX11L1</td>\n",
       "      <td>exon</td>\n",
       "      <td>+</td>\n",
       "      <td>12010</td>\n",
       "      <td>12057</td>\n",
       "      <td>1984074804</td>\n",
       "      <td>GTGTCTGACTTCCAGCAACTGCTGGCCTGTGCCAGGGTGCAAGCTGAG</td>\n",
       "      <td>CTCAGCTTGCACCCTGGCACAGGCCAGCAGTTGCTGGAAGTCAGACAC</td>\n",
       "    </tr>\n",
       "    <tr>\n",
       "      <th>4</th>\n",
       "      <td>DDX11L1</td>\n",
       "      <td>exon</td>\n",
       "      <td>+</td>\n",
       "      <td>12179</td>\n",
       "      <td>12227</td>\n",
       "      <td>-316619618</td>\n",
       "      <td>TTGGAGGAAAGATGAGTGAGAGCATCAACTTCTCTCACAACCTAGGCCA</td>\n",
       "      <td>TGGCCTAGGTTGTGAGAGAAGTTGATGCTCTCACTCATCTTTCCTCCAA</td>\n",
       "    </tr>\n",
       "  </tbody>\n",
       "</table>\n",
       "</div>"
      ],
      "text/plain": [
       "  gene_name feature_id strand  start   stop    seq_hash  \\\n",
       "0   DDX11L1       exon      +  11869  12227   210719603   \n",
       "1   DDX11L1       exon      +  12613  12721  -303738537   \n",
       "2   DDX11L1       exon      +  13221  14409  1830612086   \n",
       "3   DDX11L1       exon      +  12010  12057  1984074804   \n",
       "4   DDX11L1       exon      +  12179  12227  -316619618   \n",
       "\n",
       "                                            sequence  \\\n",
       "0  GTTAACTTGCCGTCAGCCTTTTCTTTGACCTCTTCTTTCTGTTCAT...   \n",
       "1  GTGTGTGGTGATGCCAGGCATGCCCTTCCCCAGCATCAGGTCTCCA...   \n",
       "2  GCAGGGCCATCAGGCACCAAAGGGATTCTGCCAGCATAGTGCTCCT...   \n",
       "3   GTGTCTGACTTCCAGCAACTGCTGGCCTGTGCCAGGGTGCAAGCTGAG   \n",
       "4  TTGGAGGAAAGATGAGTGAGAGCATCAACTTCTCTCACAACCTAGGCCA   \n",
       "\n",
       "                                  reverse_complement  \n",
       "0  TGGCCTAGGTTGTGAGAGAAGTTGATGCTCTCACTCATCTTTCCTC...  \n",
       "1  CTCTGCAACACTGGGGACACTCACAAGAGTGTGATCCAAGTCGGCC...  \n",
       "2  CAGAAACCAACAGTGTGCTTTTAATAAAGGATCTCTAGCTGTGCAG...  \n",
       "3   CTCAGCTTGCACCCTGGCACAGGCCAGCAGTTGCTGGAAGTCAGACAC  \n",
       "4  TGGCCTAGGTTGTGAGAGAAGTTGATGCTCTCACTCATCTTTCCTCCAA  "
      ]
     },
     "execution_count": 12,
     "metadata": {},
     "output_type": "execute_result"
    }
   ],
   "source": [
    "new_fasta_df.head()"
   ]
  },
  {
   "cell_type": "code",
   "execution_count": 30,
   "metadata": {
    "ExecuteTime": {
     "end_time": "2019-07-27T16:38:18.066926Z",
     "start_time": "2019-07-27T16:38:18.061903Z"
    }
   },
   "outputs": [
    {
     "data": {
      "text/plain": [
       "gene_name             category\n",
       "feature_id            category\n",
       "strand                category\n",
       "start                   uint32\n",
       "stop                    uint32\n",
       "seq_hash                 int32\n",
       "sequence                object\n",
       "reverse_complement      object\n",
       "dtype: object"
      ]
     },
     "execution_count": 30,
     "metadata": {},
     "output_type": "execute_result"
    }
   ],
   "source": [
    "new_fasta_df.dtypes"
   ]
  },
  {
   "cell_type": "markdown",
   "metadata": {},
   "source": [
    "## Extract spacers"
   ]
  },
  {
   "cell_type": "markdown",
   "metadata": {},
   "source": [
    "The code to find spacers needs to be revised so that it works over pandas datastructures (dataframes and series) and uses pandas methods where possible."
   ]
  },
  {
   "cell_type": "code",
   "execution_count": 31,
   "metadata": {
    "ExecuteTime": {
     "end_time": "2019-07-27T16:40:12.927322Z",
     "start_time": "2019-07-27T16:40:12.909145Z"
    }
   },
   "outputs": [
    {
     "name": "stderr",
     "output_type": "stream",
     "text": [
      " /Users/milessmith/miniconda3/envs/mc/lib/python3.6/site-packages/tqdm/autonotebook/__init__.py:14: TqdmExperimentalWarning:Using `tqdm.autonotebook.tqdm` in notebook mode. Use `tqdm.tqdm` instead to force console mode (e.g. in jupyter console)\n"
     ]
    }
   ],
   "source": [
    "from tqdm.autonotebook import tqdm"
   ]
  },
  {
   "cell_type": "code",
   "execution_count": 17,
   "metadata": {
    "ExecuteTime": {
     "end_time": "2019-07-28T17:20:06.115548Z",
     "start_time": "2019-07-28T17:20:06.104637Z"
    }
   },
   "outputs": [],
   "source": [
    "spacer_regex = compile(nuclease_info['spacer_regex'].item())\n",
    "polyT_regex = compile(\"([AGCT](?!T{4})){30}\")\n",
    "BsmBI_fwd = \"GAGACG\"\n",
    "BsmBI_rev = \"CGTCTC\"\n",
    "spacer_start = int(nuclease_info['start'].item())\n",
    "spacer_end = int(nuclease_info['end'].item()) +1"
   ]
  },
  {
   "cell_type": "code",
   "execution_count": 147,
   "metadata": {
    "ExecuteTime": {
     "end_time": "2019-07-27T21:46:19.929889Z",
     "start_time": "2019-07-27T21:46:19.925510Z"
    }
   },
   "outputs": [
    {
     "data": {
      "text/plain": [
       "'(?i)[ACGT]{25}[G]{2}[ACGT]{3}'"
      ]
     },
     "execution_count": 147,
     "metadata": {},
     "output_type": "execute_result"
    }
   ],
   "source": [
    "nuclease_info['spacer_regex'].item()"
   ]
  },
  {
   "cell_type": "code",
   "execution_count": 82,
   "metadata": {
    "ExecuteTime": {
     "end_time": "2019-07-27T17:10:56.203041Z",
     "start_time": "2019-07-27T17:10:56.198092Z"
    }
   },
   "outputs": [
    {
     "data": {
      "text/plain": [
       "24"
      ]
     },
     "execution_count": 82,
     "metadata": {},
     "output_type": "execute_result"
    }
   ],
   "source": [
    "spacer_end"
   ]
  },
  {
   "cell_type": "code",
   "execution_count": 81,
   "metadata": {
    "ExecuteTime": {
     "end_time": "2019-07-27T17:10:50.994955Z",
     "start_time": "2019-07-27T17:10:50.990753Z"
    }
   },
   "outputs": [
    {
     "data": {
      "text/plain": [
       "5"
      ]
     },
     "execution_count": 81,
     "metadata": {},
     "output_type": "execute_result"
    }
   ],
   "source": [
    "spacer_start"
   ]
  },
  {
   "cell_type": "code",
   "execution_count": 33,
   "metadata": {
    "ExecuteTime": {
     "end_time": "2019-07-27T16:41:45.688353Z",
     "start_time": "2019-07-27T16:40:55.125858Z"
    }
   },
   "outputs": [
    {
     "data": {
      "application/vnd.jupyter.widget-view+json": {
       "model_id": "fa3a8812ff184ea9a3806c5dfebc6971",
       "version_major": 2,
       "version_minor": 0
      },
      "text/plain": [
       "HBox(children=(IntProgress(value=0, description='finding forward spacers', max=745513, style=ProgressStyle(des…"
      ]
     },
     "metadata": {},
     "output_type": "display_data"
    },
    {
     "name": "stdout",
     "output_type": "stream",
     "text": [
      "\n"
     ]
    }
   ],
   "source": [
    "tqdm.pandas(desc=\"finding forward spacers\", unit=\"sequences\")\n",
    "fasta_df[\"forward_spacers\"] = fasta_df[\"sequence\"].progress_apply(spacer_regex.findall)"
   ]
  },
  {
   "cell_type": "code",
   "execution_count": 34,
   "metadata": {
    "ExecuteTime": {
     "end_time": "2019-07-27T16:42:42.455710Z",
     "start_time": "2019-07-27T16:41:49.039893Z"
    }
   },
   "outputs": [
    {
     "data": {
      "application/vnd.jupyter.widget-view+json": {
       "model_id": "8ff6865328fa4586bf0828e06605a348",
       "version_major": 2,
       "version_minor": 0
      },
      "text/plain": [
       "HBox(children=(IntProgress(value=0, description='finding reverse spacers', max=745513, style=ProgressStyle(des…"
      ]
     },
     "metadata": {},
     "output_type": "display_data"
    },
    {
     "name": "stdout",
     "output_type": "stream",
     "text": [
      "\n"
     ]
    }
   ],
   "source": [
    "tqdm.pandas(desc=\"finding reverse spacers\", unit=\"sequences\")\n",
    "fasta_df[\"reverse_spacers\"] = fasta_df[\"reverse_complement\"].progress_apply(spacer_regex.findall)"
   ]
  },
  {
   "cell_type": "code",
   "execution_count": 35,
   "metadata": {
    "ExecuteTime": {
     "end_time": "2019-07-27T16:43:08.421976Z",
     "start_time": "2019-07-27T16:43:08.403976Z"
    }
   },
   "outputs": [
    {
     "data": {
      "text/html": [
       "<div>\n",
       "<style scoped>\n",
       "    .dataframe tbody tr th:only-of-type {\n",
       "        vertical-align: middle;\n",
       "    }\n",
       "\n",
       "    .dataframe tbody tr th {\n",
       "        vertical-align: top;\n",
       "    }\n",
       "\n",
       "    .dataframe thead th {\n",
       "        text-align: right;\n",
       "    }\n",
       "</style>\n",
       "<table border=\"1\" class=\"dataframe\">\n",
       "  <thead>\n",
       "    <tr style=\"text-align: right;\">\n",
       "      <th></th>\n",
       "      <th>gene_name</th>\n",
       "      <th>feature_id</th>\n",
       "      <th>strand</th>\n",
       "      <th>start</th>\n",
       "      <th>stop</th>\n",
       "      <th>seq_hash</th>\n",
       "      <th>sequence</th>\n",
       "      <th>reverse_complement</th>\n",
       "      <th>forward_spacers</th>\n",
       "      <th>reverse_spacers</th>\n",
       "    </tr>\n",
       "  </thead>\n",
       "  <tbody>\n",
       "    <tr>\n",
       "      <th>0</th>\n",
       "      <td>DDX11L1</td>\n",
       "      <td>exon</td>\n",
       "      <td>+</td>\n",
       "      <td>11869</td>\n",
       "      <td>12227</td>\n",
       "      <td>-43556487203695757</td>\n",
       "      <td>GTTAACTTGCCGTCAGCCTTTTCTTTGACCTCTTCTTTCTGTTCAT...</td>\n",
       "      <td>TGGCCTAGGTTGTGAGAGAAGTTGATGCTCTCACTCATCTTTCCTC...</td>\n",
       "      <td>[CCAGACTTCCCGTGTCCTTTCCACCGGGCC, AGAGGTCACAGGG...</td>\n",
       "      <td>[TTCCTCCAATCTTTCCCCTATGCCTGGTTG, GGTATTAAGTTAC...</td>\n",
       "    </tr>\n",
       "    <tr>\n",
       "      <th>1</th>\n",
       "      <td>DDX11L1</td>\n",
       "      <td>exon</td>\n",
       "      <td>+</td>\n",
       "      <td>12613</td>\n",
       "      <td>12721</td>\n",
       "      <td>5288470158420300119</td>\n",
       "      <td>GTGTGTGGTGATGCCAGGCATGCCCTTCCCCAGCATCAGGTCTCCA...</td>\n",
       "      <td>CTCTGCAACACTGGGGACACTCACAAGAGTGTGATCCAAGTCGGCC...</td>\n",
       "      <td>[CCAGGCATGCCCTTCCCCAGCATCAGGTCT, AGCTGCAGAAGAC...</td>\n",
       "      <td>[CACTCACAAGAGTGTGATCCAAGTCGGCCG, TCTGCAGCTCTGG...</td>\n",
       "    </tr>\n",
       "    <tr>\n",
       "      <th>2</th>\n",
       "      <td>DDX11L1</td>\n",
       "      <td>exon</td>\n",
       "      <td>+</td>\n",
       "      <td>13221</td>\n",
       "      <td>14409</td>\n",
       "      <td>-3494540769226855306</td>\n",
       "      <td>GCAGGGCCATCAGGCACCAAAGGGATTCTGCCAGCATAGTGCTCCT...</td>\n",
       "      <td>CAGAAACCAACAGTGTGCTTTTAATAAAGGATCTCTAGCTGTGCAG...</td>\n",
       "      <td>[GGGATTCTGCCAGCATAGTGCTCCTGGACC, AGTGATACACCCG...</td>\n",
       "      <td>[AAACCAACAGTGTGCTTTTAATAAAGGATC, TAGCTGTGCAGGA...</td>\n",
       "    </tr>\n",
       "    <tr>\n",
       "      <th>3</th>\n",
       "      <td>DDX11L1</td>\n",
       "      <td>exon</td>\n",
       "      <td>+</td>\n",
       "      <td>12010</td>\n",
       "      <td>12057</td>\n",
       "      <td>-7939539020843674572</td>\n",
       "      <td>GTGTCTGACTTCCAGCAACTGCTGGCCTGTGCCAGGGTGCAAGCTGAG</td>\n",
       "      <td>CTCAGCTTGCACCCTGGCACAGGCCAGCAGTTGCTGGAAGTCAGACAC</td>\n",
       "      <td>[TTCCAGCAACTGCTGGCCTGTGCCAGGGTG]</td>\n",
       "      <td>[ACCCTGGCACAGGCCAGCAGTTGCTGGAAG]</td>\n",
       "    </tr>\n",
       "    <tr>\n",
       "      <th>4</th>\n",
       "      <td>DDX11L1</td>\n",
       "      <td>exon</td>\n",
       "      <td>+</td>\n",
       "      <td>12179</td>\n",
       "      <td>12227</td>\n",
       "      <td>2724784066093171870</td>\n",
       "      <td>TTGGAGGAAAGATGAGTGAGAGCATCAACTTCTCTCACAACCTAGGCCA</td>\n",
       "      <td>TGGCCTAGGTTGTGAGAGAAGTTGATGCTCTCACTCATCTTTCCTCCAA</td>\n",
       "      <td>[GAGCATCAACTTCTCTCACAACCTAGGCCA]</td>\n",
       "      <td>[]</td>\n",
       "    </tr>\n",
       "  </tbody>\n",
       "</table>\n",
       "</div>"
      ],
      "text/plain": [
       "  gene_name feature_id strand  start   stop              seq_hash  \\\n",
       "0   DDX11L1       exon      +  11869  12227    -43556487203695757   \n",
       "1   DDX11L1       exon      +  12613  12721   5288470158420300119   \n",
       "2   DDX11L1       exon      +  13221  14409  -3494540769226855306   \n",
       "3   DDX11L1       exon      +  12010  12057  -7939539020843674572   \n",
       "4   DDX11L1       exon      +  12179  12227   2724784066093171870   \n",
       "\n",
       "                                            sequence  \\\n",
       "0  GTTAACTTGCCGTCAGCCTTTTCTTTGACCTCTTCTTTCTGTTCAT...   \n",
       "1  GTGTGTGGTGATGCCAGGCATGCCCTTCCCCAGCATCAGGTCTCCA...   \n",
       "2  GCAGGGCCATCAGGCACCAAAGGGATTCTGCCAGCATAGTGCTCCT...   \n",
       "3   GTGTCTGACTTCCAGCAACTGCTGGCCTGTGCCAGGGTGCAAGCTGAG   \n",
       "4  TTGGAGGAAAGATGAGTGAGAGCATCAACTTCTCTCACAACCTAGGCCA   \n",
       "\n",
       "                                  reverse_complement  \\\n",
       "0  TGGCCTAGGTTGTGAGAGAAGTTGATGCTCTCACTCATCTTTCCTC...   \n",
       "1  CTCTGCAACACTGGGGACACTCACAAGAGTGTGATCCAAGTCGGCC...   \n",
       "2  CAGAAACCAACAGTGTGCTTTTAATAAAGGATCTCTAGCTGTGCAG...   \n",
       "3   CTCAGCTTGCACCCTGGCACAGGCCAGCAGTTGCTGGAAGTCAGACAC   \n",
       "4  TGGCCTAGGTTGTGAGAGAAGTTGATGCTCTCACTCATCTTTCCTCCAA   \n",
       "\n",
       "                                     forward_spacers  \\\n",
       "0  [CCAGACTTCCCGTGTCCTTTCCACCGGGCC, AGAGGTCACAGGG...   \n",
       "1  [CCAGGCATGCCCTTCCCCAGCATCAGGTCT, AGCTGCAGAAGAC...   \n",
       "2  [GGGATTCTGCCAGCATAGTGCTCCTGGACC, AGTGATACACCCG...   \n",
       "3                   [TTCCAGCAACTGCTGGCCTGTGCCAGGGTG]   \n",
       "4                   [GAGCATCAACTTCTCTCACAACCTAGGCCA]   \n",
       "\n",
       "                                     reverse_spacers  \n",
       "0  [TTCCTCCAATCTTTCCCCTATGCCTGGTTG, GGTATTAAGTTAC...  \n",
       "1  [CACTCACAAGAGTGTGATCCAAGTCGGCCG, TCTGCAGCTCTGG...  \n",
       "2  [AAACCAACAGTGTGCTTTTAATAAAGGATC, TAGCTGTGCAGGA...  \n",
       "3                   [ACCCTGGCACAGGCCAGCAGTTGCTGGAAG]  \n",
       "4                                                 []  "
      ]
     },
     "execution_count": 35,
     "metadata": {},
     "output_type": "execute_result"
    }
   ],
   "source": [
    "fasta_df.head()"
   ]
  },
  {
   "cell_type": "markdown",
   "metadata": {},
   "source": [
    "No longer need the actual sequences"
   ]
  },
  {
   "cell_type": "code",
   "execution_count": 36,
   "metadata": {
    "ExecuteTime": {
     "end_time": "2019-07-27T16:43:40.316395Z",
     "start_time": "2019-07-27T16:43:39.355072Z"
    }
   },
   "outputs": [],
   "source": [
    "fasta_df = fasta_df.drop(columns=['sequence','reverse_complement'])"
   ]
  },
  {
   "cell_type": "code",
   "execution_count": 241,
   "metadata": {
    "ExecuteTime": {
     "end_time": "2019-07-28T01:29:30.038557Z",
     "start_time": "2019-07-28T01:29:30.034985Z"
    }
   },
   "outputs": [],
   "source": [
    "smaller = fasta_df.iloc[:100000, ]"
   ]
  },
  {
   "cell_type": "code",
   "execution_count": 39,
   "metadata": {
    "ExecuteTime": {
     "end_time": "2019-07-27T16:43:55.622668Z",
     "start_time": "2019-07-27T16:43:55.609305Z"
    },
    "scrolled": false
   },
   "outputs": [
    {
     "data": {
      "text/html": [
       "<div>\n",
       "<style scoped>\n",
       "    .dataframe tbody tr th:only-of-type {\n",
       "        vertical-align: middle;\n",
       "    }\n",
       "\n",
       "    .dataframe tbody tr th {\n",
       "        vertical-align: top;\n",
       "    }\n",
       "\n",
       "    .dataframe thead th {\n",
       "        text-align: right;\n",
       "    }\n",
       "</style>\n",
       "<table border=\"1\" class=\"dataframe\">\n",
       "  <thead>\n",
       "    <tr style=\"text-align: right;\">\n",
       "      <th></th>\n",
       "      <th>gene_name</th>\n",
       "      <th>feature_id</th>\n",
       "      <th>strand</th>\n",
       "      <th>start</th>\n",
       "      <th>stop</th>\n",
       "      <th>seq_hash</th>\n",
       "      <th>forward_spacers</th>\n",
       "      <th>reverse_spacers</th>\n",
       "    </tr>\n",
       "  </thead>\n",
       "  <tbody>\n",
       "    <tr>\n",
       "      <th>0</th>\n",
       "      <td>DDX11L1</td>\n",
       "      <td>exon</td>\n",
       "      <td>+</td>\n",
       "      <td>11869</td>\n",
       "      <td>12227</td>\n",
       "      <td>-43556487203695757</td>\n",
       "      <td>[CCAGACTTCCCGTGTCCTTTCCACCGGGCC, AGAGGTCACAGGG...</td>\n",
       "      <td>[TTCCTCCAATCTTTCCCCTATGCCTGGTTG, GGTATTAAGTTAC...</td>\n",
       "    </tr>\n",
       "    <tr>\n",
       "      <th>1</th>\n",
       "      <td>DDX11L1</td>\n",
       "      <td>exon</td>\n",
       "      <td>+</td>\n",
       "      <td>12613</td>\n",
       "      <td>12721</td>\n",
       "      <td>5288470158420300119</td>\n",
       "      <td>[CCAGGCATGCCCTTCCCCAGCATCAGGTCT, AGCTGCAGAAGAC...</td>\n",
       "      <td>[CACTCACAAGAGTGTGATCCAAGTCGGCCG, TCTGCAGCTCTGG...</td>\n",
       "    </tr>\n",
       "    <tr>\n",
       "      <th>2</th>\n",
       "      <td>DDX11L1</td>\n",
       "      <td>exon</td>\n",
       "      <td>+</td>\n",
       "      <td>13221</td>\n",
       "      <td>14409</td>\n",
       "      <td>-3494540769226855306</td>\n",
       "      <td>[GGGATTCTGCCAGCATAGTGCTCCTGGACC, AGTGATACACCCG...</td>\n",
       "      <td>[AAACCAACAGTGTGCTTTTAATAAAGGATC, TAGCTGTGCAGGA...</td>\n",
       "    </tr>\n",
       "    <tr>\n",
       "      <th>3</th>\n",
       "      <td>DDX11L1</td>\n",
       "      <td>exon</td>\n",
       "      <td>+</td>\n",
       "      <td>12010</td>\n",
       "      <td>12057</td>\n",
       "      <td>-7939539020843674572</td>\n",
       "      <td>[TTCCAGCAACTGCTGGCCTGTGCCAGGGTG]</td>\n",
       "      <td>[ACCCTGGCACAGGCCAGCAGTTGCTGGAAG]</td>\n",
       "    </tr>\n",
       "    <tr>\n",
       "      <th>4</th>\n",
       "      <td>DDX11L1</td>\n",
       "      <td>exon</td>\n",
       "      <td>+</td>\n",
       "      <td>12179</td>\n",
       "      <td>12227</td>\n",
       "      <td>2724784066093171870</td>\n",
       "      <td>[GAGCATCAACTTCTCTCACAACCTAGGCCA]</td>\n",
       "      <td>[]</td>\n",
       "    </tr>\n",
       "  </tbody>\n",
       "</table>\n",
       "</div>"
      ],
      "text/plain": [
       "  gene_name feature_id strand  start   stop              seq_hash  \\\n",
       "0   DDX11L1       exon      +  11869  12227    -43556487203695757   \n",
       "1   DDX11L1       exon      +  12613  12721   5288470158420300119   \n",
       "2   DDX11L1       exon      +  13221  14409  -3494540769226855306   \n",
       "3   DDX11L1       exon      +  12010  12057  -7939539020843674572   \n",
       "4   DDX11L1       exon      +  12179  12227   2724784066093171870   \n",
       "\n",
       "                                     forward_spacers  \\\n",
       "0  [CCAGACTTCCCGTGTCCTTTCCACCGGGCC, AGAGGTCACAGGG...   \n",
       "1  [CCAGGCATGCCCTTCCCCAGCATCAGGTCT, AGCTGCAGAAGAC...   \n",
       "2  [GGGATTCTGCCAGCATAGTGCTCCTGGACC, AGTGATACACCCG...   \n",
       "3                   [TTCCAGCAACTGCTGGCCTGTGCCAGGGTG]   \n",
       "4                   [GAGCATCAACTTCTCTCACAACCTAGGCCA]   \n",
       "\n",
       "                                     reverse_spacers  \n",
       "0  [TTCCTCCAATCTTTCCCCTATGCCTGGTTG, GGTATTAAGTTAC...  \n",
       "1  [CACTCACAAGAGTGTGATCCAAGTCGGCCG, TCTGCAGCTCTGG...  \n",
       "2  [AAACCAACAGTGTGCTTTTAATAAAGGATC, TAGCTGTGCAGGA...  \n",
       "3                   [ACCCTGGCACAGGCCAGCAGTTGCTGGAAG]  \n",
       "4                                                 []  "
      ]
     },
     "execution_count": 39,
     "metadata": {},
     "output_type": "execute_result"
    }
   ],
   "source": [
    "smaller.head()"
   ]
  },
  {
   "cell_type": "markdown",
   "metadata": {},
   "source": [
    "Need to separate the lists of spacers while maintaining the information in the other columns.  This, unfortunately, results in a dataframe that is way too large to fit into memory and results in segfaults.  Two options, as I see it, are to work in chunks and eliminate what we can and/or to move to a module like dask that can accomodate extremely large dataframes."
   ]
  },
  {
   "cell_type": "code",
   "execution_count": 248,
   "metadata": {
    "ExecuteTime": {
     "end_time": "2019-07-28T01:35:48.855414Z",
     "start_time": "2019-07-28T01:34:20.374672Z"
    },
    "cell_style": "split"
   },
   "outputs": [
    {
     "data": {
      "application/vnd.jupyter.widget-view+json": {
       "model_id": "e32019dee9984f449db6075ffd4ebc42",
       "version_major": 2,
       "version_minor": 0
      },
      "text/plain": [
       "HBox(children=(IntProgress(value=0, description='separating forward spacer lists', max=100000, style=ProgressS…"
      ]
     },
     "metadata": {},
     "output_type": "display_data"
    }
   ],
   "source": [
    "tqdm.pandas(desc=\"separating forward spacer lists\", unit=\"sequences\")\n",
    "sfs = (\n",
    "    smaller.progress_apply(\n",
    "        lambda x: pd.Series(x[\"forward_spacers\"], dtype=\"str\"), axis=1\n",
    "    )\n",
    "    .stack()\n",
    "    .reset_index(level=1)\n",
    "    .drop(columns=[\"level_1\"])\n",
    ")"
   ]
  },
  {
   "cell_type": "code",
   "execution_count": 250,
   "metadata": {
    "ExecuteTime": {
     "end_time": "2019-07-28T01:37:42.827172Z",
     "start_time": "2019-07-28T01:36:14.440202Z"
    },
    "cell_style": "split"
   },
   "outputs": [
    {
     "data": {
      "application/vnd.jupyter.widget-view+json": {
       "model_id": "3ef425e923e541d0864ece2cd2402cfe",
       "version_major": 2,
       "version_minor": 0
      },
      "text/plain": [
       "HBox(children=(IntProgress(value=0, description='separating reverse spacer lists', max=100000, style=ProgressS…"
      ]
     },
     "metadata": {},
     "output_type": "display_data"
    }
   ],
   "source": [
    "tqdm.pandas(desc=\"separating reverse spacer lists\", unit=\"sequences\")\n",
    "sfs_rev = (\n",
    "    smaller.progress_apply(\n",
    "        lambda x: pd.Series(x[\"reverse_spacers\"], dtype=\"str\"), axis=1\n",
    "    )\n",
    "    .stack()\n",
    "    .reset_index(level=1)\n",
    "    .drop(columns=[\"level_1\"])\n",
    ")"
   ]
  },
  {
   "cell_type": "code",
   "execution_count": 249,
   "metadata": {
    "ExecuteTime": {
     "end_time": "2019-07-28T01:35:56.798739Z",
     "start_time": "2019-07-28T01:35:56.792466Z"
    },
    "cell_style": "split",
    "scrolled": true
   },
   "outputs": [
    {
     "data": {
      "text/html": [
       "<div>\n",
       "<style scoped>\n",
       "    .dataframe tbody tr th:only-of-type {\n",
       "        vertical-align: middle;\n",
       "    }\n",
       "\n",
       "    .dataframe tbody tr th {\n",
       "        vertical-align: top;\n",
       "    }\n",
       "\n",
       "    .dataframe thead th {\n",
       "        text-align: right;\n",
       "    }\n",
       "</style>\n",
       "<table border=\"1\" class=\"dataframe\">\n",
       "  <thead>\n",
       "    <tr style=\"text-align: right;\">\n",
       "      <th></th>\n",
       "      <th>0</th>\n",
       "    </tr>\n",
       "  </thead>\n",
       "  <tbody>\n",
       "    <tr>\n",
       "      <th>0</th>\n",
       "      <td>CCAGACTTCCCGTGTCCTTTCCACCGGGCC</td>\n",
       "    </tr>\n",
       "    <tr>\n",
       "      <th>0</th>\n",
       "      <td>AGAGGTCACAGGGTCTTGATGCTGTGGTCT</td>\n",
       "    </tr>\n",
       "    <tr>\n",
       "      <th>0</th>\n",
       "      <td>AGGTGTCTGACTTCCAGCAACTGCTGGCCT</td>\n",
       "    </tr>\n",
       "    <tr>\n",
       "      <th>0</th>\n",
       "      <td>CAGGGTGCAAGCTGAGCACTGGAGTGGAGT</td>\n",
       "    </tr>\n",
       "    <tr>\n",
       "      <th>0</th>\n",
       "      <td>TGTGGAGAGGAGCCATGCCTAGAGTGGGAT</td>\n",
       "    </tr>\n",
       "  </tbody>\n",
       "</table>\n",
       "</div>"
      ],
      "text/plain": [
       "                                0\n",
       "0  CCAGACTTCCCGTGTCCTTTCCACCGGGCC\n",
       "0  AGAGGTCACAGGGTCTTGATGCTGTGGTCT\n",
       "0  AGGTGTCTGACTTCCAGCAACTGCTGGCCT\n",
       "0  CAGGGTGCAAGCTGAGCACTGGAGTGGAGT\n",
       "0  TGTGGAGAGGAGCCATGCCTAGAGTGGGAT"
      ]
     },
     "execution_count": 249,
     "metadata": {},
     "output_type": "execute_result"
    }
   ],
   "source": [
    "sfs.head()"
   ]
  },
  {
   "cell_type": "code",
   "execution_count": 251,
   "metadata": {
    "ExecuteTime": {
     "end_time": "2019-07-28T01:37:48.323485Z",
     "start_time": "2019-07-28T01:37:48.316027Z"
    },
    "cell_style": "split"
   },
   "outputs": [
    {
     "data": {
      "text/html": [
       "<div>\n",
       "<style scoped>\n",
       "    .dataframe tbody tr th:only-of-type {\n",
       "        vertical-align: middle;\n",
       "    }\n",
       "\n",
       "    .dataframe tbody tr th {\n",
       "        vertical-align: top;\n",
       "    }\n",
       "\n",
       "    .dataframe thead th {\n",
       "        text-align: right;\n",
       "    }\n",
       "</style>\n",
       "<table border=\"1\" class=\"dataframe\">\n",
       "  <thead>\n",
       "    <tr style=\"text-align: right;\">\n",
       "      <th></th>\n",
       "      <th>0</th>\n",
       "    </tr>\n",
       "  </thead>\n",
       "  <tbody>\n",
       "    <tr>\n",
       "      <th>0</th>\n",
       "      <td>TTCCTCCAATCTTTCCCCTATGCCTGGTTG</td>\n",
       "    </tr>\n",
       "    <tr>\n",
       "      <th>0</th>\n",
       "      <td>GGTATTAAGTTACATGCAGACAACAGGGGC</td>\n",
       "    </tr>\n",
       "    <tr>\n",
       "      <th>0</th>\n",
       "      <td>ATGAACAATGGCCCATCCCACTCTAGGCAT</td>\n",
       "    </tr>\n",
       "    <tr>\n",
       "      <th>0</th>\n",
       "      <td>CACTCCAGTGCTCAGCTTGCACCCTGGCAC</td>\n",
       "    </tr>\n",
       "    <tr>\n",
       "      <th>0</th>\n",
       "      <td>CATCAAGACCCTGTGACCTCTCAAAGGCCC</td>\n",
       "    </tr>\n",
       "  </tbody>\n",
       "</table>\n",
       "</div>"
      ],
      "text/plain": [
       "                                0\n",
       "0  TTCCTCCAATCTTTCCCCTATGCCTGGTTG\n",
       "0  GGTATTAAGTTACATGCAGACAACAGGGGC\n",
       "0  ATGAACAATGGCCCATCCCACTCTAGGCAT\n",
       "0  CACTCCAGTGCTCAGCTTGCACCCTGGCAC\n",
       "0  CATCAAGACCCTGTGACCTCTCAAAGGCCC"
      ]
     },
     "execution_count": 251,
     "metadata": {},
     "output_type": "execute_result"
    }
   ],
   "source": [
    "sfs_rev.head()"
   ]
  },
  {
   "cell_type": "code",
   "execution_count": 252,
   "metadata": {
    "ExecuteTime": {
     "end_time": "2019-07-28T01:38:10.511926Z",
     "start_time": "2019-07-28T01:38:10.405465Z"
    }
   },
   "outputs": [],
   "source": [
    "sfs = sfs.append(sfs_rev)"
   ]
  },
  {
   "cell_type": "code",
   "execution_count": 41,
   "metadata": {
    "ExecuteTime": {
     "end_time": "2019-07-27T16:46:55.704962Z",
     "start_time": "2019-07-27T16:46:55.701028Z"
    }
   },
   "outputs": [],
   "source": [
    "from copy import deepcopy"
   ]
  },
  {
   "cell_type": "code",
   "execution_count": 42,
   "metadata": {
    "ExecuteTime": {
     "end_time": "2019-07-27T16:47:05.490745Z",
     "start_time": "2019-07-27T16:47:00.381392Z"
    }
   },
   "outputs": [
    {
     "data": {
      "text/plain": [
       "637712"
      ]
     },
     "execution_count": 42,
     "metadata": {},
     "output_type": "execute_result"
    }
   ],
   "source": [
    "sfs.shape[0]"
   ]
  },
  {
   "cell_type": "code",
   "execution_count": 253,
   "metadata": {
    "ExecuteTime": {
     "end_time": "2019-07-28T01:38:26.982577Z",
     "start_time": "2019-07-28T01:38:26.978152Z"
    }
   },
   "outputs": [
    {
     "data": {
      "text/plain": [
       "1279492"
      ]
     },
     "execution_count": 253,
     "metadata": {},
     "output_type": "execute_result"
    }
   ],
   "source": [
    "sfs.shape[0]"
   ]
  },
  {
   "cell_type": "code",
   "execution_count": null,
   "metadata": {},
   "outputs": [],
   "source": []
  },
  {
   "cell_type": "code",
   "execution_count": 46,
   "metadata": {
    "ExecuteTime": {
     "end_time": "2019-07-27T16:49:37.200490Z",
     "start_time": "2019-07-27T16:49:37.197264Z"
    }
   },
   "outputs": [
    {
     "name": "stdout",
     "output_type": "stream",
     "text": [
      "There are 6.4 spacer for each original forward sequence\n"
     ]
    }
   ],
   "source": [
    "print(f\"There are {sfs.shape[0]/smaller.shape[0]:.2} spacer for each original forward sequence\")"
   ]
  },
  {
   "cell_type": "code",
   "execution_count": 47,
   "metadata": {
    "ExecuteTime": {
     "end_time": "2019-07-27T16:49:43.899534Z",
     "start_time": "2019-07-27T16:49:43.840333Z"
    }
   },
   "outputs": [],
   "source": [
    "sfs = sfs.rename(columns={0:'spacer'})"
   ]
  },
  {
   "cell_type": "markdown",
   "metadata": {},
   "source": [
    "### Pruning spacers\n",
    "The first thing we can do is apply our set of filters:\n",
    "* eliminate spacers with a polyT sequences\n",
    "* eliminate spacers with a BsmBI recognition sequence\n",
    "* eliminate spacers with a GC <20% or >80%\n",
    "\n",
    "Optionally, we could (probably should) also score spacers here and apply the cutoff."
   ]
  },
  {
   "cell_type": "code",
   "execution_count": 48,
   "metadata": {
    "ExecuteTime": {
     "end_time": "2019-07-27T16:52:01.781047Z",
     "start_time": "2019-07-27T16:52:01.756280Z"
    }
   },
   "outputs": [],
   "source": [
    "sfs_bak = deepcopy(sfs)"
   ]
  },
  {
   "cell_type": "code",
   "execution_count": 56,
   "metadata": {
    "ExecuteTime": {
     "end_time": "2019-07-27T16:56:36.298070Z",
     "start_time": "2019-07-27T16:56:36.292719Z"
    },
    "scrolled": true
   },
   "outputs": [
    {
     "data": {
      "text/plain": [
       "637712"
      ]
     },
     "execution_count": 56,
     "metadata": {},
     "output_type": "execute_result"
    }
   ],
   "source": [
    "sfs_bak.shape[0]"
   ]
  },
  {
   "cell_type": "code",
   "execution_count": 185,
   "metadata": {
    "ExecuteTime": {
     "end_time": "2019-07-28T00:13:43.151993Z",
     "start_time": "2019-07-28T00:13:43.097972Z"
    }
   },
   "outputs": [],
   "source": [
    "sfs = deepcopy(sfs_bak)\n",
    "sfs2 = deepcopy(sfs_bak)"
   ]
  },
  {
   "cell_type": "markdown",
   "metadata": {},
   "source": [
    "The most straightforward way:"
   ]
  },
  {
   "cell_type": "code",
   "execution_count": 117,
   "metadata": {
    "ExecuteTime": {
     "end_time": "2019-07-27T17:33:01.423327Z",
     "start_time": "2019-07-27T17:32:48.788477Z"
    }
   },
   "outputs": [],
   "source": [
    "# eliminate those with a polyT\n",
    "sfs = sfs[sfs['spacer'].str.match('([AGCT](?!T{4})){30}')]\n",
    "# eliminate those with a BsmBI:\n",
    "sfs = sfs[~sfs.apply(lambda x: BsmBI_fwd in x['spacer'][spacer_start:spacer_end], axis=1)]\n",
    "sfs = sfs[~sfs.apply(lambda x: BsmBI_rev in x['spacer'][spacer_start:spacer_end], axis=1)]"
   ]
  },
  {
   "cell_type": "markdown",
   "metadata": {},
   "source": [
    "However, that is three separate steps *and* lambda functions impose a speed penality.  Don't see why we can't move the search for BsmBI into the regex search."
   ]
  },
  {
   "cell_type": "code",
   "execution_count": null,
   "metadata": {},
   "outputs": [],
   "source": [
    "[ACGT]{spacer_start-1}([ACGT](?!T{{4,}}|GAGACG|CGTCTC)){}[ACGT]{}\n",
    "[ACGT]{4}([ACGT](?!T{4,}|GAGACG|CGTCTC)){20}[ACGT]{6}\n",
    "([ACGT](?!T{4,}|GAGACG|CGTCTC)){30}"
   ]
  },
  {
   "cell_type": "code",
   "execution_count": 177,
   "metadata": {
    "ExecuteTime": {
     "end_time": "2019-07-27T23:49:41.739180Z",
     "start_time": "2019-07-27T23:49:41.714525Z"
    }
   },
   "outputs": [
    {
     "data": {
      "text/plain": [
       "2"
      ]
     },
     "execution_count": 177,
     "metadata": {},
     "output_type": "execute_result"
    }
   ],
   "source": [
    "len(sfs['spacer'][0][spacer_start:spacer_end])"
   ]
  },
  {
   "cell_type": "code",
   "execution_count": 179,
   "metadata": {
    "ExecuteTime": {
     "end_time": "2019-07-27T23:50:09.791858Z",
     "start_time": "2019-07-27T23:50:09.786679Z"
    }
   },
   "outputs": [
    {
     "data": {
      "text/plain": [
       "'CTTCCCGTGTCCTTTCCACC'"
      ]
     },
     "execution_count": 179,
     "metadata": {},
     "output_type": "execute_result"
    }
   ],
   "source": [
    "sfs['spacer'].iloc[0][spacer_start:spacer_end]"
   ]
  },
  {
   "cell_type": "code",
   "execution_count": 186,
   "metadata": {
    "ExecuteTime": {
     "end_time": "2019-07-28T00:13:49.391228Z",
     "start_time": "2019-07-28T00:13:47.840798Z"
    }
   },
   "outputs": [],
   "source": [
    "sfs2 = sfs2[sfs2['spacer'].str[spacer_start:spacer_end].str.match(f'^((?!T{{4,}}|{BsmBI_fwd}|{BsmBI_rev}).)*$')]"
   ]
  },
  {
   "cell_type": "code",
   "execution_count": 119,
   "metadata": {
    "ExecuteTime": {
     "end_time": "2019-07-27T17:33:09.105636Z",
     "start_time": "2019-07-27T17:33:09.101031Z"
    }
   },
   "outputs": [
    {
     "data": {
      "text/plain": [
       "564454"
      ]
     },
     "execution_count": 119,
     "metadata": {},
     "output_type": "execute_result"
    }
   ],
   "source": [
    "sfs.shape[0]"
   ]
  },
  {
   "cell_type": "code",
   "execution_count": 187,
   "metadata": {
    "ExecuteTime": {
     "end_time": "2019-07-28T00:13:53.781474Z",
     "start_time": "2019-07-28T00:13:53.777058Z"
    }
   },
   "outputs": [
    {
     "data": {
      "text/plain": [
       "575578"
      ]
     },
     "execution_count": 187,
     "metadata": {},
     "output_type": "execute_result"
    }
   ],
   "source": [
    "sfs2.shape[0]"
   ]
  },
  {
   "cell_type": "code",
   "execution_count": 188,
   "metadata": {
    "ExecuteTime": {
     "end_time": "2019-07-28T00:14:06.064720Z",
     "start_time": "2019-07-28T00:14:00.034475Z"
    },
    "scrolled": true
   },
   "outputs": [
    {
     "data": {
      "text/html": [
       "<div>\n",
       "<style scoped>\n",
       "    .dataframe tbody tr th:only-of-type {\n",
       "        vertical-align: middle;\n",
       "    }\n",
       "\n",
       "    .dataframe tbody tr th {\n",
       "        vertical-align: top;\n",
       "    }\n",
       "\n",
       "    .dataframe thead th {\n",
       "        text-align: right;\n",
       "    }\n",
       "</style>\n",
       "<table border=\"1\" class=\"dataframe\">\n",
       "  <thead>\n",
       "    <tr style=\"text-align: right;\">\n",
       "      <th></th>\n",
       "      <th>spacer</th>\n",
       "    </tr>\n",
       "  </thead>\n",
       "  <tbody>\n",
       "  </tbody>\n",
       "</table>\n",
       "</div>"
      ],
      "text/plain": [
       "Empty DataFrame\n",
       "Columns: [spacer]\n",
       "Index: []"
      ]
     },
     "execution_count": 188,
     "metadata": {},
     "output_type": "execute_result"
    }
   ],
   "source": [
    "sfs2[sfs2.apply(lambda x: \"TTTT\" in x['spacer'][spacer_start:spacer_end], axis=1)]"
   ]
  },
  {
   "cell_type": "code",
   "execution_count": 183,
   "metadata": {
    "ExecuteTime": {
     "end_time": "2019-07-27T23:58:30.761922Z",
     "start_time": "2019-07-27T23:58:30.757456Z"
    }
   },
   "outputs": [
    {
     "data": {
      "text/plain": [
       "'TTTTATTGTGACCTTCCTAG'"
      ]
     },
     "execution_count": 183,
     "metadata": {},
     "output_type": "execute_result"
    }
   ],
   "source": [
    "\"ATAGTTTTTATTGTGACCTTCCTAGGGTAA\"[spacer_start:spacer_end]"
   ]
  },
  {
   "cell_type": "markdown",
   "metadata": {},
   "source": [
    "So that is a ~12-fold speed up. I think the difference in sizes has to do with the first method matching the polyT anywhere in the sequence whereas in the second method I've specifically excluded the scoring panhandles."
   ]
  },
  {
   "cell_type": "code",
   "execution_count": 192,
   "metadata": {
    "ExecuteTime": {
     "end_time": "2019-07-28T00:29:10.752138Z",
     "start_time": "2019-07-28T00:29:10.715303Z"
    }
   },
   "outputs": [],
   "source": [
    "sfs_new_bak = deepcopy(sfs2)"
   ]
  },
  {
   "cell_type": "code",
   "execution_count": 193,
   "metadata": {
    "ExecuteTime": {
     "end_time": "2019-07-28T00:29:15.938293Z",
     "start_time": "2019-07-28T00:29:15.829170Z"
    }
   },
   "outputs": [],
   "source": [
    "sfs = deepcopy(sfs_new_bak)\n",
    "sfs2 = deepcopy(sfs_new_bak)\n",
    "sfs3 = deepcopy(sfs_new_bak)\n",
    "sfs4 = deepcopy(sfs_new_bak)"
   ]
  },
  {
   "cell_type": "code",
   "execution_count": 194,
   "metadata": {
    "ExecuteTime": {
     "end_time": "2019-07-28T00:29:34.285859Z",
     "start_time": "2019-07-28T00:29:20.584448Z"
    }
   },
   "outputs": [],
   "source": [
    "sfs = sfs[sfs.apply(lambda x: 20 < GC(Seq(x['spacer'][spacer_start:spacer_end], IUPAC.unambiguous_dna)) < 80, axis=1)]\n",
    "# sfs = sfs[sfs.apply(lambda x: GC(Seq(x['spacer'][spacer_start:spacer_end], IUPAC.unambiguous_dna)) > 20, axis=1)]"
   ]
  },
  {
   "cell_type": "markdown",
   "metadata": {},
   "source": [
    "Again, a slow lambda function that works."
   ]
  },
  {
   "cell_type": "code",
   "execution_count": 195,
   "metadata": {
    "ExecuteTime": {
     "end_time": "2019-07-28T00:29:45.827097Z",
     "start_time": "2019-07-28T00:29:39.364198Z"
    }
   },
   "outputs": [],
   "source": [
    "sfs2 = sfs2[sfs2['spacer'].apply(Seq).apply(GC).between(20,80)]"
   ]
  },
  {
   "cell_type": "markdown",
   "metadata": {},
   "source": [
    "Chaining conversion to a `Biopython.Seq` object and using `Biopython.GC` is twice as fast, but we could combine those `applies` into one call:"
   ]
  },
  {
   "cell_type": "code",
   "execution_count": 196,
   "metadata": {
    "ExecuteTime": {
     "end_time": "2019-07-28T00:29:50.002785Z",
     "start_time": "2019-07-28T00:29:49.998676Z"
    }
   },
   "outputs": [],
   "source": [
    "def seq_gc(seq):\n",
    "    return GC(Seq(seq))"
   ]
  },
  {
   "cell_type": "code",
   "execution_count": 197,
   "metadata": {
    "ExecuteTime": {
     "end_time": "2019-07-28T00:30:00.151609Z",
     "start_time": "2019-07-28T00:29:55.251064Z"
    }
   },
   "outputs": [],
   "source": [
    "sfs3 = sfs3[sfs3['spacer'].apply(seq_gc).between(20,80)]"
   ]
  },
  {
   "cell_type": "markdown",
   "metadata": {},
   "source": [
    "Marginal improvement, but we really don't need to create a `Biopython.Seq` object just to calculate GC content."
   ]
  },
  {
   "cell_type": "code",
   "execution_count": 199,
   "metadata": {
    "ExecuteTime": {
     "end_time": "2019-07-28T00:30:08.553241Z",
     "start_time": "2019-07-28T00:30:08.550375Z"
    },
    "collapsed": true
   },
   "outputs": [],
   "source": [
    "import re"
   ]
  },
  {
   "cell_type": "code",
   "execution_count": 200,
   "metadata": {
    "ExecuteTime": {
     "end_time": "2019-07-28T00:30:13.308695Z",
     "start_time": "2019-07-28T00:30:13.305455Z"
    }
   },
   "outputs": [],
   "source": [
    "def newGC(seq: str) -> float:\n",
    "    gc = len(re.findall(string=seq, pattern=\"[GgCc]\")) # re.findall is marginally faster than regex.findall\n",
    "    try: \n",
    "        return gc * 100.0/ len(seq)\n",
    "    except ZeroDivisionError: \n",
    "        return 0.0 "
   ]
  },
  {
   "cell_type": "code",
   "execution_count": 201,
   "metadata": {
    "ExecuteTime": {
     "end_time": "2019-07-28T00:30:19.810753Z",
     "start_time": "2019-07-28T00:30:17.578615Z"
    }
   },
   "outputs": [],
   "source": [
    "sfs4 = sfs4[sfs4['spacer'].apply(newGC).between(20,80)]"
   ]
  },
  {
   "cell_type": "markdown",
   "metadata": {},
   "source": [
    "Managed to cut that scan time by 10-fold and lets us drop using `Biopython.GC`."
   ]
  },
  {
   "cell_type": "code",
   "execution_count": 202,
   "metadata": {
    "ExecuteTime": {
     "end_time": "2019-07-28T00:30:24.548871Z",
     "start_time": "2019-07-28T00:30:24.544178Z"
    }
   },
   "outputs": [
    {
     "data": {
      "text/plain": [
       "15.523935569661539"
      ]
     },
     "execution_count": 202,
     "metadata": {},
     "output_type": "execute_result"
    }
   ],
   "source": [
    "(1 - (sfs.shape[0]/sfs_bak.shape[0]))*100"
   ]
  },
  {
   "cell_type": "code",
   "execution_count": 203,
   "metadata": {
    "ExecuteTime": {
     "end_time": "2019-07-28T00:38:00.510413Z",
     "start_time": "2019-07-28T00:38:00.479663Z"
    }
   },
   "outputs": [],
   "source": [
    "sfs = deepcopy(sfs4)"
   ]
  },
  {
   "cell_type": "code",
   "execution_count": 204,
   "metadata": {
    "ExecuteTime": {
     "end_time": "2019-07-28T00:38:04.872355Z",
     "start_time": "2019-07-28T00:38:04.864173Z"
    }
   },
   "outputs": [
    {
     "data": {
      "text/html": [
       "<div>\n",
       "<style scoped>\n",
       "    .dataframe tbody tr th:only-of-type {\n",
       "        vertical-align: middle;\n",
       "    }\n",
       "\n",
       "    .dataframe tbody tr th {\n",
       "        vertical-align: top;\n",
       "    }\n",
       "\n",
       "    .dataframe thead th {\n",
       "        text-align: right;\n",
       "    }\n",
       "</style>\n",
       "<table border=\"1\" class=\"dataframe\">\n",
       "  <thead>\n",
       "    <tr style=\"text-align: right;\">\n",
       "      <th></th>\n",
       "      <th>spacer</th>\n",
       "    </tr>\n",
       "  </thead>\n",
       "  <tbody>\n",
       "    <tr>\n",
       "      <th>0</th>\n",
       "      <td>CCAGACTTCCCGTGTCCTTTCCACCGGGCC</td>\n",
       "    </tr>\n",
       "    <tr>\n",
       "      <th>0</th>\n",
       "      <td>AGAGGTCACAGGGTCTTGATGCTGTGGTCT</td>\n",
       "    </tr>\n",
       "    <tr>\n",
       "      <th>0</th>\n",
       "      <td>AGGTGTCTGACTTCCAGCAACTGCTGGCCT</td>\n",
       "    </tr>\n",
       "    <tr>\n",
       "      <th>0</th>\n",
       "      <td>CAGGGTGCAAGCTGAGCACTGGAGTGGAGT</td>\n",
       "    </tr>\n",
       "    <tr>\n",
       "      <th>0</th>\n",
       "      <td>TGTGGAGAGGAGCCATGCCTAGAGTGGGAT</td>\n",
       "    </tr>\n",
       "  </tbody>\n",
       "</table>\n",
       "</div>"
      ],
      "text/plain": [
       "                           spacer\n",
       "0  CCAGACTTCCCGTGTCCTTTCCACCGGGCC\n",
       "0  AGAGGTCACAGGGTCTTGATGCTGTGGTCT\n",
       "0  AGGTGTCTGACTTCCAGCAACTGCTGGCCT\n",
       "0  CAGGGTGCAAGCTGAGCACTGGAGTGGAGT\n",
       "0  TGTGGAGAGGAGCCATGCCTAGAGTGGGAT"
      ]
     },
     "execution_count": 204,
     "metadata": {},
     "output_type": "execute_result"
    }
   ],
   "source": [
    "sfs.head()"
   ]
  },
  {
   "cell_type": "markdown",
   "metadata": {},
   "source": [
    "Eliminating ~15% is a start, but probably not going to solve all my memory problems."
   ]
  },
  {
   "cell_type": "markdown",
   "metadata": {},
   "source": [
    "How many of those are unique?"
   ]
  },
  {
   "cell_type": "code",
   "execution_count": 205,
   "metadata": {
    "ExecuteTime": {
     "end_time": "2019-07-28T00:38:38.237900Z",
     "start_time": "2019-07-28T00:38:38.233355Z"
    }
   },
   "outputs": [
    {
     "data": {
      "text/plain": [
       "567056"
      ]
     },
     "execution_count": 205,
     "metadata": {},
     "output_type": "execute_result"
    }
   ],
   "source": [
    "len(sfs['spacer'])"
   ]
  },
  {
   "cell_type": "code",
   "execution_count": 206,
   "metadata": {
    "ExecuteTime": {
     "end_time": "2019-07-28T00:38:42.896891Z",
     "start_time": "2019-07-28T00:38:42.770214Z"
    }
   },
   "outputs": [
    {
     "data": {
      "text/plain": [
       "331751"
      ]
     },
     "execution_count": 206,
     "metadata": {},
     "output_type": "execute_result"
    }
   ],
   "source": [
    "len(sfs['spacer'].unique())"
   ]
  },
  {
   "cell_type": "markdown",
   "metadata": {},
   "source": [
    "Oh, that's a lot.  And that is the unique values, not the spacers that are unique."
   ]
  },
  {
   "cell_type": "code",
   "execution_count": 207,
   "metadata": {
    "ExecuteTime": {
     "end_time": "2019-07-28T00:39:06.544475Z",
     "start_time": "2019-07-28T00:39:06.097927Z"
    }
   },
   "outputs": [],
   "source": [
    "sfs_counts = sfs['spacer'].value_counts().reset_index().rename(columns={'index':'spacer','spacer':'count'})"
   ]
  },
  {
   "cell_type": "code",
   "execution_count": 208,
   "metadata": {
    "ExecuteTime": {
     "end_time": "2019-07-28T00:39:11.479301Z",
     "start_time": "2019-07-28T00:39:11.078694Z"
    },
    "scrolled": true
   },
   "outputs": [
    {
     "data": {
      "text/plain": [
       "212837"
      ]
     },
     "execution_count": 208,
     "metadata": {},
     "output_type": "execute_result"
    }
   ],
   "source": [
    "sfs = sfs.reset_index().merge(sfs_counts, on='spacer', left_index=True)\n",
    "sfs = sfs[sfs['count'] == 1]\n",
    "sfs.shape[0]"
   ]
  },
  {
   "cell_type": "code",
   "execution_count": 209,
   "metadata": {
    "ExecuteTime": {
     "end_time": "2019-07-28T00:39:16.035973Z",
     "start_time": "2019-07-28T00:39:16.031212Z"
    }
   },
   "outputs": [
    {
     "data": {
      "text/plain": [
       "66.62490277742931"
      ]
     },
     "execution_count": 209,
     "metadata": {},
     "output_type": "execute_result"
    }
   ],
   "source": [
    "(1 - (sfs.shape[0]/sfs_bak.shape[0]))*100"
   ]
  },
  {
   "cell_type": "code",
   "execution_count": 210,
   "metadata": {
    "ExecuteTime": {
     "end_time": "2019-07-28T00:40:35.333281Z",
     "start_time": "2019-07-28T00:40:34.971245Z"
    }
   },
   "outputs": [
    {
     "data": {
      "text/plain": [
       "125.79"
      ]
     },
     "execution_count": 210,
     "metadata": {},
     "output_type": "execute_result"
    }
   ],
   "source": [
    "memory_usage(sfs_bak)"
   ]
  },
  {
   "cell_type": "code",
   "execution_count": 211,
   "metadata": {
    "ExecuteTime": {
     "end_time": "2019-07-28T00:40:39.947217Z",
     "start_time": "2019-07-28T00:40:39.822943Z"
    }
   },
   "outputs": [
    {
     "data": {
      "text/plain": [
       "47.68"
      ]
     },
     "execution_count": 211,
     "metadata": {},
     "output_type": "execute_result"
    }
   ],
   "source": [
    "memory_usage(sfs)"
   ]
  },
  {
   "cell_type": "code",
   "execution_count": 218,
   "metadata": {
    "ExecuteTime": {
     "end_time": "2019-07-28T00:42:48.036785Z",
     "start_time": "2019-07-28T00:42:47.581127Z"
    }
   },
   "outputs": [
    {
     "name": "stdout",
     "output_type": "stream",
     "text": [
      "37.90%\n"
     ]
    }
   ],
   "source": [
    "print(f\"{(memory_usage(sfs)/memory_usage(sfs_bak))*100:.2f}%\")"
   ]
  },
  {
   "cell_type": "markdown",
   "metadata": {
    "ExecuteTime": {
     "end_time": "2019-07-24T18:16:57.265631Z",
     "start_time": "2019-07-24T18:16:57.260414Z"
    }
   },
   "source": [
    "Okay, wow... that is what I was looking for."
   ]
  },
  {
   "cell_type": "code",
   "execution_count": 220,
   "metadata": {
    "ExecuteTime": {
     "end_time": "2019-07-28T00:43:36.877214Z",
     "start_time": "2019-07-28T00:43:36.829794Z"
    }
   },
   "outputs": [],
   "source": [
    "smaller = smaller.drop(columns=[\"forward_spacers\",\"reverse_spacers\"])"
   ]
  },
  {
   "cell_type": "code",
   "execution_count": 222,
   "metadata": {
    "ExecuteTime": {
     "end_time": "2019-07-28T00:43:59.907046Z",
     "start_time": "2019-07-28T00:43:59.898689Z"
    }
   },
   "outputs": [
    {
     "data": {
      "text/html": [
       "<div>\n",
       "<style scoped>\n",
       "    .dataframe tbody tr th:only-of-type {\n",
       "        vertical-align: middle;\n",
       "    }\n",
       "\n",
       "    .dataframe tbody tr th {\n",
       "        vertical-align: top;\n",
       "    }\n",
       "\n",
       "    .dataframe thead th {\n",
       "        text-align: right;\n",
       "    }\n",
       "</style>\n",
       "<table border=\"1\" class=\"dataframe\">\n",
       "  <thead>\n",
       "    <tr style=\"text-align: right;\">\n",
       "      <th></th>\n",
       "      <th>index</th>\n",
       "      <th>spacer</th>\n",
       "      <th>count</th>\n",
       "    </tr>\n",
       "  </thead>\n",
       "  <tbody>\n",
       "    <tr>\n",
       "      <th>236241</th>\n",
       "      <td>0</td>\n",
       "      <td>CCAGACTTCCCGTGTCCTTTCCACCGGGCC</td>\n",
       "      <td>1</td>\n",
       "    </tr>\n",
       "    <tr>\n",
       "      <th>200010</th>\n",
       "      <td>0</td>\n",
       "      <td>AGAGGTCACAGGGTCTTGATGCTGTGGTCT</td>\n",
       "      <td>1</td>\n",
       "    </tr>\n",
       "    <tr>\n",
       "      <th>294588</th>\n",
       "      <td>0</td>\n",
       "      <td>AGGTGTCTGACTTCCAGCAACTGCTGGCCT</td>\n",
       "      <td>1</td>\n",
       "    </tr>\n",
       "    <tr>\n",
       "      <th>214745</th>\n",
       "      <td>0</td>\n",
       "      <td>CAGGGTGCAAGCTGAGCACTGGAGTGGAGT</td>\n",
       "      <td>1</td>\n",
       "    </tr>\n",
       "    <tr>\n",
       "      <th>194256</th>\n",
       "      <td>0</td>\n",
       "      <td>TGTGGAGAGGAGCCATGCCTAGAGTGGGAT</td>\n",
       "      <td>1</td>\n",
       "    </tr>\n",
       "  </tbody>\n",
       "</table>\n",
       "</div>"
      ],
      "text/plain": [
       "        index                          spacer  count\n",
       "236241      0  CCAGACTTCCCGTGTCCTTTCCACCGGGCC      1\n",
       "200010      0  AGAGGTCACAGGGTCTTGATGCTGTGGTCT      1\n",
       "294588      0  AGGTGTCTGACTTCCAGCAACTGCTGGCCT      1\n",
       "214745      0  CAGGGTGCAAGCTGAGCACTGGAGTGGAGT      1\n",
       "194256      0  TGTGGAGAGGAGCCATGCCTAGAGTGGGAT      1"
      ]
     },
     "execution_count": 222,
     "metadata": {},
     "output_type": "execute_result"
    }
   ],
   "source": [
    "sfs.head()"
   ]
  },
  {
   "cell_type": "code",
   "execution_count": null,
   "metadata": {
    "ExecuteTime": {
     "end_time": "2019-07-25T03:59:40.142371Z",
     "start_time": "2019-07-25T03:59:39.995465Z"
    }
   },
   "outputs": [],
   "source": [
    "smaller.set_index('seq_hash').groupby('gene_name').head()"
   ]
  },
  {
   "cell_type": "code",
   "execution_count": 224,
   "metadata": {
    "ExecuteTime": {
     "end_time": "2019-07-28T00:44:49.122029Z",
     "start_time": "2019-07-28T00:44:49.097777Z"
    }
   },
   "outputs": [],
   "source": [
    "sfs = sfs.drop(columns=\"count\").set_index(\"index\")"
   ]
  },
  {
   "cell_type": "code",
   "execution_count": 230,
   "metadata": {
    "ExecuteTime": {
     "end_time": "2019-07-28T00:48:27.248907Z",
     "start_time": "2019-07-28T00:48:27.211815Z"
    }
   },
   "outputs": [],
   "source": [
    "long_spacer_df = smaller.merge(sfs, how=\"inner\", left_index=True, right_index=True)"
   ]
  },
  {
   "cell_type": "code",
   "execution_count": 232,
   "metadata": {
    "ExecuteTime": {
     "end_time": "2019-07-28T00:49:00.542744Z",
     "start_time": "2019-07-28T00:49:00.537427Z"
    }
   },
   "outputs": [
    {
     "data": {
      "text/plain": [
       "212837"
      ]
     },
     "execution_count": 232,
     "metadata": {},
     "output_type": "execute_result"
    }
   ],
   "source": [
    "long_spacer_df.shape[0]"
   ]
  },
  {
   "cell_type": "code",
   "execution_count": 11,
   "metadata": {
    "ExecuteTime": {
     "end_time": "2019-07-28T17:11:02.108866Z",
     "start_time": "2019-07-28T17:11:02.095558Z"
    }
   },
   "outputs": [],
   "source": [
    "def pivot_spacers(\n",
    "    wide_df: pd.DataFrame, spacer_start: int, spacer_end: int\n",
    ") -> pd.DataFrame:\n",
    "\n",
    "    BsmBI_fwd = \"GAGACG\"\n",
    "    BsmBI_rev = \"CGTCTC\"\n",
    "\n",
    "    print(\"separating spacer lists\")\n",
    "    tqdm.pandas(desc=\"forward\", unit=\"sequences\")\n",
    "    long_df = (\n",
    "        wide_df.progress_apply(\n",
    "            lambda x: pd.Series(x[\"forward_spacers\"], dtype=\"str\"), axis=1\n",
    "        )\n",
    "        .stack()\n",
    "        .reset_index(level=1)\n",
    "        .drop(columns=[\"level_1\"])\n",
    "        .rename(columns={0:'spacer'})\n",
    "    )\n",
    "\n",
    "    tqdm.pandas(desc=\"reverse\", unit=\"sequences\")\n",
    "    long_df_rev = (\n",
    "        wide_df.progress_apply(\n",
    "            lambda x: pd.Series(x[\"reverse_spacers\"], dtype=\"str\"), axis=1\n",
    "        )\n",
    "        .stack()\n",
    "        .reset_index(level=1)\n",
    "        .drop(columns=[\"level_1\"])\n",
    "        .rename(columns={0:'spacer'})\n",
    "    )\n",
    "\n",
    "    print(\"appending lists\")\n",
    "    long_df = long_df.append(long_df_rev)\n",
    "\n",
    "    print(\"eliminating duplicates\")\n",
    "    # eliminate anything that appears more than once\n",
    "    # will probably have to run this again for the entire list, not just a chunk\n",
    "    long_df_counts = (\n",
    "        long_df[\"spacer\"]\n",
    "        .value_counts()\n",
    "        .reset_index()\n",
    "        .rename(columns={\"index\": \"spacer\", \"spacer\": \"count\"})\n",
    "    )\n",
    "    long_df = long_df.reset_index().merge(long_df_counts, on=\"spacer\", left_index=True)\n",
    "    long_df = long_df[long_df[\"count\"] == 1].drop(columns=\"count\").set_index(\"index\")\n",
    "\n",
    "    print(\"eliminating undesirable sequences\")\n",
    "    # eliminate those with a polyT or a BsmBI site within the spacer\n",
    "    long_df = long_df[\n",
    "        long_df[\"spacer\"]\n",
    "        .str[spacer_start:spacer_end]\n",
    "        .str.match(f\"^((?!T{{4,}}|{BsmBI_fwd}|{BsmBI_rev}).)*$\")\n",
    "    ]  # match antthing not followed by a polyT or a BsmBI recognition site in the forward seq or a BsmBI recognition site in the reverse seq\n",
    "\n",
    "    print(\"eliminating high/low GC sequences\")\n",
    "    long_df = long_df[long_df[\"spacer\"].apply(GC).between(20, 80)]\n",
    "\n",
    "    print(\"merging with spacer info\")\n",
    "    wide_df = wide_df.drop(columns=[\"forward_spacers\", \"reverse_spacers\"])\n",
    "    long_df = wide_df.merge(long_df, how=\"inner\", left_index=True, right_index=True)\n",
    "\n",
    "    return long_df\n",
    "\n",
    "\n",
    "def GC(seq: str) -> float:\n",
    "    gc = len(re.findall(string=seq, pattern=\"[GgCc]\"))\n",
    "    try:\n",
    "        return gc * 100.0 / len(seq)\n",
    "    except ZeroDivisionError:\n",
    "        return 0.0"
   ]
  },
  {
   "cell_type": "code",
   "execution_count": 13,
   "metadata": {
    "ExecuteTime": {
     "end_time": "2019-07-28T17:18:09.872097Z",
     "start_time": "2019-07-28T17:18:09.835298Z"
    }
   },
   "outputs": [],
   "source": [
    "test_chunk = new_fasta_df.iloc[:100000, ]"
   ]
  },
  {
   "cell_type": "code",
   "execution_count": 18,
   "metadata": {
    "ExecuteTime": {
     "end_time": "2019-07-28T17:20:40.038620Z",
     "start_time": "2019-07-28T17:20:25.509684Z"
    }
   },
   "outputs": [
    {
     "data": {
      "application/vnd.jupyter.widget-view+json": {
       "model_id": "b5dfaa39517541f49d4b6b3bd14e0cf1",
       "version_major": 2,
       "version_minor": 0
      },
      "text/plain": [
       "HBox(children=(IntProgress(value=0, description='finding forward spacers', max=100000, style=ProgressStyle(des…"
      ]
     },
     "metadata": {},
     "output_type": "display_data"
    },
    {
     "name": "stdout",
     "output_type": "stream",
     "text": [
      "\n"
     ]
    },
    {
     "name": "stderr",
     "output_type": "stream",
     "text": [
      " /Users/milessmith/miniconda3/envs/mc/lib/python3.6/site-packages/ipykernel_launcher.py:3: SettingWithCopyWarning:\n",
      "A value is trying to be set on a copy of a slice from a DataFrame.\n",
      "Try using .loc[row_indexer,col_indexer] = value instead\n",
      "\n",
      "See the caveats in the documentation: http://pandas.pydata.org/pandas-docs/stable/indexing.html#indexing-view-versus-copy\n"
     ]
    },
    {
     "data": {
      "application/vnd.jupyter.widget-view+json": {
       "model_id": "e758604573ea4184a3856409b2bec55b",
       "version_major": 2,
       "version_minor": 0
      },
      "text/plain": [
       "HBox(children=(IntProgress(value=0, description='finding reverse spacers', max=100000, style=ProgressStyle(des…"
      ]
     },
     "metadata": {},
     "output_type": "display_data"
    },
    {
     "name": "stdout",
     "output_type": "stream",
     "text": [
      "\n"
     ]
    },
    {
     "name": "stderr",
     "output_type": "stream",
     "text": [
      " /Users/milessmith/miniconda3/envs/mc/lib/python3.6/site-packages/ipykernel_launcher.py:7: SettingWithCopyWarning:\n",
      "A value is trying to be set on a copy of a slice from a DataFrame.\n",
      "Try using .loc[row_indexer,col_indexer] = value instead\n",
      "\n",
      "See the caveats in the documentation: http://pandas.pydata.org/pandas-docs/stable/indexing.html#indexing-view-versus-copy\n"
     ]
    }
   ],
   "source": [
    "tqdm.pandas(desc=\"finding forward spacers\", unit=\"sequences\")\n",
    "test_chunk[\"forward_spacers\"] = test_chunk[\"sequence\"].progress_apply(\n",
    "        spacer_regex.findall\n",
    "    )\n",
    "tqdm.pandas(desc=\"finding reverse spacers\", unit=\"sequences\")\n",
    "test_chunk[\"reverse_spacers\"] = test_chunk[\"reverse_complement\"].progress_apply(\n",
    "    spacer_regex.findall\n",
    ")"
   ]
  },
  {
   "cell_type": "code",
   "execution_count": 19,
   "metadata": {
    "ExecuteTime": {
     "end_time": "2019-07-28T17:21:20.932731Z",
     "start_time": "2019-07-28T17:21:20.793529Z"
    }
   },
   "outputs": [],
   "source": [
    "split_test_chunk = np.array_split(test_chunk, 4)"
   ]
  },
  {
   "cell_type": "code",
   "execution_count": 21,
   "metadata": {
    "ExecuteTime": {
     "end_time": "2019-07-28T17:22:11.090227Z",
     "start_time": "2019-07-28T17:22:11.087297Z"
    }
   },
   "outputs": [],
   "source": [
    "from functools import partial"
   ]
  },
  {
   "cell_type": "code",
   "execution_count": 22,
   "metadata": {
    "ExecuteTime": {
     "end_time": "2019-07-28T17:23:34.982914Z",
     "start_time": "2019-07-28T17:23:34.978735Z"
    }
   },
   "outputs": [],
   "source": [
    "pivot_partial = partial(pivot_spacers, spacer_start = spacer_start, spacer_end = spacer_end)"
   ]
  },
  {
   "cell_type": "code",
   "execution_count": 23,
   "metadata": {
    "ExecuteTime": {
     "end_time": "2019-07-28T17:23:41.006677Z",
     "start_time": "2019-07-28T17:23:41.003632Z"
    }
   },
   "outputs": [],
   "source": [
    "split_test_chunk = map(pivot_partial, split_test_chunk)"
   ]
  },
  {
   "cell_type": "code",
   "execution_count": 24,
   "metadata": {
    "ExecuteTime": {
     "end_time": "2019-07-28T17:26:23.433851Z",
     "start_time": "2019-07-28T17:24:00.226015Z"
    }
   },
   "outputs": [
    {
     "name": "stdout",
     "output_type": "stream",
     "text": [
      "separating spacer lists\n"
     ]
    },
    {
     "data": {
      "application/vnd.jupyter.widget-view+json": {
       "model_id": "a642031bfdfd420eb4cc79684ffe1053",
       "version_major": 2,
       "version_minor": 0
      },
      "text/plain": [
       "HBox(children=(IntProgress(value=0, description='forward', max=25000, style=ProgressStyle(description_width='i…"
      ]
     },
     "metadata": {},
     "output_type": "display_data"
    },
    {
     "name": "stdout",
     "output_type": "stream",
     "text": [
      "\n"
     ]
    },
    {
     "data": {
      "application/vnd.jupyter.widget-view+json": {
       "model_id": "5b62c8f26b3c47f982b9159f732d7fb0",
       "version_major": 2,
       "version_minor": 0
      },
      "text/plain": [
       "HBox(children=(IntProgress(value=0, description='reverse', max=25000, style=ProgressStyle(description_width='i…"
      ]
     },
     "metadata": {},
     "output_type": "display_data"
    },
    {
     "name": "stdout",
     "output_type": "stream",
     "text": [
      "\n",
      "appending lists\n",
      "eliminating duplicates\n",
      "eliminating undesirable sequences\n",
      "eliminating high/low GC sequences\n",
      "merging with spacer info\n",
      "separating spacer lists\n"
     ]
    },
    {
     "data": {
      "application/vnd.jupyter.widget-view+json": {
       "model_id": "360899ab1f3f44f7954ee35e13b31923",
       "version_major": 2,
       "version_minor": 0
      },
      "text/plain": [
       "HBox(children=(IntProgress(value=0, description='forward', max=25000, style=ProgressStyle(description_width='i…"
      ]
     },
     "metadata": {},
     "output_type": "display_data"
    },
    {
     "name": "stdout",
     "output_type": "stream",
     "text": [
      "\n"
     ]
    },
    {
     "data": {
      "application/vnd.jupyter.widget-view+json": {
       "model_id": "c5e58f84b3294678a4c423d9ecb18e3e",
       "version_major": 2,
       "version_minor": 0
      },
      "text/plain": [
       "HBox(children=(IntProgress(value=0, description='reverse', max=25000, style=ProgressStyle(description_width='i…"
      ]
     },
     "metadata": {},
     "output_type": "display_data"
    },
    {
     "name": "stdout",
     "output_type": "stream",
     "text": [
      "\n",
      "appending lists\n",
      "eliminating duplicates\n",
      "eliminating undesirable sequences\n",
      "eliminating high/low GC sequences\n",
      "merging with spacer info\n",
      "separating spacer lists\n"
     ]
    },
    {
     "data": {
      "application/vnd.jupyter.widget-view+json": {
       "model_id": "e4920e71b3504a218ba480d82b326ed6",
       "version_major": 2,
       "version_minor": 0
      },
      "text/plain": [
       "HBox(children=(IntProgress(value=0, description='forward', max=25000, style=ProgressStyle(description_width='i…"
      ]
     },
     "metadata": {},
     "output_type": "display_data"
    },
    {
     "name": "stdout",
     "output_type": "stream",
     "text": [
      "\n"
     ]
    },
    {
     "data": {
      "application/vnd.jupyter.widget-view+json": {
       "model_id": "96f67915a68c482c93b6b489bc79eef4",
       "version_major": 2,
       "version_minor": 0
      },
      "text/plain": [
       "HBox(children=(IntProgress(value=0, description='reverse', max=25000, style=ProgressStyle(description_width='i…"
      ]
     },
     "metadata": {},
     "output_type": "display_data"
    },
    {
     "name": "stdout",
     "output_type": "stream",
     "text": [
      "\n",
      "appending lists\n",
      "eliminating duplicates\n",
      "eliminating undesirable sequences\n",
      "eliminating high/low GC sequences\n",
      "merging with spacer info\n",
      "separating spacer lists\n"
     ]
    },
    {
     "data": {
      "application/vnd.jupyter.widget-view+json": {
       "model_id": "3883e2968e584b06a18ad67cc7731b15",
       "version_major": 2,
       "version_minor": 0
      },
      "text/plain": [
       "HBox(children=(IntProgress(value=0, description='forward', max=25000, style=ProgressStyle(description_width='i…"
      ]
     },
     "metadata": {},
     "output_type": "display_data"
    },
    {
     "name": "stdout",
     "output_type": "stream",
     "text": [
      "\n"
     ]
    },
    {
     "data": {
      "application/vnd.jupyter.widget-view+json": {
       "model_id": "92090f4dfb9246c2b52e25128d07d21d",
       "version_major": 2,
       "version_minor": 0
      },
      "text/plain": [
       "HBox(children=(IntProgress(value=0, description='reverse', max=25000, style=ProgressStyle(description_width='i…"
      ]
     },
     "metadata": {},
     "output_type": "display_data"
    },
    {
     "name": "stdout",
     "output_type": "stream",
     "text": [
      "\n",
      "appending lists\n",
      "eliminating duplicates\n",
      "eliminating undesirable sequences\n",
      "eliminating high/low GC sequences\n",
      "merging with spacer info\n"
     ]
    }
   ],
   "source": [
    "test_chunk = pd.concat(split_test_chunk)"
   ]
  },
  {
   "cell_type": "code",
   "execution_count": 25,
   "metadata": {
    "ExecuteTime": {
     "end_time": "2019-07-28T17:26:51.335396Z",
     "start_time": "2019-07-28T17:26:51.320583Z"
    }
   },
   "outputs": [
    {
     "data": {
      "text/html": [
       "<div>\n",
       "<style scoped>\n",
       "    .dataframe tbody tr th:only-of-type {\n",
       "        vertical-align: middle;\n",
       "    }\n",
       "\n",
       "    .dataframe tbody tr th {\n",
       "        vertical-align: top;\n",
       "    }\n",
       "\n",
       "    .dataframe thead th {\n",
       "        text-align: right;\n",
       "    }\n",
       "</style>\n",
       "<table border=\"1\" class=\"dataframe\">\n",
       "  <thead>\n",
       "    <tr style=\"text-align: right;\">\n",
       "      <th></th>\n",
       "      <th>gene_name</th>\n",
       "      <th>feature_id</th>\n",
       "      <th>strand</th>\n",
       "      <th>start</th>\n",
       "      <th>stop</th>\n",
       "      <th>seq_hash</th>\n",
       "      <th>sequence</th>\n",
       "      <th>reverse_complement</th>\n",
       "      <th>spacer</th>\n",
       "    </tr>\n",
       "  </thead>\n",
       "  <tbody>\n",
       "    <tr>\n",
       "      <th>0</th>\n",
       "      <td>DDX11L1</td>\n",
       "      <td>exon</td>\n",
       "      <td>+</td>\n",
       "      <td>11869</td>\n",
       "      <td>12227</td>\n",
       "      <td>210719603</td>\n",
       "      <td>GTTAACTTGCCGTCAGCCTTTTCTTTGACCTCTTCTTTCTGTTCAT...</td>\n",
       "      <td>TGGCCTAGGTTGTGAGAGAAGTTGATGCTCTCACTCATCTTTCCTC...</td>\n",
       "      <td>CCAGACTTCCCGTGTCCTTTCCACCGGGCC</td>\n",
       "    </tr>\n",
       "    <tr>\n",
       "      <th>0</th>\n",
       "      <td>DDX11L1</td>\n",
       "      <td>exon</td>\n",
       "      <td>+</td>\n",
       "      <td>11869</td>\n",
       "      <td>12227</td>\n",
       "      <td>210719603</td>\n",
       "      <td>GTTAACTTGCCGTCAGCCTTTTCTTTGACCTCTTCTTTCTGTTCAT...</td>\n",
       "      <td>TGGCCTAGGTTGTGAGAGAAGTTGATGCTCTCACTCATCTTTCCTC...</td>\n",
       "      <td>AGAGGTCACAGGGTCTTGATGCTGTGGTCT</td>\n",
       "    </tr>\n",
       "    <tr>\n",
       "      <th>0</th>\n",
       "      <td>DDX11L1</td>\n",
       "      <td>exon</td>\n",
       "      <td>+</td>\n",
       "      <td>11869</td>\n",
       "      <td>12227</td>\n",
       "      <td>210719603</td>\n",
       "      <td>GTTAACTTGCCGTCAGCCTTTTCTTTGACCTCTTCTTTCTGTTCAT...</td>\n",
       "      <td>TGGCCTAGGTTGTGAGAGAAGTTGATGCTCTCACTCATCTTTCCTC...</td>\n",
       "      <td>AGGTGTCTGACTTCCAGCAACTGCTGGCCT</td>\n",
       "    </tr>\n",
       "    <tr>\n",
       "      <th>0</th>\n",
       "      <td>DDX11L1</td>\n",
       "      <td>exon</td>\n",
       "      <td>+</td>\n",
       "      <td>11869</td>\n",
       "      <td>12227</td>\n",
       "      <td>210719603</td>\n",
       "      <td>GTTAACTTGCCGTCAGCCTTTTCTTTGACCTCTTCTTTCTGTTCAT...</td>\n",
       "      <td>TGGCCTAGGTTGTGAGAGAAGTTGATGCTCTCACTCATCTTTCCTC...</td>\n",
       "      <td>CAGGGTGCAAGCTGAGCACTGGAGTGGAGT</td>\n",
       "    </tr>\n",
       "    <tr>\n",
       "      <th>0</th>\n",
       "      <td>DDX11L1</td>\n",
       "      <td>exon</td>\n",
       "      <td>+</td>\n",
       "      <td>11869</td>\n",
       "      <td>12227</td>\n",
       "      <td>210719603</td>\n",
       "      <td>GTTAACTTGCCGTCAGCCTTTTCTTTGACCTCTTCTTTCTGTTCAT...</td>\n",
       "      <td>TGGCCTAGGTTGTGAGAGAAGTTGATGCTCTCACTCATCTTTCCTC...</td>\n",
       "      <td>TGTGGAGAGGAGCCATGCCTAGAGTGGGAT</td>\n",
       "    </tr>\n",
       "  </tbody>\n",
       "</table>\n",
       "</div>"
      ],
      "text/plain": [
       "  gene_name feature_id strand  start   stop   seq_hash  \\\n",
       "0   DDX11L1       exon      +  11869  12227  210719603   \n",
       "0   DDX11L1       exon      +  11869  12227  210719603   \n",
       "0   DDX11L1       exon      +  11869  12227  210719603   \n",
       "0   DDX11L1       exon      +  11869  12227  210719603   \n",
       "0   DDX11L1       exon      +  11869  12227  210719603   \n",
       "\n",
       "                                            sequence  \\\n",
       "0  GTTAACTTGCCGTCAGCCTTTTCTTTGACCTCTTCTTTCTGTTCAT...   \n",
       "0  GTTAACTTGCCGTCAGCCTTTTCTTTGACCTCTTCTTTCTGTTCAT...   \n",
       "0  GTTAACTTGCCGTCAGCCTTTTCTTTGACCTCTTCTTTCTGTTCAT...   \n",
       "0  GTTAACTTGCCGTCAGCCTTTTCTTTGACCTCTTCTTTCTGTTCAT...   \n",
       "0  GTTAACTTGCCGTCAGCCTTTTCTTTGACCTCTTCTTTCTGTTCAT...   \n",
       "\n",
       "                                  reverse_complement  \\\n",
       "0  TGGCCTAGGTTGTGAGAGAAGTTGATGCTCTCACTCATCTTTCCTC...   \n",
       "0  TGGCCTAGGTTGTGAGAGAAGTTGATGCTCTCACTCATCTTTCCTC...   \n",
       "0  TGGCCTAGGTTGTGAGAGAAGTTGATGCTCTCACTCATCTTTCCTC...   \n",
       "0  TGGCCTAGGTTGTGAGAGAAGTTGATGCTCTCACTCATCTTTCCTC...   \n",
       "0  TGGCCTAGGTTGTGAGAGAAGTTGATGCTCTCACTCATCTTTCCTC...   \n",
       "\n",
       "                           spacer  \n",
       "0  CCAGACTTCCCGTGTCCTTTCCACCGGGCC  \n",
       "0  AGAGGTCACAGGGTCTTGATGCTGTGGTCT  \n",
       "0  AGGTGTCTGACTTCCAGCAACTGCTGGCCT  \n",
       "0  CAGGGTGCAAGCTGAGCACTGGAGTGGAGT  \n",
       "0  TGTGGAGAGGAGCCATGCCTAGAGTGGGAT  "
      ]
     },
     "execution_count": 25,
     "metadata": {},
     "output_type": "execute_result"
    }
   ],
   "source": [
    "test_chunk.head()"
   ]
  },
  {
   "cell_type": "code",
   "execution_count": 26,
   "metadata": {
    "ExecuteTime": {
     "end_time": "2019-07-28T17:32:43.605362Z",
     "start_time": "2019-07-28T17:32:43.586316Z"
    }
   },
   "outputs": [],
   "source": [
    "test_chunk = test_chunk.drop(columns=['sequence',\"reverse_complement\"])"
   ]
  },
  {
   "cell_type": "code",
   "execution_count": 27,
   "metadata": {
    "ExecuteTime": {
     "end_time": "2019-07-28T17:32:57.911526Z",
     "start_time": "2019-07-28T17:32:57.908722Z"
    }
   },
   "outputs": [],
   "source": [
    "rsb = RestrictionBatch([\"EcoRI\",\"BglII\"])"
   ]
  },
  {
   "cell_type": "code",
   "execution_count": 30,
   "metadata": {
    "ExecuteTime": {
     "end_time": "2019-07-28T17:34:47.800540Z",
     "start_time": "2019-07-28T17:33:59.577287Z"
    }
   },
   "outputs": [
    {
     "data": {
      "text/plain": [
       "0          {EcoRI: [], BglII: []}\n",
       "0          {EcoRI: [], BglII: []}\n",
       "0          {EcoRI: [], BglII: []}\n",
       "0          {EcoRI: [], BglII: []}\n",
       "0          {EcoRI: [], BglII: []}\n",
       "0          {EcoRI: [], BglII: []}\n",
       "0          {EcoRI: [], BglII: []}\n",
       "0          {EcoRI: [], BglII: []}\n",
       "0          {EcoRI: [], BglII: []}\n",
       "0          {EcoRI: [], BglII: []}\n",
       "0          {EcoRI: [], BglII: []}\n",
       "0          {EcoRI: [], BglII: []}\n",
       "1          {EcoRI: [], BglII: []}\n",
       "1          {EcoRI: [], BglII: []}\n",
       "2          {EcoRI: [], BglII: []}\n",
       "2          {EcoRI: [], BglII: []}\n",
       "2        {EcoRI: [], BglII: [16]}\n",
       "2          {EcoRI: [], BglII: []}\n",
       "2          {EcoRI: [], BglII: []}\n",
       "2          {EcoRI: [], BglII: []}\n",
       "2          {EcoRI: [], BglII: []}\n",
       "2          {EcoRI: [], BglII: []}\n",
       "2          {EcoRI: [], BglII: []}\n",
       "2          {EcoRI: [], BglII: []}\n",
       "2          {EcoRI: [], BglII: []}\n",
       "2          {EcoRI: [], BglII: []}\n",
       "2          {EcoRI: [], BglII: []}\n",
       "2          {EcoRI: [], BglII: []}\n",
       "2          {EcoRI: [], BglII: []}\n",
       "2          {EcoRI: [], BglII: []}\n",
       "                   ...           \n",
       "99993      {EcoRI: [], BglII: []}\n",
       "99993      {EcoRI: [], BglII: []}\n",
       "99993      {EcoRI: [], BglII: []}\n",
       "99994      {EcoRI: [], BglII: []}\n",
       "99994      {EcoRI: [], BglII: []}\n",
       "99994      {EcoRI: [], BglII: []}\n",
       "99994      {EcoRI: [], BglII: []}\n",
       "99994      {EcoRI: [], BglII: []}\n",
       "99994      {EcoRI: [], BglII: []}\n",
       "99994      {EcoRI: [], BglII: []}\n",
       "99995      {EcoRI: [], BglII: []}\n",
       "99995      {EcoRI: [], BglII: []}\n",
       "99995      {EcoRI: [], BglII: []}\n",
       "99995      {EcoRI: [], BglII: []}\n",
       "99995      {EcoRI: [], BglII: []}\n",
       "99996      {EcoRI: [], BglII: []}\n",
       "99996      {EcoRI: [], BglII: []}\n",
       "99996      {EcoRI: [], BglII: []}\n",
       "99996      {EcoRI: [], BglII: []}\n",
       "99996      {EcoRI: [], BglII: []}\n",
       "99996      {EcoRI: [], BglII: []}\n",
       "99996      {EcoRI: [], BglII: []}\n",
       "99997      {EcoRI: [], BglII: []}\n",
       "99997      {EcoRI: [], BglII: []}\n",
       "99997      {EcoRI: [], BglII: []}\n",
       "99998      {EcoRI: [], BglII: []}\n",
       "99998      {EcoRI: [], BglII: []}\n",
       "99999      {EcoRI: [], BglII: []}\n",
       "99999      {EcoRI: [], BglII: []}\n",
       "99999      {EcoRI: [], BglII: []}\n",
       "Length: 412581, dtype: object"
      ]
     },
     "execution_count": 30,
     "metadata": {},
     "output_type": "execute_result"
    }
   ],
   "source": [
    "test_chunk.apply(lambda x: rsb.search(Seq(x['spacer'])), axis=1)"
   ]
  },
  {
   "cell_type": "code",
   "execution_count": 47,
   "metadata": {
    "ExecuteTime": {
     "end_time": "2019-07-28T17:42:45.294090Z",
     "start_time": "2019-07-28T17:42:45.290246Z"
    }
   },
   "outputs": [],
   "source": [
    "def restriction_sites_present(spacer, rsb):\n",
    "    sites = bool([_ for results in rsb.search(Seq(spacer)).values() for _ in results])\n",
    "    return sites"
   ]
  },
  {
   "cell_type": "code",
   "execution_count": 48,
   "metadata": {
    "ExecuteTime": {
     "end_time": "2019-07-28T17:42:55.305148Z",
     "start_time": "2019-07-28T17:42:48.166842Z"
    }
   },
   "outputs": [
    {
     "data": {
      "text/plain": [
       "0        False\n",
       "0        False\n",
       "0        False\n",
       "0        False\n",
       "0        False\n",
       "0        False\n",
       "0        False\n",
       "0        False\n",
       "0        False\n",
       "0        False\n",
       "0        False\n",
       "0        False\n",
       "1        False\n",
       "1        False\n",
       "2        False\n",
       "2        False\n",
       "2         True\n",
       "2        False\n",
       "2        False\n",
       "2        False\n",
       "2        False\n",
       "2        False\n",
       "2        False\n",
       "2        False\n",
       "2        False\n",
       "2        False\n",
       "2        False\n",
       "2        False\n",
       "2        False\n",
       "2        False\n",
       "         ...  \n",
       "99993    False\n",
       "99993    False\n",
       "99993    False\n",
       "99994    False\n",
       "99994    False\n",
       "99994    False\n",
       "99994    False\n",
       "99994    False\n",
       "99994    False\n",
       "99994    False\n",
       "99995    False\n",
       "99995    False\n",
       "99995    False\n",
       "99995    False\n",
       "99995    False\n",
       "99996    False\n",
       "99996    False\n",
       "99996    False\n",
       "99996    False\n",
       "99996    False\n",
       "99996    False\n",
       "99996    False\n",
       "99997    False\n",
       "99997    False\n",
       "99997    False\n",
       "99998    False\n",
       "99998    False\n",
       "99999    False\n",
       "99999    False\n",
       "99999    False\n",
       "Name: spacer, Length: 412581, dtype: bool"
      ]
     },
     "execution_count": 48,
     "metadata": {},
     "output_type": "execute_result"
    }
   ],
   "source": [
    "test_chunk['spacer'].apply(search_restriction_sites, rsb = rsb)"
   ]
  },
  {
   "cell_type": "code",
   "execution_count": 274,
   "metadata": {
    "ExecuteTime": {
     "end_time": "2019-07-28T01:51:35.247940Z",
     "start_time": "2019-07-28T01:48:33.465017Z"
    }
   },
   "outputs": [
    {
     "name": "stdout",
     "output_type": "stream",
     "text": [
      "separating spacer lists\n"
     ]
    },
    {
     "data": {
      "application/vnd.jupyter.widget-view+json": {
       "model_id": "1eed43174d4c4f14a95b51f5945da208",
       "version_major": 2,
       "version_minor": 0
      },
      "text/plain": [
       "HBox(children=(IntProgress(value=0, description='forward', max=100000, style=ProgressStyle(description_width='…"
      ]
     },
     "metadata": {},
     "output_type": "display_data"
    },
    {
     "data": {
      "application/vnd.jupyter.widget-view+json": {
       "model_id": "6dfb3f0ed83e4dbb9a1e0422a5ed4db5",
       "version_major": 2,
       "version_minor": 0
      },
      "text/plain": [
       "HBox(children=(IntProgress(value=0, description='reverse', max=100000, style=ProgressStyle(description_width='…"
      ]
     },
     "metadata": {},
     "output_type": "display_data"
    },
    {
     "name": "stdout",
     "output_type": "stream",
     "text": [
      "appending lists\n",
      "eliminating duplicates\n",
      "eliminating undesirable sequences\n",
      "eliminating high/low GC sequences\n",
      "merging with spacer info\n"
     ]
    }
   ],
   "source": [
    "test_chunk = pivot_spacers(test_chunk, spacer_start, spacer_end)"
   ]
  },
  {
   "cell_type": "code",
   "execution_count": 275,
   "metadata": {
    "ExecuteTime": {
     "end_time": "2019-07-28T01:57:01.840489Z",
     "start_time": "2019-07-28T01:57:00.239077Z"
    }
   },
   "outputs": [
    {
     "data": {
      "text/plain": [
       "190.28"
      ]
     },
     "execution_count": 275,
     "metadata": {},
     "output_type": "execute_result"
    }
   ],
   "source": [
    "memory_usage(test_chunk)"
   ]
  },
  {
   "cell_type": "code",
   "execution_count": 276,
   "metadata": {
    "ExecuteTime": {
     "end_time": "2019-07-28T01:57:16.912548Z",
     "start_time": "2019-07-28T01:57:16.908536Z"
    }
   },
   "outputs": [
    {
     "data": {
      "text/plain": [
       "745513"
      ]
     },
     "execution_count": 276,
     "metadata": {},
     "output_type": "execute_result"
    }
   ],
   "source": [
    "fasta_df.shape[0]"
   ]
  },
  {
   "cell_type": "code",
   "execution_count": 272,
   "metadata": {
    "ExecuteTime": {
     "end_time": "2019-07-28T01:47:20.188849Z",
     "start_time": "2019-07-28T01:47:20.161228Z"
    },
    "scrolled": true
   },
   "outputs": [
    {
     "data": {
      "text/html": [
       "<div>\n",
       "<style scoped>\n",
       "    .dataframe tbody tr th:only-of-type {\n",
       "        vertical-align: middle;\n",
       "    }\n",
       "\n",
       "    .dataframe tbody tr th {\n",
       "        vertical-align: top;\n",
       "    }\n",
       "\n",
       "    .dataframe thead th {\n",
       "        text-align: right;\n",
       "    }\n",
       "</style>\n",
       "<table border=\"1\" class=\"dataframe\">\n",
       "  <thead>\n",
       "    <tr style=\"text-align: right;\">\n",
       "      <th></th>\n",
       "      <th>gene_name</th>\n",
       "      <th>feature_id</th>\n",
       "      <th>strand</th>\n",
       "      <th>start</th>\n",
       "      <th>stop</th>\n",
       "      <th>seq_hash</th>\n",
       "      <th>spacer</th>\n",
       "    </tr>\n",
       "  </thead>\n",
       "  <tbody>\n",
       "    <tr>\n",
       "      <th>0</th>\n",
       "      <td>DDX11L1</td>\n",
       "      <td>exon</td>\n",
       "      <td>+</td>\n",
       "      <td>11869</td>\n",
       "      <td>12227</td>\n",
       "      <td>-43556487203695757</td>\n",
       "      <td>CCAGACTTCCCGTGTCCTTTCCACCGGGCC</td>\n",
       "    </tr>\n",
       "    <tr>\n",
       "      <th>0</th>\n",
       "      <td>DDX11L1</td>\n",
       "      <td>exon</td>\n",
       "      <td>+</td>\n",
       "      <td>11869</td>\n",
       "      <td>12227</td>\n",
       "      <td>-43556487203695757</td>\n",
       "      <td>AGAGGTCACAGGGTCTTGATGCTGTGGTCT</td>\n",
       "    </tr>\n",
       "    <tr>\n",
       "      <th>0</th>\n",
       "      <td>DDX11L1</td>\n",
       "      <td>exon</td>\n",
       "      <td>+</td>\n",
       "      <td>11869</td>\n",
       "      <td>12227</td>\n",
       "      <td>-43556487203695757</td>\n",
       "      <td>AGGTGTCTGACTTCCAGCAACTGCTGGCCT</td>\n",
       "    </tr>\n",
       "    <tr>\n",
       "      <th>0</th>\n",
       "      <td>DDX11L1</td>\n",
       "      <td>exon</td>\n",
       "      <td>+</td>\n",
       "      <td>11869</td>\n",
       "      <td>12227</td>\n",
       "      <td>-43556487203695757</td>\n",
       "      <td>CAGGGTGCAAGCTGAGCACTGGAGTGGAGT</td>\n",
       "    </tr>\n",
       "    <tr>\n",
       "      <th>0</th>\n",
       "      <td>DDX11L1</td>\n",
       "      <td>exon</td>\n",
       "      <td>+</td>\n",
       "      <td>11869</td>\n",
       "      <td>12227</td>\n",
       "      <td>-43556487203695757</td>\n",
       "      <td>TGTGGAGAGGAGCCATGCCTAGAGTGGGAT</td>\n",
       "    </tr>\n",
       "    <tr>\n",
       "      <th>0</th>\n",
       "      <td>DDX11L1</td>\n",
       "      <td>exon</td>\n",
       "      <td>+</td>\n",
       "      <td>11869</td>\n",
       "      <td>12227</td>\n",
       "      <td>-43556487203695757</td>\n",
       "      <td>TGCATGTAACTTAATACCACAACCAGGCAT</td>\n",
       "    </tr>\n",
       "    <tr>\n",
       "      <th>0</th>\n",
       "      <td>DDX11L1</td>\n",
       "      <td>exon</td>\n",
       "      <td>+</td>\n",
       "      <td>11869</td>\n",
       "      <td>12227</td>\n",
       "      <td>-43556487203695757</td>\n",
       "      <td>TTCCTCCAATCTTTCCCCTATGCCTGGTTG</td>\n",
       "    </tr>\n",
       "    <tr>\n",
       "      <th>0</th>\n",
       "      <td>DDX11L1</td>\n",
       "      <td>exon</td>\n",
       "      <td>+</td>\n",
       "      <td>11869</td>\n",
       "      <td>12227</td>\n",
       "      <td>-43556487203695757</td>\n",
       "      <td>GGTATTAAGTTACATGCAGACAACAGGGGC</td>\n",
       "    </tr>\n",
       "    <tr>\n",
       "      <th>0</th>\n",
       "      <td>DDX11L1</td>\n",
       "      <td>exon</td>\n",
       "      <td>+</td>\n",
       "      <td>11869</td>\n",
       "      <td>12227</td>\n",
       "      <td>-43556487203695757</td>\n",
       "      <td>ATGAACAATGGCCCATCCCACTCTAGGCAT</td>\n",
       "    </tr>\n",
       "    <tr>\n",
       "      <th>0</th>\n",
       "      <td>DDX11L1</td>\n",
       "      <td>exon</td>\n",
       "      <td>+</td>\n",
       "      <td>11869</td>\n",
       "      <td>12227</td>\n",
       "      <td>-43556487203695757</td>\n",
       "      <td>CACTCCAGTGCTCAGCTTGCACCCTGGCAC</td>\n",
       "    </tr>\n",
       "    <tr>\n",
       "      <th>0</th>\n",
       "      <td>DDX11L1</td>\n",
       "      <td>exon</td>\n",
       "      <td>+</td>\n",
       "      <td>11869</td>\n",
       "      <td>12227</td>\n",
       "      <td>-43556487203695757</td>\n",
       "      <td>CATCAAGACCCTGTGACCTCTCAAAGGCCC</td>\n",
       "    </tr>\n",
       "    <tr>\n",
       "      <th>0</th>\n",
       "      <td>DDX11L1</td>\n",
       "      <td>exon</td>\n",
       "      <td>+</td>\n",
       "      <td>11869</td>\n",
       "      <td>12227</td>\n",
       "      <td>-43556487203695757</td>\n",
       "      <td>CAAATACACATGAACAGAAAGAAGAGGTCA</td>\n",
       "    </tr>\n",
       "    <tr>\n",
       "      <th>1</th>\n",
       "      <td>DDX11L1</td>\n",
       "      <td>exon</td>\n",
       "      <td>+</td>\n",
       "      <td>12613</td>\n",
       "      <td>12721</td>\n",
       "      <td>5288470158420300119</td>\n",
       "      <td>CACTCACAAGAGTGTGATCCAAGTCGGCCG</td>\n",
       "    </tr>\n",
       "    <tr>\n",
       "      <th>1</th>\n",
       "      <td>DDX11L1</td>\n",
       "      <td>exon</td>\n",
       "      <td>+</td>\n",
       "      <td>12613</td>\n",
       "      <td>12721</td>\n",
       "      <td>5288470158420300119</td>\n",
       "      <td>TCTGCAGCTCTGGAGACCTGATGCTGGGGA</td>\n",
       "    </tr>\n",
       "    <tr>\n",
       "      <th>2</th>\n",
       "      <td>DDX11L1</td>\n",
       "      <td>exon</td>\n",
       "      <td>+</td>\n",
       "      <td>13221</td>\n",
       "      <td>14409</td>\n",
       "      <td>-3494540769226855306</td>\n",
       "      <td>TGTCTGCCCAGTTTCACCAGAAGTAGGCCT</td>\n",
       "    </tr>\n",
       "    <tr>\n",
       "      <th>2</th>\n",
       "      <td>DDX11L1</td>\n",
       "      <td>exon</td>\n",
       "      <td>+</td>\n",
       "      <td>13221</td>\n",
       "      <td>14409</td>\n",
       "      <td>-3494540769226855306</td>\n",
       "      <td>GAAAACAGGGGAATCCCGAAGAAATGGTGG</td>\n",
       "    </tr>\n",
       "    <tr>\n",
       "      <th>2</th>\n",
       "      <td>DDX11L1</td>\n",
       "      <td>exon</td>\n",
       "      <td>+</td>\n",
       "      <td>13221</td>\n",
       "      <td>14409</td>\n",
       "      <td>-3494540769226855306</td>\n",
       "      <td>CCTGGCCATCCGTGAGATCTTCCCAGGGCA</td>\n",
       "    </tr>\n",
       "    <tr>\n",
       "      <th>2</th>\n",
       "      <td>DDX11L1</td>\n",
       "      <td>exon</td>\n",
       "      <td>+</td>\n",
       "      <td>13221</td>\n",
       "      <td>14409</td>\n",
       "      <td>-3494540769226855306</td>\n",
       "      <td>ATCCAATCTGTCTTCCATCCTGCGTGGCCG</td>\n",
       "    </tr>\n",
       "    <tr>\n",
       "      <th>2</th>\n",
       "      <td>DDX11L1</td>\n",
       "      <td>exon</td>\n",
       "      <td>+</td>\n",
       "      <td>13221</td>\n",
       "      <td>14409</td>\n",
       "      <td>-3494540769226855306</td>\n",
       "      <td>CCAGGCTTCTCACTGGGCCTCTGCAGGAGG</td>\n",
       "    </tr>\n",
       "    <tr>\n",
       "      <th>2</th>\n",
       "      <td>DDX11L1</td>\n",
       "      <td>exon</td>\n",
       "      <td>+</td>\n",
       "      <td>13221</td>\n",
       "      <td>14409</td>\n",
       "      <td>-3494540769226855306</td>\n",
       "      <td>CTGCCCACCTTCTTAGAAGCGAGACGGAGC</td>\n",
       "    </tr>\n",
       "    <tr>\n",
       "      <th>2</th>\n",
       "      <td>DDX11L1</td>\n",
       "      <td>exon</td>\n",
       "      <td>+</td>\n",
       "      <td>13221</td>\n",
       "      <td>14409</td>\n",
       "      <td>-3494540769226855306</td>\n",
       "      <td>TATAATAACTAAAGTTAGCTGCCCTGGACT</td>\n",
       "    </tr>\n",
       "    <tr>\n",
       "      <th>2</th>\n",
       "      <td>DDX11L1</td>\n",
       "      <td>exon</td>\n",
       "      <td>+</td>\n",
       "      <td>13221</td>\n",
       "      <td>14409</td>\n",
       "      <td>-3494540769226855306</td>\n",
       "      <td>AGTCTCAATTTAAGAAGATCCCCATGGCCA</td>\n",
       "    </tr>\n",
       "    <tr>\n",
       "      <th>2</th>\n",
       "      <td>DDX11L1</td>\n",
       "      <td>exon</td>\n",
       "      <td>+</td>\n",
       "      <td>13221</td>\n",
       "      <td>14409</td>\n",
       "      <td>-3494540769226855306</td>\n",
       "      <td>CCTAACCTGCCCCACAGCCTTGCCTGGATT</td>\n",
       "    </tr>\n",
       "    <tr>\n",
       "      <th>2</th>\n",
       "      <td>DDX11L1</td>\n",
       "      <td>exon</td>\n",
       "      <td>+</td>\n",
       "      <td>13221</td>\n",
       "      <td>14409</td>\n",
       "      <td>-3494540769226855306</td>\n",
       "      <td>TTGGTGCCAGTTCCTCCAAGTCGATGGCAC</td>\n",
       "    </tr>\n",
       "    <tr>\n",
       "      <th>2</th>\n",
       "      <td>DDX11L1</td>\n",
       "      <td>exon</td>\n",
       "      <td>+</td>\n",
       "      <td>13221</td>\n",
       "      <td>14409</td>\n",
       "      <td>-3494540769226855306</td>\n",
       "      <td>ACCCCAACACCAGCAATTGTGCCAAGGGCC</td>\n",
       "    </tr>\n",
       "    <tr>\n",
       "      <th>2</th>\n",
       "      <td>DDX11L1</td>\n",
       "      <td>exon</td>\n",
       "      <td>+</td>\n",
       "      <td>13221</td>\n",
       "      <td>14409</td>\n",
       "      <td>-3494540769226855306</td>\n",
       "      <td>TCCTCCCTCTCATCCCAGAGAAACAGGTCA</td>\n",
       "    </tr>\n",
       "    <tr>\n",
       "      <th>2</th>\n",
       "      <td>DDX11L1</td>\n",
       "      <td>exon</td>\n",
       "      <td>+</td>\n",
       "      <td>13221</td>\n",
       "      <td>14409</td>\n",
       "      <td>-3494540769226855306</td>\n",
       "      <td>TGGGAGCTTCTGCCCCCACTGCCTAGGGAC</td>\n",
       "    </tr>\n",
       "    <tr>\n",
       "      <th>2</th>\n",
       "      <td>DDX11L1</td>\n",
       "      <td>exon</td>\n",
       "      <td>+</td>\n",
       "      <td>13221</td>\n",
       "      <td>14409</td>\n",
       "      <td>-3494540769226855306</td>\n",
       "      <td>GATCCTTTATTAAAAGCACACTGTTGGTTT</td>\n",
       "    </tr>\n",
       "    <tr>\n",
       "      <th>2</th>\n",
       "      <td>DDX11L1</td>\n",
       "      <td>exon</td>\n",
       "      <td>+</td>\n",
       "      <td>13221</td>\n",
       "      <td>14409</td>\n",
       "      <td>-3494540769226855306</td>\n",
       "      <td>TGCCTCCTGCCCCTGTTGGTCCCTAGGCAG</td>\n",
       "    </tr>\n",
       "    <tr>\n",
       "      <th>2</th>\n",
       "      <td>DDX11L1</td>\n",
       "      <td>exon</td>\n",
       "      <td>+</td>\n",
       "      <td>13221</td>\n",
       "      <td>14409</td>\n",
       "      <td>-3494540769226855306</td>\n",
       "      <td>AAGCTCCCAGCTGACCTGTTTCTCTGGGAT</td>\n",
       "    </tr>\n",
       "    <tr>\n",
       "      <th>...</th>\n",
       "      <td>...</td>\n",
       "      <td>...</td>\n",
       "      <td>...</td>\n",
       "      <td>...</td>\n",
       "      <td>...</td>\n",
       "      <td>...</td>\n",
       "      <td>...</td>\n",
       "    </tr>\n",
       "    <tr>\n",
       "      <th>9984</th>\n",
       "      <td>CDC42</td>\n",
       "      <td>exon</td>\n",
       "      <td>+</td>\n",
       "      <td>22074094</td>\n",
       "      <td>22074219</td>\n",
       "      <td>1848634757825562077</td>\n",
       "      <td>GAATCGCTTGAACTCGGGGGGCAGAGGCGC</td>\n",
       "    </tr>\n",
       "    <tr>\n",
       "      <th>9984</th>\n",
       "      <td>CDC42</td>\n",
       "      <td>exon</td>\n",
       "      <td>+</td>\n",
       "      <td>22074094</td>\n",
       "      <td>22074219</td>\n",
       "      <td>1848634757825562077</td>\n",
       "      <td>AGATGGCGCCACTGCACTCCAGCCTGGGCA</td>\n",
       "    </tr>\n",
       "    <tr>\n",
       "      <th>9987</th>\n",
       "      <td>CDC42</td>\n",
       "      <td>exon</td>\n",
       "      <td>+</td>\n",
       "      <td>22078706</td>\n",
       "      <td>22078881</td>\n",
       "      <td>-1796631055284141250</td>\n",
       "      <td>CACTTTAAACAGCTGAAAAATCAGTGGAAA</td>\n",
       "    </tr>\n",
       "    <tr>\n",
       "      <th>9987</th>\n",
       "      <td>CDC42</td>\n",
       "      <td>exon</td>\n",
       "      <td>+</td>\n",
       "      <td>22078706</td>\n",
       "      <td>22078881</td>\n",
       "      <td>-1796631055284141250</td>\n",
       "      <td>TGACACAGGGTTTGCAAGAAGTGCTGGGAG</td>\n",
       "    </tr>\n",
       "    <tr>\n",
       "      <th>9991</th>\n",
       "      <td>CDC42</td>\n",
       "      <td>exon</td>\n",
       "      <td>+</td>\n",
       "      <td>22089943</td>\n",
       "      <td>22090010</td>\n",
       "      <td>7631339867509148716</td>\n",
       "      <td>TTGGGTTGAGTTTCCGGAGGCTCGAGGGCA</td>\n",
       "    </tr>\n",
       "    <tr>\n",
       "      <th>9993</th>\n",
       "      <td>CDC42</td>\n",
       "      <td>exon</td>\n",
       "      <td>+</td>\n",
       "      <td>22089943</td>\n",
       "      <td>22090807</td>\n",
       "      <td>-637016829163235809</td>\n",
       "      <td>GAGCCTCCGGAAACTCAACCCAAAAGGAAG</td>\n",
       "    </tr>\n",
       "    <tr>\n",
       "      <th>9993</th>\n",
       "      <td>CDC42</td>\n",
       "      <td>exon</td>\n",
       "      <td>+</td>\n",
       "      <td>22089943</td>\n",
       "      <td>22090807</td>\n",
       "      <td>-637016829163235809</td>\n",
       "      <td>TGTAGAAAGATCGTTTAAAAACAAAGGAAT</td>\n",
       "    </tr>\n",
       "    <tr>\n",
       "      <th>9993</th>\n",
       "      <td>CDC42</td>\n",
       "      <td>exon</td>\n",
       "      <td>+</td>\n",
       "      <td>22089943</td>\n",
       "      <td>22090807</td>\n",
       "      <td>-637016829163235809</td>\n",
       "      <td>ATTTTTTGTGATCAGTAGTCAAGTTGGACT</td>\n",
       "    </tr>\n",
       "    <tr>\n",
       "      <th>9993</th>\n",
       "      <td>CDC42</td>\n",
       "      <td>exon</td>\n",
       "      <td>+</td>\n",
       "      <td>22089943</td>\n",
       "      <td>22090807</td>\n",
       "      <td>-637016829163235809</td>\n",
       "      <td>GGATTACTATTGCAAAAGGGAACTTGGTCT</td>\n",
       "    </tr>\n",
       "    <tr>\n",
       "      <th>9993</th>\n",
       "      <td>CDC42</td>\n",
       "      <td>exon</td>\n",
       "      <td>+</td>\n",
       "      <td>22089943</td>\n",
       "      <td>22090807</td>\n",
       "      <td>-637016829163235809</td>\n",
       "      <td>ACACTTCTAGATCTTAGTTCTAGATGGAGA</td>\n",
       "    </tr>\n",
       "    <tr>\n",
       "      <th>9993</th>\n",
       "      <td>CDC42</td>\n",
       "      <td>exon</td>\n",
       "      <td>+</td>\n",
       "      <td>22089943</td>\n",
       "      <td>22090807</td>\n",
       "      <td>-637016829163235809</td>\n",
       "      <td>ATTGTAATTGCATGACAAACCTTATGGAAA</td>\n",
       "    </tr>\n",
       "    <tr>\n",
       "      <th>9993</th>\n",
       "      <td>CDC42</td>\n",
       "      <td>exon</td>\n",
       "      <td>+</td>\n",
       "      <td>22089943</td>\n",
       "      <td>22090807</td>\n",
       "      <td>-637016829163235809</td>\n",
       "      <td>AGGGGTGACCTAGTAGAGTGTAATGGGGAA</td>\n",
       "    </tr>\n",
       "    <tr>\n",
       "      <th>9993</th>\n",
       "      <td>CDC42</td>\n",
       "      <td>exon</td>\n",
       "      <td>+</td>\n",
       "      <td>22089943</td>\n",
       "      <td>22090807</td>\n",
       "      <td>-637016829163235809</td>\n",
       "      <td>TTGCTTTGGCTGTCTGTGCTGTAGTGGAGT</td>\n",
       "    </tr>\n",
       "    <tr>\n",
       "      <th>9993</th>\n",
       "      <td>CDC42</td>\n",
       "      <td>exon</td>\n",
       "      <td>+</td>\n",
       "      <td>22089943</td>\n",
       "      <td>22090807</td>\n",
       "      <td>-637016829163235809</td>\n",
       "      <td>TTCCCTCACAATAAAATCAGAAGCAGGAAA</td>\n",
       "    </tr>\n",
       "    <tr>\n",
       "      <th>9993</th>\n",
       "      <td>CDC42</td>\n",
       "      <td>exon</td>\n",
       "      <td>+</td>\n",
       "      <td>22089943</td>\n",
       "      <td>22090807</td>\n",
       "      <td>-637016829163235809</td>\n",
       "      <td>CAAACTGTAAGTCAACTGTTTAAATGGATG</td>\n",
       "    </tr>\n",
       "    <tr>\n",
       "      <th>9993</th>\n",
       "      <td>CDC42</td>\n",
       "      <td>exon</td>\n",
       "      <td>+</td>\n",
       "      <td>22089943</td>\n",
       "      <td>22090807</td>\n",
       "      <td>-637016829163235809</td>\n",
       "      <td>GCAACACAAAGTTTCACCGCACAAAGGAAA</td>\n",
       "    </tr>\n",
       "    <tr>\n",
       "      <th>9993</th>\n",
       "      <td>CDC42</td>\n",
       "      <td>exon</td>\n",
       "      <td>+</td>\n",
       "      <td>22089943</td>\n",
       "      <td>22090807</td>\n",
       "      <td>-637016829163235809</td>\n",
       "      <td>CTCCCTTCCCCATTACACTCTACTAGGTCA</td>\n",
       "    </tr>\n",
       "    <tr>\n",
       "      <th>9993</th>\n",
       "      <td>CDC42</td>\n",
       "      <td>exon</td>\n",
       "      <td>+</td>\n",
       "      <td>22089943</td>\n",
       "      <td>22090807</td>\n",
       "      <td>-637016829163235809</td>\n",
       "      <td>CCAAACCAAAAAGCTCTGAGCATCAGGCAA</td>\n",
       "    </tr>\n",
       "    <tr>\n",
       "      <th>9993</th>\n",
       "      <td>CDC42</td>\n",
       "      <td>exon</td>\n",
       "      <td>+</td>\n",
       "      <td>22089943</td>\n",
       "      <td>22090807</td>\n",
       "      <td>-637016829163235809</td>\n",
       "      <td>ATTCTTGATCAAAAACTAATACAGAGGTTG</td>\n",
       "    </tr>\n",
       "    <tr>\n",
       "      <th>9993</th>\n",
       "      <td>CDC42</td>\n",
       "      <td>exon</td>\n",
       "      <td>+</td>\n",
       "      <td>22089943</td>\n",
       "      <td>22090807</td>\n",
       "      <td>-637016829163235809</td>\n",
       "      <td>AAGGTGGTGAGTAAAAAGACGCAGAGGCTT</td>\n",
       "    </tr>\n",
       "    <tr>\n",
       "      <th>9993</th>\n",
       "      <td>CDC42</td>\n",
       "      <td>exon</td>\n",
       "      <td>+</td>\n",
       "      <td>22089943</td>\n",
       "      <td>22090807</td>\n",
       "      <td>-637016829163235809</td>\n",
       "      <td>TTTTAAACGATCTTTCTACAGTAGTGGGAC</td>\n",
       "    </tr>\n",
       "    <tr>\n",
       "      <th>9993</th>\n",
       "      <td>CDC42</td>\n",
       "      <td>exon</td>\n",
       "      <td>+</td>\n",
       "      <td>22089943</td>\n",
       "      <td>22090807</td>\n",
       "      <td>-637016829163235809</td>\n",
       "      <td>GTTTCCGGAGGCTCGAGGGCAGCTAGGATA</td>\n",
       "    </tr>\n",
       "    <tr>\n",
       "      <th>9995</th>\n",
       "      <td>CDC42</td>\n",
       "      <td>exon</td>\n",
       "      <td>+</td>\n",
       "      <td>22069221</td>\n",
       "      <td>22069318</td>\n",
       "      <td>5773306946687186618</td>\n",
       "      <td>CGGCTCATTGCAACCTCTGCCTCCTGGGTT</td>\n",
       "    </tr>\n",
       "    <tr>\n",
       "      <th>9995</th>\n",
       "      <td>CDC42</td>\n",
       "      <td>exon</td>\n",
       "      <td>+</td>\n",
       "      <td>22069221</td>\n",
       "      <td>22069318</td>\n",
       "      <td>5773306946687186618</td>\n",
       "      <td>TCCTGCCTCACCCTCCCAAATAGCTGGGAC</td>\n",
       "    </tr>\n",
       "    <tr>\n",
       "      <th>9995</th>\n",
       "      <td>CDC42</td>\n",
       "      <td>exon</td>\n",
       "      <td>+</td>\n",
       "      <td>22069221</td>\n",
       "      <td>22069318</td>\n",
       "      <td>5773306946687186618</td>\n",
       "      <td>TAGTCCCAGCTATTTGGGAGGGTGAGGCAG</td>\n",
       "    </tr>\n",
       "    <tr>\n",
       "      <th>9995</th>\n",
       "      <td>CDC42</td>\n",
       "      <td>exon</td>\n",
       "      <td>+</td>\n",
       "      <td>22069221</td>\n",
       "      <td>22069318</td>\n",
       "      <td>5773306946687186618</td>\n",
       "      <td>GAATTGCTTGAACCCAGGAGGCAGAGGTTG</td>\n",
       "    </tr>\n",
       "    <tr>\n",
       "      <th>9996</th>\n",
       "      <td>CDC42</td>\n",
       "      <td>exon</td>\n",
       "      <td>+</td>\n",
       "      <td>22086669</td>\n",
       "      <td>22086725</td>\n",
       "      <td>3255423742318826945</td>\n",
       "      <td>CCCAACAAGCAAGAAAGGAGTCTTTGGACA</td>\n",
       "    </tr>\n",
       "    <tr>\n",
       "      <th>9998</th>\n",
       "      <td>CDC42</td>\n",
       "      <td>exon</td>\n",
       "      <td>+</td>\n",
       "      <td>22078747</td>\n",
       "      <td>22078881</td>\n",
       "      <td>-6355254695153406608</td>\n",
       "      <td>CTGAAAAATCAGTGGAAAGTCAGAAGGGGT</td>\n",
       "    </tr>\n",
       "    <tr>\n",
       "      <th>9998</th>\n",
       "      <td>CDC42</td>\n",
       "      <td>exon</td>\n",
       "      <td>+</td>\n",
       "      <td>22078747</td>\n",
       "      <td>22078881</td>\n",
       "      <td>-6355254695153406608</td>\n",
       "      <td>GACACAGGGTTTGCAAGAAGTGCTGGGAGG</td>\n",
       "    </tr>\n",
       "    <tr>\n",
       "      <th>9999</th>\n",
       "      <td>CDC42</td>\n",
       "      <td>exon</td>\n",
       "      <td>+</td>\n",
       "      <td>22086669</td>\n",
       "      <td>22086715</td>\n",
       "      <td>1148933937065638330</td>\n",
       "      <td>AGCAAGAAAGGAGTCTTTGGACAGTGGTGA</td>\n",
       "    </tr>\n",
       "  </tbody>\n",
       "</table>\n",
       "<p>42772 rows × 7 columns</p>\n",
       "</div>"
      ],
      "text/plain": [
       "     gene_name feature_id strand     start      stop              seq_hash  \\\n",
       "0      DDX11L1       exon      +     11869     12227    -43556487203695757   \n",
       "0      DDX11L1       exon      +     11869     12227    -43556487203695757   \n",
       "0      DDX11L1       exon      +     11869     12227    -43556487203695757   \n",
       "0      DDX11L1       exon      +     11869     12227    -43556487203695757   \n",
       "0      DDX11L1       exon      +     11869     12227    -43556487203695757   \n",
       "0      DDX11L1       exon      +     11869     12227    -43556487203695757   \n",
       "0      DDX11L1       exon      +     11869     12227    -43556487203695757   \n",
       "0      DDX11L1       exon      +     11869     12227    -43556487203695757   \n",
       "0      DDX11L1       exon      +     11869     12227    -43556487203695757   \n",
       "0      DDX11L1       exon      +     11869     12227    -43556487203695757   \n",
       "0      DDX11L1       exon      +     11869     12227    -43556487203695757   \n",
       "0      DDX11L1       exon      +     11869     12227    -43556487203695757   \n",
       "1      DDX11L1       exon      +     12613     12721   5288470158420300119   \n",
       "1      DDX11L1       exon      +     12613     12721   5288470158420300119   \n",
       "2      DDX11L1       exon      +     13221     14409  -3494540769226855306   \n",
       "2      DDX11L1       exon      +     13221     14409  -3494540769226855306   \n",
       "2      DDX11L1       exon      +     13221     14409  -3494540769226855306   \n",
       "2      DDX11L1       exon      +     13221     14409  -3494540769226855306   \n",
       "2      DDX11L1       exon      +     13221     14409  -3494540769226855306   \n",
       "2      DDX11L1       exon      +     13221     14409  -3494540769226855306   \n",
       "2      DDX11L1       exon      +     13221     14409  -3494540769226855306   \n",
       "2      DDX11L1       exon      +     13221     14409  -3494540769226855306   \n",
       "2      DDX11L1       exon      +     13221     14409  -3494540769226855306   \n",
       "2      DDX11L1       exon      +     13221     14409  -3494540769226855306   \n",
       "2      DDX11L1       exon      +     13221     14409  -3494540769226855306   \n",
       "2      DDX11L1       exon      +     13221     14409  -3494540769226855306   \n",
       "2      DDX11L1       exon      +     13221     14409  -3494540769226855306   \n",
       "2      DDX11L1       exon      +     13221     14409  -3494540769226855306   \n",
       "2      DDX11L1       exon      +     13221     14409  -3494540769226855306   \n",
       "2      DDX11L1       exon      +     13221     14409  -3494540769226855306   \n",
       "...        ...        ...    ...       ...       ...                   ...   \n",
       "9984     CDC42       exon      +  22074094  22074219   1848634757825562077   \n",
       "9984     CDC42       exon      +  22074094  22074219   1848634757825562077   \n",
       "9987     CDC42       exon      +  22078706  22078881  -1796631055284141250   \n",
       "9987     CDC42       exon      +  22078706  22078881  -1796631055284141250   \n",
       "9991     CDC42       exon      +  22089943  22090010   7631339867509148716   \n",
       "9993     CDC42       exon      +  22089943  22090807   -637016829163235809   \n",
       "9993     CDC42       exon      +  22089943  22090807   -637016829163235809   \n",
       "9993     CDC42       exon      +  22089943  22090807   -637016829163235809   \n",
       "9993     CDC42       exon      +  22089943  22090807   -637016829163235809   \n",
       "9993     CDC42       exon      +  22089943  22090807   -637016829163235809   \n",
       "9993     CDC42       exon      +  22089943  22090807   -637016829163235809   \n",
       "9993     CDC42       exon      +  22089943  22090807   -637016829163235809   \n",
       "9993     CDC42       exon      +  22089943  22090807   -637016829163235809   \n",
       "9993     CDC42       exon      +  22089943  22090807   -637016829163235809   \n",
       "9993     CDC42       exon      +  22089943  22090807   -637016829163235809   \n",
       "9993     CDC42       exon      +  22089943  22090807   -637016829163235809   \n",
       "9993     CDC42       exon      +  22089943  22090807   -637016829163235809   \n",
       "9993     CDC42       exon      +  22089943  22090807   -637016829163235809   \n",
       "9993     CDC42       exon      +  22089943  22090807   -637016829163235809   \n",
       "9993     CDC42       exon      +  22089943  22090807   -637016829163235809   \n",
       "9993     CDC42       exon      +  22089943  22090807   -637016829163235809   \n",
       "9993     CDC42       exon      +  22089943  22090807   -637016829163235809   \n",
       "9995     CDC42       exon      +  22069221  22069318   5773306946687186618   \n",
       "9995     CDC42       exon      +  22069221  22069318   5773306946687186618   \n",
       "9995     CDC42       exon      +  22069221  22069318   5773306946687186618   \n",
       "9995     CDC42       exon      +  22069221  22069318   5773306946687186618   \n",
       "9996     CDC42       exon      +  22086669  22086725   3255423742318826945   \n",
       "9998     CDC42       exon      +  22078747  22078881  -6355254695153406608   \n",
       "9998     CDC42       exon      +  22078747  22078881  -6355254695153406608   \n",
       "9999     CDC42       exon      +  22086669  22086715   1148933937065638330   \n",
       "\n",
       "                              spacer  \n",
       "0     CCAGACTTCCCGTGTCCTTTCCACCGGGCC  \n",
       "0     AGAGGTCACAGGGTCTTGATGCTGTGGTCT  \n",
       "0     AGGTGTCTGACTTCCAGCAACTGCTGGCCT  \n",
       "0     CAGGGTGCAAGCTGAGCACTGGAGTGGAGT  \n",
       "0     TGTGGAGAGGAGCCATGCCTAGAGTGGGAT  \n",
       "0     TGCATGTAACTTAATACCACAACCAGGCAT  \n",
       "0     TTCCTCCAATCTTTCCCCTATGCCTGGTTG  \n",
       "0     GGTATTAAGTTACATGCAGACAACAGGGGC  \n",
       "0     ATGAACAATGGCCCATCCCACTCTAGGCAT  \n",
       "0     CACTCCAGTGCTCAGCTTGCACCCTGGCAC  \n",
       "0     CATCAAGACCCTGTGACCTCTCAAAGGCCC  \n",
       "0     CAAATACACATGAACAGAAAGAAGAGGTCA  \n",
       "1     CACTCACAAGAGTGTGATCCAAGTCGGCCG  \n",
       "1     TCTGCAGCTCTGGAGACCTGATGCTGGGGA  \n",
       "2     TGTCTGCCCAGTTTCACCAGAAGTAGGCCT  \n",
       "2     GAAAACAGGGGAATCCCGAAGAAATGGTGG  \n",
       "2     CCTGGCCATCCGTGAGATCTTCCCAGGGCA  \n",
       "2     ATCCAATCTGTCTTCCATCCTGCGTGGCCG  \n",
       "2     CCAGGCTTCTCACTGGGCCTCTGCAGGAGG  \n",
       "2     CTGCCCACCTTCTTAGAAGCGAGACGGAGC  \n",
       "2     TATAATAACTAAAGTTAGCTGCCCTGGACT  \n",
       "2     AGTCTCAATTTAAGAAGATCCCCATGGCCA  \n",
       "2     CCTAACCTGCCCCACAGCCTTGCCTGGATT  \n",
       "2     TTGGTGCCAGTTCCTCCAAGTCGATGGCAC  \n",
       "2     ACCCCAACACCAGCAATTGTGCCAAGGGCC  \n",
       "2     TCCTCCCTCTCATCCCAGAGAAACAGGTCA  \n",
       "2     TGGGAGCTTCTGCCCCCACTGCCTAGGGAC  \n",
       "2     GATCCTTTATTAAAAGCACACTGTTGGTTT  \n",
       "2     TGCCTCCTGCCCCTGTTGGTCCCTAGGCAG  \n",
       "2     AAGCTCCCAGCTGACCTGTTTCTCTGGGAT  \n",
       "...                              ...  \n",
       "9984  GAATCGCTTGAACTCGGGGGGCAGAGGCGC  \n",
       "9984  AGATGGCGCCACTGCACTCCAGCCTGGGCA  \n",
       "9987  CACTTTAAACAGCTGAAAAATCAGTGGAAA  \n",
       "9987  TGACACAGGGTTTGCAAGAAGTGCTGGGAG  \n",
       "9991  TTGGGTTGAGTTTCCGGAGGCTCGAGGGCA  \n",
       "9993  GAGCCTCCGGAAACTCAACCCAAAAGGAAG  \n",
       "9993  TGTAGAAAGATCGTTTAAAAACAAAGGAAT  \n",
       "9993  ATTTTTTGTGATCAGTAGTCAAGTTGGACT  \n",
       "9993  GGATTACTATTGCAAAAGGGAACTTGGTCT  \n",
       "9993  ACACTTCTAGATCTTAGTTCTAGATGGAGA  \n",
       "9993  ATTGTAATTGCATGACAAACCTTATGGAAA  \n",
       "9993  AGGGGTGACCTAGTAGAGTGTAATGGGGAA  \n",
       "9993  TTGCTTTGGCTGTCTGTGCTGTAGTGGAGT  \n",
       "9993  TTCCCTCACAATAAAATCAGAAGCAGGAAA  \n",
       "9993  CAAACTGTAAGTCAACTGTTTAAATGGATG  \n",
       "9993  GCAACACAAAGTTTCACCGCACAAAGGAAA  \n",
       "9993  CTCCCTTCCCCATTACACTCTACTAGGTCA  \n",
       "9993  CCAAACCAAAAAGCTCTGAGCATCAGGCAA  \n",
       "9993  ATTCTTGATCAAAAACTAATACAGAGGTTG  \n",
       "9993  AAGGTGGTGAGTAAAAAGACGCAGAGGCTT  \n",
       "9993  TTTTAAACGATCTTTCTACAGTAGTGGGAC  \n",
       "9993  GTTTCCGGAGGCTCGAGGGCAGCTAGGATA  \n",
       "9995  CGGCTCATTGCAACCTCTGCCTCCTGGGTT  \n",
       "9995  TCCTGCCTCACCCTCCCAAATAGCTGGGAC  \n",
       "9995  TAGTCCCAGCTATTTGGGAGGGTGAGGCAG  \n",
       "9995  GAATTGCTTGAACCCAGGAGGCAGAGGTTG  \n",
       "9996  CCCAACAAGCAAGAAAGGAGTCTTTGGACA  \n",
       "9998  CTGAAAAATCAGTGGAAAGTCAGAAGGGGT  \n",
       "9998  GACACAGGGTTTGCAAGAAGTGCTGGGAGG  \n",
       "9999  AGCAAGAAAGGAGTCTTTGGACAGTGGTGA  \n",
       "\n",
       "[42772 rows x 7 columns]"
      ]
     },
     "execution_count": 272,
     "metadata": {},
     "output_type": "execute_result"
    }
   ],
   "source": [
    "test_chunk"
   ]
  },
  {
   "cell_type": "code",
   "execution_count": null,
   "metadata": {
    "ExecuteTime": {
     "end_time": "2019-07-25T04:02:02.760725Z",
     "start_time": "2019-07-25T04:02:02.731865Z"
    }
   },
   "outputs": [],
   "source": [
    "chunked = np.array_split(smaller, 6)"
   ]
  },
  {
   "cell_type": "code",
   "execution_count": null,
   "metadata": {
    "ExecuteTime": {
     "end_time": "2019-07-25T04:02:43.504007Z",
     "start_time": "2019-07-25T04:02:42.928185Z"
    }
   },
   "outputs": [],
   "source": [
    "chunked = np.array_split(fasta_df, 16)"
   ]
  },
  {
   "cell_type": "markdown",
   "metadata": {},
   "source": [
    "Well, that cuts it in half.  The two lists of spacers are still the largest contributors to memory use."
   ]
  },
  {
   "cell_type": "code",
   "execution_count": null,
   "metadata": {
    "ExecuteTime": {
     "end_time": "2019-07-23T02:21:11.824237Z",
     "start_time": "2019-07-23T02:21:11.809805Z"
    }
   },
   "outputs": [],
   "source": [
    "import dask\n",
    "import dask.dataframe as dd\n",
    "import dask.bag as db"
   ]
  },
  {
   "cell_type": "code",
   "execution_count": null,
   "metadata": {
    "ExecuteTime": {
     "end_time": "2019-07-23T02:06:45.813798Z",
     "start_time": "2019-07-23T02:06:45.811416Z"
    }
   },
   "outputs": [],
   "source": [
    "# example of using a disk-backed dask dataframe, which is probably where we need to go.\n",
    "# store = pd.HDFStore(‘./data/clickstream_store.h5’)\n",
    "# top_links_dask = top_links_grouped_dask.sum().nlargest(20, ‘n’)\n",
    "# store.put(‘top_links_dask’,\n",
    "#            top_links_dask.compute(),\n",
    "#            format=’table’,\n",
    "#            data_columns=True)"
   ]
  },
  {
   "cell_type": "code",
   "execution_count": null,
   "metadata": {
    "ExecuteTime": {
     "end_time": "2019-07-23T02:30:06.951289Z",
     "start_time": "2019-07-23T02:30:06.939418Z"
    }
   },
   "outputs": [],
   "source": [
    "?dd.from_pandas"
   ]
  },
  {
   "cell_type": "code",
   "execution_count": null,
   "metadata": {
    "ExecuteTime": {
     "end_time": "2019-07-23T03:13:22.105352Z",
     "start_time": "2019-07-23T03:13:22.088285Z"
    },
    "scrolled": true
   },
   "outputs": [],
   "source": [
    "smaller.head()"
   ]
  },
  {
   "cell_type": "code",
   "execution_count": null,
   "metadata": {
    "ExecuteTime": {
     "end_time": "2019-07-23T03:13:24.430267Z",
     "start_time": "2019-07-23T03:13:23.759509Z"
    }
   },
   "outputs": [],
   "source": [
    "smaller_dd = dd.from_pandas(smaller, npartitions=16)"
   ]
  },
  {
   "cell_type": "code",
   "execution_count": null,
   "metadata": {
    "ExecuteTime": {
     "end_time": "2019-07-23T03:13:25.494519Z",
     "start_time": "2019-07-23T03:13:25.473620Z"
    }
   },
   "outputs": [],
   "source": [
    "smaller_dd.head()"
   ]
  },
  {
   "cell_type": "code",
   "execution_count": null,
   "metadata": {
    "ExecuteTime": {
     "end_time": "2019-07-23T03:13:27.768012Z",
     "start_time": "2019-07-23T03:13:27.762600Z"
    }
   },
   "outputs": [],
   "source": [
    "smaller_dd.dtypes"
   ]
  },
  {
   "cell_type": "code",
   "execution_count": null,
   "metadata": {
    "ExecuteTime": {
     "end_time": "2019-07-23T02:04:38.139359Z",
     "start_time": "2019-07-23T02:04:37.806947Z"
    }
   },
   "outputs": [],
   "source": [
    "store = pd.HDFStore(\"smaller_dd_store.h5\")"
   ]
  },
  {
   "cell_type": "code",
   "execution_count": null,
   "metadata": {
    "ExecuteTime": {
     "end_time": "2019-07-23T03:23:27.923016Z",
     "start_time": "2019-07-23T03:23:27.916031Z"
    },
    "scrolled": true
   },
   "outputs": [],
   "source": [
    "# tqdm.pandas(desc=\"separating forward spacer lists\", unit=\"sequences\")\n",
    "forwards = smaller_dd.apply(lambda x: pd.Series(x['forward_spacers']),\n",
    "                            axis=1,\n",
    "                            meta={\"0\": 'object'})"
   ]
  },
  {
   "cell_type": "code",
   "execution_count": null,
   "metadata": {
    "ExecuteTime": {
     "end_time": "2019-07-23T03:23:38.666247Z",
     "start_time": "2019-07-23T03:23:38.655262Z"
    }
   },
   "outputs": [],
   "source": [
    "forwards"
   ]
  },
  {
   "cell_type": "code",
   "execution_count": null,
   "metadata": {
    "ExecuteTime": {
     "end_time": "2019-07-23T03:26:16.457347Z",
     "start_time": "2019-07-23T03:26:16.453229Z"
    }
   },
   "outputs": [],
   "source": [
    "?smaller_dd.compute_meta()"
   ]
  },
  {
   "cell_type": "code",
   "execution_count": null,
   "metadata": {
    "ExecuteTime": {
     "end_time": "2019-07-23T03:23:31.545140Z",
     "start_time": "2019-07-23T03:23:28.719862Z"
    }
   },
   "outputs": [],
   "source": [
    "forwards.head()"
   ]
  },
  {
   "cell_type": "code",
   "execution_count": null,
   "metadata": {
    "ExecuteTime": {
     "end_time": "2019-07-23T02:19:53.939908Z",
     "start_time": "2019-07-23T02:19:51.212550Z"
    },
    "scrolled": true
   },
   "outputs": [],
   "source": [
    "store.put(forwards.compute())"
   ]
  },
  {
   "cell_type": "code",
   "execution_count": null,
   "metadata": {
    "ExecuteTime": {
     "end_time": "2019-07-22T18:11:49.494082Z",
     "start_time": "2019-07-22T18:11:43.763445Z"
    }
   },
   "outputs": [],
   "source": [
    "tqdm.pandas(desc=\"separating forward spacer lists\", unit=\"sequences\")\n",
    "sfs = smaller.progress_apply(lambda x: pd.Series(x['forward_spacers'], \n",
    "                                                       dtype='str'),\n",
    "                                                 axis=1)\n",
    "sfs = sfs.stack().reset_index(level=1).drop(columns=['level_1'])"
   ]
  },
  {
   "cell_type": "code",
   "execution_count": null,
   "metadata": {
    "ExecuteTime": {
     "end_time": "2019-07-21T22:55:55.221116Z",
     "start_time": "2019-07-21T22:55:55.216715Z"
    }
   },
   "outputs": [],
   "source": [
    "from math import floor\n",
    "chunksize=10000\n",
    "chunks = floor(fasta_df.shape[0]/chunksize)\n",
    "remainder = fasta_df.shape[0] % 74\n",
    "\n",
    "print(f\"{(chunks*chunksize)+remainder}\")"
   ]
  },
  {
   "cell_type": "code",
   "execution_count": null,
   "metadata": {
    "ExecuteTime": {
     "end_time": "2019-07-21T22:56:03.159237Z",
     "start_time": "2019-07-21T22:56:03.154731Z"
    }
   },
   "outputs": [],
   "source": [
    "fasta_df.shape[0]"
   ]
  },
  {
   "cell_type": "code",
   "execution_count": null,
   "metadata": {
    "ExecuteTime": {
     "end_time": "2019-07-21T21:21:51.261096Z",
     "start_time": "2019-07-21T21:21:51.255148Z"
    }
   },
   "outputs": [],
   "source": [
    "forwards.head()"
   ]
  },
  {
   "cell_type": "code",
   "execution_count": null,
   "metadata": {},
   "outputs": [],
   "source": [
    "tqdm.pandas(desc=\"separating reverse lists\", unit=\"sequences\")\n",
    "reverse = fasta_df['reverse_spacers'].progress_apply(pd.Series)"
   ]
  },
  {
   "cell_type": "code",
   "execution_count": null,
   "metadata": {},
   "outputs": [],
   "source": [
    "rsb = RestrictionBatch(restriction_sites)"
   ]
  },
  {
   "cell_type": "code",
   "execution_count": null,
   "metadata": {},
   "outputs": [],
   "source": [
    "spacer_df = pd.DataFrame(columns=['gene_name','feature_id','start','stop','strand','spacer'])"
   ]
  },
  {
   "cell_type": "code",
   "execution_count": null,
   "metadata": {},
   "outputs": [],
   "source": [
    "spacer_df"
   ]
  },
  {
   "cell_type": "code",
   "execution_count": null,
   "metadata": {},
   "outputs": [],
   "source": [
    "itemlist"
   ]
  },
  {
   "cell_type": "code",
   "execution_count": null,
   "metadata": {},
   "outputs": [],
   "source": [
    "itemlist.keys()"
   ]
  },
  {
   "cell_type": "code",
   "execution_count": null,
   "metadata": {},
   "outputs": [],
   "source": [
    "for item in itemlist.keys():\n",
    "    # have to use the alternative Regex module instead of Re so that findall can detect overlapping\n",
    "    # sequences\n",
    "    spacers = (spacer_regex.findall(itemlist[item][:].seq, overlapped=True) +\n",
    "                   spacer_regex.findall(itemlist[item][:].reverse.complement.seq, overlapped=True))\n",
    "\n",
    "    info = dict(zip(['gene_name', 'feature_id', 'strand', 'start', 'end', \"misc\"], item.split(\"_\")))\n",
    "\n",
    "    for ps in spacers:\n",
    "        # Note that ps[4:24] is the actual protospacer.  I need the rest of the sequence for scoring\n",
    "        ps_seq = Seq(ps[spacer_start:spacer_end], IUPAC.unambiguous_dna)\n",
    "        ps_full_seq = Seq(ps, IUPAC.unambiguous_dna)\n",
    "\n",
    "        # Get rid of anything with T(4+) as those act as RNAPIII terminators\n",
    "        if \"TTTT\" in ps:\n",
    "            # TODO Should this also eliminate anything with G(4)?\n",
    "            pass\n",
    "        # Get rid of anything that has the verboten restriction sites\n",
    "        elif bool([y for y in rsb.search(ps_full_seq).values() if y != []]):\n",
    "            pass\n",
    "        # BsmBI/Esp3I is used in most of the new CRISPR vectors, especially for library construction.\n",
    "        # Biopython misses potential restriction sites as it tries to match GAGACGN(5), whereas we need to find\n",
    "        # matches of just the GAGACG core.  The next four lines take care of that.\n",
    "        elif 'GAGACG' in ps[spacer_start:spacer_end]:\n",
    "            pass\n",
    "        elif 'CGTCTC' in ps[spacer_start:spacer_end]:\n",
    "            pass\n",
    "        # Eliminate potentials with a GC content <20 or >80%\n",
    "        elif GC(ps_seq) <= 20 or GC(ps_seq) >= 80:\n",
    "            pass\n",
    "        else:\n",
    "            ps_start = itemlist[item][:].seq.find(ps) + int(info['start'])\n",
    "            spacer_data = {'gene_name': [info['gene_name']], \n",
    "                           'feature_id': [info['feature_id']], \n",
    "                           'start': [ps_start], \n",
    "                           'stop': [ps_start+len(ps)], \n",
    "                           'strand': [info['strand']], \n",
    "                           'spacer': [ps]}\n",
    "            _ = pd.DataFrame.from_dict(spacer_data)\n",
    "            # TODO change the spacer here to include 'NGG' so that it is taken into account by Bowtie?\n",
    "            spacer_df = pd.concat([spacer_df,_])"
   ]
  },
  {
   "cell_type": "code",
   "execution_count": null,
   "metadata": {},
   "outputs": [],
   "source": [
    "spacer_df.head()"
   ]
  },
  {
   "cell_type": "code",
   "execution_count": null,
   "metadata": {
    "scrolled": true
   },
   "outputs": [],
   "source": [
    "spacer_df['spacer'].values"
   ]
  },
  {
   "cell_type": "code",
   "execution_count": null,
   "metadata": {},
   "outputs": [],
   "source": [
    "predicted_scores = model_comparison.predict(spacer_df['spacer'].values)"
   ]
  },
  {
   "cell_type": "code",
   "execution_count": null,
   "metadata": {},
   "outputs": [],
   "source": [
    "spacer_df['score'] = predicted_scores"
   ]
  },
  {
   "cell_type": "code",
   "execution_count": null,
   "metadata": {},
   "outputs": [],
   "source": [
    "spacer_df.head()"
   ]
  },
  {
   "cell_type": "code",
   "execution_count": null,
   "metadata": {},
   "outputs": [],
   "source": [
    "spacer_df[spacer_df['score'] > 0.75].head()"
   ]
  },
  {
   "cell_type": "code",
   "execution_count": null,
   "metadata": {},
   "outputs": [],
   "source": [
    "%store spacer_df"
   ]
  },
  {
   "cell_type": "code",
   "execution_count": null,
   "metadata": {},
   "outputs": [],
   "source": [
    "%store nuclease_info"
   ]
  },
  {
   "cell_type": "code",
   "execution_count": null,
   "metadata": {},
   "outputs": [],
   "source": []
  }
 ],
 "metadata": {
  "kernelspec": {
   "display_name": "Python 3",
   "language": "python",
   "name": "python3"
  },
  "language_info": {
   "codemirror_mode": {
    "name": "ipython",
    "version": 3
   },
   "file_extension": ".py",
   "mimetype": "text/x-python",
   "name": "python",
   "nbconvert_exporter": "python",
   "pygments_lexer": "ipython3",
   "version": "3.6.8"
  },
  "varInspector": {
   "cols": {
    "lenName": 16,
    "lenType": 16,
    "lenVar": 40
   },
   "kernels_config": {
    "python": {
     "delete_cmd_postfix": "",
     "delete_cmd_prefix": "del ",
     "library": "var_list.py",
     "varRefreshCmd": "print(var_dic_list())"
    },
    "r": {
     "delete_cmd_postfix": ") ",
     "delete_cmd_prefix": "rm(",
     "library": "var_list.r",
     "varRefreshCmd": "cat(var_dic_list()) "
    }
   },
   "types_to_exclude": [
    "module",
    "function",
    "builtin_function_or_method",
    "instance",
    "_Feature"
   ],
   "window_display": false
  }
 },
 "nbformat": 4,
 "nbformat_minor": 1
}
