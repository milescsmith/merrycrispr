{
 "cells": [
  {
   "cell_type": "markdown",
   "metadata": {},
   "source": [
    "Using the targets file produced by \n",
    "~~~~\n",
    "merrycrispr prep-sequences \\\n",
    "    --gtf ~/workspace//mc_human_files/Homo_sapiens.GRCh38.97.gtf \\\n",
    "    --fasta ~/workspace/mc_human_files/Homo_sapiens.GRCh38.dna.primary_assembly.fa \\\n",
    "    --library_type knockout \\\n",
    "    --output ~/workspace/mc_human_files/pml.fa \\\n",
    "    -n PML\n",
    "~~~~\n",
    "\n",
    "and \n",
    "\n",
    "~~~~\n",
    "merrycrispr create-library \\\n",
    "    -i mc_human_files/pml.fa \\\n",
    "    -p mc_human_files/pml.csv \\\n",
    "    -n SpCas9 \\\n",
    "    -r bowtie/GCA_000001405.15_GRCh38_no_alt_analysis_set \\\n",
    "    -c 8\n",
    "    ~~~~"
   ]
  },
  {
   "cell_type": "code",
   "execution_count": 1,
   "metadata": {
    "ExecuteTime": {
     "end_time": "2019-07-21T04:46:53.957467Z",
     "start_time": "2019-07-21T04:46:53.456165Z"
    }
   },
   "outputs": [],
   "source": [
    "import pandas as pd\n",
    "import numpy as np\n",
    "import pyfaidx\n",
    "import regex\n",
    "import tqdm\n",
    "\n",
    "spacers = \"/Users/milessmith/workspace/mc_human_files/pml_targets.fa\"\n",
    "otrf = \"/Users/milessmith/workspace/mc_human_files/bowtie_results.csv\"\n",
    "mmpos = regex.compile(\"[0-9]{1,}\")"
   ]
  },
  {
   "cell_type": "code",
   "execution_count": 2,
   "metadata": {
    "ExecuteTime": {
     "end_time": "2019-07-21T04:47:53.064448Z",
     "start_time": "2019-07-21T04:46:54.270730Z"
    }
   },
   "outputs": [],
   "source": [
    "bowtie_results = pd.read_csv(\n",
    "        otrf,\n",
    "        header=None,\n",
    "        names=[\n",
    "            \"hash\",\n",
    "            \"strand\",\n",
    "            \"refseq\",\n",
    "            \"position\",\n",
    "            \"seq\",\n",
    "            \"readquality\",\n",
    "            \"aligncount\",\n",
    "            \"mismatches\",\n",
    "        ],\n",
    "        usecols=['hash', \n",
    "                 'mismatches'],\n",
    "        dtype={\n",
    "            \"hash\": \"int64\",\n",
    "            \"mismatches\": \"str\",\n",
    "        },\n",
    "        na_filter=False,\n",
    "        skip_blank_lines=True,\n",
    "        sep=\"\\t\",\n",
    "        memory_map=True,\n",
    "    )"
   ]
  },
  {
   "cell_type": "code",
   "execution_count": 3,
   "metadata": {
    "ExecuteTime": {
     "end_time": "2019-07-21T04:47:53.207711Z",
     "start_time": "2019-07-21T04:47:53.100669Z"
    }
   },
   "outputs": [],
   "source": [
    "spacers_fa = pyfaidx.Fasta(spacers)\n",
    "spacers_dict = {k:v for k,v in zip(spacers_fa.keys(), \n",
    "                                   [spacers_fa[_][:].seq for _ in spacers_fa.keys()])}\n",
    "spacers_df = pd.DataFrame.from_dict(data=spacers_dict, \n",
    "                                    orient='index', \n",
    "                                    columns=[\"spacer\"])\\\n",
    "    .reset_index(drop=False)\\\n",
    "    .rename(index=str, \n",
    "            columns={\"index\":\"hash\"})\n",
    "spacers_df = spacers_df.astype(dtype={\"hash\":\"int64\",\n",
    "                                      \"spacer\":\"str\"})"
   ]
  },
  {
   "cell_type": "code",
   "execution_count": 4,
   "metadata": {
    "ExecuteTime": {
     "end_time": "2019-07-21T04:47:56.161598Z",
     "start_time": "2019-07-21T04:47:53.245693Z"
    }
   },
   "outputs": [],
   "source": [
    "bowtie_results = bowtie_results.fillna(0)\n",
    "\n",
    "spacers_df[\"off_target_score\"] = np.repeat(0, spacers_df.shape[0])\n",
    "spacers_df[\"number_matching\"] = np.repeat(0, spacers_df.shape[0])\n",
    "\n",
    "spacers_df = spacers_df[spacers_df[\"hash\"].isin(bowtie_results[\"hash\"])]"
   ]
  },
  {
   "cell_type": "code",
   "execution_count": 5,
   "metadata": {
    "ExecuteTime": {
     "end_time": "2019-07-21T04:47:58.793497Z",
     "start_time": "2019-07-21T04:47:56.207248Z"
    }
   },
   "outputs": [],
   "source": [
    "results_count = bowtie_results.groupby('hash').agg('count').reset_index()\n",
    "filtered_results = results_count[results_count['mismatches'] < 500]"
   ]
  },
  {
   "cell_type": "code",
   "execution_count": 8,
   "metadata": {
    "ExecuteTime": {
     "end_time": "2019-07-20T21:18:27.281359Z",
     "start_time": "2019-07-20T21:18:23.957200Z"
    }
   },
   "outputs": [
    {
     "name": "stdout",
     "output_type": "stream",
     "text": [
      "before filtering: 46187665\n",
      "after filtering: 346519\n"
     ]
    }
   ],
   "source": [
    "print(f\"before filtering: {bowtie_results.shape[0]}\\n\"\n",
    "      f\"after filtering: {bowtie_results[bowtie_results['hash'].isin(filtered_results['hash'])].shape[0]}\")"
   ]
  },
  {
   "cell_type": "code",
   "execution_count": 9,
   "metadata": {
    "ExecuteTime": {
     "end_time": "2019-07-20T21:18:29.790838Z",
     "start_time": "2019-07-20T21:18:29.774093Z"
    }
   },
   "outputs": [
    {
     "data": {
      "text/html": [
       "<div>\n",
       "<style scoped>\n",
       "    .dataframe tbody tr th:only-of-type {\n",
       "        vertical-align: middle;\n",
       "    }\n",
       "\n",
       "    .dataframe tbody tr th {\n",
       "        vertical-align: top;\n",
       "    }\n",
       "\n",
       "    .dataframe thead th {\n",
       "        text-align: right;\n",
       "    }\n",
       "</style>\n",
       "<table border=\"1\" class=\"dataframe\">\n",
       "  <thead>\n",
       "    <tr style=\"text-align: right;\">\n",
       "      <th></th>\n",
       "      <th>hash</th>\n",
       "      <th>mismatches</th>\n",
       "    </tr>\n",
       "  </thead>\n",
       "  <tbody>\n",
       "    <tr>\n",
       "      <th>3</th>\n",
       "      <td>-9209457168488907513</td>\n",
       "      <td>275</td>\n",
       "    </tr>\n",
       "    <tr>\n",
       "      <th>9</th>\n",
       "      <td>-9171222395245968596</td>\n",
       "      <td>145</td>\n",
       "    </tr>\n",
       "    <tr>\n",
       "      <th>11</th>\n",
       "      <td>-9160792478378761553</td>\n",
       "      <td>186</td>\n",
       "    </tr>\n",
       "    <tr>\n",
       "      <th>21</th>\n",
       "      <td>-9133264647069694812</td>\n",
       "      <td>218</td>\n",
       "    </tr>\n",
       "    <tr>\n",
       "      <th>22</th>\n",
       "      <td>-9129542392350055743</td>\n",
       "      <td>150</td>\n",
       "    </tr>\n",
       "  </tbody>\n",
       "</table>\n",
       "</div>"
      ],
      "text/plain": [
       "                   hash  mismatches\n",
       "3  -9209457168488907513         275\n",
       "9  -9171222395245968596         145\n",
       "11 -9160792478378761553         186\n",
       "21 -9133264647069694812         218\n",
       "22 -9129542392350055743         150"
      ]
     },
     "execution_count": 9,
     "metadata": {},
     "output_type": "execute_result"
    }
   ],
   "source": [
    "filtered_results.head()"
   ]
  },
  {
   "cell_type": "code",
   "execution_count": 10,
   "metadata": {
    "ExecuteTime": {
     "end_time": "2019-07-20T21:18:52.086471Z",
     "start_time": "2019-07-20T21:18:46.658162Z"
    }
   },
   "outputs": [],
   "source": [
    "from merrycrispr.off_target_scoring import sumofftargets\n",
    "grouped_bowtie_results = bowtie_results.groupby('hash')\n",
    "start = 0\n",
    "end = 20\n",
    "off_target_count_threshold = None"
   ]
  },
  {
   "cell_type": "code",
   "execution_count": null,
   "metadata": {
    "ExecuteTime": {
     "end_time": "2019-07-18T04:00:53.234407Z",
     "start_time": "2019-07-18T02:53:41.827756Z"
    }
   },
   "outputs": [],
   "source": [
    "for i in spacers_df['hash'].unique():\n",
    "    matching_locations = grouped_bowtie_results.get_group(i).reset_index(drop=True)\n",
    "\n",
    "    # if the number of mismatches is above a threshold, remove the spacer\n",
    "    # if there are more than one perfect matches\n",
    "    if len(matching_locations[matching_locations[\"mismatches\"] == 0].index) > 1:\n",
    "        score = 0\n",
    "    # if there is only one entry - no offtargets, assign a score of 0\n",
    "    elif matching_locations.shape[0] == 1:\n",
    "        score = 100\n",
    "    # elif there are mismatch positions, get the positions, make a list\n",
    "    # holding lists of those positions, and score\n",
    "    else:\n",
    "        mmpos = [\n",
    "            mmpos_re.findall(str(j[1][\"mismatches\"]))\n",
    "            for j in matching_locations.iterrows()\n",
    "        ]\n",
    "        score = sumofftargets(\n",
    "            mmpos, start=start, end=end\n",
    "        )\n",
    "    results_count.loc[i, \"off_target_score\"] = score"
   ]
  },
  {
   "cell_type": "markdown",
   "metadata": {},
   "source": [
    "Note the above run time: `1h 7m 11s`.  And that is just for *one* gene."
   ]
  },
  {
   "cell_type": "code",
   "execution_count": null,
   "metadata": {
    "ExecuteTime": {
     "end_time": "2019-07-18T04:02:18.679775Z",
     "start_time": "2019-07-18T04:02:18.673410Z"
    }
   },
   "outputs": [],
   "source": [
    "results_count.shape"
   ]
  },
  {
   "cell_type": "code",
   "execution_count": null,
   "metadata": {
    "ExecuteTime": {
     "end_time": "2019-07-18T04:02:36.585210Z",
     "start_time": "2019-07-18T04:02:36.581274Z"
    }
   },
   "outputs": [],
   "source": [
    "part1 = results_count.iloc[:4980,]\n",
    "part2 = results_count.iloc[4980:,]"
   ]
  },
  {
   "cell_type": "code",
   "execution_count": null,
   "metadata": {
    "ExecuteTime": {
     "end_time": "2019-07-18T04:02:37.517324Z",
     "start_time": "2019-07-18T04:02:37.507663Z"
    },
    "scrolled": true
   },
   "outputs": [],
   "source": [
    "part1.head()"
   ]
  },
  {
   "cell_type": "code",
   "execution_count": null,
   "metadata": {
    "ExecuteTime": {
     "end_time": "2019-07-18T04:02:38.316716Z",
     "start_time": "2019-07-18T04:02:38.307974Z"
    }
   },
   "outputs": [],
   "source": [
    "part2.head()"
   ]
  },
  {
   "cell_type": "code",
   "execution_count": null,
   "metadata": {
    "ExecuteTime": {
     "end_time": "2019-07-18T04:02:41.218711Z",
     "start_time": "2019-07-18T04:02:41.210909Z"
    }
   },
   "outputs": [],
   "source": [
    "off_target_scores = part2.drop(columns=['hash','mismatches']).reset_index().rename(index=str, columns={'index':'hash'})"
   ]
  },
  {
   "cell_type": "code",
   "execution_count": null,
   "metadata": {
    "ExecuteTime": {
     "end_time": "2019-07-18T04:05:22.583344Z",
     "start_time": "2019-07-18T04:05:21.059605Z"
    }
   },
   "outputs": [],
   "source": [
    "scored_off_targets = bowtie_results.agg('count').reset_index().merge(off_target_scores)"
   ]
  },
  {
   "cell_type": "code",
   "execution_count": null,
   "metadata": {
    "ExecuteTime": {
     "end_time": "2019-07-18T04:05:22.913065Z",
     "start_time": "2019-07-18T04:05:22.898906Z"
    },
    "cell_style": "split",
    "scrolled": false
   },
   "outputs": [],
   "source": [
    "scored_off_targets.sort_values(axis=0, \n",
    "                               by=\"off_target_score\",\n",
    "                               ascending=False).head()"
   ]
  },
  {
   "cell_type": "code",
   "execution_count": null,
   "metadata": {
    "ExecuteTime": {
     "end_time": "2019-07-18T04:08:19.670877Z",
     "start_time": "2019-07-18T04:08:19.659113Z"
    },
    "cell_style": "split",
    "scrolled": true
   },
   "outputs": [],
   "source": [
    "scored_off_targets.sort_values(axis=0, \n",
    "                               by=\"off_target_score\",\n",
    "                               ascending=True).head()"
   ]
  },
  {
   "cell_type": "code",
   "execution_count": null,
   "metadata": {
    "ExecuteTime": {
     "end_time": "2019-07-18T04:05:40.366615Z",
     "start_time": "2019-07-18T04:05:40.356538Z"
    },
    "cell_style": "split",
    "scrolled": false
   },
   "outputs": [],
   "source": [
    "bowtie_results.get_group(7331002894579019723)"
   ]
  },
  {
   "cell_type": "code",
   "execution_count": null,
   "metadata": {
    "ExecuteTime": {
     "end_time": "2019-07-18T04:06:55.885396Z",
     "start_time": "2019-07-18T04:06:55.875419Z"
    },
    "cell_style": "split",
    "scrolled": false
   },
   "outputs": [],
   "source": [
    "bowtie_results.get_group(6469466269579083296)"
   ]
  },
  {
   "cell_type": "code",
   "execution_count": null,
   "metadata": {
    "ExecuteTime": {
     "end_time": "2019-07-18T04:05:57.735423Z",
     "start_time": "2019-07-18T04:05:57.727720Z"
    },
    "cell_style": "center"
   },
   "outputs": [],
   "source": [
    "mmpos = [\n",
    "            mmpos_re.findall(str(j[1][\"mismatches\"]))\n",
    "            for j in bowtie_results.get_group(7331002894579019723).iterrows()\n",
    "        ]"
   ]
  },
  {
   "cell_type": "code",
   "execution_count": null,
   "metadata": {
    "ExecuteTime": {
     "end_time": "2019-07-18T04:05:47.660921Z",
     "start_time": "2019-07-18T04:05:47.655629Z"
    }
   },
   "outputs": [],
   "source": [
    "mmpos"
   ]
  },
  {
   "cell_type": "code",
   "execution_count": null,
   "metadata": {
    "ExecuteTime": {
     "end_time": "2019-07-18T04:06:21.879867Z",
     "start_time": "2019-07-18T04:06:21.874947Z"
    }
   },
   "outputs": [],
   "source": [
    "sumofftargets(mmpos, start=0, end=20)"
   ]
  },
  {
   "cell_type": "code",
   "execution_count": 7,
   "metadata": {
    "ExecuteTime": {
     "end_time": "2019-07-21T04:48:25.353923Z",
     "start_time": "2019-07-21T04:48:22.607387Z"
    }
   },
   "outputs": [],
   "source": [
    "filtered_bowtie = bowtie_results[bowtie_results['hash'].isin(filtered_results['hash'])]"
   ]
  },
  {
   "cell_type": "code",
   "execution_count": 19,
   "metadata": {
    "ExecuteTime": {
     "end_time": "2019-07-20T21:22:36.879304Z",
     "start_time": "2019-07-20T21:22:29.761705Z"
    }
   },
   "outputs": [
    {
     "data": {
      "application/vnd.jupyter.widget-view+json": {
       "model_id": "e04e3c72d75c4d6c897b40868890f5b5",
       "version_major": 2,
       "version_minor": 0
      },
      "text/plain": [
       "HBox(children=(IntProgress(value=0, description='converting mismatches', max=346519, style=ProgressStyle(descr…"
      ]
     },
     "metadata": {},
     "output_type": "display_data"
    },
    {
     "name": "stderr",
     "output_type": "stream",
     "text": [
      " /Users/milessmith/miniconda3/envs/mc/lib/python3.6/site-packages/ipykernel_launcher.py:4: SettingWithCopyWarning:\n",
      "A value is trying to be set on a copy of a slice from a DataFrame.\n",
      "Try using .loc[row_indexer,col_indexer] = value instead\n",
      "\n",
      "See the caveats in the documentation: http://pandas.pydata.org/pandas-docs/stable/indexing.html#indexing-view-versus-copy\n"
     ]
    },
    {
     "data": {
      "text/html": [
       "<div>\n",
       "<style scoped>\n",
       "    .dataframe tbody tr th:only-of-type {\n",
       "        vertical-align: middle;\n",
       "    }\n",
       "\n",
       "    .dataframe tbody tr th {\n",
       "        vertical-align: top;\n",
       "    }\n",
       "\n",
       "    .dataframe thead th {\n",
       "        text-align: right;\n",
       "    }\n",
       "</style>\n",
       "<table border=\"1\" class=\"dataframe\">\n",
       "  <thead>\n",
       "    <tr style=\"text-align: right;\">\n",
       "      <th></th>\n",
       "      <th>hash</th>\n",
       "      <th>mismatches</th>\n",
       "      <th>locations</th>\n",
       "    </tr>\n",
       "  </thead>\n",
       "  <tbody>\n",
       "    <tr>\n",
       "      <th>524</th>\n",
       "      <td>-1245412300131519133</td>\n",
       "      <td></td>\n",
       "      <td>[]</td>\n",
       "    </tr>\n",
       "    <tr>\n",
       "      <th>525</th>\n",
       "      <td>-1245412300131519133</td>\n",
       "      <td>9:A&gt;C</td>\n",
       "      <td>[9]</td>\n",
       "    </tr>\n",
       "    <tr>\n",
       "      <th>526</th>\n",
       "      <td>-1245412300131519133</td>\n",
       "      <td>9:C&gt;G</td>\n",
       "      <td>[9]</td>\n",
       "    </tr>\n",
       "    <tr>\n",
       "      <th>527</th>\n",
       "      <td>-1245412300131519133</td>\n",
       "      <td>1:C&gt;T,4:A&gt;C</td>\n",
       "      <td>[1, 4]</td>\n",
       "    </tr>\n",
       "    <tr>\n",
       "      <th>528</th>\n",
       "      <td>-1245412300131519133</td>\n",
       "      <td>4:T&gt;C,10:A&gt;G</td>\n",
       "      <td>[4, 10]</td>\n",
       "    </tr>\n",
       "  </tbody>\n",
       "</table>\n",
       "</div>"
      ],
      "text/plain": [
       "                    hash    mismatches locations\n",
       "524 -1245412300131519133                      []\n",
       "525 -1245412300131519133         9:A>C       [9]\n",
       "526 -1245412300131519133         9:C>G       [9]\n",
       "527 -1245412300131519133   1:C>T,4:A>C    [1, 4]\n",
       "528 -1245412300131519133  4:T>C,10:A>G   [4, 10]"
      ]
     },
     "execution_count": 19,
     "metadata": {},
     "output_type": "execute_result"
    }
   ],
   "source": [
    "from tqdm.autonotebook import tqdm\n",
    "tqdm.pandas(desc=\"converting mismatches\")\n",
    "filtered_bowtie['locations'] = filtered_bowtie.progress_apply(lambda x: mmpos.findall(x['mismatches']), axis=1)\n",
    "filtered_bowtie.head()"
   ]
  },
  {
   "cell_type": "code",
   "execution_count": 19,
   "metadata": {
    "ExecuteTime": {
     "end_time": "2019-07-20T21:22:36.879304Z",
     "start_time": "2019-07-20T21:22:29.761705Z"
    }
   },
   "outputs": [
    {
     "data": {
      "application/vnd.jupyter.widget-view+json": {
       "model_id": "e04e3c72d75c4d6c897b40868890f5b5",
       "version_major": 2,
       "version_minor": 0
      },
      "text/plain": [
       "HBox(children=(IntProgress(value=0, description='converting mismatches', max=346519, style=ProgressStyle(descr…"
      ]
     },
     "metadata": {},
     "output_type": "display_data"
    },
    {
     "name": "stderr",
     "output_type": "stream",
     "text": [
      " /Users/milessmith/miniconda3/envs/mc/lib/python3.6/site-packages/ipykernel_launcher.py:4: SettingWithCopyWarning:\n",
      "A value is trying to be set on a copy of a slice from a DataFrame.\n",
      "Try using .loc[row_indexer,col_indexer] = value instead\n",
      "\n",
      "See the caveats in the documentation: http://pandas.pydata.org/pandas-docs/stable/indexing.html#indexing-view-versus-copy\n"
     ]
    },
    {
     "data": {
      "text/html": [
       "<div>\n",
       "<style scoped>\n",
       "    .dataframe tbody tr th:only-of-type {\n",
       "        vertical-align: middle;\n",
       "    }\n",
       "\n",
       "    .dataframe tbody tr th {\n",
       "        vertical-align: top;\n",
       "    }\n",
       "\n",
       "    .dataframe thead th {\n",
       "        text-align: right;\n",
       "    }\n",
       "</style>\n",
       "<table border=\"1\" class=\"dataframe\">\n",
       "  <thead>\n",
       "    <tr style=\"text-align: right;\">\n",
       "      <th></th>\n",
       "      <th>hash</th>\n",
       "      <th>mismatches</th>\n",
       "      <th>locations</th>\n",
       "    </tr>\n",
       "  </thead>\n",
       "  <tbody>\n",
       "    <tr>\n",
       "      <th>524</th>\n",
       "      <td>-1245412300131519133</td>\n",
       "      <td></td>\n",
       "      <td>[]</td>\n",
       "    </tr>\n",
       "    <tr>\n",
       "      <th>525</th>\n",
       "      <td>-1245412300131519133</td>\n",
       "      <td>9:A&gt;C</td>\n",
       "      <td>[9]</td>\n",
       "    </tr>\n",
       "    <tr>\n",
       "      <th>526</th>\n",
       "      <td>-1245412300131519133</td>\n",
       "      <td>9:C&gt;G</td>\n",
       "      <td>[9]</td>\n",
       "    </tr>\n",
       "    <tr>\n",
       "      <th>527</th>\n",
       "      <td>-1245412300131519133</td>\n",
       "      <td>1:C&gt;T,4:A&gt;C</td>\n",
       "      <td>[1, 4]</td>\n",
       "    </tr>\n",
       "    <tr>\n",
       "      <th>528</th>\n",
       "      <td>-1245412300131519133</td>\n",
       "      <td>4:T&gt;C,10:A&gt;G</td>\n",
       "      <td>[4, 10]</td>\n",
       "    </tr>\n",
       "  </tbody>\n",
       "</table>\n",
       "</div>"
      ],
      "text/plain": [
       "                    hash    mismatches locations\n",
       "524 -1245412300131519133                      []\n",
       "525 -1245412300131519133         9:A>C       [9]\n",
       "526 -1245412300131519133         9:C>G       [9]\n",
       "527 -1245412300131519133   1:C>T,4:A>C    [1, 4]\n",
       "528 -1245412300131519133  4:T>C,10:A>G   [4, 10]"
      ]
     },
     "execution_count": 19,
     "metadata": {},
     "output_type": "execute_result"
    }
   ],
   "source": [
    "from tqdm.autonotebook import tqdm\n",
    "tqdm.pandas(desc=\"converting mismatches\")\n",
    "filtered_bowtie['locations'] = filtered_bowtie.progress_apply(lambda x: mmpos.findall(x['mismatches']), axis=1)\n",
    "filtered_bowtie.head()"
   ]
  },
  {
   "cell_type": "code",
   "execution_count": 9,
   "metadata": {
    "ExecuteTime": {
     "end_time": "2019-07-21T04:48:43.704530Z",
     "start_time": "2019-07-21T04:48:43.145357Z"
    }
   },
   "outputs": [
    {
     "data": {
      "text/plain": [
       "524         []\n",
       "525        [9]\n",
       "526        [9]\n",
       "527     [1, 4]\n",
       "528    [4, 10]\n",
       "Name: mismatches, dtype: object"
      ]
     },
     "execution_count": 9,
     "metadata": {},
     "output_type": "execute_result"
    }
   ],
   "source": [
    "filtered_bowtie[\"mismatches\"].apply(mmpos.findall).head()"
   ]
  },
  {
   "cell_type": "code",
   "execution_count": 20,
   "metadata": {
    "ExecuteTime": {
     "end_time": "2019-07-20T21:22:38.414877Z",
     "start_time": "2019-07-20T21:22:38.238896Z"
    },
    "scrolled": true
   },
   "outputs": [
    {
     "data": {
      "application/vnd.jupyter.widget-view+json": {
       "model_id": "3da624aa6cea4aa9a07096f6ff436c74",
       "version_major": 2,
       "version_minor": 0
      },
      "text/plain": [
       "HBox(children=(IntProgress(value=0, description='collapsing mismatches', max=1203, style=ProgressStyle(descrip…"
      ]
     },
     "metadata": {},
     "output_type": "display_data"
    },
    {
     "data": {
      "text/plain": [
       "hash\n",
       "-9209457168488907513    [[], [2, 12], [9, 18], [2, 14], [0, 2], [8, 18...\n",
       "-9171222395245968596    [[], [18], [6, 14], [12, 18], [12, 18], [0, 15...\n",
       "-9160792478378761553    [[], [4, 17], [15, 17], [4, 17], [3, 17], [4, ...\n",
       "-9133264647069694812    [[], [5, 17], [5, 13], [4, 11], [4, 8], [5, 9]...\n",
       "-9129542392350055743    [[], [14], [2, 9], [3, 4], [12, 16], [12, 16],...\n",
       "dtype: object"
      ]
     },
     "execution_count": 20,
     "metadata": {},
     "output_type": "execute_result"
    }
   ],
   "source": [
    "tqdm.pandas(desc=\"collapsing mismatches\")\n",
    "filtered_bowtie.groupby('hash').progress_apply(lambda x: x['locations'].values).head()"
   ]
  },
  {
   "cell_type": "code",
   "execution_count": 15,
   "metadata": {
    "ExecuteTime": {
     "end_time": "2019-07-20T18:40:34.233223Z",
     "start_time": "2019-07-20T18:40:34.227505Z"
    }
   },
   "outputs": [
    {
     "data": {
      "text/plain": [
       "hash           int64\n",
       "mismatches    object\n",
       "locations     object\n",
       "dtype: object"
      ]
     },
     "execution_count": 15,
     "metadata": {},
     "output_type": "execute_result"
    }
   ],
   "source": [
    "filtered_bowtie.dtypes"
   ]
  },
  {
   "cell_type": "code",
   "execution_count": 16,
   "metadata": {
    "ExecuteTime": {
     "end_time": "2019-07-20T18:40:35.123536Z",
     "start_time": "2019-07-20T18:40:35.104742Z"
    }
   },
   "outputs": [
    {
     "data": {
      "text/plain": [
       "['1', '4']"
      ]
     },
     "execution_count": 16,
     "metadata": {},
     "output_type": "execute_result"
    }
   ],
   "source": [
    "mmpos.findall(filtered_bowtie.loc[527,\"mismatches\"])"
   ]
  },
  {
   "cell_type": "code",
   "execution_count": 21,
   "metadata": {
    "ExecuteTime": {
     "end_time": "2019-07-20T21:23:09.043109Z",
     "start_time": "2019-07-20T21:23:07.559866Z"
    },
    "scrolled": true
   },
   "outputs": [
    {
     "data": {
      "application/vnd.jupyter.widget-view+json": {
       "model_id": "458db5f948fc41dda51b562fcabf4db2",
       "version_major": 2,
       "version_minor": 0
      },
      "text/plain": [
       "HBox(children=(IntProgress(value=0, description='scoring mismatches', max=1203, style=ProgressStyle(descriptio…"
      ]
     },
     "metadata": {},
     "output_type": "display_data"
    },
    {
     "data": {
      "text/plain": [
       "hash\n",
       "-9209457168488907513    31.261999\n",
       "-9171222395245968596    55.416705\n",
       "-9160792478378761553    41.274608\n",
       "-9133264647069694812    34.989926\n",
       "-9129542392350055743    39.480243\n",
       "dtype: float64"
      ]
     },
     "execution_count": 21,
     "metadata": {},
     "output_type": "execute_result"
    }
   ],
   "source": [
    "tqdm.pandas(desc=\"scoring mismatches\")\n",
    "filtered_bowtie.groupby('hash').progress_apply(lambda x: sumofftargets(x['locations'].values, start=0, end=20)).head()"
   ]
  },
  {
   "cell_type": "markdown",
   "metadata": {},
   "source": [
    "Trying an alternative way of doing the same thing so I am also potentially use `swifter` or `dask`:"
   ]
  },
  {
   "cell_type": "code",
   "execution_count": 22,
   "metadata": {
    "ExecuteTime": {
     "end_time": "2019-07-20T21:24:16.684475Z",
     "start_time": "2019-07-20T21:24:16.561013Z"
    }
   },
   "outputs": [
    {
     "data": {
      "application/vnd.jupyter.widget-view+json": {
       "model_id": "f1a2fed647de4572abcf57975189e848",
       "version_major": 2,
       "version_minor": 0
      },
      "text/plain": [
       "HBox(children=(IntProgress(value=0, description='finding and collapsing mismatches', max=1203, style=ProgressS…"
      ]
     },
     "metadata": {},
     "output_type": "display_data"
    }
   ],
   "source": [
    "tqdm.pandas(desc=\"finding and collapsing mismatches\")\n",
    "collapsed_filtered_bowtie = filtered_bowtie.groupby('hash').progress_apply(lambda x: x['locations'].values).reset_index()"
   ]
  },
  {
   "cell_type": "code",
   "execution_count": 23,
   "metadata": {
    "ExecuteTime": {
     "end_time": "2019-07-20T21:24:18.917052Z",
     "start_time": "2019-07-20T21:24:18.839898Z"
    }
   },
   "outputs": [
    {
     "data": {
      "text/html": [
       "<div>\n",
       "<style scoped>\n",
       "    .dataframe tbody tr th:only-of-type {\n",
       "        vertical-align: middle;\n",
       "    }\n",
       "\n",
       "    .dataframe tbody tr th {\n",
       "        vertical-align: top;\n",
       "    }\n",
       "\n",
       "    .dataframe thead th {\n",
       "        text-align: right;\n",
       "    }\n",
       "</style>\n",
       "<table border=\"1\" class=\"dataframe\">\n",
       "  <thead>\n",
       "    <tr style=\"text-align: right;\">\n",
       "      <th></th>\n",
       "      <th>hash</th>\n",
       "      <th>0</th>\n",
       "    </tr>\n",
       "  </thead>\n",
       "  <tbody>\n",
       "    <tr>\n",
       "      <th>0</th>\n",
       "      <td>-9209457168488907513</td>\n",
       "      <td>[[], [2, 12], [9, 18], [2, 14], [0, 2], [8, 18...</td>\n",
       "    </tr>\n",
       "    <tr>\n",
       "      <th>1</th>\n",
       "      <td>-9171222395245968596</td>\n",
       "      <td>[[], [18], [6, 14], [12, 18], [12, 18], [0, 15...</td>\n",
       "    </tr>\n",
       "    <tr>\n",
       "      <th>2</th>\n",
       "      <td>-9160792478378761553</td>\n",
       "      <td>[[], [4, 17], [15, 17], [4, 17], [3, 17], [4, ...</td>\n",
       "    </tr>\n",
       "    <tr>\n",
       "      <th>3</th>\n",
       "      <td>-9133264647069694812</td>\n",
       "      <td>[[], [5, 17], [5, 13], [4, 11], [4, 8], [5, 9]...</td>\n",
       "    </tr>\n",
       "    <tr>\n",
       "      <th>4</th>\n",
       "      <td>-9129542392350055743</td>\n",
       "      <td>[[], [14], [2, 9], [3, 4], [12, 16], [12, 16],...</td>\n",
       "    </tr>\n",
       "  </tbody>\n",
       "</table>\n",
       "</div>"
      ],
      "text/plain": [
       "                  hash                                                  0\n",
       "0 -9209457168488907513  [[], [2, 12], [9, 18], [2, 14], [0, 2], [8, 18...\n",
       "1 -9171222395245968596  [[], [18], [6, 14], [12, 18], [12, 18], [0, 15...\n",
       "2 -9160792478378761553  [[], [4, 17], [15, 17], [4, 17], [3, 17], [4, ...\n",
       "3 -9133264647069694812  [[], [5, 17], [5, 13], [4, 11], [4, 8], [5, 9]...\n",
       "4 -9129542392350055743  [[], [14], [2, 9], [3, 4], [12, 16], [12, 16],..."
      ]
     },
     "execution_count": 23,
     "metadata": {},
     "output_type": "execute_result"
    }
   ],
   "source": [
    "collapsed_filtered_bowtie.head()"
   ]
  },
  {
   "cell_type": "code",
   "execution_count": 24,
   "metadata": {
    "ExecuteTime": {
     "end_time": "2019-07-20T21:24:22.408602Z",
     "start_time": "2019-07-20T21:24:22.402108Z"
    }
   },
   "outputs": [],
   "source": [
    "collapsed_filtered_bowtie = collapsed_filtered_bowtie.rename(index=str, columns={0:'locations'})"
   ]
  },
  {
   "cell_type": "code",
   "execution_count": 25,
   "metadata": {
    "ExecuteTime": {
     "end_time": "2019-07-20T21:24:24.704815Z",
     "start_time": "2019-07-20T21:24:24.699108Z"
    }
   },
   "outputs": [
    {
     "data": {
      "text/plain": [
       "['9', '14']"
      ]
     },
     "execution_count": 25,
     "metadata": {},
     "output_type": "execute_result"
    }
   ],
   "source": [
    "collapsed_filtered_bowtie.loc[\"0\",\"locations\"][10]"
   ]
  },
  {
   "cell_type": "code",
   "execution_count": 27,
   "metadata": {
    "ExecuteTime": {
     "end_time": "2019-07-20T21:24:53.562143Z",
     "start_time": "2019-07-20T21:24:52.166579Z"
    },
    "scrolled": false
   },
   "outputs": [
    {
     "data": {
      "application/vnd.jupyter.widget-view+json": {
       "model_id": "",
       "version_major": 2,
       "version_minor": 0
      },
      "text/plain": [
       "HBox(children=(IntProgress(value=0, description='scoring off-targets', max=1203, style=ProgressStyle(descripti…"
      ]
     },
     "metadata": {},
     "output_type": "display_data"
    },
    {
     "data": {
      "text/plain": [
       "0    31.261999\n",
       "1    55.416705\n",
       "2    41.274608\n",
       "3    34.989926\n",
       "4    39.480243\n",
       "dtype: float64"
      ]
     },
     "execution_count": 27,
     "metadata": {},
     "output_type": "execute_result"
    }
   ],
   "source": [
    "tqdm.pandas(desc=\"scoring off-targets\")\n",
    "collapsed_filtered_bowtie.progress_apply(lambda x: sumofftargets(x['locations'], start=0, end=20), axis=1).head()"
   ]
  },
  {
   "cell_type": "markdown",
   "metadata": {},
   "source": [
    "This method seems radically faster.  Wonder how long it would take to apply to the entirety of bowtie_results?"
   ]
  },
  {
   "cell_type": "code",
   "execution_count": 29,
   "metadata": {
    "ExecuteTime": {
     "end_time": "2019-07-20T21:30:28.917371Z",
     "start_time": "2019-07-20T21:26:10.597761Z"
    }
   },
   "outputs": [
    {
     "data": {
      "application/vnd.jupyter.widget-view+json": {
       "model_id": "3b5a113ca2a142c0823fda930dc965ee",
       "version_major": 2,
       "version_minor": 0
      },
      "text/plain": [
       "HBox(children=(IntProgress(value=0, description='converting mismatches', max=46187665, style=ProgressStyle(des…"
      ]
     },
     "metadata": {},
     "output_type": "display_data"
    },
    {
     "data": {
      "application/vnd.jupyter.widget-view+json": {
       "model_id": "b61163ca675041239bc4091b73edc230",
       "version_major": 2,
       "version_minor": 0
      },
      "text/plain": [
       "HBox(children=(IntProgress(value=0, description='collapsing mismatches', max=4979, style=ProgressStyle(descrip…"
      ]
     },
     "metadata": {},
     "output_type": "display_data"
    },
    {
     "data": {
      "application/vnd.jupyter.widget-view+json": {
       "model_id": "65187baa1c094b6c93f89d199b78f8d0",
       "version_major": 2,
       "version_minor": 0
      },
      "text/plain": [
       "HBox(children=(IntProgress(value=0, description='scoring mismatches', max=4979, style=ProgressStyle(descriptio…"
      ]
     },
     "metadata": {},
     "output_type": "display_data"
    },
    {
     "data": {
      "text/plain": [
       "0    11.633329\n",
       "1     5.990047\n",
       "2     6.011358\n",
       "3    31.261999\n",
       "4     6.357073\n",
       "dtype: float64"
      ]
     },
     "execution_count": 29,
     "metadata": {},
     "output_type": "execute_result"
    }
   ],
   "source": [
    "tqdm.pandas(desc=\"converting mismatches\")\n",
    "bowtie_results['locations'] = bowtie_results['mismatches'].progress_apply(lambda x: mmpos.findall(x))\n",
    "tqdm.pandas(desc=\"collapsing mismatches\")\n",
    "collapsed_bowtie = bowtie_results\\\n",
    "    .groupby('hash')\\\n",
    "    .progress_apply(lambda x: x['locations'].values)\\\n",
    "    .reset_index()\\\n",
    "    .rename(index=str,\n",
    "            columns={0:'locations'})\n",
    "tqdm.pandas(desc=\"scoring mismatches\")\n",
    "collapsed_bowtie.progress_apply(lambda x: sumofftargets(x['locations'], \n",
    "                                               start=0,\n",
    "                                               end=20),\n",
    "                       axis=1)\\\n",
    "    .head()"
   ]
  },
  {
   "cell_type": "markdown",
   "metadata": {},
   "source": [
    "Damn... down from just over 1 hour to ~5 minutes.  Probably don't need to optimize this any further, but I would like to see if parallelizing with dask helps when the list is much larger.  Using the `swifter` package is probably the easiest route before I start trying anything in `dask`:"
   ]
  },
  {
   "cell_type": "code",
   "execution_count": 30,
   "metadata": {
    "ExecuteTime": {
     "end_time": "2019-07-21T01:58:37.020387Z",
     "start_time": "2019-07-21T01:58:36.100892Z"
    },
    "scrolled": false
   },
   "outputs": [],
   "source": [
    "import swifter"
   ]
  },
  {
   "cell_type": "code",
   "execution_count": 31,
   "metadata": {
    "ExecuteTime": {
     "end_time": "2019-07-21T02:05:13.901444Z",
     "start_time": "2019-07-21T01:58:43.432052Z"
    },
    "scrolled": true
   },
   "outputs": [
    {
     "data": {
      "application/vnd.jupyter.widget-view+json": {
       "model_id": "82a51cfc542c4806be44487fa24eaa56",
       "version_major": 2,
       "version_minor": 0
      },
      "text/plain": [
       "HBox(children=(IntProgress(value=0, description='Pandas Apply', max=46187665, style=ProgressStyle(description_…"
      ]
     },
     "metadata": {},
     "output_type": "display_data"
    },
    {
     "data": {
      "application/vnd.jupyter.widget-view+json": {
       "model_id": "70428eb603d54478bfd80f6f0abe4396",
       "version_major": 2,
       "version_minor": 0
      },
      "text/plain": [
       "HBox(children=(IntProgress(value=0, description='Pandas Apply', max=4979, style=ProgressStyle(description_widt…"
      ]
     },
     "metadata": {},
     "output_type": "display_data"
    },
    {
     "data": {
      "text/plain": [
       "0    11.633329\n",
       "1     5.990047\n",
       "2     6.011358\n",
       "3    31.261999\n",
       "4     6.357073\n",
       "dtype: float64"
      ]
     },
     "execution_count": 31,
     "metadata": {},
     "output_type": "execute_result"
    }
   ],
   "source": [
    "bowtie_results['locations'] = bowtie_results['mismatches'].swifter.apply(lambda x: mmpos.findall(x))\n",
    "collapsed_bowtie = bowtie_results\\\n",
    "    .groupby('hash')\\\n",
    "    .apply(lambda x: x['locations'].values)\\\n",
    "    .reset_index()\\\n",
    "    .rename(index=str,\n",
    "            columns={0:'locations'})\n",
    "collapsed_bowtie\\\n",
    "    .swifter\\\n",
    "    .apply(lambda x: sumofftargets(x['locations'], \n",
    "                                   start=0,\n",
    "                                   end=20),\n",
    "           axis=1)\\\n",
    "    .head()"
   ]
  },
  {
   "cell_type": "markdown",
   "metadata": {},
   "source": [
    "Hmmm... swifter actually increases the run time.  From what I can see, I probably need to vectorize some of the scoring functions, but I will leave that for some post-finishing optimization"
   ]
  },
  {
   "cell_type": "code",
   "execution_count": 42,
   "metadata": {
    "ExecuteTime": {
     "end_time": "2019-07-21T02:29:53.104098Z",
     "start_time": "2019-07-21T02:29:53.084233Z"
    },
    "scrolled": true
   },
   "outputs": [
    {
     "data": {
      "text/html": [
       "<div>\n",
       "<style scoped>\n",
       "    .dataframe tbody tr th:only-of-type {\n",
       "        vertical-align: middle;\n",
       "    }\n",
       "\n",
       "    .dataframe tbody tr th {\n",
       "        vertical-align: top;\n",
       "    }\n",
       "\n",
       "    .dataframe thead th {\n",
       "        text-align: right;\n",
       "    }\n",
       "</style>\n",
       "<table border=\"1\" class=\"dataframe\">\n",
       "  <thead>\n",
       "    <tr style=\"text-align: right;\">\n",
       "      <th></th>\n",
       "      <th>hash</th>\n",
       "      <th>spacer</th>\n",
       "    </tr>\n",
       "  </thead>\n",
       "  <tbody>\n",
       "    <tr>\n",
       "      <th>0</th>\n",
       "      <td>-2956615638747643762</td>\n",
       "      <td>TGAGCCGGCACCTCCCCTT</td>\n",
       "    </tr>\n",
       "    <tr>\n",
       "      <th>1</th>\n",
       "      <td>-1245412300131519133</td>\n",
       "      <td>CTCCCCTTTCGGACAGCTC</td>\n",
       "    </tr>\n",
       "    <tr>\n",
       "      <th>2</th>\n",
       "      <td>-7107283595214827167</td>\n",
       "      <td>TCCCCTTTCGGACAGCTCA</td>\n",
       "    </tr>\n",
       "    <tr>\n",
       "      <th>3</th>\n",
       "      <td>-1818764040153492721</td>\n",
       "      <td>GCTCAAGGGACTCAGCCAA</td>\n",
       "    </tr>\n",
       "    <tr>\n",
       "      <th>4</th>\n",
       "      <td>-5470846543948195797</td>\n",
       "      <td>ACCGAGAATCGAAACTAAG</td>\n",
       "    </tr>\n",
       "  </tbody>\n",
       "</table>\n",
       "</div>"
      ],
      "text/plain": [
       "                  hash               spacer\n",
       "0 -2956615638747643762  TGAGCCGGCACCTCCCCTT\n",
       "1 -1245412300131519133  CTCCCCTTTCGGACAGCTC\n",
       "2 -7107283595214827167  TCCCCTTTCGGACAGCTCA\n",
       "3 -1818764040153492721  GCTCAAGGGACTCAGCCAA\n",
       "4 -5470846543948195797  ACCGAGAATCGAAACTAAG"
      ]
     },
     "execution_count": 42,
     "metadata": {},
     "output_type": "execute_result"
    }
   ],
   "source": [
    "spacers_df = spacers_df.drop(columns=['off_target_score',\"number_matching\"])\n",
    "spacers_df.head()"
   ]
  },
  {
   "cell_type": "code",
   "execution_count": 39,
   "metadata": {
    "ExecuteTime": {
     "end_time": "2019-07-21T02:24:26.940954Z",
     "start_time": "2019-07-21T02:24:25.431633Z"
    },
    "scrolled": false
   },
   "outputs": [
    {
     "data": {
      "application/vnd.jupyter.widget-view+json": {
       "model_id": "8010fd3a60944e0093246dbab4482c20",
       "version_major": 2,
       "version_minor": 0
      },
      "text/plain": [
       "HBox(children=(IntProgress(value=0, description='scoring off-targets', max=1203, style=ProgressStyle(descripti…"
      ]
     },
     "metadata": {},
     "output_type": "display_data"
    }
   ],
   "source": [
    "tqdm.pandas(desc=\"scoring off-targets\")\n",
    "collapsed_filtered_bowtie[\"off_target_score\"] = collapsed_filtered_bowtie\\\n",
    "    .progress_apply(lambda x: sumofftargets(x['locations'], start=0, end=20), axis=1)"
   ]
  },
  {
   "cell_type": "code",
   "execution_count": 40,
   "metadata": {
    "ExecuteTime": {
     "end_time": "2019-07-21T02:24:35.254190Z",
     "start_time": "2019-07-21T02:24:35.155970Z"
    }
   },
   "outputs": [
    {
     "data": {
      "text/html": [
       "<div>\n",
       "<style scoped>\n",
       "    .dataframe tbody tr th:only-of-type {\n",
       "        vertical-align: middle;\n",
       "    }\n",
       "\n",
       "    .dataframe tbody tr th {\n",
       "        vertical-align: top;\n",
       "    }\n",
       "\n",
       "    .dataframe thead th {\n",
       "        text-align: right;\n",
       "    }\n",
       "</style>\n",
       "<table border=\"1\" class=\"dataframe\">\n",
       "  <thead>\n",
       "    <tr style=\"text-align: right;\">\n",
       "      <th></th>\n",
       "      <th>hash</th>\n",
       "      <th>locations</th>\n",
       "      <th>off_target_score</th>\n",
       "    </tr>\n",
       "  </thead>\n",
       "  <tbody>\n",
       "    <tr>\n",
       "      <th>0</th>\n",
       "      <td>-9209457168488907513</td>\n",
       "      <td>[[], [2, 12], [9, 18], [2, 14], [0, 2], [8, 18...</td>\n",
       "      <td>31.261999</td>\n",
       "    </tr>\n",
       "    <tr>\n",
       "      <th>1</th>\n",
       "      <td>-9171222395245968596</td>\n",
       "      <td>[[], [18], [6, 14], [12, 18], [12, 18], [0, 15...</td>\n",
       "      <td>55.416705</td>\n",
       "    </tr>\n",
       "    <tr>\n",
       "      <th>2</th>\n",
       "      <td>-9160792478378761553</td>\n",
       "      <td>[[], [4, 17], [15, 17], [4, 17], [3, 17], [4, ...</td>\n",
       "      <td>41.274608</td>\n",
       "    </tr>\n",
       "    <tr>\n",
       "      <th>3</th>\n",
       "      <td>-9133264647069694812</td>\n",
       "      <td>[[], [5, 17], [5, 13], [4, 11], [4, 8], [5, 9]...</td>\n",
       "      <td>34.989926</td>\n",
       "    </tr>\n",
       "    <tr>\n",
       "      <th>4</th>\n",
       "      <td>-9129542392350055743</td>\n",
       "      <td>[[], [14], [2, 9], [3, 4], [12, 16], [12, 16],...</td>\n",
       "      <td>39.480243</td>\n",
       "    </tr>\n",
       "  </tbody>\n",
       "</table>\n",
       "</div>"
      ],
      "text/plain": [
       "                  hash                                          locations  \\\n",
       "0 -9209457168488907513  [[], [2, 12], [9, 18], [2, 14], [0, 2], [8, 18...   \n",
       "1 -9171222395245968596  [[], [18], [6, 14], [12, 18], [12, 18], [0, 15...   \n",
       "2 -9160792478378761553  [[], [4, 17], [15, 17], [4, 17], [3, 17], [4, ...   \n",
       "3 -9133264647069694812  [[], [5, 17], [5, 13], [4, 11], [4, 8], [5, 9]...   \n",
       "4 -9129542392350055743  [[], [14], [2, 9], [3, 4], [12, 16], [12, 16],...   \n",
       "\n",
       "   off_target_score  \n",
       "0         31.261999  \n",
       "1         55.416705  \n",
       "2         41.274608  \n",
       "3         34.989926  \n",
       "4         39.480243  "
      ]
     },
     "execution_count": 40,
     "metadata": {},
     "output_type": "execute_result"
    }
   ],
   "source": [
    "collapsed_filtered_bowtie.head()"
   ]
  },
  {
   "cell_type": "code",
   "execution_count": 45,
   "metadata": {
    "ExecuteTime": {
     "end_time": "2019-07-21T02:31:24.417955Z",
     "start_time": "2019-07-21T02:31:24.313909Z"
    }
   },
   "outputs": [
    {
     "data": {
      "text/html": [
       "<div>\n",
       "<style scoped>\n",
       "    .dataframe tbody tr th:only-of-type {\n",
       "        vertical-align: middle;\n",
       "    }\n",
       "\n",
       "    .dataframe tbody tr th {\n",
       "        vertical-align: top;\n",
       "    }\n",
       "\n",
       "    .dataframe thead th {\n",
       "        text-align: right;\n",
       "    }\n",
       "</style>\n",
       "<table border=\"1\" class=\"dataframe\">\n",
       "  <thead>\n",
       "    <tr style=\"text-align: right;\">\n",
       "      <th></th>\n",
       "      <th>hash</th>\n",
       "      <th>spacer</th>\n",
       "      <th>locations</th>\n",
       "      <th>off_target_score</th>\n",
       "    </tr>\n",
       "  </thead>\n",
       "  <tbody>\n",
       "    <tr>\n",
       "      <th>0</th>\n",
       "      <td>-1245412300131519133</td>\n",
       "      <td>CTCCCCTTTCGGACAGCTC</td>\n",
       "      <td>[[], [9], [9], [1, 4], [4, 10], [9, 18], [2, 7...</td>\n",
       "      <td>15.839646</td>\n",
       "    </tr>\n",
       "    <tr>\n",
       "      <th>1</th>\n",
       "      <td>-7107283595214827167</td>\n",
       "      <td>TCCCCTTTCGGACAGCTCA</td>\n",
       "      <td>[[], [8], [6, 8], [11, 18], [8, 10], [0, 3], [...</td>\n",
       "      <td>21.880718</td>\n",
       "    </tr>\n",
       "    <tr>\n",
       "      <th>2</th>\n",
       "      <td>-5470846543948195797</td>\n",
       "      <td>ACCGAGAATCGAAACTAAG</td>\n",
       "      <td>[[], [2, 16], [10, 15], [2, 18], [9, 14], [3, ...</td>\n",
       "      <td>36.057828</td>\n",
       "    </tr>\n",
       "    <tr>\n",
       "      <th>3</th>\n",
       "      <td>3044478046141746202</td>\n",
       "      <td>CCGAGAATCGAAACTAAGC</td>\n",
       "      <td>[[], [6, 12], [1, 4, 8], [0, 8, 10], [1, 17, 1...</td>\n",
       "      <td>55.348827</td>\n",
       "    </tr>\n",
       "    <tr>\n",
       "      <th>4</th>\n",
       "      <td>-693125485272288290</td>\n",
       "      <td>CGAGAATCGAAACTAAGCT</td>\n",
       "      <td>[[], [1, 7], [1, 7], [0, 1, 7], [0, 6, 14], [8...</td>\n",
       "      <td>40.496279</td>\n",
       "    </tr>\n",
       "  </tbody>\n",
       "</table>\n",
       "</div>"
      ],
      "text/plain": [
       "                  hash               spacer  \\\n",
       "0 -1245412300131519133  CTCCCCTTTCGGACAGCTC   \n",
       "1 -7107283595214827167  TCCCCTTTCGGACAGCTCA   \n",
       "2 -5470846543948195797  ACCGAGAATCGAAACTAAG   \n",
       "3  3044478046141746202  CCGAGAATCGAAACTAAGC   \n",
       "4  -693125485272288290  CGAGAATCGAAACTAAGCT   \n",
       "\n",
       "                                           locations  off_target_score  \n",
       "0  [[], [9], [9], [1, 4], [4, 10], [9, 18], [2, 7...         15.839646  \n",
       "1  [[], [8], [6, 8], [11, 18], [8, 10], [0, 3], [...         21.880718  \n",
       "2  [[], [2, 16], [10, 15], [2, 18], [9, 14], [3, ...         36.057828  \n",
       "3  [[], [6, 12], [1, 4, 8], [0, 8, 10], [1, 17, 1...         55.348827  \n",
       "4  [[], [1, 7], [1, 7], [0, 1, 7], [0, 6, 14], [8...         40.496279  "
      ]
     },
     "execution_count": 45,
     "metadata": {},
     "output_type": "execute_result"
    }
   ],
   "source": [
    "spacers_df = spacers_df.merge(collapsed_filtered_bowtie, on=\"hash\")\n",
    "spacers_df.head()"
   ]
  },
  {
   "cell_type": "code",
   "execution_count": 48,
   "metadata": {
    "ExecuteTime": {
     "end_time": "2019-07-21T02:33:34.122503Z",
     "start_time": "2019-07-21T02:33:34.031655Z"
    }
   },
   "outputs": [
    {
     "data": {
      "application/vnd.jupyter.widget-view+json": {
       "model_id": "f783405c9f684979ad55a0faeff0d0bd",
       "version_major": 2,
       "version_minor": 0
      },
      "text/plain": [
       "HBox(children=(IntProgress(value=0, max=1203), HTML(value='')))"
      ]
     },
     "metadata": {},
     "output_type": "display_data"
    },
    {
     "data": {
      "text/html": [
       "<div>\n",
       "<style scoped>\n",
       "    .dataframe tbody tr th:only-of-type {\n",
       "        vertical-align: middle;\n",
       "    }\n",
       "\n",
       "    .dataframe tbody tr th {\n",
       "        vertical-align: top;\n",
       "    }\n",
       "\n",
       "    .dataframe thead th {\n",
       "        text-align: right;\n",
       "    }\n",
       "</style>\n",
       "<table border=\"1\" class=\"dataframe\">\n",
       "  <thead>\n",
       "    <tr style=\"text-align: right;\">\n",
       "      <th></th>\n",
       "      <th>hash</th>\n",
       "      <th>spacer</th>\n",
       "      <th>off_target_score</th>\n",
       "      <th>mismatches</th>\n",
       "    </tr>\n",
       "  </thead>\n",
       "  <tbody>\n",
       "    <tr>\n",
       "      <th>0</th>\n",
       "      <td>-1245412300131519133</td>\n",
       "      <td>CTCCCCTTTCGGACAGCTC</td>\n",
       "      <td>15.839646</td>\n",
       "      <td>395</td>\n",
       "    </tr>\n",
       "    <tr>\n",
       "      <th>1</th>\n",
       "      <td>-7107283595214827167</td>\n",
       "      <td>TCCCCTTTCGGACAGCTCA</td>\n",
       "      <td>21.880718</td>\n",
       "      <td>329</td>\n",
       "    </tr>\n",
       "    <tr>\n",
       "      <th>2</th>\n",
       "      <td>-5470846543948195797</td>\n",
       "      <td>ACCGAGAATCGAAACTAAG</td>\n",
       "      <td>36.057828</td>\n",
       "      <td>170</td>\n",
       "    </tr>\n",
       "    <tr>\n",
       "      <th>3</th>\n",
       "      <td>3044478046141746202</td>\n",
       "      <td>CCGAGAATCGAAACTAAGC</td>\n",
       "      <td>55.348827</td>\n",
       "      <td>102</td>\n",
       "    </tr>\n",
       "    <tr>\n",
       "      <th>4</th>\n",
       "      <td>-693125485272288290</td>\n",
       "      <td>CGAGAATCGAAACTAAGCT</td>\n",
       "      <td>40.496279</td>\n",
       "      <td>141</td>\n",
       "    </tr>\n",
       "  </tbody>\n",
       "</table>\n",
       "</div>"
      ],
      "text/plain": [
       "                  hash               spacer  off_target_score  mismatches\n",
       "0 -1245412300131519133  CTCCCCTTTCGGACAGCTC         15.839646         395\n",
       "1 -7107283595214827167  TCCCCTTTCGGACAGCTCA         21.880718         329\n",
       "2 -5470846543948195797  ACCGAGAATCGAAACTAAG         36.057828         170\n",
       "3  3044478046141746202  CCGAGAATCGAAACTAAGC         55.348827         102\n",
       "4  -693125485272288290  CGAGAATCGAAACTAAGCT         40.496279         141"
      ]
     },
     "execution_count": 48,
     "metadata": {},
     "output_type": "execute_result"
    }
   ],
   "source": [
    "tqdm.pandas(\"counting off-targets\")\n",
    "spacers_df['off_targets'] = spacers_df.progress_apply(lambda x: len(x['locations'])-1, axis=1)\n",
    "spacers_df = spacers_df.drop(columns=['locations'])\n",
    "spacers_df.head()"
   ]
  },
  {
   "cell_type": "code",
   "execution_count": 51,
   "metadata": {
    "ExecuteTime": {
     "end_time": "2019-07-21T03:46:24.545331Z",
     "start_time": "2019-07-21T03:46:24.533869Z"
    }
   },
   "outputs": [],
   "source": [
    "spacers_df.to_pickle(\"spacers_df.pkl\")"
   ]
  }
 ],
 "metadata": {
  "kernelspec": {
   "display_name": "Python 3",
   "language": "python",
   "name": "python3"
  },
  "language_info": {
   "codemirror_mode": {
    "name": "ipython",
    "version": 3
   },
   "file_extension": ".py",
   "mimetype": "text/x-python",
   "name": "python",
   "nbconvert_exporter": "python",
   "pygments_lexer": "ipython3",
   "version": "3.6.8"
  },
  "varInspector": {
   "cols": {
    "lenName": 16,
    "lenType": 16,
    "lenVar": 40
   },
   "kernels_config": {
    "python": {
     "delete_cmd_postfix": "",
     "delete_cmd_prefix": "del ",
     "library": "var_list.py",
     "varRefreshCmd": "print(var_dic_list())"
    },
    "r": {
     "delete_cmd_postfix": ") ",
     "delete_cmd_prefix": "rm(",
     "library": "var_list.r",
     "varRefreshCmd": "cat(var_dic_list()) "
    }
   },
   "types_to_exclude": [
    "module",
    "function",
    "builtin_function_or_method",
    "instance",
    "_Feature"
   ],
   "window_display": false
  }
 },
 "nbformat": 4,
 "nbformat_minor": 2
}
