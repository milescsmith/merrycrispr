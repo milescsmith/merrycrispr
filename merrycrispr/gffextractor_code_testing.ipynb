{
 "cells": [
  {
   "cell_type": "code",
   "execution_count": 1,
   "metadata": {
    "collapsed": true
   },
   "outputs": [],
   "source": [
    "import sys\n",
    "\n",
    "import click\n",
    "import progressbar\n",
    "import pyfaidx\n",
    "from gtfparse import read_gtf"
   ]
  },
  {
   "cell_type": "code",
   "execution_count": 2,
   "metadata": {},
   "outputs": [],
   "source": [
    "gtffile = \"/Users/milessmith/workspace/ensembl/Homo_sapiens.GRCh38.94.gtf.gz\"\n",
    "fastafile = \"/Users/milessmith/workspace/ensembl/Homo_sapiens.GRCh38.dna.primary_assembly.fa\"\n",
    "feature_type = \"gene\"\n",
    "outfile = \"/Users/milessmith/workspace/merrycrispr/merrycrispr/data/test.fasta\"\n",
    "gene_name = None\n",
    "boundary = None"
   ]
  },
  {
   "cell_type": "code",
   "execution_count": 3,
   "metadata": {},
   "outputs": [],
   "source": [
    "records = read_gtf(gtffile)\n",
    "if gene_name:\n",
    "    records = records[records['gene_name'].isin(gene_name)]\n",
    "if feature_type:\n",
    "    records = records[records['feature'] == feature_type]\n",
    "    records = records[['seqname', 'feature', 'start', 'end', 'strand', 'frame', 'gene_name', f'{feature_type}_id']].drop_duplicates()\n",
    "else:\n",
    "    records = records[['seqname', 'feature', 'start', 'end', 'strand', 'frame', 'gene_name']].drop_duplicates()"
   ]
  },
  {
   "cell_type": "code",
   "execution_count": null,
   "metadata": {},
   "outputs": [],
   "source": [
    "print(f\"{len(records)} total records found.\")\n",
    "\n",
    "print(f\"Loading the sequences in {fastafile}.  \"\n",
    "      f\"Note: if this is the first time opening this file, \"\n",
    "      \"it may take a few moments as an index is built.\")\n",
    "sequences = pyfaidx.Fasta(fastafile)\n",
    "print(f\"Finished loading {fastafile}\")"
   ]
  },
  {
   "cell_type": "code",
   "execution_count": null,
   "metadata": {},
   "outputs": [],
   "source": [
    "seq_count = 1\n",
    "seq_widgets = ['Matching features to sequences: ', progressbar.Counter(),\n",
    "               f'/{records.index}', progressbar.Percentage(),\n",
    "               ' ', progressbar.Bar(), progressbar.Timer(), ' ', progressbar.ETA()]\n",
    "seq_progress = progressbar.ProgressBar(widgets=seq_widgets,\n",
    "                                       maxval=len(records.index)).start()"
   ]
  },
  {
   "cell_type": "code",
   "execution_count": 5,
   "metadata": {},
   "outputs": [
    {
     "ename": "IndentationError",
     "evalue": "unexpected indent (<ipython-input-5-0aff0f983b9a>, line 2)",
     "traceback": [
      "\u001b[0;36m  File \u001b[0;32m\"<ipython-input-5-0aff0f983b9a>\"\u001b[0;36m, line \u001b[0;32m2\u001b[0m\n\u001b[0;31m    for rec in records.itertuples():\u001b[0m\n\u001b[0m    ^\u001b[0m\n\u001b[0;31mIndentationError\u001b[0m\u001b[0;31m:\u001b[0m unexpected indent\n"
     ],
     "output_type": "error"
    }
   ],
   "source": [
    "final_list = []\n",
    "    for rec in records.itertuples():\n",
    "        seq_progress.update(seq_count)\n",
    "        seq_count += 1\n",
    "\n",
    "        if rec.start != rec.end: # you'd be surprised\n",
    "            if rec.strand == \"+\":\n",
    "                # for a normal, say, exonic sequence\n",
    "                if boundary == 0:\n",
    "                    try:\n",
    "                        seq = pyfaidx.Sequence(name=f\"{rec.gene_name}_{getattr(rec, f'{feature_type}_id')}_{rec.strand}_{rec.start}_{rec.end}\",\n",
    "                                               seq=sequences[rec.seqname][rec.start:rec.end].seq)\n",
    "                        final_list.append(seq)\n",
    "                    except ValueError:\n",
    "                        print(f\"problem with {rec.gene_name} {rec.start} {rec.end} {rec.seqname} {rec.strand}\")\n",
    "                # for excising sequences\n",
    "                else:\n",
    "                    try:\n",
    "                        upstream = pyfaidx.Sequence(name=f\"{rec.gene_name} {getattr(rec, f'{feature_type}_id')} upstream\",\n",
    "                                                    seq=sequences[rec.seqname][(rec.start - boundary):rec.start].seq)\n",
    "                        final_list.append(upstream)\n",
    "                        downstream = pyfaidx.Sequence(name=f\"{rec.gene_name} {getattr(rec,f'{feature_type}_id')} downstream\",\n",
    "                                                      seq=sequences[rec.seqname][(rec.end):rec.end + boundary].seq)\n",
    "                        final_list.append(downstream)\n",
    "                    except ValueError:\n",
    "                        print(f\"problem with {rec.gene_name} {rec.start} {rec.end} {rec.seqname} {rec.strand}\")\n",
    "            if rec.strand == \"-\":\n",
    "                # for a normal, say, exonic sequence\n",
    "                if boundary == 0:\n",
    "                    try:\n",
    "                        seq = pyfaidx.Sequence(name=f\"{rec.gene_name}_{getattr(rec, f'{feature_type}_id')}_{rec.strand}_{rec.start}_{rec.end}\",\n",
    "                                               seq=sequences[rec.seqname][rec.start:rec.end].reverse.complement.seq)\n",
    "                        final_list.append(seq)\n",
    "                    except ValueError:\n",
    "                        print(f\"problem with {rec.gene_name} {rec.start} {rec.end} {rec.seqname} {rec.strand}\")\n",
    "                # for excising sequences\n",
    "                else:\n",
    "                    try:\n",
    "                        downstream = pyfaidx.Sequence(name=f\"{rec.gene_name} {getattr(rec, f'{feature_type}_id')} downstream\",\n",
    "                                                      seq=sequences[rec.seqname][(rec.start - boundary):rec.start].reverse.complement.seq)\n",
    "                        final_list.append(downstream)\n",
    "                        upstream = pyfaidx.Sequence(name=f\"{rec.gene_name} {getattr(rec, f'{feature_type}_id')} upstream\",\n",
    "                                                    seq=sequences[rec.seqname][(rec.end):rec.end + boundary].reverse.complement.seq)\n",
    "                        final_list.append(upstream)\n",
    "                    except ValueError:\n",
    "                        print(f\"problem with {rec.gene_name} {rec.start} {rec.end} {rec.seqname} {rec.strand}\")\n",
    "\n",
    "    seq_progress.finish()"
   ]
  },
  {
   "cell_type": "code",
   "execution_count": null,
   "metadata": {},
   "outputs": [],
   "source": [
    "with open(outfile, 'w') as o_file:\n",
    "    for entry in final_list:\n",
    "        o_file.writelines(f\"> {entry.fancy_name}\\n{entry.seq}\\n\")"
   ]
  }
 ],
 "metadata": {
  "kernelspec": {
   "display_name": "Python 2",
   "language": "python",
   "name": "python2"
  },
  "language_info": {
   "codemirror_mode": {
    "name": "ipython",
    "version": 2
   },
   "file_extension": ".py",
   "mimetype": "text/x-python",
   "name": "python",
   "nbconvert_exporter": "python",
   "pygments_lexer": "ipython2",
   "version": "2.7.6"
  }
 },
 "nbformat": 4,
 "nbformat_minor": 0
}
