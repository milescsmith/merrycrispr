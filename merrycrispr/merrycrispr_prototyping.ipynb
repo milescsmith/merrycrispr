{
 "cells": [
  {
   "cell_type": "code",
   "execution_count": 2,
   "metadata": {},
   "outputs": [],
   "source": [
    "import gc\n",
    "import pyfaidx\n",
    "import pandas as pd\n",
    "import numpy as np\n",
    "from Bio import SeqIO\n",
    "from multiprocessing import cpu_count, Manager, Pool\n",
    "\n",
    "import progressbar\n",
    "from Bio.Alphabet import IUPAC, single_letter_alphabet\n",
    "from Bio.Restriction import RestrictionBatch\n",
    "from Bio.Seq import Seq\n",
    "from Bio.SeqRecord import SeqRecord\n",
    "from Bio.SeqUtils import GC\n",
    "from csv import writer\n",
    "from functools import partial\n",
    "from operator import attrgetter\n",
    "from regex import compile\n",
    "from subprocess import check_output\n",
    "\n",
    "from azimuth import model_comparison"
   ]
  },
  {
   "cell_type": "code",
   "execution_count": 3,
   "metadata": {},
   "outputs": [],
   "source": [
    "input_sequences='/Users/milessmith/workspace/merrycrispr/merrycrispr/data/PML.fa'\n",
    "outfile='/Users/milessmith/workspace/merrycrispr/merrycrispr/data/PML_spacers.csv'\n",
    "restriction_sites=[\"EcoRI\",\"BamHI\"]\n",
    "largeindex=False\n",
    "cutoff=0\n",
    "offtargetcutoff=0\n",
    "nuclease='SpCas9'\n",
    "return_limit=9\n",
    "reject=False\n",
    "paired=False\n",
    "rules=2\n",
    "numcores=0\n",
    "number_upstream_spacers=0\n",
    "number_downstream_spacers=0\n",
    "boundary=0"
   ]
  },
  {
   "cell_type": "code",
   "execution_count": 5,
   "metadata": {},
   "outputs": [],
   "source": [
    "itemlist = pyfaidx.Fasta(input_sequences)\n",
    "nucleases = pd.read_csv('data/nuclease_list.csv')\n",
    "nuclease_info = nucleases[nucleases['nuclease'] == nuclease]"
   ]
  },
  {
   "cell_type": "code",
   "execution_count": 11,
   "metadata": {},
   "outputs": [
    {
     "data": {
      "text/html": [
       "<div>\n",
       "<style scoped>\n",
       "    .dataframe tbody tr th:only-of-type {\n",
       "        vertical-align: middle;\n",
       "    }\n",
       "\n",
       "    .dataframe tbody tr th {\n",
       "        vertical-align: top;\n",
       "    }\n",
       "\n",
       "    .dataframe thead th {\n",
       "        text-align: right;\n",
       "    }\n",
       "</style>\n",
       "<table border=\"1\" class=\"dataframe\">\n",
       "  <thead>\n",
       "    <tr style=\"text-align: right;\">\n",
       "      <th></th>\n",
       "      <th>nuclease</th>\n",
       "      <th>pam</th>\n",
       "      <th>spacer_regex</th>\n",
       "      <th>start</th>\n",
       "      <th>end</th>\n",
       "    </tr>\n",
       "  </thead>\n",
       "  <tbody>\n",
       "    <tr>\n",
       "      <th>0</th>\n",
       "      <td>SpCas9</td>\n",
       "      <td>NGG</td>\n",
       "      <td>(?i)[ACGT]{25}[G]{2}[ACGT]{3}</td>\n",
       "      <td>4.0</td>\n",
       "      <td>24.0</td>\n",
       "    </tr>\n",
       "  </tbody>\n",
       "</table>\n",
       "</div>"
      ],
      "text/plain": [
       "  nuclease  pam                   spacer_regex  start   end\n",
       "0   SpCas9  NGG  (?i)[ACGT]{25}[G]{2}[ACGT]{3}    4.0  24.0"
      ]
     },
     "execution_count": 11,
     "metadata": {},
     "output_type": "execute_result"
    }
   ],
   "source": [
    "nuclease_info"
   ]
  },
  {
   "cell_type": "code",
   "execution_count": 6,
   "metadata": {},
   "outputs": [],
   "source": [
    "spacer_regex = compile(nuclease_info['spacer_regex'].item())\n",
    "spacer_start = int(nuclease_info['start'].item())\n",
    "spacer_end = int(nuclease_info['end'].item())"
   ]
  },
  {
   "cell_type": "code",
   "execution_count": 7,
   "metadata": {},
   "outputs": [
    {
     "name": "stdout",
     "output_type": "stream",
     "text": [
      "46 sequences to search for spacers.\n"
     ]
    }
   ],
   "source": [
    "print(f'{len(itemlist.keys())} sequences to search for spacers.')"
   ]
  },
  {
   "cell_type": "code",
   "execution_count": 8,
   "metadata": {},
   "outputs": [],
   "source": [
    "rsb = RestrictionBatch(restriction_sites)"
   ]
  },
  {
   "cell_type": "code",
   "execution_count": 9,
   "metadata": {},
   "outputs": [],
   "source": [
    "spacer_df = pd.DataFrame(columns=['gene_name','feature_id','start','stop','strand','spacer'])"
   ]
  },
  {
   "cell_type": "code",
   "execution_count": 10,
   "metadata": {},
   "outputs": [],
   "source": [
    "for item in itemlist.keys():\n",
    "    # have to use the alternative Regex module instead of Re so that findall can detect overlapping\n",
    "    # sequences\n",
    "    spacers = (spacer_regex.findall(itemlist[item][:].seq, overlapped=True) +\n",
    "                   spacer_regex.findall(itemlist[item][:].reverse.complement.seq, overlapped=True))\n",
    "\n",
    "    info = dict(zip(['gene_name', 'feature_id', 'strand', 'start', 'end'], item.split(\"_\")))\n",
    "\n",
    "    for ps in spacers:\n",
    "        # Note that ps[4:24] is the actual protospacer.  I need the rest of the sequence for scoring\n",
    "        ps_seq = Seq(ps[spacer_start:spacer_end], IUPAC.unambiguous_dna)\n",
    "        ps_full_seq = Seq(ps, IUPAC.unambiguous_dna)\n",
    "\n",
    "        # Get rid of anything with T(4+) as those act as RNAPIII terminators\n",
    "        if \"TTTT\" in ps:\n",
    "            # TODO Should this also eliminate anything with G(4)?\n",
    "            pass\n",
    "        # Get rid of anything that has the verboten restriction sites\n",
    "        elif bool([y for y in rsb.search(ps_full_seq).values() if y != []]):\n",
    "            pass\n",
    "        # BsmBI/Esp3I is used in most of the new CRISPR vectors, especially for library construction.\n",
    "        # Biopython misses potential restriction sites as it tries to match GAGACGN(5), whereas we need to find\n",
    "        # matches of just the GAGACG core.  The next four lines take care of that.\n",
    "        elif 'GAGACG' in ps[spacer_start:spacer_end]:\n",
    "            pass\n",
    "        elif 'CGTCTC' in ps[spacer_start:spacer_end]:\n",
    "            pass\n",
    "        # Eliminate potentials with a GC content <20 or >80%\n",
    "        elif GC(ps_seq) <= 20 or GC(ps_seq) >= 80:\n",
    "            pass\n",
    "        else:\n",
    "            ps_start = itemlist[item][:].seq.find(ps) + int(info['start'])\n",
    "            spacer_data = {'gene_name': [info['gene_name']], \n",
    "                           'feature_id': [info['feature_id']], \n",
    "                           'start': [ps_start], \n",
    "                           'stop': [ps_start+len(ps)], \n",
    "                           'strand': [info['strand']], \n",
    "                           'spacer': [ps]}\n",
    "            _ = pd.DataFrame.from_dict(spacer_data)\n",
    "            # TODO change the spacer here to include 'NGG' so that it is taken into account by Bowtie?\n",
    "            spacer_df = pd.concat([spacer_df,_])"
   ]
  },
  {
   "cell_type": "code",
   "execution_count": 12,
   "metadata": {},
   "outputs": [
    {
     "data": {
      "text/html": [
       "<div>\n",
       "<style scoped>\n",
       "    .dataframe tbody tr th:only-of-type {\n",
       "        vertical-align: middle;\n",
       "    }\n",
       "\n",
       "    .dataframe tbody tr th {\n",
       "        vertical-align: top;\n",
       "    }\n",
       "\n",
       "    .dataframe thead th {\n",
       "        text-align: right;\n",
       "    }\n",
       "</style>\n",
       "<table border=\"1\" class=\"dataframe\">\n",
       "  <thead>\n",
       "    <tr style=\"text-align: right;\">\n",
       "      <th></th>\n",
       "      <th>gene_name</th>\n",
       "      <th>feature_id</th>\n",
       "      <th>start</th>\n",
       "      <th>stop</th>\n",
       "      <th>strand</th>\n",
       "      <th>spacer</th>\n",
       "    </tr>\n",
       "  </thead>\n",
       "  <tbody>\n",
       "    <tr>\n",
       "      <th>0</th>\n",
       "      <td>PML</td>\n",
       "      <td>ENSE00001363480</td>\n",
       "      <td>73994686</td>\n",
       "      <td>73994716</td>\n",
       "      <td>+</td>\n",
       "      <td>GCCCTGAGCCGGCACCTCCCCTTTCGGACA</td>\n",
       "    </tr>\n",
       "    <tr>\n",
       "      <th>0</th>\n",
       "      <td>PML</td>\n",
       "      <td>ENSE00001363480</td>\n",
       "      <td>73994697</td>\n",
       "      <td>73994727</td>\n",
       "      <td>+</td>\n",
       "      <td>GCACCTCCCCTTTCGGACAGCTCAAGGGAC</td>\n",
       "    </tr>\n",
       "    <tr>\n",
       "      <th>0</th>\n",
       "      <td>PML</td>\n",
       "      <td>ENSE00001363480</td>\n",
       "      <td>73994698</td>\n",
       "      <td>73994728</td>\n",
       "      <td>+</td>\n",
       "      <td>CACCTCCCCTTTCGGACAGCTCAAGGGACT</td>\n",
       "    </tr>\n",
       "    <tr>\n",
       "      <th>0</th>\n",
       "      <td>PML</td>\n",
       "      <td>ENSE00001363480</td>\n",
       "      <td>73994712</td>\n",
       "      <td>73994742</td>\n",
       "      <td>+</td>\n",
       "      <td>GACAGCTCAAGGGACTCAGCCAACTGGCTC</td>\n",
       "    </tr>\n",
       "    <tr>\n",
       "      <th>0</th>\n",
       "      <td>PML</td>\n",
       "      <td>ENSE00001363480</td>\n",
       "      <td>73994780</td>\n",
       "      <td>73994810</td>\n",
       "      <td>+</td>\n",
       "      <td>CTAAACCGAGAATCGAAACTAAGCTGGGGT</td>\n",
       "    </tr>\n",
       "  </tbody>\n",
       "</table>\n",
       "</div>"
      ],
      "text/plain": [
       "  gene_name       feature_id     start      stop strand  \\\n",
       "0       PML  ENSE00001363480  73994686  73994716      +   \n",
       "0       PML  ENSE00001363480  73994697  73994727      +   \n",
       "0       PML  ENSE00001363480  73994698  73994728      +   \n",
       "0       PML  ENSE00001363480  73994712  73994742      +   \n",
       "0       PML  ENSE00001363480  73994780  73994810      +   \n",
       "\n",
       "                           spacer  \n",
       "0  GCCCTGAGCCGGCACCTCCCCTTTCGGACA  \n",
       "0  GCACCTCCCCTTTCGGACAGCTCAAGGGAC  \n",
       "0  CACCTCCCCTTTCGGACAGCTCAAGGGACT  \n",
       "0  GACAGCTCAAGGGACTCAGCCAACTGGCTC  \n",
       "0  CTAAACCGAGAATCGAAACTAAGCTGGGGT  "
      ]
     },
     "execution_count": 12,
     "metadata": {},
     "output_type": "execute_result"
    }
   ],
   "source": [
    "spacer_df.head()"
   ]
  },
  {
   "cell_type": "code",
   "execution_count": 20,
   "metadata": {
    "scrolled": true
   },
   "outputs": [
    {
     "data": {
      "text/plain": [
       "array(['GCCCTGAGCCGGCACCTCCCCTTTCGGACA', 'GCACCTCCCCTTTCGGACAGCTCAAGGGAC',\n",
       "       'CACCTCCCCTTTCGGACAGCTCAAGGGACT', ...,\n",
       "       'TGGGGCCTTCCAGCTGGAGGTCACTGGACT', 'TCACTGCTGCTGTCATCCAGCTCTCGGGAG',\n",
       "       'CACTGCTGCTGTCATCCAGCTCTCGGGAGG'], dtype=object)"
      ]
     },
     "execution_count": 20,
     "metadata": {},
     "output_type": "execute_result"
    }
   ],
   "source": [
    "spacer_df['spacer'].values"
   ]
  },
  {
   "cell_type": "code",
   "execution_count": 16,
   "metadata": {},
   "outputs": [
    {
     "name": "stdout",
     "output_type": "stream",
     "text": [
      "No model file specified, using V3_model_nopos\n"
     ]
    }
   ],
   "source": [
    "predicted_scores = model_comparison.predict(spacer_df['spacer'].values)"
   ]
  },
  {
   "cell_type": "code",
   "execution_count": 17,
   "metadata": {},
   "outputs": [],
   "source": [
    "spacer_df['score'] = predicted_scores"
   ]
  },
  {
   "cell_type": "code",
   "execution_count": 18,
   "metadata": {},
   "outputs": [
    {
     "data": {
      "text/html": [
       "<div>\n",
       "<style scoped>\n",
       "    .dataframe tbody tr th:only-of-type {\n",
       "        vertical-align: middle;\n",
       "    }\n",
       "\n",
       "    .dataframe tbody tr th {\n",
       "        vertical-align: top;\n",
       "    }\n",
       "\n",
       "    .dataframe thead th {\n",
       "        text-align: right;\n",
       "    }\n",
       "</style>\n",
       "<table border=\"1\" class=\"dataframe\">\n",
       "  <thead>\n",
       "    <tr style=\"text-align: right;\">\n",
       "      <th></th>\n",
       "      <th>gene_name</th>\n",
       "      <th>feature_id</th>\n",
       "      <th>start</th>\n",
       "      <th>stop</th>\n",
       "      <th>strand</th>\n",
       "      <th>spacer</th>\n",
       "      <th>score</th>\n",
       "    </tr>\n",
       "  </thead>\n",
       "  <tbody>\n",
       "    <tr>\n",
       "      <th>0</th>\n",
       "      <td>PML</td>\n",
       "      <td>ENSE00001363480</td>\n",
       "      <td>73994686</td>\n",
       "      <td>73994716</td>\n",
       "      <td>+</td>\n",
       "      <td>GCCCTGAGCCGGCACCTCCCCTTTCGGACA</td>\n",
       "      <td>0.316063</td>\n",
       "    </tr>\n",
       "    <tr>\n",
       "      <th>0</th>\n",
       "      <td>PML</td>\n",
       "      <td>ENSE00001363480</td>\n",
       "      <td>73994697</td>\n",
       "      <td>73994727</td>\n",
       "      <td>+</td>\n",
       "      <td>GCACCTCCCCTTTCGGACAGCTCAAGGGAC</td>\n",
       "      <td>0.472080</td>\n",
       "    </tr>\n",
       "    <tr>\n",
       "      <th>0</th>\n",
       "      <td>PML</td>\n",
       "      <td>ENSE00001363480</td>\n",
       "      <td>73994698</td>\n",
       "      <td>73994728</td>\n",
       "      <td>+</td>\n",
       "      <td>CACCTCCCCTTTCGGACAGCTCAAGGGACT</td>\n",
       "      <td>0.586884</td>\n",
       "    </tr>\n",
       "    <tr>\n",
       "      <th>0</th>\n",
       "      <td>PML</td>\n",
       "      <td>ENSE00001363480</td>\n",
       "      <td>73994712</td>\n",
       "      <td>73994742</td>\n",
       "      <td>+</td>\n",
       "      <td>GACAGCTCAAGGGACTCAGCCAACTGGCTC</td>\n",
       "      <td>0.493562</td>\n",
       "    </tr>\n",
       "    <tr>\n",
       "      <th>0</th>\n",
       "      <td>PML</td>\n",
       "      <td>ENSE00001363480</td>\n",
       "      <td>73994780</td>\n",
       "      <td>73994810</td>\n",
       "      <td>+</td>\n",
       "      <td>CTAAACCGAGAATCGAAACTAAGCTGGGGT</td>\n",
       "      <td>0.442002</td>\n",
       "    </tr>\n",
       "  </tbody>\n",
       "</table>\n",
       "</div>"
      ],
      "text/plain": [
       "  gene_name       feature_id     start      stop strand  \\\n",
       "0       PML  ENSE00001363480  73994686  73994716      +   \n",
       "0       PML  ENSE00001363480  73994697  73994727      +   \n",
       "0       PML  ENSE00001363480  73994698  73994728      +   \n",
       "0       PML  ENSE00001363480  73994712  73994742      +   \n",
       "0       PML  ENSE00001363480  73994780  73994810      +   \n",
       "\n",
       "                           spacer     score  \n",
       "0  GCCCTGAGCCGGCACCTCCCCTTTCGGACA  0.316063  \n",
       "0  GCACCTCCCCTTTCGGACAGCTCAAGGGAC  0.472080  \n",
       "0  CACCTCCCCTTTCGGACAGCTCAAGGGACT  0.586884  \n",
       "0  GACAGCTCAAGGGACTCAGCCAACTGGCTC  0.493562  \n",
       "0  CTAAACCGAGAATCGAAACTAAGCTGGGGT  0.442002  "
      ]
     },
     "execution_count": 18,
     "metadata": {},
     "output_type": "execute_result"
    }
   ],
   "source": [
    "spacer_df.head()"
   ]
  },
  {
   "cell_type": "code",
   "execution_count": 19,
   "metadata": {},
   "outputs": [
    {
     "data": {
      "text/html": [
       "<div>\n",
       "<style scoped>\n",
       "    .dataframe tbody tr th:only-of-type {\n",
       "        vertical-align: middle;\n",
       "    }\n",
       "\n",
       "    .dataframe tbody tr th {\n",
       "        vertical-align: top;\n",
       "    }\n",
       "\n",
       "    .dataframe thead th {\n",
       "        text-align: right;\n",
       "    }\n",
       "</style>\n",
       "<table border=\"1\" class=\"dataframe\">\n",
       "  <thead>\n",
       "    <tr style=\"text-align: right;\">\n",
       "      <th></th>\n",
       "      <th>gene_name</th>\n",
       "      <th>feature_id</th>\n",
       "      <th>start</th>\n",
       "      <th>stop</th>\n",
       "      <th>strand</th>\n",
       "      <th>spacer</th>\n",
       "      <th>score</th>\n",
       "    </tr>\n",
       "  </thead>\n",
       "  <tbody>\n",
       "    <tr>\n",
       "      <th>0</th>\n",
       "      <td>PML</td>\n",
       "      <td>ENSE00003598656</td>\n",
       "      <td>74024862</td>\n",
       "      <td>74024892</td>\n",
       "      <td>+</td>\n",
       "      <td>CTGTATCCAAGAAAGCCAGCCCAGAGGCTG</td>\n",
       "      <td>0.768965</td>\n",
       "    </tr>\n",
       "    <tr>\n",
       "      <th>0</th>\n",
       "      <td>PML</td>\n",
       "      <td>ENSE00001837919</td>\n",
       "      <td>74044220</td>\n",
       "      <td>74044250</td>\n",
       "      <td>+</td>\n",
       "      <td>TCTGCATTTCTAAGAAGCTCCCAGGGGATG</td>\n",
       "      <td>0.766544</td>\n",
       "    </tr>\n",
       "    <tr>\n",
       "      <th>0</th>\n",
       "      <td>PML</td>\n",
       "      <td>ENSE00002591339</td>\n",
       "      <td>74046787</td>\n",
       "      <td>74046817</td>\n",
       "      <td>+</td>\n",
       "      <td>ACAGACTCTGCTCAGCATCCCCAGAGGAAC</td>\n",
       "      <td>0.771509</td>\n",
       "    </tr>\n",
       "    <tr>\n",
       "      <th>0</th>\n",
       "      <td>PML</td>\n",
       "      <td>ENSE00002591339</td>\n",
       "      <td>74044220</td>\n",
       "      <td>74044250</td>\n",
       "      <td>+</td>\n",
       "      <td>TCTGCATTTCTAAGAAGCTCCCAGGGGATG</td>\n",
       "      <td>0.766544</td>\n",
       "    </tr>\n",
       "    <tr>\n",
       "      <th>0</th>\n",
       "      <td>PML</td>\n",
       "      <td>ENSE00003621588</td>\n",
       "      <td>74034707</td>\n",
       "      <td>74034737</td>\n",
       "      <td>+</td>\n",
       "      <td>CACCCCAGCCCTCCCACTACACCAGGGCCA</td>\n",
       "      <td>0.760352</td>\n",
       "    </tr>\n",
       "  </tbody>\n",
       "</table>\n",
       "</div>"
      ],
      "text/plain": [
       "  gene_name       feature_id     start      stop strand  \\\n",
       "0       PML  ENSE00003598656  74024862  74024892      +   \n",
       "0       PML  ENSE00001837919  74044220  74044250      +   \n",
       "0       PML  ENSE00002591339  74046787  74046817      +   \n",
       "0       PML  ENSE00002591339  74044220  74044250      +   \n",
       "0       PML  ENSE00003621588  74034707  74034737      +   \n",
       "\n",
       "                           spacer     score  \n",
       "0  CTGTATCCAAGAAAGCCAGCCCAGAGGCTG  0.768965  \n",
       "0  TCTGCATTTCTAAGAAGCTCCCAGGGGATG  0.766544  \n",
       "0  ACAGACTCTGCTCAGCATCCCCAGAGGAAC  0.771509  \n",
       "0  TCTGCATTTCTAAGAAGCTCCCAGGGGATG  0.766544  \n",
       "0  CACCCCAGCCCTCCCACTACACCAGGGCCA  0.760352  "
      ]
     },
     "execution_count": 19,
     "metadata": {},
     "output_type": "execute_result"
    }
   ],
   "source": [
    "spacer_df[spacer_df['score'] > 0.75].head()"
   ]
  },
  {
   "cell_type": "code",
   "execution_count": null,
   "metadata": {},
   "outputs": [],
   "source": []
  }
 ],
 "metadata": {
  "kernelspec": {
   "display_name": "Python 3",
   "language": "python",
   "name": "python3"
  },
  "language_info": {
   "codemirror_mode": {
    "name": "ipython",
    "version": 3
   },
   "file_extension": ".py",
   "mimetype": "text/x-python",
   "name": "python",
   "nbconvert_exporter": "python",
   "pygments_lexer": "ipython3",
   "version": "3.6.8"
  }
 },
 "nbformat": 4,
 "nbformat_minor": 1
}
